{
 "cells": [
  {
   "cell_type": "markdown",
   "metadata": {
    "collapsed": true,
    "deletable": true,
    "editable": true
   },
   "source": [
    "# Mexican Flat Slab model\n",
    "\n",
    "* Mor-Sz dist at 40 Ma, ~2000 km\n",
    "* Mor-Sz dist at 0 Ma, ~600 km\n",
    "* Mor average Vel ~ 4 cm/y\n",
    "* UP vel ~ 2 cm/y\n",
    "* Sp vel (35 - 10 Ma) ~ 8 cm/y\n",
    "* Sp vel (10 - 0 Ma) ~ 3 cm/y"
   ]
  },
  {
   "cell_type": "code",
   "execution_count": 56,
   "metadata": {
    "collapsed": false,
    "deletable": true,
    "editable": true
   },
   "outputs": [],
   "source": [
    "#!apt-cache policy petsc-dev"
   ]
  },
  {
   "cell_type": "code",
   "execution_count": 2,
   "metadata": {
    "collapsed": true,
    "deletable": true,
    "editable": true
   },
   "outputs": [],
   "source": [
    "import numpy as np\n",
    "import underworld as uw\n",
    "from underworld import function as fn\n",
    "import glucifer\n",
    "from easydict import EasyDict as edict\n",
    "import networkx as nx\n",
    "import operator\n",
    "\n",
    "import warnings; warnings.simplefilter('ignore')"
   ]
  },
  {
   "cell_type": "code",
   "execution_count": 3,
   "metadata": {
    "collapsed": false,
    "deletable": true,
    "editable": true
   },
   "outputs": [],
   "source": [
    "#If run through Docker we'll point at the local 'unsupported dir.'\n",
    "#On hpc, the path should also include a directory holding the unsupported_dan.\n",
    "import os\n",
    "import sys\n",
    "\n",
    "#this does't actually need to be protected. More a reminder it's an interim measure\n",
    "try:\n",
    "    sys.path.append('../../unsupported')\n",
    "    sys.path.append('../../UWsubduction/Examples')\n",
    "except:\n",
    "    pass"
   ]
  },
  {
   "cell_type": "code",
   "execution_count": 4,
   "metadata": {
    "collapsed": false,
    "deletable": true,
    "editable": true
   },
   "outputs": [],
   "source": [
    "#load in parent stuff\n",
    "#%load_ext autoreload\n",
    "#import nb_load_stuff\n",
    "#from tectModelClass import *\n",
    "\n",
    "from unsupported_dan.UWsubduction.model import *"
   ]
  },
  {
   "cell_type": "code",
   "execution_count": 5,
   "metadata": {
    "collapsed": false,
    "deletable": true,
    "editable": true
   },
   "outputs": [],
   "source": [
    "from unsupported_dan.UWsubduction.subduction_utils import *\n",
    "from unsupported_dan.interfaces.smoothing2D import *\n",
    "from unsupported_dan.utilities.misc import cosine_taper\n",
    "from unsupported_dan.interfaces.interface2D import interface2D , interface_collection"
   ]
  },
  {
   "cell_type": "markdown",
   "metadata": {
    "deletable": true,
    "editable": true
   },
   "source": [
    "## Create output dir structure"
   ]
  },
  {
   "cell_type": "code",
   "execution_count": 6,
   "metadata": {
    "collapsed": false,
    "deletable": true,
    "editable": true
   },
   "outputs": [],
   "source": [
    "#outputPath = os.path.join(os.path.abspath(\".\"),\"output/\")\n",
    "outputPath = os.path.join(os.path.abspath(\".\"),\"output/files\")\n",
    "\n",
    "if uw.rank()==0:\n",
    "    if not os.path.exists(outputPath):\n",
    "        os.makedirs(outputPath)\n",
    "uw.barrier()"
   ]
  },
  {
   "cell_type": "markdown",
   "metadata": {
    "collapsed": false,
    "deletable": true,
    "editable": true
   },
   "source": [
    "## Parameters / Scaling\n",
    "\n",
    "* For more information see, `UWsubduction/Background/scaling`\n"
   ]
  },
  {
   "cell_type": "code",
   "execution_count": 7,
   "metadata": {
    "collapsed": true
   },
   "outputs": [],
   "source": [
    "from unsupported_dan.UWsubduction.minimal_example import UnitRegistry\n",
    "u = UnitRegistry"
   ]
  },
  {
   "cell_type": "code",
   "execution_count": 8,
   "metadata": {
    "collapsed": false
   },
   "outputs": [],
   "source": [
    "#pd refers to dimensional paramters\n",
    "pd = edict({})\n",
    "\n",
    "#Main physical paramters (thermal convection parameters)\n",
    "pd.refDensity = 3300.* u.kilogram / u.meter**3                    #reference density\n",
    "pd.refGravity = 9.8* u.metre / u.second**2                        #surface gravity\n",
    "pd.refDiffusivity = 1e-6 *u.metre**2 / u.second                   #thermal diffusivity\n",
    "pd.refExpansivity = 3e-5/u.kelvin                                 #surface thermal expansivity\n",
    "pd.refViscosity = 1e20* u.pascal* u.second\n",
    "pd.refLength = 2900*u.km\n",
    "pd.gasConstant = 8.314*u.joule/(u.mol*u.kelvin)                   #gas constant\n",
    "pd.specificHeat = 1250.4*u.joule/(u.kilogram* u.kelvin)           #Specific heat (Jkg-1K-1)\n",
    "pd.potentialTemp = 1573.*u.kelvin                                 #mantle potential temp (K)\n",
    "pd.surfaceTemp = 273.*u.kelvin                                    #surface temp (K)\n",
    "#these are the shifted temps, which will range from 0 - 1 in the dimensionless system\n",
    "pd.potentialTemp_ = pd.potentialTemp - pd.surfaceTemp\n",
    "pd.surfaceTemp_ = pd.surfaceTemp - pd.surfaceTemp\n",
    "#main rheology parameters\n",
    "pd.cohesionMantle = 20.*u.megapascal                              #mantle cohesion in Byerlee law\n",
    "pd.frictionMantle = u.Quantity(0.2)                                           #mantle friction coefficient in Byerlee law (tan(phi))\n",
    "pd.frictionMantleDepth = pd.frictionMantle*pd.refDensity*pd.refGravity\n",
    "pd.diffusionPreExp = 5.34e-10/u.pascal/u.second                   #pre-exp factor for diffusion creep\n",
    "pd.diffusionEnergy = 3e5*u.joule/(u.mol)\n",
    "pd.diffusionEnergyDepth = 3e5*u.joule/(u.mol*pd.gasConstant)\n",
    "pd.diffusionVolume=5e-6*u.meter**3/(u.mol)\n",
    "pd.diffusionVolumeDepth=5e-6*pd.refDensity.magnitude*pd.refGravity.magnitude*u.joule/(u.mol*pd.gasConstant*u.meter)\n",
    "pd.viscosityFault = 5e19*u.pascal   * u.second\n",
    "pd.adiabaticTempGrad = (pd.refExpansivity*pd.refGravity*pd.potentialTemp)/pd.specificHeat\n",
    "pd.yieldStressMax=200*u.megapascal\n",
    "pd.lowerMantleViscFac = u.Quantity(30.0)\n",
    "\n",
    "paramDict_dim = pd"
   ]
  },
  {
   "cell_type": "code",
   "execution_count": 9,
   "metadata": {
    "collapsed": true
   },
   "outputs": [],
   "source": [
    "md = edict({})\n",
    "#Model geometry, and misc Lengths used to control behaviour\n",
    "md.depth=1000*u.km                                                #Model Depth\n",
    "md.aspectRatio=5.\n",
    "#lengths, factors relating to subduction fault behaviour\n",
    "md.faultViscDepthTaperStart = 100*u.km\n",
    "md.faultViscDepthTaperWidth = 20*u.km\n",
    "md.faultViscHorizTaperStart = 300*u.km\n",
    "md.faultViscHorizTaperWidth = 300*u.km\n",
    "md.faultThickness = 10.*u.km\n",
    "md.faultLocFac = 1.                                                #this is the relative location of the fault in terms of the fault thickess from the top of slab\n",
    "md.faultDestroyDepth = 300*u.km\n",
    "md.lowerMantleDepth=660.*u.km\n",
    "md.lowerMantleTransWidth=10.*u.km\n",
    "#Slab and plate init. parameters\n",
    "md.subZoneLoc=-100*u.km                                           #X position of subduction zone...km\n",
    "md.slabInitMaxDepth=150*u.km\n",
    "md.radiusOfCurv = 350.*u.km                                        #radius of curvature\n",
    "md.slabAge=15.*u.megayears                                      #age of subduction plate at trench\n",
    "md.opAgeAtTrench=10.*u.megayears                                        #age of op\n",
    "#numerical and computation params\n",
    "md.res=48\n",
    "md.ppc=25                                                         #particles per cell\n",
    "md.elementType=\"Q1/dQ0\"\n",
    "md.refineHoriz = True\n",
    "md.refineVert = True\n",
    "md.meshRefineFactor = 0.7\n",
    "md.nltol = 0.01\n",
    "md.druckerAlpha = 1.\n",
    "md.penaltyMethod = True\n",
    "md.buoyancyFac = 1.0\n",
    "md.viscosityMin = 1e18* u.pascal * u.second\n",
    "md.viscosityMax = 1e25* u.pascal * u.second\n",
    "\n",
    "modelDict_dim = md"
   ]
  },
  {
   "cell_type": "code",
   "execution_count": 10,
   "metadata": {
    "collapsed": false,
    "deletable": true,
    "editable": true
   },
   "outputs": [],
   "source": [
    "#import parameters, model settings, unit registry, scaling system, etc\n",
    "\n",
    "from unsupported_dan.UWsubduction.default_scaling import sub_scaling, build_nondim_dict\n",
    "from unsupported_dan.UWsubduction.minimal_example import rayleighNumber, stressScale, pressureDepthGrad\n",
    "\n",
    "\n",
    "#define some more concise names\n",
    "sca = sub_scaling\n",
    "ndimlz = sca.nonDimensionalize\n",
    "#build the dimensionless paramter / model dictionaries\n",
    "ndp = build_nondim_dict(paramDict_dim  , sca)   \n",
    "md = build_nondim_dict(modelDict_dim  , sca)\n",
    "ur = u\n",
    "\n",
    "assert ndimlz(paramDict_dim.refLength) == 1.0\n",
    "\n",
    "# changes to base params: (These will keep changing if the notebook is run again without restarting!)\n",
    "md.faultThickness *= 1.5 #15 km\n",
    "md.res = 48"
   ]
  },
  {
   "cell_type": "code",
   "execution_count": null,
   "metadata": {
    "collapsed": true,
    "deletable": true,
    "editable": true
   },
   "outputs": [],
   "source": []
  },
  {
   "cell_type": "markdown",
   "metadata": {
    "collapsed": true,
    "deletable": true,
    "editable": true
   },
   "source": [
    "## Build / refine mesh, Stokes Variables"
   ]
  },
  {
   "cell_type": "code",
   "execution_count": 11,
   "metadata": {
    "collapsed": false,
    "deletable": true,
    "editable": true
   },
   "outputs": [],
   "source": [
    "#(ndp.rightLim - ndp.leftLim)/ndp.depth\n",
    "#md.res = 64"
   ]
  },
  {
   "cell_type": "code",
   "execution_count": 12,
   "metadata": {
    "collapsed": false,
    "deletable": true,
    "editable": true
   },
   "outputs": [],
   "source": [
    "yres = int(md.res)\n",
    "xres = int(md.res*6) \n",
    "\n",
    "halfWidth = 0.5*md.depth*md.aspectRatio \n",
    "\n",
    "minCoord_    = (-1.*halfWidth, 1. - md.depth) \n",
    "maxCoord_    = (halfWidth, 1.)\n",
    "\n",
    "mesh = uw.mesh.FeMesh_Cartesian( elementType = (md.elementType),\n",
    "                                 elementRes  = (xres, yres), \n",
    "                                 minCoord    = minCoord_, \n",
    "                                 maxCoord    = maxCoord_) \n",
    "\n",
    "velocityField = uw.mesh.MeshVariable( mesh=mesh,         nodeDofCount=2)\n",
    "pressureField   = uw.mesh.MeshVariable( mesh=mesh.subMesh, nodeDofCount=1 )\n",
    "temperatureField    = uw.mesh.MeshVariable( mesh=mesh,         nodeDofCount=1 )\n",
    "temperatureDotField = uw.mesh.MeshVariable( mesh=mesh,         nodeDofCount=1 ) \n",
    "    \n",
    "\n",
    "velocityField.data[:] = 0.\n",
    "pressureField.data[:] = 0.\n",
    "temperatureField.data[:] = 0.\n",
    "temperatureDotField.data[:] = 0."
   ]
  },
  {
   "cell_type": "code",
   "execution_count": 13,
   "metadata": {
    "collapsed": true,
    "deletable": true,
    "editable": true
   },
   "outputs": [],
   "source": [
    "#mesh.reset() #call to reset mesh nodes to original locations\n",
    "\n",
    "if md.refineHoriz:\n",
    "    \n",
    "    with mesh.deform_mesh():\n",
    "        \n",
    "        normXs = 2.*mesh.data[:,0]/(mesh.maxCoord[0] - mesh.minCoord[0])\n",
    "        mesh.data[:,0] = mesh.data[:,0] * np.exp(md.meshRefineFactor*normXs**2) / np.exp(md.meshRefineFactor*1.0**2)    \n",
    "    \n",
    "if md.refineVert:\n",
    "\n",
    "    with mesh.deform_mesh():\n",
    "        \n",
    "        mesh.data[:,1] = mesh.data[:,1] - 1.0\n",
    "\n",
    "        normYs = -1.*mesh.data[:,1]/(mesh.maxCoord[1] - mesh.minCoord[1])\n",
    "        mesh.data[:,1] = mesh.data[:,1] * np.exp(md.meshRefineFactor*normYs**2)/np.exp(md.meshRefineFactor*1.0**2)\n",
    "\n",
    "        mesh.data[:,1] = mesh.data[:,1] + 1.0\n"
   ]
  },
  {
   "cell_type": "markdown",
   "metadata": {
    "deletable": true,
    "editable": true
   },
   "source": [
    "## Build plate model"
   ]
  },
  {
   "cell_type": "code",
   "execution_count": 14,
   "metadata": {
    "collapsed": true,
    "deletable": true,
    "editable": true
   },
   "outputs": [],
   "source": [
    "\n",
    "endTime = ndimlz(30*ur.megayear) \n",
    "refVel = ndimlz(2*ur.cm/ur.year)\n",
    "plateModelDt = ndimlz(0.1*ur.megayear)"
   ]
  },
  {
   "cell_type": "code",
   "execution_count": 15,
   "metadata": {
    "collapsed": true,
    "deletable": true,
    "editable": true
   },
   "outputs": [],
   "source": [
    "#velocities of the plates (1 - 3) ams well as the plate boundary (1,2)\n",
    "vp1= ndimlz(0.*ur.centimeter/ur.year )\n",
    "vp2= ndimlz(6.*ur.centimeter/ur.year )\n",
    "vp3= ndimlz(-2.*ur.centimeter/ur.year )\n",
    "\n",
    "vb12= ndimlz(4.0*ur.centimeter/ur.year )\n"
   ]
  },
  {
   "cell_type": "code",
   "execution_count": 16,
   "metadata": {
    "collapsed": false,
    "deletable": true,
    "editable": true
   },
   "outputs": [
    {
     "name": "stdout",
     "output_type": "stream",
     "text": [
      "(0.0, 5513.845047502417, -1837.9483491674725, 3675.896698334945)\n"
     ]
    }
   ],
   "source": [
    "print(vp1, vp2, vp3, vb12)"
   ]
  },
  {
   "cell_type": "code",
   "execution_count": 17,
   "metadata": {
    "collapsed": false,
    "deletable": true,
    "editable": true
   },
   "outputs": [],
   "source": [
    "tm = TectModel(mesh, 0, endTime, plateModelDt)\n",
    "\n",
    "tm.add_plate(1, velocities=vp1)\n",
    "tm.add_plate(2, velocities=vp2)\n",
    "tm.add_plate(3, velocities=vp3)"
   ]
  },
  {
   "cell_type": "code",
   "execution_count": 73,
   "metadata": {
    "collapsed": false
   },
   "outputs": [
    {
     "name": "stdout",
     "output_type": "stream",
     "text": [
      "(-0.8, -0.1103448275862069)\n"
     ]
    }
   ],
   "source": [
    "ridgeLoc = -0.7\n",
    "subLoc = ridgeLoc  + ndimlz(2000.*ur.kilometer)\n",
    "print(ridgeLoc, subLoc)"
   ]
  },
  {
   "cell_type": "code",
   "execution_count": 74,
   "metadata": {
    "collapsed": false,
    "deletable": true,
    "editable": true
   },
   "outputs": [],
   "source": [
    "tm.add_left_boundary(1, plateInitAge=md.slabAge/3., velocities=False)\n",
    "#tm.add_left_boundary(2, plateInitAge=0., velocities=False)\n",
    "\n",
    "tm.add_ridge(1,2, ridgeLoc, velocities=vb12)\n",
    "tm.add_subzone(2, 3, subLoc, subInitAge=md.slabAge, upperInitAge=md.opAgeAtTrench)\n",
    "\n",
    "tm.add_right_boundary(3, plateInitAge=0.0, velocities=False)"
   ]
  },
  {
   "cell_type": "code",
   "execution_count": 75,
   "metadata": {
    "collapsed": false,
    "deletable": true,
    "editable": true
   },
   "outputs": [],
   "source": [
    "#((1400*ur.kilometer)/(35*ur.megayear)).to(ur.cm/ ur.year )\n"
   ]
  },
  {
   "cell_type": "markdown",
   "metadata": {
    "deletable": true,
    "editable": true
   },
   "source": [
    "## Build plate age / temperature Fns"
   ]
  },
  {
   "cell_type": "code",
   "execution_count": 76,
   "metadata": {
    "collapsed": false,
    "deletable": true,
    "editable": true
   },
   "outputs": [],
   "source": [
    "pIdFn = tm.plate_id_fn()\n",
    "pAgeDict = tm.plate_age_fn() \n",
    "\n",
    "fnAge_map = fn.branching.map(fn_key = pIdFn , \n",
    "                          mapping = pAgeDict )\n",
    "\n",
    "#fig = glucifer.Figure(figsize=(600, 300))\n",
    "#fig.append( glucifer.objects.Surface(tm.mesh, fnAge_map ))\n",
    "#fig.show()"
   ]
  },
  {
   "cell_type": "code",
   "execution_count": 77,
   "metadata": {
    "collapsed": false,
    "deletable": true,
    "editable": true
   },
   "outputs": [],
   "source": [
    "#ndp.potentialTemp"
   ]
  },
  {
   "cell_type": "code",
   "execution_count": 78,
   "metadata": {
    "collapsed": false,
    "deletable": true,
    "editable": true
   },
   "outputs": [],
   "source": [
    "coordinate = fn.input()\n",
    "depthFn = mesh.maxCoord[1] - coordinate[1]\n",
    "\n",
    "platethickness = 2.32*fn.math.sqrt(1.*fnAge_map )  \n",
    "\n",
    "halfSpaceTemp = ndp.potentialTemp_*fn.math.erf((depthFn)/(2.*fn.math.sqrt(1.*fnAge_map)))\n",
    "\n",
    "plateTempProxFn = fn.branching.conditional( ((depthFn > platethickness, ndp.potentialTemp_ ), \n",
    "                                           (True,                      halfSpaceTemp)  ))\n",
    "\n"
   ]
  },
  {
   "cell_type": "code",
   "execution_count": 79,
   "metadata": {
    "collapsed": false,
    "deletable": true,
    "editable": true
   },
   "outputs": [],
   "source": [
    "#fig = glucifer.Figure(figsize=(600, 300))\n",
    "#fig.append( glucifer.objects.Surface(tm.mesh, plateTempProxFn, onMesh = True))\n",
    "#fig.show()"
   ]
  },
  {
   "cell_type": "markdown",
   "metadata": {
    "deletable": true,
    "editable": true
   },
   "source": [
    "## Make swarm and Swarm Vars"
   ]
  },
  {
   "cell_type": "code",
   "execution_count": 80,
   "metadata": {
    "collapsed": false,
    "deletable": true,
    "editable": true
   },
   "outputs": [],
   "source": [
    "swarm = uw.swarm.Swarm(mesh=mesh, particleEscape=True)\n",
    "layout = uw.swarm.layouts.PerCellRandomLayout(swarm=swarm, particlesPerCell=int(md.ppc))\n",
    "swarm.populate_using_layout( layout=layout ) # Now use it to populate.\n",
    "proxyTempVariable = swarm.add_variable( dataType=\"double\", count=1 )\n",
    "proximityVariable      = swarm.add_variable( dataType=\"int\", count=1 )\n",
    "signedDistanceVariable = swarm.add_variable( dataType=\"double\", count=1 )\n",
    "\n",
    "#\n",
    "proxyTempVariable.data[:] = 1.0\n",
    "proximityVariable.data[:] = 0.0\n",
    "signedDistanceVariable.data[:] = 0.0\n"
   ]
  },
  {
   "cell_type": "markdown",
   "metadata": {
    "deletable": true,
    "editable": true
   },
   "source": [
    "## Create tmUwMap"
   ]
  },
  {
   "cell_type": "code",
   "execution_count": 81,
   "metadata": {
    "collapsed": false,
    "deletable": true,
    "editable": true
   },
   "outputs": [],
   "source": [
    "#Now we have built are primary FEM / Swarm objects, we collect some of these in a dictionary,\n",
    "#to provide a consistent form to pass to methods of TectModel\n",
    "\n",
    "tmUwMap = tm_uw_map([], velocityField, swarm, \n",
    "                    signedDistanceVariable, proxyTempVariable, proximityVariable)"
   ]
  },
  {
   "cell_type": "markdown",
   "metadata": {
    "deletable": true,
    "editable": true
   },
   "source": [
    "## Make slab perturbation and subduction interface\n",
    "\n",
    "* For more information see, `UWsubduction/Background/interface2D`"
   ]
  },
  {
   "cell_type": "code",
   "execution_count": 82,
   "metadata": {
    "collapsed": true,
    "deletable": true,
    "editable": true
   },
   "outputs": [],
   "source": [
    "def circGradientFn(S):\n",
    "    if S == 0.:\n",
    "        return 0.\n",
    "    elif S < md.radiusOfCurv:\n",
    "        return max(-S/np.sqrt((md.radiusOfCurv**2 - S**2)), -1e3)\n",
    "    else:\n",
    "        return -1e5\n",
    "    \n",
    "    \n",
    "def circGradientFn2(S):\n",
    "    if S == 0.:\n",
    "        return 0.\n",
    "    elif S < 1.*md.radiusOfCurv:\n",
    "        return max(-S/np.sqrt((md.radiusOfCurv**2 - S**2)), -1.)\n",
    "    else:\n",
    "        return -1.\n",
    "\n",
    "def circGradientFn3(S):\n",
    "    if S < 1.*md.radiusOfCurv:\n",
    "        return circGradientFn2(S)\n",
    "    else:\n",
    "        return min(circGradientFn2(2.6*md.radiusOfCurv - S), -0.1)\n",
    "    "
   ]
  },
  {
   "cell_type": "code",
   "execution_count": 83,
   "metadata": {
    "collapsed": true,
    "deletable": true,
    "editable": true
   },
   "outputs": [],
   "source": [
    "#proxyTempVariable.data[:] =0."
   ]
  },
  {
   "cell_type": "code",
   "execution_count": 84,
   "metadata": {
    "collapsed": false,
    "deletable": true,
    "editable": true
   },
   "outputs": [],
   "source": [
    "#All of these wil be needed by the slab / fault setup functions\n",
    "#We have two main options, bind them to the TectModel class. \n",
    "#or provide them to the functions\n",
    "#collection them in a dictionary may be a useful way too proviede them to the function \n",
    "#without blowing out the function arguments\n",
    "\n",
    "tmUwMap = tm_uw_map([], velocityField, swarm, \n",
    "                    signedDistanceVariable, proxyTempVariable, proximityVariable)\n"
   ]
  },
  {
   "cell_type": "code",
   "execution_count": 85,
   "metadata": {
    "collapsed": false,
    "deletable": true,
    "editable": true
   },
   "outputs": [],
   "source": [
    "#define fault particle spacing, here ~5 paricles per element\n",
    "ds = (tm.maxX - tm.minX)/(2.*tm.mesh.elementRes[0])\n",
    "\n",
    "fCollection = interface_collection([])\n",
    "\n",
    "deepDepth = ndimlz(300.*ur.kilometer)\n",
    "\n",
    "for e in tm.undirected.edges():\n",
    "    if tm.is_subduction_boundary(e):\n",
    "        build_slab_distance(tm, e, circGradientFn3, deepDepth, tmUwMap)\n",
    "        #build_slab_distance(tm, e, circGradientFn, md.slabInitMaxDepth, tmUwMap)        \n",
    "        fb = build_fault(tm, e, circGradientFn3, md.faultThickness , deepDepth, ds, md.faultThickness, tmUwMap)\n",
    "        #fb = build_fault(tm, e, circGradientFn, md.faultThickness , md.slabInitMaxDepth, ds, md.faultThickness, tmUwMap)\n",
    "\n",
    "        fCollection.append(fb)\n",
    "\n",
    "#\n",
    "build_slab_temp(tmUwMap, ndp.potentialTemp_, md.slabAge)\n",
    "fnJointTemp = fn.misc.min(proxyTempVariable,plateTempProxFn)\n",
    "\n",
    "#And now reevaluate this guy on the swarm\n",
    "proxyTempVariable.data[:] = fnJointTemp.evaluate(swarm)"
   ]
  },
  {
   "cell_type": "code",
   "execution_count": 87,
   "metadata": {
    "collapsed": false,
    "deletable": true,
    "editable": true
   },
   "outputs": [
    {
     "data": {
      "text/html": [
       "<img src='data:image/png;base64,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'>"
      ],
      "text/plain": [
       "<IPython.core.display.HTML object>"
      ]
     },
     "metadata": {},
     "output_type": "display_data"
    }
   ],
   "source": [
    "#fig = glucifer.Figure(figsize=(600, 300))\n",
    "#fig.append( glucifer.objects.Points(swarm, proxyTempVariable))\n",
    "#fig.append( glucifer.objects.Points(fb.swarm))\n",
    "#fig.show()\n",
    "#fig.save_database('test.gldb')"
   ]
  },
  {
   "cell_type": "markdown",
   "metadata": {
    "deletable": true,
    "editable": true
   },
   "source": [
    "##  Define subduction fault evolution (rebuild/destroy)\n",
    "\n",
    "\n",
    "In this section we setup some functions to help manage the spatial distribution of faults"
   ]
  },
  {
   "cell_type": "code",
   "execution_count": null,
   "metadata": {
    "collapsed": true,
    "deletable": true,
    "editable": true
   },
   "outputs": [],
   "source": []
  },
  {
   "cell_type": "code",
   "execution_count": 34,
   "metadata": {
    "collapsed": false,
    "deletable": true,
    "editable": true
   },
   "outputs": [],
   "source": [
    "# Setup a swarm to define the replacment positions\n",
    "\n",
    "fThick= fCollection[0].thickness\n",
    "\n",
    "faultloc = 1. - md.faultThickness*md.faultLocFac\n",
    "\n",
    "allxs = np.arange(mesh.minCoord[0], mesh.maxCoord[0], ds )[:-1]\n",
    "allys = (mesh.maxCoord[1] - fThick)*np.ones(allxs.shape)\n",
    "\n",
    "faultMasterSwarm = uw.swarm.Swarm( mesh=mesh )\n",
    "dummy =  faultMasterSwarm.add_particles_with_coordinates(np.column_stack((allxs, allys)))\n",
    "del allxs\n",
    "del allys\n",
    "\n",
    "\n",
    "\n",
    "##What are we doing here??\n",
    "\n",
    "#*faultRmfn descibs an area around the trench in which fault particles are allowed. Outside of this region they\n",
    "#are destroyed using (remove_faults_from_boundaries). Note that the\n",
    "\n",
    "#* faultAddFn desribes a region internal to the subduction plate wherwe we rebuild the fault. \n",
    "#this function deliberately'over-builds' the fault, while remove_faults_from_boundaries then trims it to size\n",
    "\n",
    "#* velMaskFn defines the nodes where we will apply the plate velocties. \n",
    "#While leaving nodes near the plate boundaries free to adjust\n",
    "\n",
    "\n",
    "faultRmfn = tm.t2f(tm.variable_boundary_mask_fn(distMax=1e5, distMin=ndimlz(10*ur.km), relativeWidth = 0.9, \n",
    "                                  minPlateLength =ndimlz(60*ur.km),  \n",
    "                                           out = 'bool', boundtypes='sub' ))\n",
    "\n",
    "\n",
    "#this one will put particles back into the fault\n",
    "faultAddFn1 = tm.variable_boundary_mask_fn(distMax=1e6, distMin=ndimlz(10*ur.km), \n",
    "                                       relativeWidth = 0.95, minPlateLength =ndimlz(60*ur.km),  \n",
    "                                           out = 'bool', boundtypes='sub' )\n",
    "\n",
    "#thsi will keep the fault addition away from the subdcution zone\n",
    "faultAddFn2 =  tm.t2f(tm.variable_boundary_mask_fn(distMax = ndimlz(150*ur.km), relativeWidth = 0.9 ))\n",
    "\n",
    "faultAddFn = operator.and_( faultAddFn1 ,  faultAddFn2)\n",
    "\n",
    "\n",
    "\n",
    "\n",
    "###The following mask function provide a way of building velocity conditions within the plates,\n",
    "\n",
    "velMask1 = tm.variable_boundary_mask_fn(distMax=1e6, distMin=0.0, relativeWidth = 0.85, \n",
    "                        minPlateLength =ndimlz(50*ur.km),  out = 'bool', boundtypes='ridge')\n",
    "\n",
    "velMask2= tm.plate_interior_mask_fn(relativeWidth=0.95, \n",
    "                                        minPlateLength=ndimlz(10*ur.km), invert=False)\n",
    "\n",
    "velMaskFn = operator.and_( velMask1,  velMask2)\n",
    "\n",
    "\n",
    "#order is very important here\n",
    "#dummy = remove_fault_drift(fCollection, faultloc)\n",
    "#dummy = pop_or_perish(tm, fCollection, faultMasterSwarm, faultAddFn , ds)\n",
    "#dummy = remove_faults_from_boundaries(tm, fCollection, faultRmfn )\n"
   ]
  },
  {
   "cell_type": "code",
   "execution_count": 35,
   "metadata": {
    "collapsed": true,
    "deletable": true,
    "editable": true
   },
   "outputs": [],
   "source": [
    "#maskFn_ = tm.t2f(faultRmfn)\n",
    "#pIdFn = tm.plate_id_fn(maskFn=maskFn_)"
   ]
  },
  {
   "cell_type": "code",
   "execution_count": 36,
   "metadata": {
    "collapsed": false,
    "deletable": true,
    "editable": true
   },
   "outputs": [],
   "source": [
    "#fig = glucifer.Figure(figsize=(600, 300))\n",
    "#fig.append( glucifer.objects.Surface(tm.mesh, pIdFn, onMesh=True, valueRange = [0,3]))\n",
    "#fig.show()"
   ]
  },
  {
   "cell_type": "markdown",
   "metadata": {
    "collapsed": false,
    "deletable": true,
    "editable": true
   },
   "source": [
    "## Proximity\n",
    "\n"
   ]
  },
  {
   "cell_type": "code",
   "execution_count": 37,
   "metadata": {
    "collapsed": false,
    "deletable": true,
    "editable": true
   },
   "outputs": [],
   "source": [
    "proximityVariable.data[:] = 0"
   ]
  },
  {
   "cell_type": "code",
   "execution_count": 38,
   "metadata": {
    "collapsed": false,
    "deletable": true,
    "editable": true
   },
   "outputs": [],
   "source": [
    "for f in fCollection:\n",
    "    f.rebuild()\n",
    "    f.set_proximity_director(swarm, proximityVariable, searchFac = 2., locFac=1.0)"
   ]
  },
  {
   "cell_type": "code",
   "execution_count": 39,
   "metadata": {
    "collapsed": true,
    "deletable": true,
    "editable": true
   },
   "outputs": [],
   "source": [
    "#update_faults()"
   ]
  },
  {
   "cell_type": "code",
   "execution_count": 40,
   "metadata": {
    "collapsed": false,
    "deletable": true,
    "editable": true
   },
   "outputs": [],
   "source": [
    "#figProx = glucifer.Figure(figsize=(960,300) )\n",
    "#figProx.append( glucifer.objects.Points(swarm , proximityVariable))\n",
    "#figProx.append( glucifer.objects.Surface(mesh, velMaskFn))\n",
    "\n",
    "#for f in fCollection:\n",
    "#    figProx.append( glucifer.objects.Points(f.swarm, pointSize=5))\n",
    "#figProx.show()\n",
    "\n",
    "\n",
    "#figProx.save_database('test.gldb')"
   ]
  },
  {
   "cell_type": "code",
   "execution_count": 41,
   "metadata": {
    "collapsed": false,
    "deletable": true,
    "editable": true
   },
   "outputs": [],
   "source": [
    "#testMM = fn.view.min_max(uw.function.input(f.swarm.particleCoordinates))\n",
    "#dummyFn = testMM.evaluate(tWalls)"
   ]
  },
  {
   "cell_type": "markdown",
   "metadata": {
    "deletable": true,
    "editable": true
   },
   "source": [
    "## Prescribed velocity"
   ]
  },
  {
   "cell_type": "code",
   "execution_count": 42,
   "metadata": {
    "collapsed": true,
    "deletable": true,
    "editable": true
   },
   "outputs": [],
   "source": [
    "def set_vel_return_nodes(time, maskFn):\n",
    "    \"\"\"\n",
    "    globals:\n",
    "    velocityField\n",
    "    \"\"\"\n",
    "    \n",
    "    nodes = tm.plate_vel_node_fn(time, maskFn = maskFn)\n",
    "    \n",
    "    #4 parallel safety\n",
    "    if not nodes.shape[0]:\n",
    "        return np.array([])\n",
    "        \n",
    "    pIdFn = tm.plate_id_fn()\n",
    "    #velMapFn = tm.plateVelFn(testTime, pIdFn)\n",
    "    velMapFn = tm.plateVelFn(time, pIdFn)\n",
    "    locs = tm.mesh.data[nodes]\n",
    "\n",
    "    #Now set the veolcity on the nodes\n",
    "    velocityField.data[nodes, 0] = velMapFn.evaluate(locs)[:,0]\n",
    "    return nodes\n",
    "    "
   ]
  },
  {
   "cell_type": "code",
   "execution_count": 43,
   "metadata": {
    "collapsed": false,
    "deletable": true,
    "editable": true
   },
   "outputs": [],
   "source": [
    "vXnodes = set_vel_return_nodes(0., velMaskFn)"
   ]
  },
  {
   "cell_type": "code",
   "execution_count": 44,
   "metadata": {
    "collapsed": false,
    "deletable": true,
    "editable": true
   },
   "outputs": [],
   "source": [
    "#np.empty(0), \n",
    "#test = tm.mesh.specialSets['MaxJ_VertexSet']data.shape"
   ]
  },
  {
   "cell_type": "code",
   "execution_count": 45,
   "metadata": {
    "collapsed": false,
    "deletable": true,
    "editable": true
   },
   "outputs": [],
   "source": [
    "#check\n",
    "#%pylab inline\n",
    "#tWalls = tm.mesh.specialSets['MaxJ_VertexSet']\n",
    "\n",
    "\n",
    "#fig, ax = plt.subplots(figsize=(10, 2))\n",
    "#plt.plot(mesh.data[tWalls.data][:,0], velocityField.data[tWalls.data][:,0])#\n",
    "#plt.scatter(mesh.data[vXnodes ][:,0], np.zeros(len(mesh.data[vXnodes ][:,0])), s = 0.5, c = 'k')\n",
    "#ax.hlines(500, tm.minX, tm.maxX, linestyles='--')"
   ]
  },
  {
   "cell_type": "markdown",
   "metadata": {
    "deletable": true,
    "editable": true
   },
   "source": [
    "## Project the swarm 'proxy temp' to mesh"
   ]
  },
  {
   "cell_type": "code",
   "execution_count": 46,
   "metadata": {
    "collapsed": true,
    "deletable": true,
    "editable": true
   },
   "outputs": [],
   "source": [
    "projectorMeshTemp= uw.utils.MeshVariable_Projection( temperatureField, proxyTempVariable , type=0 )\n",
    "projectorMeshTemp.solve()"
   ]
  },
  {
   "cell_type": "markdown",
   "metadata": {
    "collapsed": true,
    "deletable": true,
    "editable": true
   },
   "source": [
    "## Boundary conditions"
   ]
  },
  {
   "cell_type": "code",
   "execution_count": 47,
   "metadata": {
    "collapsed": false,
    "deletable": true,
    "editable": true
   },
   "outputs": [],
   "source": [
    "iWalls = mesh.specialSets[\"MinI_VertexSet\"] + mesh.specialSets[\"MaxI_VertexSet\"]\n",
    "jWalls = mesh.specialSets[\"MinJ_VertexSet\"] + mesh.specialSets[\"MaxJ_VertexSet\"]\n",
    "\n",
    "tWalls = mesh.specialSets[\"MaxJ_VertexSet\"]\n",
    "bWalls = mesh.specialSets[\"MinJ_VertexSet\"]\n",
    "\n",
    "\n",
    "#velBC  = uw.conditions.DirichletCondition( variable        = velocityField, \n",
    "#                                           indexSetsPerDof = (iWalls, jWalls) )\n"
   ]
  },
  {
   "cell_type": "code",
   "execution_count": 48,
   "metadata": {
    "collapsed": false,
    "deletable": true,
    "editable": true
   },
   "outputs": [],
   "source": [
    "#vXnodes"
   ]
  },
  {
   "cell_type": "code",
   "execution_count": 49,
   "metadata": {
    "collapsed": true,
    "deletable": true,
    "editable": true
   },
   "outputs": [],
   "source": [
    "def build_velBcs(nodes):\n",
    "    \n",
    "    velnodeset = mesh.specialSets[\"Empty\"]\n",
    "    velnodeset += nodes\n",
    "    \n",
    "    \n",
    "    \n",
    "    velBC  = uw.conditions.DirichletCondition( variable        = velocityField, \n",
    "                                           indexSetsPerDof = (iWalls + velnodeset, jWalls) )\n",
    "    \n",
    "    return velBC"
   ]
  },
  {
   "cell_type": "code",
   "execution_count": 50,
   "metadata": {
    "collapsed": false,
    "deletable": true,
    "editable": true
   },
   "outputs": [],
   "source": [
    "velBC = build_velBcs(vXnodes)"
   ]
  },
  {
   "cell_type": "code",
   "execution_count": 52,
   "metadata": {
    "collapsed": false,
    "deletable": true,
    "editable": true
   },
   "outputs": [],
   "source": [
    "#Ridges enforced\n",
    "dirichTempBC = uw.conditions.DirichletCondition(     variable=temperatureField, \n",
    "                                              indexSetsPerDof=(tWalls + iWalls,) )\n",
    "\n",
    "\n",
    "###If we want thermal ridges fixed\n",
    "temperatureField.data[iWalls.data] = ndp.potentialTemp_"
   ]
  },
  {
   "cell_type": "markdown",
   "metadata": {
    "deletable": true,
    "editable": true
   },
   "source": [
    "## Bouyancy"
   ]
  },
  {
   "cell_type": "code",
   "execution_count": 53,
   "metadata": {
    "collapsed": false,
    "deletable": true,
    "editable": true
   },
   "outputs": [],
   "source": [
    "temperatureFn = temperatureField\n",
    "\n",
    "\n",
    "# Now create a buoyancy force vector using the density and the vertical unit vector. \n",
    "thermalDensityFn = md.buoyancyFac*rayleighNumber*(1. - temperatureFn)\n",
    "\n",
    "gravity = ( 0.0, -1.0 )\n",
    "\n",
    "buoyancyMapFn = thermalDensityFn*gravity"
   ]
  },
  {
   "cell_type": "markdown",
   "metadata": {
    "deletable": true,
    "editable": true
   },
   "source": [
    "## Rheology"
   ]
  },
  {
   "cell_type": "code",
   "execution_count": 54,
   "metadata": {
    "collapsed": false,
    "deletable": true,
    "editable": true
   },
   "outputs": [],
   "source": [
    "symStrainrate = fn.tensor.symmetric( \n",
    "                            velocityField.fn_gradient )\n",
    "\n",
    "#Set up any functions required by the rheology\n",
    "strainRate_2ndInvariant = fn.tensor.second_invariant( \n",
    "                            fn.tensor.symmetric( \n",
    "                            velocityField.fn_gradient ))\n",
    "\n",
    "\n",
    "\n",
    "def safe_visc(func, viscmin=md.viscosityMin, viscmax=md.viscosityMax):\n",
    "    return fn.misc.max(viscmin, fn.misc.min(viscmax, func))"
   ]
  },
  {
   "cell_type": "code",
   "execution_count": 55,
   "metadata": {
    "collapsed": true,
    "deletable": true,
    "editable": true
   },
   "outputs": [],
   "source": [
    "#Interface rheology extent\n",
    "\n",
    "subZoneDistfn = tm.subZoneAbsDistFn(upper=True)\n",
    "\n",
    "\n",
    "faultHorizTaperFn  = cosine_taper(subZoneDistfn, \n",
    "                                  md.faultViscHorizTaperStart, md.faultViscHorizTaperWidth)\n",
    "faultDepthTaperFn = cosine_taper(depthFn, \n",
    "                                 md.faultViscDepthTaperStart, md.faultViscDepthTaperWidth)"
   ]
  },
  {
   "cell_type": "code",
   "execution_count": 56,
   "metadata": {
    "collapsed": false,
    "deletable": true,
    "editable": true
   },
   "outputs": [
    {
     "data": {
      "text/plain": [
       "(53400000000.0, 43.386502840435966, 27.75670324383339, 0.21)"
      ]
     },
     "execution_count": 56,
     "metadata": {},
     "output_type": "execute_result"
    }
   ],
   "source": [
    "#temperatureField, \n",
    "\n",
    "ndp.diffusionPreExp, ndp.diffusionVolumeDepth, ndp.diffusionEnergyDepth, ndp.surfaceTemp\n",
    "#(1./ndp.diffusionPreExp)\n"
   ]
  },
  {
   "cell_type": "code",
   "execution_count": 57,
   "metadata": {
    "collapsed": false,
    "deletable": true,
    "editable": true
   },
   "outputs": [],
   "source": [
    "\n",
    "\n",
    "adiabaticCorrectFn = depthFn*ndp.adiabaticTempGrad\n",
    "dynamicPressureProxyDepthFn = pressureField/pressureDepthGrad\n",
    "druckerDepthFn = fn.misc.max(0.0, depthFn + md.druckerAlpha*(dynamicPressureProxyDepthFn))\n",
    "\n",
    "#Diffusion Creep\n",
    "diffusionUM = (1./ndp.diffusionPreExp)*\\\n",
    "    fn.math.exp( ((ndp.diffusionEnergyDepth + \\\n",
    "                   (depthFn*ndp.diffusionVolumeDepth))/((temperatureFn+ adiabaticCorrectFn + ndp.surfaceTemp))))\n",
    "\n",
    "diffusionUM =     safe_visc(diffusionUM)\n",
    "    \n",
    "diffusionLM = ndp.lowerMantleViscFac*(1./ndp.diffusionPreExp)*\\\n",
    "    fn.math.exp( ((ndp.diffusionEnergyDepth + \\\n",
    "                   (depthFn*ndp.diffusionVolumeDepth))/((temperatureFn+ adiabaticCorrectFn + ndp.surfaceTemp))))\n",
    "\n",
    "#diffusionLM =     safe_visc(diffusionLM)\n",
    "\n",
    "\n",
    "transitionZoneTaperFn = cosine_taper(depthFn, md.lowerMantleDepth - 0.5*md.lowerMantleTransWidth , md.lowerMantleTransWidth )\n",
    "\n",
    "\n",
    "mantleCreep = diffusionUM*(1. - transitionZoneTaperFn) + transitionZoneTaperFn*diffusionLM\n",
    "\n",
    "#Define the mantle Plasticity\n",
    "ys =  ndp.cohesionMantle + (druckerDepthFn*ndp.frictionMantleDepth)\n",
    "ysf = fn.misc.min(ys, ndp.yieldStressMax)\n",
    "yielding = ysf/(2.*(strainRate_2ndInvariant) + 1e-15) \n",
    "\n",
    "mantleRheologyFn =  safe_visc(mantleCreep*yielding/(mantleCreep + yielding), \n",
    "                              viscmin=md.viscosityMin, viscmax=md.viscosityMax)\n",
    "\n",
    "\n",
    "faultViscosityFn = ndp.viscosityFault\n",
    "\n",
    "faultRheologyFn =  faultViscosityFn*(1. - faultDepthTaperFn) +  \\\n",
    "                       faultDepthTaperFn*mantleRheologyFn + faultHorizTaperFn*mantleRheologyFn\n"
   ]
  },
  {
   "cell_type": "code",
   "execution_count": 58,
   "metadata": {
    "collapsed": false,
    "deletable": true,
    "editable": true
   },
   "outputs": [],
   "source": [
    "#viscconds = ((proximityVariable == 0, mantleRheologyFn),\n",
    "#             (True, interfaceViscosityFn ))\n",
    "\n",
    "#viscosityMapFn = fn.branching.conditional(viscconds)\n",
    "#viscosityMapFn = mantleRheologyFn\n",
    "\n",
    "\n",
    "viscosityMapFn = fn.branching.map( fn_key = proximityVariable,\n",
    "                             mapping = {0:mantleRheologyFn,\n",
    "                                        2:faultRheologyFn} )"
   ]
  },
  {
   "cell_type": "code",
   "execution_count": 59,
   "metadata": {
    "collapsed": false,
    "deletable": true,
    "editable": true
   },
   "outputs": [],
   "source": [
    "#fig2 = glucifer.Figure(figsize=(960,300) )\n",
    "#fig2.append( glucifer.objects.Points(swarm, mantleRheologyFn,  logScale=True))\n",
    "#fig.append( glucifer.objects.Surface(mesh, dynamicPressureProxyDepthFn))\n",
    "\n",
    "#fig2.show()"
   ]
  },
  {
   "cell_type": "markdown",
   "metadata": {
    "deletable": true,
    "editable": true
   },
   "source": [
    "## Stokes"
   ]
  },
  {
   "cell_type": "code",
   "execution_count": 60,
   "metadata": {
    "collapsed": false,
    "deletable": true,
    "editable": true
   },
   "outputs": [],
   "source": [
    "surfaceArea = uw.utils.Integral(fn=1.0,mesh=mesh, integrationType='surface', surfaceIndexSet=tWalls)\n",
    "surfacePressureIntegral = uw.utils.Integral(fn=pressureField, mesh=mesh, integrationType='surface', surfaceIndexSet=tWalls)\n",
    "\n",
    "NodePressure = uw.mesh.MeshVariable(mesh, nodeDofCount=1)\n",
    "Cell2Nodes = uw.utils.MeshVariable_Projection(NodePressure, pressureField, type=0)\n",
    "Nodes2Cell = uw.utils.MeshVariable_Projection(pressureField, NodePressure, type=0)\n",
    "\n",
    "def smooth_pressure(mesh):\n",
    "    # Smooths the pressure field.\n",
    "    # Assuming that pressure lies on the submesh, do a cell -> nodes -> cell\n",
    "    # projection.\n",
    "\n",
    "    Cell2Nodes.solve()\n",
    "    Nodes2Cell.solve()\n",
    "\n",
    "# a callback function to calibrate the pressure - will pass to solver later\n",
    "def pressure_calibrate():\n",
    "    (area,) = surfaceArea.evaluate()\n",
    "    (p0,) = surfacePressureIntegral.evaluate()\n",
    "    offset = p0/area\n",
    "    pressureField.data[:] -= offset\n",
    "    smooth_pressure(mesh)"
   ]
  },
  {
   "cell_type": "code",
   "execution_count": 65,
   "metadata": {
    "collapsed": false,
    "deletable": true,
    "editable": true
   },
   "outputs": [],
   "source": [
    "stokes = uw.systems.Stokes( velocityField  = velocityField, \n",
    "                                   pressureField  = pressureField,\n",
    "                                   conditions     = [velBC,],\n",
    "                                   fn_viscosity   = viscosityMapFn, \n",
    "                                   fn_bodyforce   = buoyancyMapFn )\n"
   ]
  },
  {
   "cell_type": "code",
   "execution_count": 66,
   "metadata": {
    "collapsed": false,
    "deletable": true,
    "editable": true
   },
   "outputs": [],
   "source": [
    "solver = uw.systems.Solver(stokes)\n",
    "\n",
    "solver.set_inner_method(\"mumps\")\n",
    "solver.options.scr.ksp_type=\"cg\"\n",
    "solver.set_penalty(1.0e7)\n",
    "solver.options.scr.ksp_rtol = 1.0e-4\n"
   ]
  },
  {
   "cell_type": "code",
   "execution_count": 67,
   "metadata": {
    "collapsed": false,
    "deletable": true,
    "editable": true
   },
   "outputs": [
    {
     "name": "stdout",
     "output_type": "stream",
     "text": [
      "\u001b[1;35m\n",
      " \n",
      "Pressure iterations:   6\n",
      "Velocity iterations:   1 (presolve)      \n",
      "Velocity iterations:  -1 (pressure solve)\n",
      "Velocity iterations:   1 (backsolve)     \n",
      "Velocity iterations:   1 (total solve)   \n",
      " \n",
      "SCR RHS  solve time: 2.7212e-01\n",
      "Pressure solve time: 5.1414e-02\n",
      "Velocity solve time: 2.8294e-01 (backsolve)\n",
      "Total solve time   : 6.6662e-01\n",
      " \n",
      "Velocity solution min/max: 0.0000e+00/0.0000e+00\n",
      "Pressure solution min/max: 0.0000e+00/0.0000e+00\n",
      " \n",
      "\u001b[00m\n"
     ]
    }
   ],
   "source": [
    "solver.solve(nonLinearIterate=True, nonLinearTolerance=md.nltol, callback_post_solve = pressure_calibrate)\n",
    "solver.print_stats()"
   ]
  },
  {
   "cell_type": "code",
   "execution_count": 68,
   "metadata": {
    "collapsed": true,
    "deletable": true,
    "editable": true
   },
   "outputs": [],
   "source": [
    "## Advection - Diffusion"
   ]
  },
  {
   "cell_type": "code",
   "execution_count": 69,
   "metadata": {
    "collapsed": true,
    "deletable": true,
    "editable": true
   },
   "outputs": [],
   "source": [
    "advDiff = uw.systems.AdvectionDiffusion( phiField       = temperatureFn, \n",
    "                                         phiDotField    = temperatureDotField, \n",
    "                                         velocityField  = velocityField,\n",
    "                                         fn_sourceTerm    = 0.0,\n",
    "                                         fn_diffusivity = ndp.refDiffusivity, \n",
    "                                         #conditions     = [neumannTempBC, dirichTempBC] )\n",
    "                                         conditions     = [ dirichTempBC] )"
   ]
  },
  {
   "cell_type": "markdown",
   "metadata": {
    "deletable": true,
    "editable": true
   },
   "source": [
    "## Swarm Advector"
   ]
  },
  {
   "cell_type": "code",
   "execution_count": 70,
   "metadata": {
    "collapsed": true,
    "deletable": true,
    "editable": true
   },
   "outputs": [],
   "source": [
    "advector = uw.systems.SwarmAdvector( swarm=swarm, velocityField=velocityField, order=2 )\n"
   ]
  },
  {
   "cell_type": "code",
   "execution_count": 71,
   "metadata": {
    "collapsed": true,
    "deletable": true,
    "editable": true
   },
   "outputs": [],
   "source": [
    "population_control = uw.swarm.PopulationControl(swarm, deleteThreshold=0.006, \n",
    "                                                splitThreshold=0.25,maxDeletions=1, maxSplits=3, aggressive=True,\n",
    "                                                aggressiveThreshold=0.9, particlesPerCell=int(md.ppc))"
   ]
  },
  {
   "cell_type": "markdown",
   "metadata": {
    "deletable": true,
    "editable": true
   },
   "source": [
    "## Update functions"
   ]
  },
  {
   "cell_type": "code",
   "execution_count": 72,
   "metadata": {
    "collapsed": false,
    "deletable": true,
    "editable": true
   },
   "outputs": [
    {
     "data": {
      "text/plain": [
       "{'(1, 1)': [],\n",
       " '(1, 2)': [],\n",
       " '(2, 3)': [],\n",
       " '(3, 3)': [],\n",
       " 'stepAtSave': [],\n",
       " 'timeAtSave': []}"
      ]
     },
     "execution_count": 72,
     "metadata": {},
     "output_type": "execute_result"
    }
   ],
   "source": [
    "valuesDict = edict({})\n",
    "valuesDict.timeAtSave = []\n",
    "valuesDict.stepAtSave = []\n",
    "for e in tm.undirected.edges():\n",
    "    valuesDict[str(e)] = []\n",
    "valuesDict  "
   ]
  },
  {
   "cell_type": "code",
   "execution_count": 73,
   "metadata": {
    "collapsed": true,
    "deletable": true,
    "editable": true
   },
   "outputs": [],
   "source": [
    "# Here we'll handle everything that should be advected - i.e. every timestep\n",
    "def advect_update(dt):\n",
    "    # Retrieve the maximum possible timestep for the advection system.\n",
    "    #dt = advector.get_max_dt()\n",
    "    # Advect swarm\n",
    "    advector.integrate(dt)\n",
    "    \n",
    "    #Advect faults\n",
    "    for f in fCollection:\n",
    "        f.advection(dt)\n",
    "    \n",
    "    \n",
    "    return time+dt, step+1"
   ]
  },
  {
   "cell_type": "code",
   "execution_count": 74,
   "metadata": {
    "collapsed": true,
    "deletable": true,
    "editable": true
   },
   "outputs": [],
   "source": [
    "def update_stokes(time, viscosityMapFn ):\n",
    "    \n",
    "\n",
    "\n",
    "    \n",
    "    #set velocity / pressure back to zero\n",
    "    #velocityField.data[:] = 0.\n",
    "    #pressureField.data[:] = 0.\n",
    "    \n",
    "    #set the new surface vel, get the velXNodes\n",
    "    vXnodes = set_vel_return_nodes(time, velMaskFn)\n",
    "    \n",
    "    #creat a BC object\n",
    "    velBC = build_velBcs(vXnodes)\n",
    "    \n",
    "    \n",
    "    \n",
    "    #rebuild stokes\n",
    "    stokes = uw.systems.Stokes( velocityField  = velocityField, \n",
    "                                   pressureField  = pressureField,\n",
    "                                   conditions     = [velBC,],\n",
    "                                   fn_viscosity   = viscosityMapFn, \n",
    "                                   fn_bodyforce   = buoyancyMapFn )\n",
    "    return stokes"
   ]
  },
  {
   "cell_type": "code",
   "execution_count": 75,
   "metadata": {
    "collapsed": true,
    "deletable": true,
    "editable": true
   },
   "outputs": [],
   "source": [
    "def rebuild_solver(stokes):\n",
    "    \n",
    "    solver = uw.systems.Solver(stokes)\n",
    "    solver.set_inner_method(\"mumps\")\n",
    "    solver.options.scr.ksp_type=\"cg\"\n",
    "    solver.set_penalty(1.0e7)\n",
    "    solver.options.scr.ksp_rtol = 1.0e-4\n",
    "    \n",
    "    return solver\n"
   ]
  },
  {
   "cell_type": "code",
   "execution_count": 76,
   "metadata": {
    "collapsed": false,
    "deletable": true,
    "editable": true
   },
   "outputs": [],
   "source": [
    "def update_faults():\n",
    "    \n",
    "    \n",
    "    #order is very important here\n",
    "    dummy = remove_fault_drift(fCollection, faultloc)\n",
    "    dummy = pop_or_perish(tm, fCollection, faultMasterSwarm, faultAddFn , ds)\n",
    "    dummy = remove_faults_from_boundaries(tm, fCollection, faultRmfn )\n",
    "    \n",
    "    \n",
    "    for f in fCollection:\n",
    "        \n",
    "        #Remove particles below a specified depth\n",
    "        depthMask = f.swarm.particleCoordinates.data[:,1] <         (1. - md.faultDestroyDepth)\n",
    "        with f.swarm.deform_swarm():\n",
    "            f.swarm.particleCoordinates.data[depthMask] = (9999999., 9999999.)\n",
    "        \n",
    "        #The repair_interface2D routine is supposed to maintain particle density and smooth\n",
    "        repair_interface2D(f, ds, k=8)\n",
    "    \n"
   ]
  },
  {
   "cell_type": "code",
   "execution_count": 77,
   "metadata": {
    "collapsed": false,
    "deletable": true,
    "editable": true
   },
   "outputs": [],
   "source": [
    "def update_swarm():\n",
    "    \n",
    "    population_control.repopulate()\n",
    "    \n",
    "    for f in fCollection:\n",
    "        f.rebuild()\n",
    "        f.set_proximity_director(swarm, proximityVariable, searchFac = 2., locFac=1.0,\n",
    "                                maxDistanceFn=fn.misc.constant(2.))\n",
    "        \n",
    "    #A simple depth cutoff for proximity\n",
    "    depthMask = swarm.particleCoordinates.data[:,1] < (1. - md.faultDestroyDepth)\n",
    "    proximityVariable.data[depthMask] = 0\n",
    "    "
   ]
  },
  {
   "cell_type": "code",
   "execution_count": 78,
   "metadata": {
    "collapsed": false,
    "deletable": true,
    "editable": true
   },
   "outputs": [],
   "source": [
    "outputPath = os.path.join(os.path.abspath(\".\"),\"output/files\")\n",
    "\n",
    "if uw.rank()==0:\n",
    "    if not os.path.exists(outputPath):\n",
    "        os.makedirs(outputPath)\n",
    "uw.barrier()\n",
    "\n",
    "\n",
    "surfacexs = mesh.data[tWalls.data][:,0]\n",
    "surfaceys = mesh.data[tWalls.data][:,1]\n",
    "surfLine = interface2D(mesh, velocityField,surfacexs, surfaceys , 0,  99)\n",
    "surfVx = uw.swarm.SwarmVariable(surfLine.swarm, 'double', 1)\n",
    "\n",
    "def save_files(step):\n",
    "    surfVx.data[:] = velocityField[0].evaluate(surfLine.swarm)\n",
    "    \n",
    "    surfVx.save( \"output/files/surfVx_\" + str(step).zfill(3) + \"_.h5\")"
   ]
  },
  {
   "cell_type": "code",
   "execution_count": 79,
   "metadata": {
    "collapsed": false,
    "deletable": true,
    "editable": true
   },
   "outputs": [],
   "source": [
    "def update_tect_model(tectModel, tmUwMap, time, dt = 0.0 ):\n",
    "    \n",
    "    \"\"\"\n",
    "    An example of how we can update the tect_model\n",
    "    \"\"\"\n",
    "    for e in tectModel.undirected.edges():\n",
    "        \n",
    "        #This is generally the first condition to check\" a specified boundary velocity\n",
    "        if tectModel.bound_has_vel(e, time):\n",
    "            newX = get_boundary_vel_update(tectModel, e, time, dt)\n",
    "            tectModel.set_bound_loc(e, newX)\n",
    "            \n",
    "        #in this model the ficticious boundaries remain fixed at the edge\n",
    "        elif e[0] == e[1]:\n",
    "            pass       \n",
    "        #now we'll apply a strain rate query to update the subduction zone loc\n",
    "        elif tectModel.is_subduction_boundary(e):\n",
    "            e = tectModel.subduction_edge_order(e)\n",
    "            newx = strain_rate_field_update(tectModel, e, tmUwMap, dist = ndimlz(100*ur.kilometer))\n",
    "            tectModel.set_bound_loc(e, newx)\n",
    "        else:\n",
    "            pass\n"
   ]
  },
  {
   "cell_type": "code",
   "execution_count": 80,
   "metadata": {
    "collapsed": false,
    "deletable": true,
    "editable": true
   },
   "outputs": [],
   "source": [
    "#update_tect_model(tm, tmUwMap, 0., dt = 0.1 )"
   ]
  },
  {
   "cell_type": "code",
   "execution_count": 81,
   "metadata": {
    "collapsed": true,
    "deletable": true,
    "editable": true
   },
   "outputs": [],
   "source": [
    "def update_mask_fns():\n",
    "\n",
    "    faultRmfn = tm.t2f(tm.variable_boundary_mask_fn(distMax=1e5, distMin=ndimlz(10*ur.km), relativeWidth = 0.9, \n",
    "                                      minPlateLength =ndimlz(60*ur.km),  \n",
    "                                               out = 'bool', boundtypes='sub' ))\n",
    "\n",
    "    #this one will put particles back into the fault\n",
    "    faultAddFn1 = tm.variable_boundary_mask_fn(distMax=1e6, distMin=ndimlz(10*ur.km), \n",
    "                                           relativeWidth = 0.95, minPlateLength =ndimlz(60*ur.km),  \n",
    "                                               out = 'bool', boundtypes='sub' )\n",
    "\n",
    "    #thsi will keep the fault addition away from the subdcution zone\n",
    "    faultAddFn2 =  tm.t2f(tm.variable_boundary_mask_fn(distMax = ndimlz(150*ur.km), relativeWidth = 0.9 ))\n",
    "\n",
    "    faultAddFn = operator.and_( faultAddFn1 ,  faultAddFn2)\n",
    "\n",
    "\n",
    "\n",
    "\n",
    "    ###The following mask function provide a way of building velocity conditions within the plates,\n",
    "\n",
    "    velMask1 = tm.variable_boundary_mask_fn(distMax=1e6, distMin=0.0, relativeWidth = 0.85, \n",
    "                            minPlateLength =ndimlz(50*ur.km),  out = 'bool', boundtypes='ridge')\n",
    "\n",
    "    velMask2= tm.plate_interior_mask_fn(relativeWidth=0.95, \n",
    "                                            minPlateLength=ndimlz(10*ur.km), invert=False)\n",
    "\n",
    "    velMaskFn = operator.and_( velMask1,  velMask2)\n",
    "\n",
    "    \n",
    "    \n",
    "    #the following dictates where the fault rheology will be activated\n",
    "    subZoneDistfn = tm.subZoneAbsDistFn(upper=True)\n",
    "    \n",
    "    faultHorizTaperFn  = cosine_taper(subZoneDistfn, \n",
    "                                  md.faultViscHorizTaperStart, md.faultViscHorizTaperWidth)\n",
    "    \n",
    "    return faultRmfn, faultAddFn, velMaskFn, faultHorizTaperFn"
   ]
  },
  {
   "cell_type": "code",
   "execution_count": 82,
   "metadata": {
    "collapsed": false,
    "deletable": true,
    "editable": true
   },
   "outputs": [],
   "source": [
    "#ridgeMaskFn, boundMaskFn, velMaskFn = update_mask_fns()"
   ]
  },
  {
   "cell_type": "markdown",
   "metadata": {
    "deletable": true,
    "editable": true
   },
   "source": [
    "## Track the values of the plate bounaries"
   ]
  },
  {
   "cell_type": "code",
   "execution_count": 83,
   "metadata": {
    "collapsed": false,
    "deletable": true,
    "editable": true
   },
   "outputs": [],
   "source": [
    "def update_values():\n",
    "    \n",
    "    \"\"\" \n",
    "    Assumes global variables:\n",
    "    * time\n",
    "    * step \n",
    "    ...\n",
    "    + many functions\n",
    "    \"\"\"\n",
    "    \n",
    "    \n",
    "    #save the time and step\n",
    "    valuesDict.timeAtSave.append(time) \n",
    "    valuesDict.stepAtSave.append(step)\n",
    "    \n",
    "    for e in tm.undirected.edges():\n",
    "        if tm.is_subduction_boundary(e):\n",
    "            ee = tm.subduction_edge_order(e) #hacky workaround for the directed/ undireted. need get_bound_loc\n",
    "        else:\n",
    "            ee = e\n",
    "\n",
    "        valuesDict[str(e)].append(tm.get_bound_loc(ee))\n",
    "        \n",
    "        \n",
    "    #save\n",
    "    if uw.rank()==0:\n",
    "        fullpath = os.path.join(outputPath + \"tect_model_data\")\n",
    "        #the '**' is important\n",
    "        np.savez(fullpath, **valuesDict)\n",
    "    "
   ]
  },
  {
   "cell_type": "code",
   "execution_count": 84,
   "metadata": {
    "collapsed": false,
    "deletable": true,
    "editable": true
   },
   "outputs": [],
   "source": [
    "#valuesDict  \n",
    "#!ls output"
   ]
  },
  {
   "cell_type": "markdown",
   "metadata": {
    "deletable": true,
    "editable": true
   },
   "source": [
    "## Viz"
   ]
  },
  {
   "cell_type": "code",
   "execution_count": 85,
   "metadata": {
    "collapsed": false,
    "deletable": true,
    "editable": true
   },
   "outputs": [],
   "source": [
    "outputPath = os.path.join(os.path.abspath(\".\"),\"output/\")\n",
    "\n",
    "\n",
    "if uw.rank()==0:\n",
    "    if not os.path.exists(outputPath):\n",
    "        os.makedirs(outputPath)\n",
    "uw.barrier()"
   ]
  },
  {
   "cell_type": "code",
   "execution_count": 78,
   "metadata": {
    "collapsed": false,
    "deletable": true,
    "editable": true
   },
   "outputs": [],
   "source": [
    "viscSwarmVar =  swarm.add_variable( dataType=\"double\", count=1 )\n",
    "viscSwarmVar.data[:] = viscosityMapFn.evaluate(swarm)"
   ]
  },
  {
   "cell_type": "code",
   "execution_count": 79,
   "metadata": {
    "collapsed": false,
    "deletable": true,
    "editable": true
   },
   "outputs": [],
   "source": [
    "store1 = glucifer.Store('output/subduction1')\n",
    "store2 = glucifer.Store('output/subduction2')\n",
    "store3 = glucifer.Store('output/subduction3')\n",
    "\n",
    "\n",
    "figTemp = glucifer.Figure(store1, figsize=(960,300) )\n",
    "figTemp.append( glucifer.objects.Surface(mesh, temperatureField, onMesh=True))\n",
    "figTemp.append( glucifer.objects.Contours(mesh, temperatureField, interval=0.2,  colours='Black', colourBar=False))          \n",
    "\n",
    "figVisc = glucifer.Figure( store2, figsize=(960,300) )\n",
    "#figVisc.append( glucifer.objects.Points(swarm, viscosityMapFn, pointSize=2, logScale=True) )\n",
    "figVisc.append( glucifer.objects.Points(swarm,  viscSwarmVar, logScale=True) )\n",
    "\n",
    "\n",
    "\n",
    "figVel = glucifer.Figure( store3, figsize=(960,300) )\n",
    "figVel.append(glucifer.objects.Surface(mesh, fn.math.dot(velocityField, velocityField), onMesh=True))\n",
    "figVel.append( glucifer.objects.VectorArrows(mesh, velocityField, arrowHead=0.2, scaling=1./refVel) )\n",
    "\n",
    "\n",
    "\n",
    "\n",
    "#figMask.append( glucifer.objects.Surface(mesh,  maskFnVar3) )\n",
    "for f in fCollection:\n",
    "    figVel.append( glucifer.objects.Points(f.swarm, pointSize=5))\n",
    "\n"
   ]
  },
  {
   "cell_type": "code",
   "execution_count": 81,
   "metadata": {
    "collapsed": false,
    "deletable": true,
    "editable": true,
    "scrolled": true
   },
   "outputs": [],
   "source": [
    "#figVisc.show()\n",
    "#figVisc.save_database('test.gldb')"
   ]
  },
  {
   "cell_type": "code",
   "execution_count": 44,
   "metadata": {
    "collapsed": false,
    "deletable": true,
    "editable": true
   },
   "outputs": [],
   "source": [
    "#1e-2*2900."
   ]
  },
  {
   "cell_type": "markdown",
   "metadata": {
    "deletable": true,
    "editable": true
   },
   "source": [
    "## Main Loop"
   ]
  },
  {
   "cell_type": "code",
   "execution_count": 132,
   "metadata": {
    "collapsed": false,
    "deletable": true,
    "editable": true
   },
   "outputs": [],
   "source": [
    "time = 0.  # Initial time\n",
    "step = 0 \n",
    "maxSteps = 2000      # Maximum timesteps \n",
    "steps_output = 10   # output every N timesteps\n",
    "swarm_update = 10   # output every N timesteps\n",
    "faults_update = 10\n",
    "dt_model = 0.\n",
    "steps_update_model = 5\n",
    "\n",
    "update_values()"
   ]
  },
  {
   "cell_type": "code",
   "execution_count": 46,
   "metadata": {
    "collapsed": false,
    "deletable": true,
    "editable": true
   },
   "outputs": [],
   "source": []
  },
  {
   "cell_type": "code",
   "execution_count": 47,
   "metadata": {
    "collapsed": false,
    "deletable": true,
    "editable": true
   },
   "outputs": [
    {
     "name": "stdout",
     "output_type": "stream",
     "text": [
      "step =      1; time = 8.138e-06\n",
      "step =      2; time = 1.593e-05\n",
      "step =      3; time = 2.334e-05\n",
      "step =      4; time = 3.055e-05\n",
      "step =      5; time = 3.749e-05\n",
      "step =      6; time = 4.409e-05\n",
      "step =      7; time = 5.039e-05\n",
      "step =      8; time = 5.649e-05\n",
      "step =      9; time = 6.228e-05\n",
      "step =     10; time = 6.781e-05\n",
      "step =     11; time = 7.324e-05\n",
      "step =     12; time = 7.850e-05\n",
      "step =     13; time = 8.339e-05\n",
      "step =     14; time = 8.796e-05\n",
      "step =     15; time = 9.223e-05\n",
      "step =     16; time = 9.622e-05\n",
      "step =     17; time = 1.000e-04\n",
      "step =     18; time = 1.036e-04\n",
      "step =     19; time = 1.070e-04\n",
      "step =     20; time = 1.103e-04\n"
     ]
    }
   ],
   "source": [
    "while time < tm.times[-1] and step < maxSteps:\n",
    "    \n",
    "    # Solve non linear Stokes system\n",
    "    solver.solve(nonLinearIterate=True, nonLinearTolerance=md.nltol, callback_post_solve = pressure_calibrate)\n",
    "    \n",
    "    dt = advDiff.get_max_dt()\n",
    "    advDiff.integrate(dt)\n",
    "    \n",
    "    #advect swarm and faults\n",
    "    time, step =  advect_update(dt)\n",
    "    dt_model += dt\n",
    "    \n",
    "        \n",
    "    #update tectonic model\n",
    "    if step % steps_update_model == 0:\n",
    "        update_tect_model(tm, tmUwMap, time, dt = dt_model)\n",
    "        dt_model = 0.\n",
    "        plate_id_fn = tm.plate_id_fn()\n",
    "        faultRmfn, faultAddFn, velMaskFn, faultHorizTaperFn = update_mask_fns()\n",
    "        \n",
    "        #these need to be explicity updated\n",
    "        faultRheologyFn =  faultViscosityFn*(1. - faultDepthTaperFn) +\\\n",
    "        faultDepthTaperFn*mantleRheologyFn + faultHorizTaperFn*mantleRheologyFn\n",
    "        \n",
    "        viscosityMapFn = fn.branching.map( fn_key = proximityVariable,\n",
    "                             mapping = {0:mantleRheologyFn,\n",
    "                                        2:faultRheologyFn} )\n",
    "        \n",
    "        \n",
    "        \n",
    "    #running fault healing/addition, map back to swarm\n",
    "    if step % faults_update == 0:\n",
    "        update_faults()\n",
    "    if step % swarm_update == 0:\n",
    "        update_swarm()\n",
    "        \n",
    "    #rebuild stokes\n",
    "    if step % steps_update_model == 0:\n",
    "        del solver\n",
    "        del stokes\n",
    "        stokes = update_stokes(time, viscosityMapFn )\n",
    "        solver = rebuild_solver(stokes)\n",
    "        \n",
    "    \n",
    "    # output figure to file at intervals = steps_output\n",
    "    if step % steps_output == 0 or step == maxSteps-1:\n",
    "        \n",
    "        update_values()\n",
    "        \n",
    "        #Important to set the timestep for the store object here or will overwrite previous step\n",
    "        \n",
    "        #also update this guy for viz\n",
    "        viscSwarmVar.data[:] = viscosityMapFn.evaluate(swarm)\n",
    "        \n",
    "        store1.step = step\n",
    "        store2.step = step\n",
    "        store3.step = step\n",
    "        figTemp.save(    outputPath + \"temp\"    + str(step).zfill(4))\n",
    "        figVisc.save(    outputPath + \"visc\"    + str(step).zfill(4))\n",
    "        figVel.save(    outputPath + \"vel\"    + str(step).zfill(4))\n",
    "        \n",
    "        #save out the surface velocity\n",
    "        #save_files(step)\n",
    "    \n",
    "    if uw.rank()==0:\n",
    "        print 'step = {0:6d}; time = {1:.3e}'.format(step,time)\n"
   ]
  },
  {
   "cell_type": "code",
   "execution_count": null,
   "metadata": {
    "collapsed": true,
    "deletable": true,
    "editable": true
   },
   "outputs": [],
   "source": []
  },
  {
   "cell_type": "code",
   "execution_count": null,
   "metadata": {
    "collapsed": true,
    "deletable": true,
    "editable": true
   },
   "outputs": [],
   "source": []
  },
  {
   "cell_type": "code",
   "execution_count": 88,
   "metadata": {
    "collapsed": false,
    "deletable": true,
    "editable": true
   },
   "outputs": [
    {
     "data": {
      "text/plain": [
       "True"
      ]
     },
     "execution_count": 88,
     "metadata": {},
     "output_type": "execute_result"
    }
   ],
   "source": [
    "#tm.is_ridge((3,3))"
   ]
  },
  {
   "cell_type": "code",
   "execution_count": null,
   "metadata": {
    "collapsed": true,
    "deletable": true,
    "editable": true
   },
   "outputs": [],
   "source": []
  }
 ],
 "metadata": {
  "kernelspec": {
   "display_name": "Python 2",
   "language": "python",
   "name": "python2"
  },
  "language_info": {
   "codemirror_mode": {
    "name": "ipython",
    "version": 2
   },
   "file_extension": ".py",
   "mimetype": "text/x-python",
   "name": "python",
   "nbconvert_exporter": "python",
   "pygments_lexer": "ipython2",
   "version": "2.7.9"
  }
 },
 "nbformat": 4,
 "nbformat_minor": 2
}
