{
 "cells": [
  {
   "cell_type": "markdown",
   "metadata": {
    "collapsed": true,
    "deletable": true,
    "editable": true
   },
   "source": [
    "# Velocity Bcs\n",
    "\n"
   ]
  },
  {
   "cell_type": "code",
   "execution_count": 1,
   "metadata": {
    "collapsed": false,
    "deletable": true,
    "editable": true
   },
   "outputs": [],
   "source": [
    "#!apt-cache policy petsc-dev"
   ]
  },
  {
   "cell_type": "code",
   "execution_count": 2,
   "metadata": {
    "collapsed": true,
    "deletable": true,
    "editable": true
   },
   "outputs": [],
   "source": [
    "import numpy as np\n",
    "import underworld as uw\n",
    "from underworld import function as fn\n",
    "import glucifer\n",
    "from easydict import EasyDict as edict\n",
    "import networkx as nx\n",
    "import operator\n",
    "\n",
    "import warnings; warnings.simplefilter('ignore')"
   ]
  },
  {
   "cell_type": "code",
   "execution_count": 3,
   "metadata": {
    "collapsed": false,
    "deletable": true,
    "editable": true
   },
   "outputs": [],
   "source": [
    "#If run through Docker we'll point at the local 'unsupported dir.'\n",
    "#On hpc, the path should also include a directory holding the unsupported_dan.\n",
    "import os\n",
    "import sys\n",
    "\n",
    "#this does't actually need to be protected. More a reminder it's an interim measure\n",
    "try:\n",
    "    sys.path.append('../../unsupported')\n",
    "    sys.path.append('../../UWsubduction/Examples')\n",
    "except:\n",
    "    pass"
   ]
  },
  {
   "cell_type": "code",
   "execution_count": 4,
   "metadata": {
    "collapsed": false,
    "deletable": true,
    "editable": true
   },
   "outputs": [
    {
     "name": "stdout",
     "output_type": "stream",
     "text": [
      "importing Jupyter notebook from tectModelClass.ipynb\n"
     ]
    }
   ],
   "source": [
    "#load in parent stuff\n",
    "#%load_ext autoreload\n",
    "import nb_load_stuff\n",
    "from tectModelClass import *"
   ]
  },
  {
   "cell_type": "code",
   "execution_count": 5,
   "metadata": {
    "collapsed": false,
    "deletable": true,
    "editable": true
   },
   "outputs": [],
   "source": [
    "from unsupported_dan.UWsubduction.subduction_utils import *\n",
    "from unsupported_dan.interfaces.smoothing2D import *\n",
    "from unsupported_dan.utilities.misc import cosine_taper\n",
    "from unsupported_dan.interfaces.interface2D import interface2D , interface_collection"
   ]
  },
  {
   "cell_type": "markdown",
   "metadata": {
    "deletable": true,
    "editable": true
   },
   "source": [
    "## Create output dir structure"
   ]
  },
  {
   "cell_type": "code",
   "execution_count": 6,
   "metadata": {
    "collapsed": false,
    "deletable": true,
    "editable": true
   },
   "outputs": [],
   "source": [
    "#outputPath = os.path.join(os.path.abspath(\".\"),\"output/\")\n",
    "outputPath = os.path.join(os.path.abspath(\".\"),\"output/files\")\n",
    "\n",
    "if uw.rank()==0:\n",
    "    if not os.path.exists(outputPath):\n",
    "        os.makedirs(outputPath)\n",
    "uw.barrier()"
   ]
  },
  {
   "cell_type": "markdown",
   "metadata": {
    "collapsed": false,
    "deletable": true,
    "editable": true
   },
   "source": [
    "## Parameters / Scaling\n",
    "\n",
    "* For more information see, `UWsubduction/Background/scaling`\n"
   ]
  },
  {
   "cell_type": "code",
   "execution_count": 34,
   "metadata": {
    "collapsed": true
   },
   "outputs": [],
   "source": [
    "from unsupported_dan.UWsubduction.minimal_example import UnitRegistry\n",
    "u = UnitRegistry"
   ]
  },
  {
   "cell_type": "code",
   "execution_count": 35,
   "metadata": {
    "collapsed": false
   },
   "outputs": [],
   "source": [
    "#pd refers to dimensional paramters\n",
    "pd = edict({})\n",
    "\n",
    "#Main physical paramters (thermal convection parameters)\n",
    "pd.refDensity = 3300.* u.kilogram / u.meter**3                    #reference density\n",
    "pd.refGravity = 9.8* u.metre / u.second**2                        #surface gravity\n",
    "pd.refDiffusivity = 1e-6 *u.metre**2 / u.second                   #thermal diffusivity\n",
    "pd.refExpansivity = 3e-5/u.kelvin                                 #surface thermal expansivity\n",
    "pd.refViscosity = 1e20* u.pascal* u.second\n",
    "pd.refLength = 2900*u.km\n",
    "pd.gasConstant = 8.314*u.joule/(u.mol*u.kelvin)                   #gas constant\n",
    "pd.specificHeat = 1250.4*u.joule/(u.kilogram* u.kelvin)           #Specific heat (Jkg-1K-1)\n",
    "pd.potentialTemp = 1573.*u.kelvin                                 #mantle potential temp (K)\n",
    "pd.surfaceTemp = 273.*u.kelvin                                    #surface temp (K)\n",
    "#these are the shifted temps, which will range from 0 - 1 in the dimensionless system\n",
    "pd.potentialTemp_ = pd.potentialTemp - pd.surfaceTemp\n",
    "pd.surfaceTemp_ = pd.surfaceTemp - pd.surfaceTemp\n",
    "#main rheology parameters\n",
    "pd.cohesionMantle = 20.*u.megapascal                              #mantle cohesion in Byerlee law\n",
    "pd.frictionMantle = u.Quantity(0.2)                                           #mantle friction coefficient in Byerlee law (tan(phi))\n",
    "pd.frictionMantleDepth = pd.frictionMantle*pd.refDensity*pd.refGravity\n",
    "pd.diffusionPreExp = 5.34e-10/u.pascal/u.second                   #pre-exp factor for diffusion creep\n",
    "pd.diffusionEnergy = 3e5*u.joule/(u.mol)\n",
    "pd.diffusionEnergyDepth = 3e5*u.joule/(u.mol*pd.gasConstant)\n",
    "pd.diffusionVolume=5e-6*u.meter**3/(u.mol)\n",
    "pd.diffusionVolumeDepth=5e-6*pd.refDensity.magnitude*pd.refGravity.magnitude*u.joule/(u.mol*pd.gasConstant*u.meter)\n",
    "pd.viscosityFault = 5e19*u.pascal   * u.second\n",
    "pd.adiabaticTempGrad = (pd.refExpansivity*pd.refGravity*pd.potentialTemp)/pd.specificHeat\n",
    "pd.yieldStressMax=200*u.megapascal\n",
    "pd.lowerMantleViscFac = u.Quantity(30.0)\n",
    "\n",
    "paramDict_dim = pd"
   ]
  },
  {
   "cell_type": "code",
   "execution_count": 37,
   "metadata": {
    "collapsed": true
   },
   "outputs": [],
   "source": [
    "md = edict({})\n",
    "#Model geometry, and misc Lengths used to control behaviour\n",
    "md.depth=1000*u.km                                                #Model Depth\n",
    "md.aspectRatio=5.\n",
    "#lengths, factors relating to subduction fault behaviour\n",
    "md.faultViscDepthTaperStart = 100*u.km\n",
    "md.faultViscDepthTaperWidth = 20*u.km\n",
    "md.faultViscHorizTaperStart = 300*u.km\n",
    "md.faultViscHorizTaperWidth = 300*u.km\n",
    "md.faultThickness = 10.*u.km\n",
    "md.faultLocFac = 1.                                                #this is the relative location of the fault in terms of the fault thickess from the top of slab\n",
    "md.faultDestroyDepth = 300*u.km\n",
    "md.lowerMantleDepth=660.*u.km\n",
    "md.lowerMantleTransWidth=10.*u.km\n",
    "#Slab and plate init. parameters\n",
    "md.subZoneLoc=-100*u.km                                           #X position of subduction zone...km\n",
    "md.slabInitMaxDepth=150*u.km\n",
    "md.radiusOfCurv = 350.*u.km                                        #radius of curvature\n",
    "md.slabAge=15.*u.megayears                                      #age of subduction plate at trench\n",
    "md.opAgeAtTrench=10.*u.megayears                                        #age of op\n",
    "#numerical and computation params\n",
    "md.res=48\n",
    "md.ppc=25                                                         #particles per cell\n",
    "md.elementType=\"Q1/dQ0\"\n",
    "md.refineHoriz = True\n",
    "md.refineVert = True\n",
    "md.meshRefineFactor = 0.7\n",
    "md.nltol = 0.01\n",
    "md.druckerAlpha = 1.\n",
    "md.penaltyMethod = True\n",
    "md.buoyancyFac = 1.0\n",
    "md.viscosityMin = 1e18* u.pascal * u.second\n",
    "md.viscosityMax = 1e25* u.pascal * u.second\n",
    "\n",
    "modelDict_dim = md"
   ]
  },
  {
   "cell_type": "code",
   "execution_count": 38,
   "metadata": {
    "collapsed": false,
    "deletable": true,
    "editable": true
   },
   "outputs": [],
   "source": [
    "#import parameters, model settings, unit registry, scaling system, etc\n",
    "\n",
    "from unsupported_dan.UWsubduction.default_scaling import sub_scaling, build_nondim_dict\n",
    "from unsupported_dan.UWsubduction.minimal_example import rayleighNumber, stressScale, pressureDepthGrad\n",
    "\n",
    "\n",
    "#define some more concise names\n",
    "sca = sub_scaling\n",
    "ndimlz = sca.nonDimensionalize\n",
    "#build the dimensionless paramter / model dictionaries\n",
    "ndp = build_nondim_dict(paramDict_dim  , sca)   \n",
    "md = build_nondim_dict(modelDict_dim  , sca)\n",
    "\n",
    "assert ndimlz(paramDict_dim.refLength) == 1.0\n",
    "\n",
    "# changes to base params: (These will keep changing if the notebook is run again without restarting!)\n",
    "md.faultThickness *= 1.5 #15 km\n",
    "md.res = 48"
   ]
  },
  {
   "cell_type": "code",
   "execution_count": null,
   "metadata": {
    "collapsed": true,
    "deletable": true,
    "editable": true
   },
   "outputs": [],
   "source": []
  },
  {
   "cell_type": "markdown",
   "metadata": {
    "collapsed": true,
    "deletable": true,
    "editable": true
   },
   "source": [
    "## Build / refine mesh, Stokes Variables"
   ]
  },
  {
   "cell_type": "code",
   "execution_count": 39,
   "metadata": {
    "collapsed": false,
    "deletable": true,
    "editable": true
   },
   "outputs": [],
   "source": [
    "#(ndp.rightLim - ndp.leftLim)/ndp.depth\n",
    "#md.res = 64"
   ]
  },
  {
   "cell_type": "code",
   "execution_count": 40,
   "metadata": {
    "collapsed": false,
    "deletable": true,
    "editable": true
   },
   "outputs": [],
   "source": [
    "yres = int(md.res)\n",
    "xres = int(md.res*6) \n",
    "\n",
    "halfWidth = 0.5*md.depth*md.aspectRatio \n",
    "\n",
    "minCoord_    = (-1.*halfWidth, 1. - md.depth) \n",
    "maxCoord_    = (halfWidth, 1.)\n",
    "\n",
    "mesh = uw.mesh.FeMesh_Cartesian( elementType = (md.elementType),\n",
    "                                 elementRes  = (xres, yres), \n",
    "                                 minCoord    = minCoord_, \n",
    "                                 maxCoord    = maxCoord_) \n",
    "\n",
    "velocityField = uw.mesh.MeshVariable( mesh=mesh,         nodeDofCount=2)\n",
    "pressureField   = uw.mesh.MeshVariable( mesh=mesh.subMesh, nodeDofCount=1 )\n",
    "temperatureField    = uw.mesh.MeshVariable( mesh=mesh,         nodeDofCount=1 )\n",
    "temperatureDotField = uw.mesh.MeshVariable( mesh=mesh,         nodeDofCount=1 ) \n",
    "    \n",
    "\n",
    "velocityField.data[:] = 0.\n",
    "pressureField.data[:] = 0.\n",
    "temperatureField.data[:] = 0.\n",
    "temperatureDotField.data[:] = 0."
   ]
  },
  {
   "cell_type": "code",
   "execution_count": 41,
   "metadata": {
    "collapsed": true,
    "deletable": true,
    "editable": true
   },
   "outputs": [],
   "source": [
    "#mesh.reset() #call to reset mesh nodes to original locations\n",
    "\n",
    "if md.refineHoriz:\n",
    "    \n",
    "    with mesh.deform_mesh():\n",
    "        \n",
    "        normXs = 2.*mesh.data[:,0]/(mesh.maxCoord[0] - mesh.minCoord[0])\n",
    "        mesh.data[:,0] = mesh.data[:,0] * np.exp(md.meshRefineFactor*normXs**2) / np.exp(md.meshRefineFactor*1.0**2)    \n",
    "    \n",
    "if md.refineVert:\n",
    "\n",
    "    with mesh.deform_mesh():\n",
    "        \n",
    "        mesh.data[:,1] = mesh.data[:,1] - 1.0\n",
    "\n",
    "        normYs = -1.*mesh.data[:,1]/(mesh.maxCoord[1] - mesh.minCoord[1])\n",
    "        mesh.data[:,1] = mesh.data[:,1] * np.exp(md.meshRefineFactor*normYs**2)/np.exp(md.meshRefineFactor*1.0**2)\n",
    "\n",
    "        mesh.data[:,1] = mesh.data[:,1] + 1.0\n"
   ]
  },
  {
   "cell_type": "markdown",
   "metadata": {
    "deletable": true,
    "editable": true
   },
   "source": [
    "## Build plate model"
   ]
  },
  {
   "cell_type": "code",
   "execution_count": 11,
   "metadata": {
    "collapsed": true,
    "deletable": true,
    "editable": true
   },
   "outputs": [],
   "source": [
    "\n",
    "endTime = ndimlz(30*ur.megayear) \n",
    "refVel = ndimlz(2*ur.cm/ur.year)\n",
    "plateModelDt = ndimlz(0.1*ur.megayear)"
   ]
  },
  {
   "cell_type": "code",
   "execution_count": 12,
   "metadata": {
    "collapsed": true,
    "deletable": true,
    "editable": true
   },
   "outputs": [],
   "source": [
    "#velocities of the plates (1 - 3) ams well as the plate boundary (1,2)\n",
    "vp1= ndimlz(0.*ur.centimeter/ur.year )\n",
    "vp2= ndimlz(6.*ur.centimeter/ur.year )\n",
    "vp3= ndimlz(-2.*ur.centimeter/ur.year )\n",
    "\n",
    "vb12= ndimlz(4.0*ur.centimeter/ur.year )\n"
   ]
  },
  {
   "cell_type": "code",
   "execution_count": 14,
   "metadata": {
    "collapsed": false,
    "deletable": true,
    "editable": true
   },
   "outputs": [
    {
     "name": "stdout",
     "output_type": "stream",
     "text": [
      "(0.0, 2756.9225237512087, -1837.9483491674725, 459.48708729186814)\n"
     ]
    }
   ],
   "source": [
    "print(vp1, vp2, vp3, vb12)"
   ]
  },
  {
   "cell_type": "code",
   "execution_count": 15,
   "metadata": {
    "collapsed": false,
    "deletable": true,
    "editable": true
   },
   "outputs": [],
   "source": [
    "tm = TectModel(mesh, 0, endTime, plateModelDt)\n",
    "\n",
    "tm.add_plate(1, velocities=vp1)\n",
    "tm.add_plate(2, velocities=vp2)\n",
    "tm.add_plate(3, velocities=vp3)"
   ]
  },
  {
   "cell_type": "code",
   "execution_count": 31,
   "metadata": {
    "collapsed": false
   },
   "outputs": [
    {
     "name": "stdout",
     "output_type": "stream",
     "text": [
      "(-0.4, 0.2896551724137931)\n"
     ]
    }
   ],
   "source": [
    "ridgeLoc = -0.4\n",
    "subLoc = -0.4 + ndimlz(2000.*ur.kilometer)\n",
    "print(ridgeLoc, subLoc)"
   ]
  },
  {
   "cell_type": "code",
   "execution_count": 42,
   "metadata": {
    "collapsed": false,
    "deletable": true,
    "editable": true
   },
   "outputs": [],
   "source": [
    "tm.add_left_boundary(1, plateInitAge=md.slabAge/3., velocities=False)\n",
    "#tm.add_left_boundary(2, plateInitAge=0., velocities=False)\n",
    "\n",
    "tm.add_ridge(1,2, ridgeLoc, velocities=vb12)\n",
    "tm.add_subzone(2, 3, subLoc, subInitAge=md.slabAge, upperInitAge=md.opAgeAtTrench)\n",
    "\n",
    "tm.add_right_boundary(3, plateInitAge=0.0, velocities=False)"
   ]
  },
  {
   "cell_type": "code",
   "execution_count": 43,
   "metadata": {
    "collapsed": false,
    "deletable": true,
    "editable": true
   },
   "outputs": [],
   "source": [
    "#((1400*ur.kilometer)/(35*ur.megayear)).to(ur.cm/ ur.year )\n"
   ]
  },
  {
   "cell_type": "markdown",
   "metadata": {
    "deletable": true,
    "editable": true
   },
   "source": [
    "## Build plate age / temperature Fns"
   ]
  },
  {
   "cell_type": "code",
   "execution_count": 44,
   "metadata": {
    "collapsed": false,
    "deletable": true,
    "editable": true
   },
   "outputs": [],
   "source": [
    "pIdFn = tm.plate_id_fn()\n",
    "pAgeDict = tm.plate_age_fn() \n",
    "\n",
    "fnAge_map = fn.branching.map(fn_key = pIdFn , \n",
    "                          mapping = pAgeDict )\n",
    "\n",
    "#fig = glucifer.Figure(figsize=(600, 300))\n",
    "#fig.append( glucifer.objects.Surface(tm.mesh, fnAge_map ))\n",
    "#fig.show()"
   ]
  },
  {
   "cell_type": "code",
   "execution_count": 45,
   "metadata": {
    "collapsed": false,
    "deletable": true,
    "editable": true
   },
   "outputs": [],
   "source": [
    "#ndp.potentialTemp"
   ]
  },
  {
   "cell_type": "code",
   "execution_count": 46,
   "metadata": {
    "collapsed": false,
    "deletable": true,
    "editable": true
   },
   "outputs": [],
   "source": [
    "coordinate = fn.input()\n",
    "depthFn = mesh.maxCoord[1] - coordinate[1]\n",
    "\n",
    "platethickness = 2.32*fn.math.sqrt(1.*fnAge_map )  \n",
    "\n",
    "halfSpaceTemp = ndp.potentialTemp_*fn.math.erf((depthFn)/(2.*fn.math.sqrt(1.*fnAge_map)))\n",
    "\n",
    "plateTempProxFn = fn.branching.conditional( ((depthFn > platethickness, ndp.potentialTemp_ ), \n",
    "                                           (True,                      halfSpaceTemp)  ))\n",
    "\n"
   ]
  },
  {
   "cell_type": "code",
   "execution_count": 47,
   "metadata": {
    "collapsed": false,
    "deletable": true,
    "editable": true
   },
   "outputs": [
    {
     "data": {
      "text/html": [
       "<img src='data:image/png;base64,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'>"
      ],
      "text/plain": [
       "<IPython.core.display.HTML object>"
      ]
     },
     "metadata": {},
     "output_type": "display_data"
    }
   ],
   "source": [
    "#fig = glucifer.Figure(figsize=(600, 300))\n",
    "#fig.append( glucifer.objects.Surface(tm.mesh, plateTempProxFn, onMesh = True))\n",
    "#fig.show()"
   ]
  },
  {
   "cell_type": "markdown",
   "metadata": {
    "deletable": true,
    "editable": true
   },
   "source": [
    "## Make swarm and Swarm Vars"
   ]
  },
  {
   "cell_type": "code",
   "execution_count": 48,
   "metadata": {
    "collapsed": false,
    "deletable": true,
    "editable": true
   },
   "outputs": [],
   "source": [
    "swarm = uw.swarm.Swarm(mesh=mesh, particleEscape=True)\n",
    "layout = uw.swarm.layouts.PerCellRandomLayout(swarm=swarm, particlesPerCell=int(md.ppc))\n",
    "swarm.populate_using_layout( layout=layout ) # Now use it to populate.\n",
    "proxyTempVariable = swarm.add_variable( dataType=\"double\", count=1 )\n",
    "proximityVariable      = swarm.add_variable( dataType=\"int\", count=1 )\n",
    "signedDistanceVariable = swarm.add_variable( dataType=\"double\", count=1 )\n",
    "\n",
    "#\n",
    "proxyTempVariable.data[:] = 1.0\n",
    "proximityVariable.data[:] = 0.0\n",
    "signedDistanceVariable.data[:] = 0.0\n"
   ]
  },
  {
   "cell_type": "markdown",
   "metadata": {
    "deletable": true,
    "editable": true
   },
   "source": [
    "## Create tmUwMap"
   ]
  },
  {
   "cell_type": "code",
   "execution_count": 49,
   "metadata": {
    "collapsed": false,
    "deletable": true,
    "editable": true
   },
   "outputs": [],
   "source": [
    "#Now we have built are primary FEM / Swarm objects, we collect some of these in a dictionary,\n",
    "#to provide a consistent form to pass to methods of TectModel\n",
    "\n",
    "tmUwMap = tm_uw_map([], velocityField, swarm, \n",
    "                    signedDistanceVariable, proxyTempVariable, proximityVariable)"
   ]
  },
  {
   "cell_type": "markdown",
   "metadata": {
    "deletable": true,
    "editable": true
   },
   "source": [
    "## Make slab perturbation and subduction interface\n",
    "\n",
    "* For more information see, `UWsubduction/Background/interface2D`"
   ]
  },
  {
   "cell_type": "code",
   "execution_count": 50,
   "metadata": {
    "collapsed": true,
    "deletable": true,
    "editable": true
   },
   "outputs": [],
   "source": [
    "def circGradientFn(S):\n",
    "    if S == 0.:\n",
    "        return 0.\n",
    "    elif S < md.radiusOfCurv:\n",
    "        return max(-S/np.sqrt((md.radiusOfCurv**2 - S**2)), -1e3)\n",
    "    else:\n",
    "        return -1e5\n",
    "    \n",
    "    \n",
    "def circGradientFn2(S):\n",
    "    if S == 0.:\n",
    "        return 0.\n",
    "    elif S < 1.*md.radiusOfCurv:\n",
    "        return max(-S/np.sqrt((md.radiusOfCurv**2 - S**2)), -1.)\n",
    "    else:\n",
    "        return -1.\n",
    "\n",
    "def circGradientFn3(S):\n",
    "    if S < 1.*md.radiusOfCurv:\n",
    "        return circGradientFn2(S)\n",
    "    else:\n",
    "        return min(circGradientFn2(2.6*md.radiusOfCurv - S), -0.1)\n",
    "    "
   ]
  },
  {
   "cell_type": "code",
   "execution_count": 51,
   "metadata": {
    "collapsed": true,
    "deletable": true,
    "editable": true
   },
   "outputs": [],
   "source": [
    "#proxyTempVariable.data[:] =0."
   ]
  },
  {
   "cell_type": "code",
   "execution_count": 52,
   "metadata": {
    "collapsed": false,
    "deletable": true,
    "editable": true
   },
   "outputs": [],
   "source": [
    "#All of these wil be needed by the slab / fault setup functions\n",
    "#We have two main options, bind them to the TectModel class. \n",
    "#or provide them to the functions\n",
    "#collection them in a dictionary may be a useful way too proviede them to the function \n",
    "#without blowing out the function arguments\n",
    "\n",
    "tmUwMap = tm_uw_map([], velocityField, swarm, \n",
    "                    signedDistanceVariable, proxyTempVariable, proximityVariable)\n"
   ]
  },
  {
   "cell_type": "code",
   "execution_count": 53,
   "metadata": {
    "collapsed": false,
    "deletable": true,
    "editable": true
   },
   "outputs": [],
   "source": [
    "#define fault particle spacing, here ~5 paricles per element\n",
    "ds = (tm.maxX - tm.minX)/(2.*tm.mesh.elementRes[0])\n",
    "\n",
    "fCollection = interface_collection([])\n",
    "\n",
    "deepDepth = ndimlz(660.*ur.kilometer)\n",
    "\n",
    "for e in tm.undirected.edges():\n",
    "    if tm.is_subduction_boundary(e):\n",
    "        build_slab_distance(tm, e, circGradientFn3, deepDepth, tmUwMap)\n",
    "        #build_slab_distance(tm, e, circGradientFn, md.slabInitMaxDepth, tmUwMap)        \n",
    "        fb = build_fault(tm, e, circGradientFn3, md.faultThickness , deepDepth, ds, md.faultThickness, tmUwMap)\n",
    "        #fb = build_fault(tm, e, circGradientFn, md.faultThickness , md.slabInitMaxDepth, ds, md.faultThickness, tmUwMap)\n",
    "\n",
    "        fCollection.append(fb)\n",
    "\n",
    "#\n",
    "build_slab_temp(tmUwMap, ndp.potentialTemp_, md.slabAge)\n",
    "fnJointTemp = fn.misc.min(proxyTempVariable,plateTempProxFn)\n",
    "\n",
    "#And now reevaluate this guy on the swarm\n",
    "proxyTempVariable.data[:] = fnJointTemp.evaluate(swarm)"
   ]
  },
  {
   "cell_type": "code",
   "execution_count": 55,
   "metadata": {
    "collapsed": false,
    "deletable": true,
    "editable": true
   },
   "outputs": [],
   "source": [
    "#fig = glucifer.Figure(figsize=(600, 300))\n",
    "#fig.append( glucifer.objects.Points(swarm, proxyTempVariable))\n",
    "#fig.append( glucifer.objects.Points(fb.swarm))\n",
    "#fig.show()\n",
    "#fig.save_database('test.gldb')"
   ]
  },
  {
   "cell_type": "markdown",
   "metadata": {
    "deletable": true,
    "editable": true
   },
   "source": [
    "##  Define subduction fault evolution (rebuild/destroy)\n",
    "\n",
    "\n",
    "In this section we setup some functions to help manage the spatial distribution of faults"
   ]
  },
  {
   "cell_type": "code",
   "execution_count": null,
   "metadata": {
    "collapsed": true,
    "deletable": true,
    "editable": true
   },
   "outputs": [],
   "source": []
  },
  {
   "cell_type": "code",
   "execution_count": 34,
   "metadata": {
    "collapsed": false,
    "deletable": true,
    "editable": true
   },
   "outputs": [],
   "source": [
    "# Setup a swarm to define the replacment positions\n",
    "\n",
    "fThick= fCollection[0].thickness\n",
    "\n",
    "faultloc = 1. - md.faultThickness*md.faultLocFac\n",
    "\n",
    "allxs = np.arange(mesh.minCoord[0], mesh.maxCoord[0], ds )[:-1]\n",
    "allys = (mesh.maxCoord[1] - fThick)*np.ones(allxs.shape)\n",
    "\n",
    "faultMasterSwarm = uw.swarm.Swarm( mesh=mesh )\n",
    "dummy =  faultMasterSwarm.add_particles_with_coordinates(np.column_stack((allxs, allys)))\n",
    "del allxs\n",
    "del allys\n",
    "\n",
    "\n",
    "\n",
    "##What are we doing here??\n",
    "\n",
    "#*faultRmfn descibs an area around the trench in which fault particles are allowed. Outside of this region they\n",
    "#are destroyed using (remove_faults_from_boundaries). Note that the\n",
    "\n",
    "#* faultAddFn desribes a region internal to the subduction plate wherwe we rebuild the fault. \n",
    "#this function deliberately'over-builds' the fault, while remove_faults_from_boundaries then trims it to size\n",
    "\n",
    "#* velMaskFn defines the nodes where we will apply the plate velocties. \n",
    "#While leaving nodes near the plate boundaries free to adjust\n",
    "\n",
    "\n",
    "faultRmfn = tm.t2f(tm.variable_boundary_mask_fn(distMax=1e5, distMin=ndimlz(10*ur.km), relativeWidth = 0.9, \n",
    "                                  minPlateLength =ndimlz(60*ur.km),  \n",
    "                                           out = 'bool', boundtypes='sub' ))\n",
    "\n",
    "\n",
    "#this one will put particles back into the fault\n",
    "faultAddFn1 = tm.variable_boundary_mask_fn(distMax=1e6, distMin=ndimlz(10*ur.km), \n",
    "                                       relativeWidth = 0.95, minPlateLength =ndimlz(60*ur.km),  \n",
    "                                           out = 'bool', boundtypes='sub' )\n",
    "\n",
    "#thsi will keep the fault addition away from the subdcution zone\n",
    "faultAddFn2 =  tm.t2f(tm.variable_boundary_mask_fn(distMax = ndimlz(150*ur.km), relativeWidth = 0.9 ))\n",
    "\n",
    "faultAddFn = operator.and_( faultAddFn1 ,  faultAddFn2)\n",
    "\n",
    "\n",
    "\n",
    "\n",
    "###The following mask function provide a way of building velocity conditions within the plates,\n",
    "\n",
    "velMask1 = tm.variable_boundary_mask_fn(distMax=1e6, distMin=0.0, relativeWidth = 0.85, \n",
    "                        minPlateLength =ndimlz(50*ur.km),  out = 'bool', boundtypes='ridge')\n",
    "\n",
    "velMask2= tm.plate_interior_mask_fn(relativeWidth=0.95, \n",
    "                                        minPlateLength=ndimlz(10*ur.km), invert=False)\n",
    "\n",
    "velMaskFn = operator.and_( velMask1,  velMask2)\n",
    "\n",
    "\n",
    "#order is very important here\n",
    "#dummy = remove_fault_drift(fCollection, faultloc)\n",
    "#dummy = pop_or_perish(tm, fCollection, faultMasterSwarm, faultAddFn , ds)\n",
    "#dummy = remove_faults_from_boundaries(tm, fCollection, faultRmfn )\n"
   ]
  },
  {
   "cell_type": "code",
   "execution_count": 35,
   "metadata": {
    "collapsed": true,
    "deletable": true,
    "editable": true
   },
   "outputs": [],
   "source": [
    "#maskFn_ = tm.t2f(faultRmfn)\n",
    "#pIdFn = tm.plate_id_fn(maskFn=maskFn_)"
   ]
  },
  {
   "cell_type": "code",
   "execution_count": 36,
   "metadata": {
    "collapsed": false,
    "deletable": true,
    "editable": true
   },
   "outputs": [],
   "source": [
    "#fig = glucifer.Figure(figsize=(600, 300))\n",
    "#fig.append( glucifer.objects.Surface(tm.mesh, pIdFn, onMesh=True, valueRange = [0,3]))\n",
    "#fig.show()"
   ]
  },
  {
   "cell_type": "markdown",
   "metadata": {
    "collapsed": false,
    "deletable": true,
    "editable": true
   },
   "source": [
    "## Proximity\n",
    "\n"
   ]
  },
  {
   "cell_type": "code",
   "execution_count": 37,
   "metadata": {
    "collapsed": false,
    "deletable": true,
    "editable": true
   },
   "outputs": [],
   "source": [
    "proximityVariable.data[:] = 0"
   ]
  },
  {
   "cell_type": "code",
   "execution_count": 38,
   "metadata": {
    "collapsed": false,
    "deletable": true,
    "editable": true
   },
   "outputs": [],
   "source": [
    "for f in fCollection:\n",
    "    f.rebuild()\n",
    "    f.set_proximity_director(swarm, proximityVariable, searchFac = 2., locFac=1.0)"
   ]
  },
  {
   "cell_type": "code",
   "execution_count": 39,
   "metadata": {
    "collapsed": true,
    "deletable": true,
    "editable": true
   },
   "outputs": [],
   "source": [
    "#update_faults()"
   ]
  },
  {
   "cell_type": "code",
   "execution_count": 40,
   "metadata": {
    "collapsed": false,
    "deletable": true,
    "editable": true
   },
   "outputs": [],
   "source": [
    "#figProx = glucifer.Figure(figsize=(960,300) )\n",
    "#figProx.append( glucifer.objects.Points(swarm , proximityVariable))\n",
    "#figProx.append( glucifer.objects.Surface(mesh, velMaskFn))\n",
    "\n",
    "#for f in fCollection:\n",
    "#    figProx.append( glucifer.objects.Points(f.swarm, pointSize=5))\n",
    "#figProx.show()\n",
    "\n",
    "\n",
    "#figProx.save_database('test.gldb')"
   ]
  },
  {
   "cell_type": "code",
   "execution_count": 41,
   "metadata": {
    "collapsed": false,
    "deletable": true,
    "editable": true
   },
   "outputs": [],
   "source": [
    "#testMM = fn.view.min_max(uw.function.input(f.swarm.particleCoordinates))\n",
    "#dummyFn = testMM.evaluate(tWalls)"
   ]
  },
  {
   "cell_type": "markdown",
   "metadata": {
    "deletable": true,
    "editable": true
   },
   "source": [
    "## Prescribed velocity"
   ]
  },
  {
   "cell_type": "code",
   "execution_count": 42,
   "metadata": {
    "collapsed": true,
    "deletable": true,
    "editable": true
   },
   "outputs": [],
   "source": [
    "def set_vel_return_nodes(time, maskFn):\n",
    "    \"\"\"\n",
    "    globals:\n",
    "    velocityField\n",
    "    \"\"\"\n",
    "    \n",
    "    nodes = tm.plate_vel_node_fn(time, maskFn = maskFn)\n",
    "    \n",
    "    #4 parallel safety\n",
    "    if not nodes.shape[0]:\n",
    "        return np.array([])\n",
    "        \n",
    "    pIdFn = tm.plate_id_fn()\n",
    "    #velMapFn = tm.plateVelFn(testTime, pIdFn)\n",
    "    velMapFn = tm.plateVelFn(time, pIdFn)\n",
    "    locs = tm.mesh.data[nodes]\n",
    "\n",
    "    #Now set the veolcity on the nodes\n",
    "    velocityField.data[nodes, 0] = velMapFn.evaluate(locs)[:,0]\n",
    "    return nodes\n",
    "    "
   ]
  },
  {
   "cell_type": "code",
   "execution_count": 43,
   "metadata": {
    "collapsed": false,
    "deletable": true,
    "editable": true
   },
   "outputs": [],
   "source": [
    "vXnodes = set_vel_return_nodes(0., velMaskFn)"
   ]
  },
  {
   "cell_type": "code",
   "execution_count": 44,
   "metadata": {
    "collapsed": false,
    "deletable": true,
    "editable": true
   },
   "outputs": [],
   "source": [
    "#np.empty(0), \n",
    "#test = tm.mesh.specialSets['MaxJ_VertexSet']data.shape"
   ]
  },
  {
   "cell_type": "code",
   "execution_count": 45,
   "metadata": {
    "collapsed": false,
    "deletable": true,
    "editable": true
   },
   "outputs": [],
   "source": [
    "#check\n",
    "#%pylab inline\n",
    "#tWalls = tm.mesh.specialSets['MaxJ_VertexSet']\n",
    "\n",
    "\n",
    "#fig, ax = plt.subplots(figsize=(10, 2))\n",
    "#plt.plot(mesh.data[tWalls.data][:,0], velocityField.data[tWalls.data][:,0])#\n",
    "#plt.scatter(mesh.data[vXnodes ][:,0], np.zeros(len(mesh.data[vXnodes ][:,0])), s = 0.5, c = 'k')\n",
    "#ax.hlines(500, tm.minX, tm.maxX, linestyles='--')"
   ]
  },
  {
   "cell_type": "markdown",
   "metadata": {
    "deletable": true,
    "editable": true
   },
   "source": [
    "## Project the swarm 'proxy temp' to mesh"
   ]
  },
  {
   "cell_type": "code",
   "execution_count": 46,
   "metadata": {
    "collapsed": true,
    "deletable": true,
    "editable": true
   },
   "outputs": [],
   "source": [
    "projectorMeshTemp= uw.utils.MeshVariable_Projection( temperatureField, proxyTempVariable , type=0 )\n",
    "projectorMeshTemp.solve()"
   ]
  },
  {
   "cell_type": "markdown",
   "metadata": {
    "collapsed": true,
    "deletable": true,
    "editable": true
   },
   "source": [
    "## Boundary conditions"
   ]
  },
  {
   "cell_type": "code",
   "execution_count": 47,
   "metadata": {
    "collapsed": false,
    "deletable": true,
    "editable": true
   },
   "outputs": [],
   "source": [
    "iWalls = mesh.specialSets[\"MinI_VertexSet\"] + mesh.specialSets[\"MaxI_VertexSet\"]\n",
    "jWalls = mesh.specialSets[\"MinJ_VertexSet\"] + mesh.specialSets[\"MaxJ_VertexSet\"]\n",
    "\n",
    "tWalls = mesh.specialSets[\"MaxJ_VertexSet\"]\n",
    "bWalls = mesh.specialSets[\"MinJ_VertexSet\"]\n",
    "\n",
    "\n",
    "#velBC  = uw.conditions.DirichletCondition( variable        = velocityField, \n",
    "#                                           indexSetsPerDof = (iWalls, jWalls) )\n"
   ]
  },
  {
   "cell_type": "code",
   "execution_count": 48,
   "metadata": {
    "collapsed": false,
    "deletable": true,
    "editable": true
   },
   "outputs": [],
   "source": [
    "#vXnodes"
   ]
  },
  {
   "cell_type": "code",
   "execution_count": 49,
   "metadata": {
    "collapsed": true,
    "deletable": true,
    "editable": true
   },
   "outputs": [],
   "source": [
    "def build_velBcs(nodes):\n",
    "    \n",
    "    velnodeset = mesh.specialSets[\"Empty\"]\n",
    "    velnodeset += nodes\n",
    "    \n",
    "    \n",
    "    \n",
    "    velBC  = uw.conditions.DirichletCondition( variable        = velocityField, \n",
    "                                           indexSetsPerDof = (iWalls + velnodeset, jWalls) )\n",
    "    \n",
    "    return velBC"
   ]
  },
  {
   "cell_type": "code",
   "execution_count": 50,
   "metadata": {
    "collapsed": false,
    "deletable": true,
    "editable": true
   },
   "outputs": [],
   "source": [
    "velBC = build_velBcs(vXnodes)"
   ]
  },
  {
   "cell_type": "code",
   "execution_count": 52,
   "metadata": {
    "collapsed": false,
    "deletable": true,
    "editable": true
   },
   "outputs": [],
   "source": [
    "#Ridges enforced\n",
    "dirichTempBC = uw.conditions.DirichletCondition(     variable=temperatureField, \n",
    "                                              indexSetsPerDof=(tWalls + iWalls,) )\n",
    "\n",
    "\n",
    "###If we want thermal ridges fixed\n",
    "temperatureField.data[iWalls.data] = ndp.potentialTemp_"
   ]
  },
  {
   "cell_type": "markdown",
   "metadata": {
    "deletable": true,
    "editable": true
   },
   "source": [
    "## Bouyancy"
   ]
  },
  {
   "cell_type": "code",
   "execution_count": 53,
   "metadata": {
    "collapsed": false,
    "deletable": true,
    "editable": true
   },
   "outputs": [],
   "source": [
    "temperatureFn = temperatureField\n",
    "\n",
    "\n",
    "# Now create a buoyancy force vector using the density and the vertical unit vector. \n",
    "thermalDensityFn = md.buoyancyFac*rayleighNumber*(1. - temperatureFn)\n",
    "\n",
    "gravity = ( 0.0, -1.0 )\n",
    "\n",
    "buoyancyMapFn = thermalDensityFn*gravity"
   ]
  },
  {
   "cell_type": "markdown",
   "metadata": {
    "deletable": true,
    "editable": true
   },
   "source": [
    "## Rheology"
   ]
  },
  {
   "cell_type": "code",
   "execution_count": 54,
   "metadata": {
    "collapsed": false,
    "deletable": true,
    "editable": true
   },
   "outputs": [],
   "source": [
    "symStrainrate = fn.tensor.symmetric( \n",
    "                            velocityField.fn_gradient )\n",
    "\n",
    "#Set up any functions required by the rheology\n",
    "strainRate_2ndInvariant = fn.tensor.second_invariant( \n",
    "                            fn.tensor.symmetric( \n",
    "                            velocityField.fn_gradient ))\n",
    "\n",
    "\n",
    "\n",
    "def safe_visc(func, viscmin=md.viscosityMin, viscmax=md.viscosityMax):\n",
    "    return fn.misc.max(viscmin, fn.misc.min(viscmax, func))"
   ]
  },
  {
   "cell_type": "code",
   "execution_count": 55,
   "metadata": {
    "collapsed": true,
    "deletable": true,
    "editable": true
   },
   "outputs": [],
   "source": [
    "#Interface rheology extent\n",
    "\n",
    "subZoneDistfn = tm.subZoneAbsDistFn(upper=True)\n",
    "\n",
    "\n",
    "faultHorizTaperFn  = cosine_taper(subZoneDistfn, \n",
    "                                  md.faultViscHorizTaperStart, md.faultViscHorizTaperWidth)\n",
    "faultDepthTaperFn = cosine_taper(depthFn, \n",
    "                                 md.faultViscDepthTaperStart, md.faultViscDepthTaperWidth)"
   ]
  },
  {
   "cell_type": "code",
   "execution_count": 56,
   "metadata": {
    "collapsed": false,
    "deletable": true,
    "editable": true
   },
   "outputs": [
    {
     "data": {
      "text/plain": [
       "(53400000000.0, 43.386502840435966, 27.75670324383339, 0.21)"
      ]
     },
     "execution_count": 56,
     "metadata": {},
     "output_type": "execute_result"
    }
   ],
   "source": [
    "#temperatureField, \n",
    "\n",
    "ndp.diffusionPreExp, ndp.diffusionVolumeDepth, ndp.diffusionEnergyDepth, ndp.surfaceTemp\n",
    "#(1./ndp.diffusionPreExp)\n"
   ]
  },
  {
   "cell_type": "code",
   "execution_count": 57,
   "metadata": {
    "collapsed": false,
    "deletable": true,
    "editable": true
   },
   "outputs": [],
   "source": [
    "\n",
    "\n",
    "adiabaticCorrectFn = depthFn*ndp.adiabaticTempGrad\n",
    "dynamicPressureProxyDepthFn = pressureField/pressureDepthGrad\n",
    "druckerDepthFn = fn.misc.max(0.0, depthFn + md.druckerAlpha*(dynamicPressureProxyDepthFn))\n",
    "\n",
    "#Diffusion Creep\n",
    "diffusionUM = (1./ndp.diffusionPreExp)*\\\n",
    "    fn.math.exp( ((ndp.diffusionEnergyDepth + \\\n",
    "                   (depthFn*ndp.diffusionVolumeDepth))/((temperatureFn+ adiabaticCorrectFn + ndp.surfaceTemp))))\n",
    "\n",
    "diffusionUM =     safe_visc(diffusionUM)\n",
    "    \n",
    "diffusionLM = ndp.lowerMantleViscFac*(1./ndp.diffusionPreExp)*\\\n",
    "    fn.math.exp( ((ndp.diffusionEnergyDepth + \\\n",
    "                   (depthFn*ndp.diffusionVolumeDepth))/((temperatureFn+ adiabaticCorrectFn + ndp.surfaceTemp))))\n",
    "\n",
    "#diffusionLM =     safe_visc(diffusionLM)\n",
    "\n",
    "\n",
    "transitionZoneTaperFn = cosine_taper(depthFn, md.lowerMantleDepth - 0.5*md.lowerMantleTransWidth , md.lowerMantleTransWidth )\n",
    "\n",
    "\n",
    "mantleCreep = diffusionUM*(1. - transitionZoneTaperFn) + transitionZoneTaperFn*diffusionLM\n",
    "\n",
    "#Define the mantle Plasticity\n",
    "ys =  ndp.cohesionMantle + (druckerDepthFn*ndp.frictionMantleDepth)\n",
    "ysf = fn.misc.min(ys, ndp.yieldStressMax)\n",
    "yielding = ysf/(2.*(strainRate_2ndInvariant) + 1e-15) \n",
    "\n",
    "mantleRheologyFn =  safe_visc(mantleCreep*yielding/(mantleCreep + yielding), \n",
    "                              viscmin=md.viscosityMin, viscmax=md.viscosityMax)\n",
    "\n",
    "\n",
    "faultViscosityFn = ndp.viscosityFault\n",
    "\n",
    "faultRheologyFn =  faultViscosityFn*(1. - faultDepthTaperFn) +  \\\n",
    "                       faultDepthTaperFn*mantleRheologyFn + faultHorizTaperFn*mantleRheologyFn\n"
   ]
  },
  {
   "cell_type": "code",
   "execution_count": 58,
   "metadata": {
    "collapsed": false,
    "deletable": true,
    "editable": true
   },
   "outputs": [],
   "source": [
    "#viscconds = ((proximityVariable == 0, mantleRheologyFn),\n",
    "#             (True, interfaceViscosityFn ))\n",
    "\n",
    "#viscosityMapFn = fn.branching.conditional(viscconds)\n",
    "#viscosityMapFn = mantleRheologyFn\n",
    "\n",
    "\n",
    "viscosityMapFn = fn.branching.map( fn_key = proximityVariable,\n",
    "                             mapping = {0:mantleRheologyFn,\n",
    "                                        2:faultRheologyFn} )"
   ]
  },
  {
   "cell_type": "code",
   "execution_count": 59,
   "metadata": {
    "collapsed": false,
    "deletable": true,
    "editable": true
   },
   "outputs": [],
   "source": [
    "#fig2 = glucifer.Figure(figsize=(960,300) )\n",
    "#fig2.append( glucifer.objects.Points(swarm, mantleRheologyFn,  logScale=True))\n",
    "#fig.append( glucifer.objects.Surface(mesh, dynamicPressureProxyDepthFn))\n",
    "\n",
    "#fig2.show()"
   ]
  },
  {
   "cell_type": "markdown",
   "metadata": {
    "deletable": true,
    "editable": true
   },
   "source": [
    "## Stokes"
   ]
  },
  {
   "cell_type": "code",
   "execution_count": 60,
   "metadata": {
    "collapsed": false,
    "deletable": true,
    "editable": true
   },
   "outputs": [],
   "source": [
    "surfaceArea = uw.utils.Integral(fn=1.0,mesh=mesh, integrationType='surface', surfaceIndexSet=tWalls)\n",
    "surfacePressureIntegral = uw.utils.Integral(fn=pressureField, mesh=mesh, integrationType='surface', surfaceIndexSet=tWalls)\n",
    "\n",
    "NodePressure = uw.mesh.MeshVariable(mesh, nodeDofCount=1)\n",
    "Cell2Nodes = uw.utils.MeshVariable_Projection(NodePressure, pressureField, type=0)\n",
    "Nodes2Cell = uw.utils.MeshVariable_Projection(pressureField, NodePressure, type=0)\n",
    "\n",
    "def smooth_pressure(mesh):\n",
    "    # Smooths the pressure field.\n",
    "    # Assuming that pressure lies on the submesh, do a cell -> nodes -> cell\n",
    "    # projection.\n",
    "\n",
    "    Cell2Nodes.solve()\n",
    "    Nodes2Cell.solve()\n",
    "\n",
    "# a callback function to calibrate the pressure - will pass to solver later\n",
    "def pressure_calibrate():\n",
    "    (area,) = surfaceArea.evaluate()\n",
    "    (p0,) = surfacePressureIntegral.evaluate()\n",
    "    offset = p0/area\n",
    "    pressureField.data[:] -= offset\n",
    "    smooth_pressure(mesh)"
   ]
  },
  {
   "cell_type": "code",
   "execution_count": 65,
   "metadata": {
    "collapsed": false,
    "deletable": true,
    "editable": true
   },
   "outputs": [],
   "source": [
    "stokes = uw.systems.Stokes( velocityField  = velocityField, \n",
    "                                   pressureField  = pressureField,\n",
    "                                   conditions     = [velBC,],\n",
    "                                   fn_viscosity   = viscosityMapFn, \n",
    "                                   fn_bodyforce   = buoyancyMapFn )\n"
   ]
  },
  {
   "cell_type": "code",
   "execution_count": 66,
   "metadata": {
    "collapsed": false,
    "deletable": true,
    "editable": true
   },
   "outputs": [],
   "source": [
    "solver = uw.systems.Solver(stokes)\n",
    "\n",
    "solver.set_inner_method(\"mumps\")\n",
    "solver.options.scr.ksp_type=\"cg\"\n",
    "solver.set_penalty(1.0e7)\n",
    "solver.options.scr.ksp_rtol = 1.0e-4\n"
   ]
  },
  {
   "cell_type": "code",
   "execution_count": 67,
   "metadata": {
    "collapsed": false,
    "deletable": true,
    "editable": true
   },
   "outputs": [
    {
     "name": "stdout",
     "output_type": "stream",
     "text": [
      "\u001b[1;35m\n",
      " \n",
      "Pressure iterations:   6\n",
      "Velocity iterations:   1 (presolve)      \n",
      "Velocity iterations:  -1 (pressure solve)\n",
      "Velocity iterations:   1 (backsolve)     \n",
      "Velocity iterations:   1 (total solve)   \n",
      " \n",
      "SCR RHS  solve time: 2.7212e-01\n",
      "Pressure solve time: 5.1414e-02\n",
      "Velocity solve time: 2.8294e-01 (backsolve)\n",
      "Total solve time   : 6.6662e-01\n",
      " \n",
      "Velocity solution min/max: 0.0000e+00/0.0000e+00\n",
      "Pressure solution min/max: 0.0000e+00/0.0000e+00\n",
      " \n",
      "\u001b[00m\n"
     ]
    }
   ],
   "source": [
    "solver.solve(nonLinearIterate=True, nonLinearTolerance=md.nltol, callback_post_solve = pressure_calibrate)\n",
    "solver.print_stats()"
   ]
  },
  {
   "cell_type": "code",
   "execution_count": 68,
   "metadata": {
    "collapsed": true,
    "deletable": true,
    "editable": true
   },
   "outputs": [],
   "source": [
    "## Advection - Diffusion"
   ]
  },
  {
   "cell_type": "code",
   "execution_count": 69,
   "metadata": {
    "collapsed": true,
    "deletable": true,
    "editable": true
   },
   "outputs": [],
   "source": [
    "advDiff = uw.systems.AdvectionDiffusion( phiField       = temperatureFn, \n",
    "                                         phiDotField    = temperatureDotField, \n",
    "                                         velocityField  = velocityField,\n",
    "                                         fn_sourceTerm    = 0.0,\n",
    "                                         fn_diffusivity = ndp.refDiffusivity, \n",
    "                                         #conditions     = [neumannTempBC, dirichTempBC] )\n",
    "                                         conditions     = [ dirichTempBC] )"
   ]
  },
  {
   "cell_type": "markdown",
   "metadata": {
    "deletable": true,
    "editable": true
   },
   "source": [
    "## Swarm Advector"
   ]
  },
  {
   "cell_type": "code",
   "execution_count": 70,
   "metadata": {
    "collapsed": true,
    "deletable": true,
    "editable": true
   },
   "outputs": [],
   "source": [
    "advector = uw.systems.SwarmAdvector( swarm=swarm, velocityField=velocityField, order=2 )\n"
   ]
  },
  {
   "cell_type": "code",
   "execution_count": 71,
   "metadata": {
    "collapsed": true,
    "deletable": true,
    "editable": true
   },
   "outputs": [],
   "source": [
    "population_control = uw.swarm.PopulationControl(swarm, deleteThreshold=0.006, \n",
    "                                                splitThreshold=0.25,maxDeletions=1, maxSplits=3, aggressive=True,\n",
    "                                                aggressiveThreshold=0.9, particlesPerCell=int(md.ppc))"
   ]
  },
  {
   "cell_type": "markdown",
   "metadata": {
    "deletable": true,
    "editable": true
   },
   "source": [
    "## Update functions"
   ]
  },
  {
   "cell_type": "code",
   "execution_count": 72,
   "metadata": {
    "collapsed": false,
    "deletable": true,
    "editable": true
   },
   "outputs": [
    {
     "data": {
      "text/plain": [
       "{'(1, 1)': [],\n",
       " '(1, 2)': [],\n",
       " '(2, 3)': [],\n",
       " '(3, 3)': [],\n",
       " 'stepAtSave': [],\n",
       " 'timeAtSave': []}"
      ]
     },
     "execution_count": 72,
     "metadata": {},
     "output_type": "execute_result"
    }
   ],
   "source": [
    "valuesDict = edict({})\n",
    "valuesDict.timeAtSave = []\n",
    "valuesDict.stepAtSave = []\n",
    "for e in tm.undirected.edges():\n",
    "    valuesDict[str(e)] = []\n",
    "valuesDict  "
   ]
  },
  {
   "cell_type": "code",
   "execution_count": 73,
   "metadata": {
    "collapsed": true,
    "deletable": true,
    "editable": true
   },
   "outputs": [],
   "source": [
    "# Here we'll handle everything that should be advected - i.e. every timestep\n",
    "def advect_update(dt):\n",
    "    # Retrieve the maximum possible timestep for the advection system.\n",
    "    #dt = advector.get_max_dt()\n",
    "    # Advect swarm\n",
    "    advector.integrate(dt)\n",
    "    \n",
    "    #Advect faults\n",
    "    for f in fCollection:\n",
    "        f.advection(dt)\n",
    "    \n",
    "    \n",
    "    return time+dt, step+1"
   ]
  },
  {
   "cell_type": "code",
   "execution_count": 74,
   "metadata": {
    "collapsed": true,
    "deletable": true,
    "editable": true
   },
   "outputs": [],
   "source": [
    "def update_stokes(time, viscosityMapFn ):\n",
    "    \n",
    "\n",
    "\n",
    "    \n",
    "    #set velocity / pressure back to zero\n",
    "    #velocityField.data[:] = 0.\n",
    "    #pressureField.data[:] = 0.\n",
    "    \n",
    "    #set the new surface vel, get the velXNodes\n",
    "    vXnodes = set_vel_return_nodes(time, velMaskFn)\n",
    "    \n",
    "    #creat a BC object\n",
    "    velBC = build_velBcs(vXnodes)\n",
    "    \n",
    "    \n",
    "    \n",
    "    #rebuild stokes\n",
    "    stokes = uw.systems.Stokes( velocityField  = velocityField, \n",
    "                                   pressureField  = pressureField,\n",
    "                                   conditions     = [velBC,],\n",
    "                                   fn_viscosity   = viscosityMapFn, \n",
    "                                   fn_bodyforce   = buoyancyMapFn )\n",
    "    return stokes"
   ]
  },
  {
   "cell_type": "code",
   "execution_count": 75,
   "metadata": {
    "collapsed": true,
    "deletable": true,
    "editable": true
   },
   "outputs": [],
   "source": [
    "def rebuild_solver(stokes):\n",
    "    \n",
    "    solver = uw.systems.Solver(stokes)\n",
    "    solver.set_inner_method(\"mumps\")\n",
    "    solver.options.scr.ksp_type=\"cg\"\n",
    "    solver.set_penalty(1.0e7)\n",
    "    solver.options.scr.ksp_rtol = 1.0e-4\n",
    "    \n",
    "    return solver\n"
   ]
  },
  {
   "cell_type": "code",
   "execution_count": 76,
   "metadata": {
    "collapsed": false,
    "deletable": true,
    "editable": true
   },
   "outputs": [],
   "source": [
    "def update_faults():\n",
    "    \n",
    "    \n",
    "    #order is very important here\n",
    "    dummy = remove_fault_drift(fCollection, faultloc)\n",
    "    dummy = pop_or_perish(tm, fCollection, faultMasterSwarm, faultAddFn , ds)\n",
    "    dummy = remove_faults_from_boundaries(tm, fCollection, faultRmfn )\n",
    "    \n",
    "    \n",
    "    for f in fCollection:\n",
    "        \n",
    "        #Remove particles below a specified depth\n",
    "        depthMask = f.swarm.particleCoordinates.data[:,1] <         (1. - md.faultDestroyDepth)\n",
    "        with f.swarm.deform_swarm():\n",
    "            f.swarm.particleCoordinates.data[depthMask] = (9999999., 9999999.)\n",
    "        \n",
    "        #The repair_interface2D routine is supposed to maintain particle density and smooth\n",
    "        repair_interface2D(f, ds, k=8)\n",
    "    \n"
   ]
  },
  {
   "cell_type": "code",
   "execution_count": 77,
   "metadata": {
    "collapsed": false,
    "deletable": true,
    "editable": true
   },
   "outputs": [],
   "source": [
    "def update_swarm():\n",
    "    \n",
    "    population_control.repopulate()\n",
    "    \n",
    "    for f in fCollection:\n",
    "        f.rebuild()\n",
    "        f.set_proximity_director(swarm, proximityVariable, searchFac = 2., locFac=1.0,\n",
    "                                maxDistanceFn=fn.misc.constant(2.))\n",
    "        \n",
    "    #A simple depth cutoff for proximity\n",
    "    depthMask = swarm.particleCoordinates.data[:,1] < (1. - md.faultDestroyDepth)\n",
    "    proximityVariable.data[depthMask] = 0\n",
    "    "
   ]
  },
  {
   "cell_type": "code",
   "execution_count": 78,
   "metadata": {
    "collapsed": false,
    "deletable": true,
    "editable": true
   },
   "outputs": [],
   "source": [
    "outputPath = os.path.join(os.path.abspath(\".\"),\"output/files\")\n",
    "\n",
    "if uw.rank()==0:\n",
    "    if not os.path.exists(outputPath):\n",
    "        os.makedirs(outputPath)\n",
    "uw.barrier()\n",
    "\n",
    "\n",
    "surfacexs = mesh.data[tWalls.data][:,0]\n",
    "surfaceys = mesh.data[tWalls.data][:,1]\n",
    "surfLine = interface2D(mesh, velocityField,surfacexs, surfaceys , 0,  99)\n",
    "surfVx = uw.swarm.SwarmVariable(surfLine.swarm, 'double', 1)\n",
    "\n",
    "def save_files(step):\n",
    "    surfVx.data[:] = velocityField[0].evaluate(surfLine.swarm)\n",
    "    \n",
    "    surfVx.save( \"output/files/surfVx_\" + str(step).zfill(3) + \"_.h5\")"
   ]
  },
  {
   "cell_type": "code",
   "execution_count": 79,
   "metadata": {
    "collapsed": false,
    "deletable": true,
    "editable": true
   },
   "outputs": [],
   "source": [
    "def update_tect_model(tectModel, tmUwMap, time, dt = 0.0 ):\n",
    "    \n",
    "    \"\"\"\n",
    "    An example of how we can update the tect_model\n",
    "    \"\"\"\n",
    "    for e in tectModel.undirected.edges():\n",
    "        \n",
    "        #This is generally the first condition to check\" a specified boundary velocity\n",
    "        if tectModel.bound_has_vel(e, time):\n",
    "            newX = get_boundary_vel_update(tectModel, e, time, dt)\n",
    "            tectModel.set_bound_loc(e, newX)\n",
    "            \n",
    "        #in this model the ficticious boundaries remain fixed at the edge\n",
    "        elif e[0] == e[1]:\n",
    "            pass       \n",
    "        #now we'll apply a strain rate query to update the subduction zone loc\n",
    "        elif tectModel.is_subduction_boundary(e):\n",
    "            e = tectModel.subduction_edge_order(e)\n",
    "            newx = strain_rate_field_update(tectModel, e, tmUwMap, dist = ndimlz(100*ur.kilometer))\n",
    "            tectModel.set_bound_loc(e, newx)\n",
    "        else:\n",
    "            pass\n"
   ]
  },
  {
   "cell_type": "code",
   "execution_count": 80,
   "metadata": {
    "collapsed": false,
    "deletable": true,
    "editable": true
   },
   "outputs": [],
   "source": [
    "#update_tect_model(tm, tmUwMap, 0., dt = 0.1 )"
   ]
  },
  {
   "cell_type": "code",
   "execution_count": 81,
   "metadata": {
    "collapsed": true,
    "deletable": true,
    "editable": true
   },
   "outputs": [],
   "source": [
    "def update_mask_fns():\n",
    "\n",
    "    faultRmfn = tm.t2f(tm.variable_boundary_mask_fn(distMax=1e5, distMin=ndimlz(10*ur.km), relativeWidth = 0.9, \n",
    "                                      minPlateLength =ndimlz(60*ur.km),  \n",
    "                                               out = 'bool', boundtypes='sub' ))\n",
    "\n",
    "    #this one will put particles back into the fault\n",
    "    faultAddFn1 = tm.variable_boundary_mask_fn(distMax=1e6, distMin=ndimlz(10*ur.km), \n",
    "                                           relativeWidth = 0.95, minPlateLength =ndimlz(60*ur.km),  \n",
    "                                               out = 'bool', boundtypes='sub' )\n",
    "\n",
    "    #thsi will keep the fault addition away from the subdcution zone\n",
    "    faultAddFn2 =  tm.t2f(tm.variable_boundary_mask_fn(distMax = ndimlz(150*ur.km), relativeWidth = 0.9 ))\n",
    "\n",
    "    faultAddFn = operator.and_( faultAddFn1 ,  faultAddFn2)\n",
    "\n",
    "\n",
    "\n",
    "\n",
    "    ###The following mask function provide a way of building velocity conditions within the plates,\n",
    "\n",
    "    velMask1 = tm.variable_boundary_mask_fn(distMax=1e6, distMin=0.0, relativeWidth = 0.85, \n",
    "                            minPlateLength =ndimlz(50*ur.km),  out = 'bool', boundtypes='ridge')\n",
    "\n",
    "    velMask2= tm.plate_interior_mask_fn(relativeWidth=0.95, \n",
    "                                            minPlateLength=ndimlz(10*ur.km), invert=False)\n",
    "\n",
    "    velMaskFn = operator.and_( velMask1,  velMask2)\n",
    "\n",
    "    \n",
    "    \n",
    "    #the following dictates where the fault rheology will be activated\n",
    "    subZoneDistfn = tm.subZoneAbsDistFn(upper=True)\n",
    "    \n",
    "    faultHorizTaperFn  = cosine_taper(subZoneDistfn, \n",
    "                                  md.faultViscHorizTaperStart, md.faultViscHorizTaperWidth)\n",
    "    \n",
    "    return faultRmfn, faultAddFn, velMaskFn, faultHorizTaperFn"
   ]
  },
  {
   "cell_type": "code",
   "execution_count": 82,
   "metadata": {
    "collapsed": false,
    "deletable": true,
    "editable": true
   },
   "outputs": [],
   "source": [
    "#ridgeMaskFn, boundMaskFn, velMaskFn = update_mask_fns()"
   ]
  },
  {
   "cell_type": "markdown",
   "metadata": {
    "deletable": true,
    "editable": true
   },
   "source": [
    "## Track the values of the plate bounaries"
   ]
  },
  {
   "cell_type": "code",
   "execution_count": 83,
   "metadata": {
    "collapsed": false,
    "deletable": true,
    "editable": true
   },
   "outputs": [],
   "source": [
    "def update_values():\n",
    "    \n",
    "    \"\"\" \n",
    "    Assumes global variables:\n",
    "    * time\n",
    "    * step \n",
    "    ...\n",
    "    + many functions\n",
    "    \"\"\"\n",
    "    \n",
    "    \n",
    "    #save the time and step\n",
    "    valuesDict.timeAtSave.append(time) \n",
    "    valuesDict.stepAtSave.append(step)\n",
    "    \n",
    "    for e in tm.undirected.edges():\n",
    "        if tm.is_subduction_boundary(e):\n",
    "            ee = tm.subduction_edge_order(e) #hacky workaround for the directed/ undireted. need get_bound_loc\n",
    "        else:\n",
    "            ee = e\n",
    "\n",
    "        valuesDict[str(e)].append(tm.get_bound_loc(ee))\n",
    "        \n",
    "        \n",
    "    #save\n",
    "    if uw.rank()==0:\n",
    "        fullpath = os.path.join(outputPath + \"tect_model_data\")\n",
    "        #the '**' is important\n",
    "        np.savez(fullpath, **valuesDict)\n",
    "    "
   ]
  },
  {
   "cell_type": "code",
   "execution_count": 84,
   "metadata": {
    "collapsed": false,
    "deletable": true,
    "editable": true
   },
   "outputs": [],
   "source": [
    "#valuesDict  \n",
    "#!ls output"
   ]
  },
  {
   "cell_type": "markdown",
   "metadata": {
    "deletable": true,
    "editable": true
   },
   "source": [
    "## Viz"
   ]
  },
  {
   "cell_type": "code",
   "execution_count": 85,
   "metadata": {
    "collapsed": false,
    "deletable": true,
    "editable": true
   },
   "outputs": [],
   "source": [
    "outputPath = os.path.join(os.path.abspath(\".\"),\"output/\")\n",
    "\n",
    "\n",
    "if uw.rank()==0:\n",
    "    if not os.path.exists(outputPath):\n",
    "        os.makedirs(outputPath)\n",
    "uw.barrier()"
   ]
  },
  {
   "cell_type": "code",
   "execution_count": 78,
   "metadata": {
    "collapsed": false,
    "deletable": true,
    "editable": true
   },
   "outputs": [],
   "source": [
    "viscSwarmVar =  swarm.add_variable( dataType=\"double\", count=1 )\n",
    "viscSwarmVar.data[:] = viscosityMapFn.evaluate(swarm)"
   ]
  },
  {
   "cell_type": "code",
   "execution_count": 79,
   "metadata": {
    "collapsed": false,
    "deletable": true,
    "editable": true
   },
   "outputs": [],
   "source": [
    "store1 = glucifer.Store('output/subduction1')\n",
    "store2 = glucifer.Store('output/subduction2')\n",
    "store3 = glucifer.Store('output/subduction3')\n",
    "\n",
    "\n",
    "figTemp = glucifer.Figure(store1, figsize=(960,300) )\n",
    "figTemp.append( glucifer.objects.Surface(mesh, temperatureField, onMesh=True))\n",
    "figTemp.append( glucifer.objects.Contours(mesh, temperatureField, interval=0.2,  colours='Black', colourBar=False))          \n",
    "\n",
    "figVisc = glucifer.Figure( store2, figsize=(960,300) )\n",
    "#figVisc.append( glucifer.objects.Points(swarm, viscosityMapFn, pointSize=2, logScale=True) )\n",
    "figVisc.append( glucifer.objects.Points(swarm,  viscSwarmVar, logScale=True) )\n",
    "\n",
    "\n",
    "\n",
    "figVel = glucifer.Figure( store3, figsize=(960,300) )\n",
    "figVel.append(glucifer.objects.Surface(mesh, fn.math.dot(velocityField, velocityField), onMesh=True))\n",
    "figVel.append( glucifer.objects.VectorArrows(mesh, velocityField, arrowHead=0.2, scaling=1./refVel) )\n",
    "\n",
    "\n",
    "\n",
    "\n",
    "#figMask.append( glucifer.objects.Surface(mesh,  maskFnVar3) )\n",
    "for f in fCollection:\n",
    "    figVel.append( glucifer.objects.Points(f.swarm, pointSize=5))\n",
    "\n"
   ]
  },
  {
   "cell_type": "code",
   "execution_count": 81,
   "metadata": {
    "collapsed": false,
    "deletable": true,
    "editable": true,
    "scrolled": true
   },
   "outputs": [],
   "source": [
    "#figVisc.show()\n",
    "#figVisc.save_database('test.gldb')"
   ]
  },
  {
   "cell_type": "code",
   "execution_count": 44,
   "metadata": {
    "collapsed": false,
    "deletable": true,
    "editable": true
   },
   "outputs": [],
   "source": [
    "#1e-2*2900."
   ]
  },
  {
   "cell_type": "markdown",
   "metadata": {
    "deletable": true,
    "editable": true
   },
   "source": [
    "## Main Loop"
   ]
  },
  {
   "cell_type": "code",
   "execution_count": 132,
   "metadata": {
    "collapsed": false,
    "deletable": true,
    "editable": true
   },
   "outputs": [],
   "source": [
    "time = 0.  # Initial time\n",
    "step = 0 \n",
    "maxSteps = 2000      # Maximum timesteps \n",
    "steps_output = 10   # output every N timesteps\n",
    "swarm_update = 10   # output every N timesteps\n",
    "faults_update = 10\n",
    "dt_model = 0.\n",
    "steps_update_model = 5\n",
    "\n",
    "update_values()"
   ]
  },
  {
   "cell_type": "code",
   "execution_count": 46,
   "metadata": {
    "collapsed": false,
    "deletable": true,
    "editable": true
   },
   "outputs": [],
   "source": []
  },
  {
   "cell_type": "code",
   "execution_count": 47,
   "metadata": {
    "collapsed": false,
    "deletable": true,
    "editable": true
   },
   "outputs": [
    {
     "name": "stdout",
     "output_type": "stream",
     "text": [
      "step =      1; time = 8.138e-06\n",
      "step =      2; time = 1.593e-05\n",
      "step =      3; time = 2.334e-05\n",
      "step =      4; time = 3.055e-05\n",
      "step =      5; time = 3.749e-05\n",
      "step =      6; time = 4.409e-05\n",
      "step =      7; time = 5.039e-05\n",
      "step =      8; time = 5.649e-05\n",
      "step =      9; time = 6.228e-05\n",
      "step =     10; time = 6.781e-05\n",
      "step =     11; time = 7.324e-05\n",
      "step =     12; time = 7.850e-05\n",
      "step =     13; time = 8.339e-05\n",
      "step =     14; time = 8.796e-05\n",
      "step =     15; time = 9.223e-05\n",
      "step =     16; time = 9.622e-05\n",
      "step =     17; time = 1.000e-04\n",
      "step =     18; time = 1.036e-04\n",
      "step =     19; time = 1.070e-04\n",
      "step =     20; time = 1.103e-04\n"
     ]
    }
   ],
   "source": [
    "while time < tm.times[-1] and step < maxSteps:\n",
    "    \n",
    "    # Solve non linear Stokes system\n",
    "    solver.solve(nonLinearIterate=True, nonLinearTolerance=md.nltol, callback_post_solve = pressure_calibrate)\n",
    "    \n",
    "    dt = advDiff.get_max_dt()\n",
    "    advDiff.integrate(dt)\n",
    "    \n",
    "    #advect swarm and faults\n",
    "    time, step =  advect_update(dt)\n",
    "    dt_model += dt\n",
    "    \n",
    "        \n",
    "    #update tectonic model\n",
    "    if step % steps_update_model == 0:\n",
    "        update_tect_model(tm, tmUwMap, time, dt = dt_model)\n",
    "        dt_model = 0.\n",
    "        plate_id_fn = tm.plate_id_fn()\n",
    "        faultRmfn, faultAddFn, velMaskFn, faultHorizTaperFn = update_mask_fns()\n",
    "        \n",
    "        #these need to be explicity updated\n",
    "        faultRheologyFn =  faultViscosityFn*(1. - faultDepthTaperFn) +\\\n",
    "        faultDepthTaperFn*mantleRheologyFn + faultHorizTaperFn*mantleRheologyFn\n",
    "        \n",
    "        viscosityMapFn = fn.branching.map( fn_key = proximityVariable,\n",
    "                             mapping = {0:mantleRheologyFn,\n",
    "                                        2:faultRheologyFn} )\n",
    "        \n",
    "        \n",
    "        \n",
    "    #running fault healing/addition, map back to swarm\n",
    "    if step % faults_update == 0:\n",
    "        update_faults()\n",
    "    if step % swarm_update == 0:\n",
    "        update_swarm()\n",
    "        \n",
    "    #rebuild stokes\n",
    "    if step % steps_update_model == 0:\n",
    "        del solver\n",
    "        del stokes\n",
    "        stokes = update_stokes(time, viscosityMapFn )\n",
    "        solver = rebuild_solver(stokes)\n",
    "        \n",
    "    \n",
    "    # output figure to file at intervals = steps_output\n",
    "    if step % steps_output == 0 or step == maxSteps-1:\n",
    "        \n",
    "        update_values()\n",
    "        \n",
    "        #Important to set the timestep for the store object here or will overwrite previous step\n",
    "        \n",
    "        #also update this guy for viz\n",
    "        viscSwarmVar.data[:] = viscosityMapFn.evaluate(swarm)\n",
    "        \n",
    "        store1.step = step\n",
    "        store2.step = step\n",
    "        store3.step = step\n",
    "        figTemp.save(    outputPath + \"temp\"    + str(step).zfill(4))\n",
    "        figVisc.save(    outputPath + \"visc\"    + str(step).zfill(4))\n",
    "        figVel.save(    outputPath + \"vel\"    + str(step).zfill(4))\n",
    "        \n",
    "        #save out the surface velocity\n",
    "        #save_files(step)\n",
    "    \n",
    "    if uw.rank()==0:\n",
    "        print 'step = {0:6d}; time = {1:.3e}'.format(step,time)\n"
   ]
  },
  {
   "cell_type": "code",
   "execution_count": null,
   "metadata": {
    "collapsed": true,
    "deletable": true,
    "editable": true
   },
   "outputs": [],
   "source": []
  },
  {
   "cell_type": "code",
   "execution_count": null,
   "metadata": {
    "collapsed": true,
    "deletable": true,
    "editable": true
   },
   "outputs": [],
   "source": []
  },
  {
   "cell_type": "code",
   "execution_count": 88,
   "metadata": {
    "collapsed": false,
    "deletable": true,
    "editable": true
   },
   "outputs": [
    {
     "data": {
      "text/plain": [
       "True"
      ]
     },
     "execution_count": 88,
     "metadata": {},
     "output_type": "execute_result"
    }
   ],
   "source": [
    "#tm.is_ridge((3,3))"
   ]
  },
  {
   "cell_type": "code",
   "execution_count": null,
   "metadata": {
    "collapsed": true,
    "deletable": true,
    "editable": true
   },
   "outputs": [],
   "source": []
  }
 ],
 "metadata": {
  "kernelspec": {
   "display_name": "Python 2",
   "language": "python",
   "name": "python2"
  },
  "language_info": {
   "codemirror_mode": {
    "name": "ipython",
    "version": 2
   },
   "file_extension": ".py",
   "mimetype": "text/x-python",
   "name": "python",
   "nbconvert_exporter": "python",
   "pygments_lexer": "ipython2",
   "version": "2.7.9"
  }
 },
 "nbformat": 4,
 "nbformat_minor": 2
}
