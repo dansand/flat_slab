{
 "cells": [
  {
   "cell_type": "markdown",
   "metadata": {
    "collapsed": true,
    "deletable": true,
    "editable": true
   },
   "source": [
    "## Mexican Flat Slab model\n",
    "\n",
    "* Mor-Sz dist at 40 Ma, ~2000 km\n",
    "* Mor-Sz dist at 0 Ma, ~600 km\n",
    "* Mor average Vel ~ 2 cm/y\n",
    "* UP vel ~ 2 cm/y\n",
    "* Sp vel (35 - 10 Ma) ~ 8 cm/y\n",
    "* Sp vel (10 - 0 Ma) ~ 3 cm/y"
   ]
  },
  {
   "cell_type": "code",
   "execution_count": 164,
   "metadata": {
    "collapsed": false,
    "deletable": true,
    "editable": true
   },
   "outputs": [],
   "source": [
    "#22/20."
   ]
  },
  {
   "cell_type": "code",
   "execution_count": 165,
   "metadata": {
    "collapsed": false,
    "deletable": true,
    "editable": true
   },
   "outputs": [],
   "source": [
    "#If run through Docker we'll point at the local 'unsupported dir.'\n",
    "#On hpc, the path should also include a directory holding the unsupported_dan.\n",
    "import sys\n",
    "\n",
    "#this does't actually need to be protected. More a reminder it's an interim measure\n",
    "try:\n",
    "    sys.path.append('../../unsupported')\n",
    "    sys.path.append('../../UWsubduction/')\n",
    "    #use this block to point to a local version of UWsubduction\n",
    "\n",
    "except:\n",
    "    pass"
   ]
  },
  {
   "cell_type": "code",
   "execution_count": 166,
   "metadata": {
    "collapsed": true,
    "deletable": true,
    "editable": true
   },
   "outputs": [],
   "source": [
    "import os\n",
    "\n",
    "import numpy as np\n",
    "import underworld as uw\n",
    "from underworld import function as fn\n",
    "import glucifer\n",
    "from easydict import EasyDict as edict\n",
    "import networkx as nx\n",
    "import operator\n",
    "import pickle\n",
    "import pint\n",
    "import warnings; warnings.simplefilter('ignore')"
   ]
  },
  {
   "cell_type": "code",
   "execution_count": 167,
   "metadata": {
    "collapsed": false,
    "deletable": true,
    "editable": true
   },
   "outputs": [],
   "source": [
    "import UWsubduction as usub\n",
    "import UWsubduction.params as params \n",
    "import UWsubduction.utils as utils\n",
    "from UWsubduction.analysis import eig2d\n",
    "from UWsubduction.utils import checkpoint\n",
    "try:\n",
    "    import unsupported.scaling as sca\n",
    "except:\n",
    "    import unsupported.geodynamics.scaling as sca"
   ]
  },
  {
   "cell_type": "code",
   "execution_count": 168,
   "metadata": {
    "collapsed": false,
    "deletable": true,
    "editable": true
   },
   "outputs": [],
   "source": [
    "#load in parent stuff\n",
    "#%load_ext autoreload\n",
    "#import nb_load_stuff\n",
    "#from tectModelClass import *\n",
    "#from unsupported_dan.UWsubduction.model import *"
   ]
  },
  {
   "cell_type": "code",
   "execution_count": 169,
   "metadata": {
    "collapsed": false,
    "deletable": true,
    "editable": true
   },
   "outputs": [],
   "source": [
    "from unsupported_dan.utilities.interpolation import nn_evaluation"
   ]
  },
  {
   "cell_type": "markdown",
   "metadata": {
    "deletable": true,
    "editable": true
   },
   "source": [
    "## Create output dir structure"
   ]
  },
  {
   "cell_type": "code",
   "execution_count": 170,
   "metadata": {
    "collapsed": false,
    "deletable": true,
    "editable": true
   },
   "outputs": [],
   "source": [
    "############\n",
    "#Model letter and number\n",
    "############\n",
    "\n",
    "\n",
    "#Model letter identifier demarker\n",
    "Model = \"T\"\n",
    "\n",
    "#Model number identifier demarker:\n",
    "ModNum = 0\n",
    "\n",
    "#Any isolated letter / integer command line args are interpreted as Model/ModelNum\n",
    "\n",
    "if len(sys.argv) == 1:\n",
    "    ModNum = ModNum \n",
    "elif sys.argv[1] == '-f': #\n",
    "    ModNum = ModNum \n",
    "else:\n",
    "    for farg in sys.argv[1:]:\n",
    "        if not '=' in farg: #then Assume it's a not a paramter argument\n",
    "            try:\n",
    "                ModNum = int(farg) #try to convert everingthing to a float, else remains string\n",
    "            except ValueError:\n",
    "                Model  = farg\n",
    "                \n",
    "                \n",
    "###########\n",
    "#Standard output directory setup\n",
    "###########\n",
    "\n",
    "outputPath = \"results\" + \"/\" +  str(Model) + \"/\" + str(ModNum) + \"/\" \n",
    "valuesPath = outputPath + 'values/'\n",
    "filePath = outputPath + 'files/'\n",
    "#checkpointPath = outputPath + 'checkpoint/'\n",
    "dbPath = outputPath + 'gldbs/'\n",
    "xdmfPath = outputPath + 'xdmf/'\n",
    "outputFile = 'results_model' + Model + '_' + str(ModNum) + '.dat'\n",
    "\n",
    "if uw.rank()==0:\n",
    "    # make directories if they don't exist\n",
    "    if not os.path.isdir(outputPath):\n",
    "        os.makedirs(outputPath)\n",
    "    if not os.path.isdir(valuesPath):\n",
    "        os.makedirs(valuesPath)\n",
    "    if not os.path.isdir(dbPath):\n",
    "        os.makedirs(dbPath)\n",
    "    if not os.path.isdir(filePath):\n",
    "        os.makedirs(filePath)\n",
    "    if not os.path.isdir(xdmfPath):\n",
    "        os.makedirs(xdmfPath)\n",
    "        \n",
    "uw.barrier() #Barrier here so no procs run the check in the next cell too early"
   ]
  },
  {
   "cell_type": "code",
   "execution_count": 171,
   "metadata": {
    "collapsed": false,
    "deletable": true,
    "editable": true
   },
   "outputs": [
    {
     "name": "stdout",
     "output_type": "stream",
     "text": [
      "restarting from checkpoint 0\n"
     ]
    }
   ],
   "source": [
    "#*************CHECKPOINT-BLOCK**************#\n",
    "\n",
    "#cp = checkpoint(outputPath + 'checkpoint/', loadpath='./results/A/1/checkpoint/10')\n",
    "cp = checkpoint(outputPath + 'checkpoint/')\n",
    "\n",
    "\n",
    "if cp.restart:\n",
    "    print('restarting from checkpoint {}'.format(cp.step()))\n",
    "#*************CHECKPOINT-BLOCK**************#"
   ]
  },
  {
   "cell_type": "markdown",
   "metadata": {
    "collapsed": false,
    "deletable": true,
    "editable": true
   },
   "source": [
    "## Parameters / Scaling\n",
    "\n",
    "* For more information see, `UWsubduction/Background/scaling`\n"
   ]
  },
  {
   "cell_type": "code",
   "execution_count": 172,
   "metadata": {
    "collapsed": false,
    "deletable": true,
    "editable": true
   },
   "outputs": [],
   "source": [
    "u =  sca.UnitRegistry"
   ]
  },
  {
   "cell_type": "code",
   "execution_count": 173,
   "metadata": {
    "collapsed": false,
    "deletable": true,
    "editable": true
   },
   "outputs": [],
   "source": [
    "#pd refers to dimensional paramters\n",
    "pd = edict({})\n",
    "\n",
    "#Main physical paramters (thermal convection parameters)\n",
    "pd.refDensity = 3300.* u.kilogram / u.meter**3                    #reference density\n",
    "pd.refGravity = 9.8* u.metre / u.second**2                        #surface gravity\n",
    "pd.refDiffusivity = 1e-6 *u.metre**2 / u.second                   #thermal diffusivity\n",
    "pd.refExpansivity = 3e-5/u.kelvin                                 #surface thermal expansivity\n",
    "pd.refViscosity = 1e20* u.pascal* u.second\n",
    "pd.refLength = 2900*u.km\n",
    "pd.gasConstant = 8.314*u.joule/(u.mol*u.kelvin)                   #gas constant\n",
    "pd.specificHeat = 1250.4*u.joule/(u.kilogram* u.kelvin)           #Specific heat (Jkg-1K-1)\n",
    "pd.potentialTemp = 1573.*u.kelvin                                 #mantle potential temp (K)\n",
    "pd.surfaceTemp = 273.*u.kelvin                                    #surface temp (K)\n",
    "#these are the shifted temps, which will range from 0 - 1 in the dimensionless system\n",
    "pd.potentialTemp_ = pd.potentialTemp - pd.surfaceTemp\n",
    "pd.surfaceTemp_ = pd.surfaceTemp - pd.surfaceTemp\n",
    "#main rheology parameters\n",
    "pd.cohesionMantle = 20.*u.megapascal                              #mantle cohesion in Byerlee law\n",
    "pd.frictionMantle = u.Quantity(0.1)                                           #mantle friction coefficient in Byerlee law (tan(phi))\n",
    "pd.frictionMantleDepth = pd.frictionMantle*pd.refDensity*pd.refGravity\n",
    "pd.diffusionPreExp = 5.34e-10/u.pascal/u.second                   #pre-exp factor for diffusion creep\n",
    "pd.diffusionEnergy = 3e5*u.joule/(u.mol)\n",
    "pd.diffusionEnergyDepth = 3e5*u.joule/(u.mol*pd.gasConstant)\n",
    "pd.diffusionVolume=5e-6*u.meter**3/(u.mol)\n",
    "pd.diffusionVolumeDepth=5e-6*pd.refDensity.magnitude*pd.refGravity.magnitude*u.joule/(u.mol*pd.gasConstant*u.meter)\n",
    "pd.viscosityFault = 2e19*u.pascal  * u.second\n",
    "pd.adiabaticTempGrad = (pd.refExpansivity*pd.refGravity*pd.potentialTemp)/pd.specificHeat\n",
    "pd.yieldStressMax=200*u.megapascal\n",
    "pd.lowerMantleViscFac = u.Quantity(5.0)\n",
    "\n"
   ]
  },
  {
   "cell_type": "code",
   "execution_count": 174,
   "metadata": {
    "collapsed": false,
    "deletable": true,
    "editable": true
   },
   "outputs": [],
   "source": [
    "#2*0.45"
   ]
  },
  {
   "cell_type": "code",
   "execution_count": 175,
   "metadata": {
    "collapsed": true,
    "deletable": true,
    "editable": true
   },
   "outputs": [],
   "source": [
    "md = edict({})\n",
    "#Model geometry, and misc Lengths used to control behaviour\n",
    "md.depth=1000*u.km                                                #Model Depth\n",
    "md.aspectRatio=5.0\n",
    "#lengths, factors relating to subduction fault behaviour\n",
    "md.faultViscDepthTaperStart = 100*u.km\n",
    "md.faultViscDepthTaperWidth = 30*u.km\n",
    "md.faultViscHorizTaperStart = 150*u.km\n",
    "md.faultViscHorizTaperWidth = 150*u.km\n",
    "md.faultThickness = 10.*u.km\n",
    "md.faultLocFac = 1.                                                #this is the relative location of the fault in terms of the fault thickess from the top of slab\n",
    "md.faultDestroyDepth = 300*u.km\n",
    "md.lowerMantleDepth=660.*u.km\n",
    "md.lowerMantleTransWidth=100.*u.km\n",
    "#Slab and plate init. parameters\n",
    "md.subZoneLoc=-100*u.km                                           #X position of subduction zone...km\n",
    "md.slabInitMaxDepth=150*u.km\n",
    "md.radiusOfCurv = 200.*u.km                                        #radius of curvature\n",
    "md.slabAge=20.*u.megayears                                      #age of subduction plate at trench\n",
    "md.opAgeAtTrench=10.*u.megayears                                        #age of op\n",
    "#numerical and computation params\n",
    "md.res=48\n",
    "md.ppc=25                                                         #particles per cell\n",
    "md.elementType=\"Q1/dQ0\"\n",
    "md.refineHoriz = True\n",
    "md.refineVert = True\n",
    "md.meshRefineFactor = 0.7\n",
    "md.nltol = 0.01\n",
    "md.druckerAlpha = 1.\n",
    "md.penaltyMethod = True\n",
    "md.buoyancyFac = 1.0\n",
    "md.viscosityMin = 1e18* u.pascal * u.second\n",
    "md.viscosityMax = 1e24* u.pascal * u.second\n",
    "#wedge stuff\n",
    "md.wedgeViscosity = 2e20* u.pascal * u.second\n",
    "md.wedgeShallow=45*u.km\n",
    "md.wedgeDeep=150*u.km\n",
    "md.wedgeThickness = 200*u.km\n",
    "md.turnOnWedge = 20*u.megayears\n",
    "md.turnOffVels = False\n",
    "md.checkpointEvery = 100\n",
    "md.restartParams = True #read in saved checkpoint md/pd "
   ]
  },
  {
   "cell_type": "code",
   "execution_count": 176,
   "metadata": {
    "collapsed": false,
    "deletable": true,
    "editable": true
   },
   "outputs": [],
   "source": [
    "#first check for commandLineArgs:\n",
    "\n",
    "sysArgs = sys.argv\n",
    "utils.easy_args(sysArgs, pd)\n",
    "utils.easy_args(sysArgs, md)\n",
    "\n",
    "#mddim = md"
   ]
  },
  {
   "cell_type": "code",
   "execution_count": 177,
   "metadata": {
    "collapsed": false,
    "deletable": true,
    "editable": true,
    "scrolled": true
   },
   "outputs": [],
   "source": [
    "#instead of importing from the params submodule, we'll explicity set the scaling values\n",
    "KL = pd.refLength\n",
    "KT = pd.potentialTemp - pd.surfaceTemp\n",
    "Kt = KL**2/pd.refDiffusivity\n",
    "KM = pd.refViscosity * KL * Kt\n",
    "\n",
    "sca.scaling[\"[length]\"]      = KL.to_base_units()\n",
    "sca.scaling[\"[temperature]\"] = KT.to_base_units()\n",
    "sca.scaling[\"[mass]\"]        = KM.to_base_units()\n",
    "sca.scaling[\"[time]\"] =        Kt.to_base_units()\n",
    "\n",
    "\n",
    "\n",
    "#build the dimensionless paramter / model dictionaries\n",
    "npd = params.build_nondim_dict(pd  , sca)   \n",
    "nmd = params.build_nondim_dict(md  , sca)\n",
    "ur = u #for some reason!\n",
    "ndimlz = sca.nonDimensionalize\n",
    "\n",
    "assert ndimlz(pd.refLength) == 1.0\n",
    "\n",
    "\n",
    "#build dimensional terms, and scaling values\n",
    "#Important to remember the to_base_units conversion here\n",
    "rayleighNumber = ((pd.refExpansivity*pd.refDensity*pd.refGravity*(pd.potentialTemp - pd.surfaceTemp)*pd.refLength**3).to_base_units() \\\n",
    "                  /(pd.refViscosity*pd.refDiffusivity).to_base_units()).magnitude\n",
    "\n",
    "stressScale = ((pd.refDiffusivity*pd.refViscosity)/pd.refLength**2).magnitude\n",
    "pressureDepthGrad = ((pd.refDensity*pd.refGravity*pd.refLength**3).to_base_units()/(pd.refViscosity*pd.refDiffusivity).to_base_units()).magnitude"
   ]
  },
  {
   "cell_type": "code",
   "execution_count": 178,
   "metadata": {
    "collapsed": false,
    "deletable": true,
    "editable": true
   },
   "outputs": [
    {
     "data": {
      "text/plain": [
       "11890606.420927467"
      ]
     },
     "execution_count": 178,
     "metadata": {},
     "output_type": "execute_result"
    }
   ],
   "source": [
    "# changes to base params: (These will keep changing if the notebook is run again without restarting!)\n",
    "#nmd.faultThickness *= 1.5 #15 km\n",
    "#nmd.res = 48\n",
    "#nmd.faultThickness\n",
    "#5*(1.25/2)\n",
    "stressScale"
   ]
  },
  {
   "cell_type": "code",
   "execution_count": 179,
   "metadata": {
    "collapsed": false,
    "deletable": true,
    "editable": true
   },
   "outputs": [],
   "source": [
    "#*************CHECKPOINT-BLOCK**************#\n",
    "\n",
    "\n",
    "pint.set_application_registry(ur) #https://github.com/hgrecco/pint/issues/146\n",
    "\n",
    "#if restart, attempt to read in saved dicts. \n",
    "if cp.restart:\n",
    "    #try:\n",
    "    with open(os.path.join(cp.loadpath, 'pd.pkl'), 'rb') as fp:\n",
    "        pd = pickle.load(fp)\n",
    "    with open(os.path.join(cp.loadpath, 'md.pkl'), 'rb') as fp:\n",
    "        md = pickle.load(fp)\n",
    "        \n",
    "        \n",
    "    npd = params.build_nondim_dict(pd  , sca)   \n",
    "    nmd = params.build_nondim_dict(md  , sca)\n",
    "\n",
    "\n",
    "    \n",
    "#add dicts to the checkpointinng object\n",
    "cp.addDict(pd, 'pd')\n",
    "cp.addDict(md, 'md')\n",
    "#*************CHECKPOINT-BLOCK**************#"
   ]
  },
  {
   "cell_type": "markdown",
   "metadata": {
    "collapsed": true,
    "deletable": true,
    "editable": true
   },
   "source": [
    "## Build / refine mesh, Stokes Variables"
   ]
  },
  {
   "cell_type": "code",
   "execution_count": 180,
   "metadata": {
    "collapsed": false,
    "deletable": true,
    "editable": true
   },
   "outputs": [],
   "source": [
    "#(npd.rightLim - npd.leftLim)/npd.depth\n",
    "#md.res = 64\n",
    "#yres, xres, halfWidth, md.elementType, md.depth\n",
    "#nmd.depth"
   ]
  },
  {
   "cell_type": "code",
   "execution_count": 181,
   "metadata": {
    "collapsed": false,
    "deletable": true,
    "editable": true
   },
   "outputs": [],
   "source": [
    "yres = int(nmd.res)\n",
    "xres = int(nmd.res*6) \n",
    "\n",
    "halfWidth = 0.5*nmd.depth*nmd.aspectRatio \n",
    "\n",
    "minCoord_    = (-1.*halfWidth, 1. - nmd.depth) \n",
    "maxCoord_    = (halfWidth, 1.)\n",
    "\n",
    "mesh = uw.mesh.FeMesh_Cartesian( elementType = (md.elementType),\n",
    "                                 elementRes  = (xres, yres), \n",
    "                                 minCoord    = minCoord_, \n",
    "                                 maxCoord    = maxCoord_) \n",
    "\n",
    "velocityField = uw.mesh.MeshVariable( mesh=mesh,         nodeDofCount=2)\n",
    "pressureField   = uw.mesh.MeshVariable( mesh=mesh.subMesh, nodeDofCount=1 )\n",
    "temperatureField    = uw.mesh.MeshVariable( mesh=mesh,         nodeDofCount=1 )\n",
    "temperatureDotField = uw.mesh.MeshVariable( mesh=mesh,         nodeDofCount=1 ) \n",
    "    \n",
    "\n",
    "velocityField.data[:] = 0.\n",
    "pressureField.data[:] = 0.\n",
    "temperatureField.data[:] = 0.\n",
    "temperatureDotField.data[:] = 0."
   ]
  },
  {
   "cell_type": "code",
   "execution_count": 182,
   "metadata": {
    "collapsed": true,
    "deletable": true,
    "editable": true
   },
   "outputs": [],
   "source": [
    "#mesh.reset() #call to reset mesh nodes to original locations\n",
    "\n",
    "if nmd.refineHoriz:\n",
    "    \n",
    "    with mesh.deform_mesh():\n",
    "        \n",
    "        normXs = 2.*mesh.data[:,0]/(mesh.maxCoord[0] - mesh.minCoord[0])\n",
    "        mesh.data[:,0] = mesh.data[:,0] * np.exp(nmd.meshRefineFactor*normXs**2) / np.exp(nmd.meshRefineFactor*1.0**2)    \n",
    "    \n",
    "if nmd.refineVert:\n",
    "\n",
    "    with mesh.deform_mesh():\n",
    "        \n",
    "        mesh.data[:,1] = mesh.data[:,1] - 1.0\n",
    "\n",
    "        normYs = -1.*mesh.data[:,1]/(mesh.maxCoord[1] - mesh.minCoord[1])\n",
    "        mesh.data[:,1] = mesh.data[:,1] * np.exp(nmd.meshRefineFactor*normYs**2)/np.exp(nmd.meshRefineFactor*1.0**2)\n",
    "\n",
    "        mesh.data[:,1] = mesh.data[:,1] + 1.0\n"
   ]
  },
  {
   "cell_type": "code",
   "execution_count": null,
   "metadata": {
    "collapsed": true,
    "deletable": true,
    "editable": true
   },
   "outputs": [],
   "source": []
  },
  {
   "cell_type": "code",
   "execution_count": 183,
   "metadata": {
    "collapsed": true,
    "deletable": true,
    "editable": true
   },
   "outputs": [],
   "source": [
    "#*************CHECKPOINT-BLOCK**************#\n",
    "cp.addObject(velocityField,'velocityField')\n",
    "cp.addObject(pressureField,'pressureField')\n",
    "cp.addObject(temperatureField,'temperatureField')\n",
    "cp.addObject(temperatureDotField,'temperatureDotField')\n",
    "    \n",
    "if cp.restart:\n",
    "    velocityField.load(cp.loadpath + '/velocityField.h5')\n",
    "    pressureField.load(cp.loadpath + '/pressureField.h5')\n",
    "    temperatureField.load(cp.loadpath + '/temperatureField.h5')\n",
    "    temperatureDotField.load(cp.loadpath + '/temperatureDotField.h5')\n",
    "#*************CHECKPOINT-BLOCK**************#"
   ]
  },
  {
   "cell_type": "code",
   "execution_count": null,
   "metadata": {
    "collapsed": true,
    "deletable": true,
    "editable": true
   },
   "outputs": [],
   "source": []
  },
  {
   "cell_type": "markdown",
   "metadata": {
    "deletable": true,
    "editable": true
   },
   "source": [
    "## Build plate model"
   ]
  },
  {
   "cell_type": "code",
   "execution_count": null,
   "metadata": {
    "collapsed": true,
    "deletable": true,
    "editable": true
   },
   "outputs": [],
   "source": []
  },
  {
   "cell_type": "code",
   "execution_count": 184,
   "metadata": {
    "collapsed": true,
    "deletable": true,
    "editable": true
   },
   "outputs": [],
   "source": [
    "endTime = ndimlz(35*ur.megayear) \n",
    "refVel = ndimlz(2*ur.cm/ur.year)\n",
    "plateModelDt = ndimlz(0.1*ur.megayear)"
   ]
  },
  {
   "cell_type": "code",
   "execution_count": 185,
   "metadata": {
    "collapsed": true,
    "deletable": true,
    "editable": true
   },
   "outputs": [],
   "source": [
    "#location of plate boundaries\n",
    "\n",
    "ridgeLoc = -0.6\n",
    "subLoc = ridgeLoc  + ndimlz(1800.*ur.kilometer)\n",
    "\n",
    "#velocities of the plates (1 - 3) as well as the plate boundary (1,2)\n",
    "vp1= ndimlz(0.*ur.centimeter/ur.year )\n",
    "\n",
    "vp3start= ndimlz(-2.*ur.centimeter/ur.year )\n",
    "vp3end= ndimlz(-2.*ur.centimeter/ur.year )\n",
    "\n",
    "vb12= ndimlz(2.*ur.centimeter/ur.year )\n",
    "\n",
    "\n",
    "vp2start= ndimlz(9.*ur.centimeter/ur.year )\n",
    "vp2end= ndimlz(3.*ur.centimeter/ur.year )\n",
    "\n"
   ]
  },
  {
   "cell_type": "code",
   "execution_count": 186,
   "metadata": {
    "collapsed": false,
    "deletable": true,
    "editable": true
   },
   "outputs": [],
   "source": [
    "#build tectonic model\n",
    "tm = usub.TectonicModel(mesh, 0, endTime, plateModelDt)\n",
    "velsP2 = np.linspace(vp2start, vp2end, len(tm.times))\n",
    "velsP3 = np.linspace(vp3start, vp3end, len(tm.times))\n",
    "\n",
    "#add plates\n",
    "tm.add_plate(1, velocities=vp1)\n",
    "#tm.add_plate(2, velocities=vp2start)\n",
    "tm.add_plate(2, velocities=velsP2)\n",
    "tm.add_plate(3, velocities=velsP3)\n",
    "\n",
    "\n",
    "#*************CHECKPOINT-BLOCK**************#\n",
    "if not cp.restart:\n",
    "    \n",
    "\n",
    "    if nmd.turnOffVels:\n",
    "        ix_ = np.argmin(np.abs(tm.times - nmd.turnOnWedge))\n",
    "        tm.node[2]['velocities'][ix_:] = np.nan\n",
    "\n",
    "    #add plate boundaries \n",
    "    tm.add_left_boundary(1, plateInitAge=nmd.slabAge/3., velocities=False)\n",
    "    tm.add_ridge(1,2, ridgeLoc, velocities=vb12)\n",
    "    tm.add_subzone(2, 3, subLoc, subInitAge=nmd.slabAge, upperInitAge=nmd.opAgeAtTrench)\n",
    "    tm.add_right_boundary(3, plateInitAge=0.0, velocities=False)\n",
    "\n",
    "\n",
    "#if restart, read in saved dictionary with updated info.\n",
    "else:\n",
    "    with open(os.path.join(cp.loadpath, 'tmDict.pkl'), 'rb') as fp:\n",
    "                            _tmDict = pickle.load(fp)\n",
    "    \n",
    "    tm.pop_from_dict_of_lists(_tmDict)\n",
    "            \n",
    "\n",
    "#now create the tmDict dictionary and add to the checkpoint object\n",
    "#tmDict should remain updated as we update the tm\n",
    "tmDict = nx.to_dict_of_dicts(tm)\n",
    "cp.addDict(tmDict, 'tmDict')\n",
    "#*************CHECKPOINT-BLOCK**************#"
   ]
  },
  {
   "cell_type": "code",
   "execution_count": 187,
   "metadata": {
    "collapsed": false,
    "deletable": true,
    "editable": true
   },
   "outputs": [],
   "source": [
    "#tmDict = nx.to_dict_of_dicts(tm)\n",
    "#tmDict[1].keys()\n"
   ]
  },
  {
   "cell_type": "code",
   "execution_count": null,
   "metadata": {
    "collapsed": false,
    "deletable": true,
    "editable": true
   },
   "outputs": [],
   "source": []
  },
  {
   "cell_type": "code",
   "execution_count": 188,
   "metadata": {
    "collapsed": false,
    "deletable": true,
    "editable": true
   },
   "outputs": [],
   "source": [
    "#tm2 = usub.TectonicModel(mesh, 0, endTime, plateModelDt)#\n",
    "#with open(os.path.join(cp.loadpath, 'tmDict.pkl'), 'rb') as fp:\n",
    "#                            _tmDict = pickle.load(fp)\n",
    "#tm2.pop_from_dict_of_lists(_tmDict)\n",
    "#tm2.node = tm.node"
   ]
  },
  {
   "cell_type": "markdown",
   "metadata": {
    "deletable": true,
    "editable": true
   },
   "source": [
    "## Build plate age / temperature Fns"
   ]
  },
  {
   "cell_type": "code",
   "execution_count": 189,
   "metadata": {
    "collapsed": false,
    "deletable": true,
    "editable": true
   },
   "outputs": [],
   "source": [
    "pIdFn = tm.plate_id_fn()\n",
    "pAgeDict = tm.plate_age_fn() \n",
    "\n",
    "fnAge_map = fn.branching.map(fn_key = pIdFn , \n",
    "                          mapping = pAgeDict )\n",
    "\n",
    "#fig = glucifer.Figure(figsize=(600, 300))\n",
    "#fig.append( glucifer.objects.Surface(tm.mesh, fnAge_map ))\n",
    "#fig.show()"
   ]
  },
  {
   "cell_type": "code",
   "execution_count": 190,
   "metadata": {
    "collapsed": false,
    "deletable": true,
    "editable": true
   },
   "outputs": [],
   "source": [
    "coordinate = fn.input()\n",
    "depthFn = mesh.maxCoord[1] - coordinate[1]\n",
    "\n",
    "platethickness = 2.32*fn.math.sqrt(1.*fnAge_map )  \n",
    "\n",
    "halfSpaceTemp = npd.potentialTemp_*fn.math.erf((depthFn)/(2.*fn.math.sqrt(1.*fnAge_map)))\n",
    "\n",
    "plateTempProxFn = fn.branching.conditional( ((depthFn > platethickness, npd.potentialTemp_ ), \n",
    "                                           (True,                      halfSpaceTemp)  ))\n",
    "\n"
   ]
  },
  {
   "cell_type": "code",
   "execution_count": 191,
   "metadata": {
    "collapsed": false,
    "deletable": true,
    "editable": true
   },
   "outputs": [],
   "source": [
    "#np.math.sqrt(25.)/np.math.sqrt(15.)"
   ]
  },
  {
   "cell_type": "code",
   "execution_count": 192,
   "metadata": {
    "collapsed": false,
    "deletable": true,
    "editable": true
   },
   "outputs": [],
   "source": [
    "#fig = glucifer.Figure(figsize=(600, 300))\n",
    "#fig.append( glucifer.objects.Surface(tm.mesh, plateTempProxFn, onMesh = True))\n",
    "#fig.show()"
   ]
  },
  {
   "cell_type": "markdown",
   "metadata": {
    "deletable": true,
    "editable": true
   },
   "source": [
    "## Make swarm and Swarm Vars"
   ]
  },
  {
   "cell_type": "code",
   "execution_count": 193,
   "metadata": {
    "collapsed": true,
    "deletable": true,
    "editable": true
   },
   "outputs": [],
   "source": [
    "#swarm = uw.swarm.Swarm(mesh=mesh, particleEscape=True)\n",
    "#cp.addObject(swarm,'swarm')\n",
    "#layout = uw.swarm.layouts.PerCellRandomLayout(swarm=swarm, particlesPerCell=int(nmd.ppc))\n",
    "#swarm.populate_using_layout( layout=layout ) # Now use it to populate."
   ]
  },
  {
   "cell_type": "code",
   "execution_count": 194,
   "metadata": {
    "collapsed": false,
    "deletable": true,
    "editable": true
   },
   "outputs": [],
   "source": [
    "#*************CHECKPOINT-BLOCK**************#\n",
    "\n",
    "swarm = uw.swarm.Swarm(mesh=mesh, particleEscape=True)\n",
    "cp.addObject(swarm,'swarm')\n",
    "\n",
    "proximityVariable      = swarm.add_variable( dataType=\"int\", count=1 )\n",
    "cp.addObject(proximityVariable,'proximityVariable')\n",
    "\n",
    "proxyTempVariable = swarm.add_variable( dataType=\"double\", count=1 )\n",
    "cp.addObject(proxyTempVariable,'proxyTempVariable')\n",
    "\n",
    "\n",
    "\n",
    "if cp.restart:\n",
    "    swarm.load(cp.loadpath + '/swarm.h5')\n",
    "    proximityVariable.load(cp.loadpath + '/proximityVariable.h5')\n",
    "    proxyTempVariable.load(cp.loadpath + '/proxyTempVariable.h5')   \n",
    "\n",
    "\n",
    "else:\n",
    "    layout = uw.swarm.layouts.PerCellRandomLayout(swarm=swarm, particlesPerCell=int(nmd.ppc))\n",
    "    swarm.populate_using_layout( layout=layout ) # Now use it to populate.\n",
    "    \n",
    "    proximityVariable.data[:] = 0\n",
    "    proxyTempVariable.data[:] = 1.0 #note 1!!!\n",
    "\n",
    "#*************CHECKPOINT-BLOCK**************#\n",
    "\n",
    "#these guys don't need checkpointing\n",
    "signedDistanceVariable = swarm.add_variable( dataType=\"double\", count=1 )\n",
    "wedgeVariable = swarm.add_variable( dataType=\"int\", count=1 )\n",
    "signedDistanceVariable.data[:] = 0.0\n",
    "wedgeVariable.data[:] = 0\n"
   ]
  },
  {
   "cell_type": "markdown",
   "metadata": {
    "deletable": true,
    "editable": true
   },
   "source": [
    "## Create tmUwMap"
   ]
  },
  {
   "cell_type": "code",
   "execution_count": 195,
   "metadata": {
    "collapsed": false,
    "deletable": true,
    "editable": true
   },
   "outputs": [],
   "source": [
    "#Now we have built are primary FEM / Swarm objects, we collect some of these in a dictionary,\n",
    "#to provide a consistent form to pass to methods of TectModel\n",
    "\n",
    "tmUwMap = usub.tm_uw_map([], velocityField, swarm, \n",
    "                    signedDistanceVariable, proxyTempVariable, proximityVariable)"
   ]
  },
  {
   "cell_type": "markdown",
   "metadata": {
    "deletable": true,
    "editable": true
   },
   "source": [
    "## Make slab perturbation and subduction interface\n",
    "\n",
    "* For more information see, `UWsubduction/Background/interface2D`"
   ]
  },
  {
   "cell_type": "code",
   "execution_count": 196,
   "metadata": {
    "collapsed": true,
    "deletable": true,
    "editable": true
   },
   "outputs": [],
   "source": [
    "def circGradientFn(S):\n",
    "    if S == 0.:\n",
    "        return 0.\n",
    "    elif S < nmd.radiusOfCurv:\n",
    "        return max(-S/np.sqrt((nmd.radiusOfCurv**2 - S**2)), -1e3)\n",
    "    else:\n",
    "        return -1e5\n",
    "    \n",
    "    \n",
    "def circGradientFn2(S):\n",
    "    if S == 0.:\n",
    "        return 0.\n",
    "    elif S < 1.*nmd.radiusOfCurv:\n",
    "        return max(-S/np.sqrt((nmd.radiusOfCurv**2 - S**2)), -3.)\n",
    "    else:\n",
    "        return -3.\n",
    "\n",
    "def circGradientFn3(S):\n",
    "    if S < 1.*nmd.radiusOfCurv:\n",
    "        return circGradientFn2(S)\n",
    "    else:\n",
    "        return min(circGradientFn2(2.6*nmd.radiusOfCurv - S), -0.1)\n",
    "    "
   ]
  },
  {
   "cell_type": "code",
   "execution_count": 197,
   "metadata": {
    "collapsed": false,
    "deletable": true,
    "editable": true
   },
   "outputs": [],
   "source": [
    "#define fault particle spacing\n",
    "ds = (tm.maxX - tm.minX)/(8.*tm.mesh.elementRes[0])\n",
    "fCollection = usub.interface_collection([])\n",
    "\n",
    "\n",
    "#*************CHECKPOINT-BLOCK**************#\n",
    "\n",
    "if not cp.restart:\n",
    "    for e in tm.undirected.edges():\n",
    "        if tm.is_subduction_boundary(e):\n",
    "            usub.build_slab_distance(tm, e, circGradientFn3, nmd.slabInitMaxDepth, tmUwMap)\n",
    "            sub_interface = usub.build_fault(tm, e, circGradientFn3, nmd.faultThickness , \n",
    "                                  nmd.slabInitMaxDepth, ds, nmd.faultThickness, tmUwMap)\n",
    "            cp.addObject(sub_interface.swarm, 'f_' + str(sub_interface.ID))\n",
    "            fCollection.append(sub_interface)\n",
    "\n",
    "    #\n",
    "    usub.build_slab_temp(tmUwMap, npd.potentialTemp_, nmd.slabAge)\n",
    "    fnJointTemp = fn.misc.min(proxyTempVariable,plateTempProxFn)\n",
    "\n",
    "    #And now reevaluate this guy on the swarm\n",
    "    proxyTempVariable.data[:] = fnJointTemp.evaluate(swarm)\n",
    "\n",
    "else:\n",
    "    for e in tm.undirected.edges():\n",
    "        if tm.is_subduction_boundary(e):\n",
    "            spId = tm.subduction_edge_order((e[0], e[1]))[0] \n",
    "            plateBounds = np.sort(tm.get_boundaries(spId))\n",
    "            #this fallows the pattern of usub.build_fault, but the inside point routine is pretty bad \n",
    "            insidePt = (np.array(plateBounds).mean(), 1 - nmd.slabInitMaxDepth*5) \n",
    "            sub_interface = usub.interface2D(tm.mesh, tmUwMap.velField, [], [],\n",
    "                        nmd.faultThickness , spId, insidePt=insidePt)\n",
    "            sub_interface.swarm.load(cp.loadpath + '/f_' + str(sub_interface.ID) + '.h5' )\n",
    "            cp.addObject(sub_interface.swarm, 'f_' + str(sub_interface.ID))\n",
    "            fCollection.append(sub_interface)\n",
    "\n",
    "#*************CHECKPOINT-BLOCK**************#\n"
   ]
  },
  {
   "cell_type": "code",
   "execution_count": 198,
   "metadata": {
    "collapsed": false,
    "deletable": true,
    "editable": true
   },
   "outputs": [],
   "source": [
    "#fig = glucifer.Figure(figsize=(600, 300))\n",
    "#fig.append( glucifer.objects.Points(swarm, proxyTempVariable))\n",
    "#fig.append( glucifer.objects.Points(fb.swarm))\n",
    "#fig.show()\n",
    "#fig.save_database('test.gldb')"
   ]
  },
  {
   "cell_type": "markdown",
   "metadata": {
    "deletable": true,
    "editable": true
   },
   "source": [
    "##  Define subduction fault evolution (rebuild/destroy)\n",
    "\n",
    "\n",
    "In this section we setup some functions to help manage the spatial distribution of the subduction interface"
   ]
  },
  {
   "cell_type": "code",
   "execution_count": 199,
   "metadata": {
    "collapsed": false,
    "deletable": true,
    "editable": true
   },
   "outputs": [],
   "source": [
    "# Setup a swarm to define the replacment positions\n",
    "\n",
    "fThick= fCollection[0].thickness\n",
    "\n",
    "faultloc = 1. - nmd.faultThickness*nmd.faultLocFac\n",
    "\n",
    "allxs = np.arange(mesh.minCoord[0], mesh.maxCoord[0], ds )[:-1]\n",
    "allys = (mesh.maxCoord[1] - fThick)*np.ones(allxs.shape)\n",
    "\n",
    "faultMasterSwarm = uw.swarm.Swarm( mesh=mesh )\n",
    "dummy =  faultMasterSwarm.add_particles_with_coordinates(np.column_stack((allxs, allys)))\n",
    "del allxs\n",
    "del allys\n",
    "\n",
    "\n",
    "\n",
    "##What are we doing here??\n",
    "\n",
    "#this will be used to actively remove any fault particles around the ridge\n",
    "faultRmfn = tm.variable_boundary_mask_fn(distMax = ndimlz(100*ur.km),\n",
    "                                           distMin = ndimlz(20*ur.km), \n",
    "                                           relativeWidth = 0.1,\n",
    "                                           boundtypes='ridge')\n",
    "\n",
    "\n",
    "\n",
    "#this don;t need to mask the fault addition at all, let the removal do the work\n",
    "#faultAddFn =  faultRmfn \n",
    "faultAddFn =  fn.misc.constant(True)\n",
    "\n",
    "###The following mask function provide a way of building velocity conditions within the plates,\n",
    "#This removes the regions around the ridges from the velocity nodes\n",
    "velMask1 = tm.t2f(tm.ridge_mask_fn(dist=ndimlz(25*ur.km)))\n",
    "#This removes the regions around the subduction from the velocity nodes\n",
    "velMask2= tm.t2f(tm.subduction_mask_fn(dist=nmd.faultViscHorizTaperStart))\n",
    "#combine\n",
    "velMaskFn = operator.and_( velMask1,  velMask2)\n",
    "\n",
    "\n",
    "dummy = usub.remove_fault_drift(fCollection, faultloc)\n",
    "dummy = usub.pop_or_perish(tm, fCollection, faultMasterSwarm, faultAddFn , ds)\n",
    "dummy = usub.remove_faults_from_boundaries(tm, fCollection, faultRmfn )\n"
   ]
  },
  {
   "cell_type": "code",
   "execution_count": 200,
   "metadata": {
    "collapsed": false,
    "deletable": true,
    "editable": true
   },
   "outputs": [],
   "source": [
    "#fig = glucifer.Figure(figsize=(600, 300))\n",
    "#fig.append( glucifer.objects.Surface(tm.mesh, velMaskFn, onMesh=True))\n",
    "#for s in boundSwarmList:\n",
    "##    fig.append( glucifer.objects.Points(s, pointSize=5))\n",
    "#fig.show()\n",
    "#fig.save_database('test.gldb')"
   ]
  },
  {
   "cell_type": "markdown",
   "metadata": {
    "collapsed": false,
    "deletable": true,
    "editable": true
   },
   "source": [
    "## Proximity\n",
    "\n"
   ]
  },
  {
   "cell_type": "code",
   "execution_count": 201,
   "metadata": {
    "collapsed": true,
    "deletable": true,
    "editable": true
   },
   "outputs": [],
   "source": [
    "for f in fCollection:\n",
    "    f.rebuild()\n",
    "    f.set_proximity_director(swarm, proximityVariable, searchFac = 2., locFac=1.0,\n",
    "                                maxDistanceFn=fn.misc.constant(2.))"
   ]
  },
  {
   "cell_type": "code",
   "execution_count": 202,
   "metadata": {
    "collapsed": true,
    "deletable": true,
    "editable": true
   },
   "outputs": [],
   "source": [
    "#update_faults() "
   ]
  },
  {
   "cell_type": "code",
   "execution_count": 203,
   "metadata": {
    "collapsed": false,
    "deletable": true,
    "editable": true
   },
   "outputs": [],
   "source": [
    "#figProx = glucifer.Figure(figsize=(960,300) )\n",
    "#figProx.append( glucifer.objects.Points(swarm , proximityVariable))\n",
    "#figProx.append( glucifer.objects.Surface(mesh, velMaskFn))\n",
    "\n",
    "#for f in fCollection:\n",
    "#    figProx.append( glucifer.objects.Points(f.swarm, pointSize=5))\n",
    "#figProx.show()\n",
    "\n",
    "\n",
    "#figProx.save_database('test.gldb')"
   ]
  },
  {
   "cell_type": "code",
   "execution_count": 204,
   "metadata": {
    "collapsed": false,
    "deletable": true,
    "editable": true
   },
   "outputs": [],
   "source": [
    "#testMM = fn.view.min_max(uw.function.input(f.swarm.particleCoordinates))\n",
    "#dummyFn = testMM.evaluate(tWalls)"
   ]
  },
  {
   "cell_type": "markdown",
   "metadata": {
    "deletable": true,
    "editable": true
   },
   "source": [
    "## Define Wedge region"
   ]
  },
  {
   "cell_type": "code",
   "execution_count": null,
   "metadata": {
    "collapsed": true,
    "deletable": true,
    "editable": true
   },
   "outputs": [],
   "source": []
  },
  {
   "cell_type": "code",
   "execution_count": 205,
   "metadata": {
    "collapsed": false,
    "deletable": true,
    "editable": true
   },
   "outputs": [],
   "source": [
    "#fCollection[0].rebuild()"
   ]
  },
  {
   "cell_type": "code",
   "execution_count": 206,
   "metadata": {
    "collapsed": false,
    "deletable": true,
    "editable": true
   },
   "outputs": [],
   "source": [
    "\n",
    "def build_wedge_region():\n",
    "    \n",
    "    #reset this every time\n",
    "    wedgeVariable.data[:] = 0\n",
    "\n",
    "    sd, pts0 = fCollection[0].compute_signed_distance(swarm.particleCoordinates.data, 10.)\n",
    "\n",
    "    #1./ndimlz(1*ur.megayear)\n",
    "    wedgeVariable.data[np.logical_and(sd<(-1.*nmd.faultThickness),sd>-1.*nmd.wedgeThickness)] = 1\n",
    "    mask = np.where(np.logical_or((1. - swarm.particleCoordinates.data[:,1]) < nmd.wedgeShallow, \n",
    "                                    (1. - swarm.particleCoordinates.data[:,1]) > nmd.wedgeDeep)) [0] \n",
    "    wedgeVariable.data[mask] = 0\n",
    "\n",
    "    #And outside of the x lim\n",
    "    #mask2 = fCollection[0].swarm.particleCoordinates.data[:,1] > (1. - nmd.wedgeDeep)\n",
    "    #if mask2.sum():\n",
    "    #    maxXWedge = np.max(fCollection[0].swarm.particleCoordinates.data[:,0][mask2]) + 2*ds\n",
    "    #else:\n",
    "    #    maxXWedge = mesh.maxCoord[0]\n",
    "    \n",
    "    #nmd.faultThickness, nmd.wedgeThickness\n",
    "    \n",
    "    #this relies on using the max fault depth as the max wedge depth.\n",
    "    minmax_coordx = fn.view.min_max(fn.coord()[0])\n",
    "    ignore = minmax_coordx.evaluate(fCollection[0].swarm)\n",
    "    leftExt = minmax_coordx.min_global()\n",
    "    rightExt = minmax_coordx.max_global()\n",
    "  \n",
    "    mask3 = swarm.particleCoordinates.data[:,0] > rightExt\n",
    "\n",
    "    if mask3.sum():\n",
    "        wedgeVariable.data[mask3 ] = 0"
   ]
  },
  {
   "cell_type": "code",
   "execution_count": 207,
   "metadata": {
    "collapsed": false,
    "deletable": true,
    "editable": true
   },
   "outputs": [],
   "source": [
    "#build this guy here so it has contains both 0s and 1s - \n",
    "#otherwise the mappign dictionary may fail\n",
    "\n",
    "build_wedge_region()"
   ]
  },
  {
   "cell_type": "code",
   "execution_count": 208,
   "metadata": {
    "collapsed": false,
    "deletable": true,
    "editable": true
   },
   "outputs": [],
   "source": [
    "#figProx = glucifer.Figure(figsize=(960,300) )\n",
    "#figProx.append( glucifer.objects.Points(swarm ,wedgeVariable))\n",
    "#for f in fCollection:\n",
    "#    figProx.append( glucifer.objects.Points(f.swarm))\n",
    "\n",
    "#figProx.show()"
   ]
  },
  {
   "cell_type": "markdown",
   "metadata": {
    "deletable": true,
    "editable": true
   },
   "source": [
    "## Prescribed velocity"
   ]
  },
  {
   "cell_type": "code",
   "execution_count": 209,
   "metadata": {
    "collapsed": false,
    "deletable": true,
    "editable": true
   },
   "outputs": [],
   "source": [
    "#tm[4]"
   ]
  },
  {
   "cell_type": "code",
   "execution_count": 210,
   "metadata": {
    "collapsed": true,
    "deletable": true,
    "editable": true
   },
   "outputs": [],
   "source": [
    "def set_vel_return_nodes(time, maskFn):\n",
    "    \n",
    "    \"\"\"\n",
    "    globals:\n",
    "    velocityField\n",
    "    \n",
    "    \"\"\"\n",
    "    \n",
    "    nodes = tm.plate_vel_node_fn(time, maskFn = maskFn)\n",
    "    \n",
    "    #4 parallel safety\n",
    "    if not nodes.shape[0]:\n",
    "        return np.array([])\n",
    "        \n",
    "    pIdFn = tm.plate_id_fn()\n",
    "    #velMapFn = tm.plateVelFn(testTime, pIdFn)\n",
    "    velMapFn = tm.plateVelFn(time, pIdFn)\n",
    "    locs = tm.mesh.data[nodes]\n",
    "\n",
    "    #Now set the veolcity on the nodes\n",
    "    velocityField.data[nodes, 0] = velMapFn.evaluate(locs)[:,0]\n",
    "    return nodes\n",
    "    "
   ]
  },
  {
   "cell_type": "code",
   "execution_count": 211,
   "metadata": {
    "collapsed": false,
    "deletable": true,
    "editable": true
   },
   "outputs": [],
   "source": [
    "#note cp.time() !!!\n",
    "\n",
    "vXnodes = set_vel_return_nodes(cp.time(), velMaskFn)"
   ]
  },
  {
   "cell_type": "code",
   "execution_count": 212,
   "metadata": {
    "collapsed": false,
    "deletable": true,
    "editable": true
   },
   "outputs": [],
   "source": [
    "#np.empty(0), \n",
    "#test = tm.mesh.specialSets['MaxJ_VertexSet']data.shape"
   ]
  },
  {
   "cell_type": "code",
   "execution_count": 213,
   "metadata": {
    "collapsed": false,
    "deletable": true,
    "editable": true
   },
   "outputs": [],
   "source": [
    "#check\n",
    "#%pylab inline\n",
    "#tWalls = tm.mesh.specialSets['MaxJ_VertexSet']\n",
    "\n",
    "\n",
    "#fig, ax = plt.subplots(figsize=(10, 2))\n",
    "#plt.plot(mesh.data[tWalls.data][:,0], velocityField.data[tWalls.data][:,0])#\n",
    "#plt.scatter(mesh.data[vXnodes ][:,0], np.zeros(len(mesh.data[vXnodes ][:,0])), s = 0.5, c = 'k')\n",
    "#ax.hlines(500, tm.minX, tm.maxX, linestyles='--')"
   ]
  },
  {
   "cell_type": "markdown",
   "metadata": {
    "deletable": true,
    "editable": true
   },
   "source": [
    "## Project the swarm 'proxy temp' to mesh"
   ]
  },
  {
   "cell_type": "code",
   "execution_count": 214,
   "metadata": {
    "collapsed": true,
    "deletable": true,
    "editable": true
   },
   "outputs": [],
   "source": [
    "if not cp.restart:\n",
    "    projectorMeshTemp= uw.utils.MeshVariable_Projection( temperatureField, proxyTempVariable , type=0 )\n",
    "    projectorMeshTemp.solve()"
   ]
  },
  {
   "cell_type": "markdown",
   "metadata": {
    "collapsed": true,
    "deletable": true,
    "editable": true
   },
   "source": [
    "## Boundary conditions"
   ]
  },
  {
   "cell_type": "code",
   "execution_count": 215,
   "metadata": {
    "collapsed": false,
    "deletable": true,
    "editable": true
   },
   "outputs": [],
   "source": [
    "iWalls = mesh.specialSets[\"MinI_VertexSet\"] + mesh.specialSets[\"MaxI_VertexSet\"]\n",
    "jWalls = mesh.specialSets[\"MinJ_VertexSet\"] + mesh.specialSets[\"MaxJ_VertexSet\"]\n",
    "\n",
    "tWalls = mesh.specialSets[\"MaxJ_VertexSet\"]\n",
    "bWalls = mesh.specialSets[\"MinJ_VertexSet\"]\n",
    "rWalls = mesh.specialSets[\"MaxI_VertexSet\"]\n",
    "\n",
    "#velBC  = uw.conditions.DirichletCondition( variable        = velocityField, \n",
    "#                                           indexSetsPerDof = (iWalls, jWalls) )\n"
   ]
  },
  {
   "cell_type": "code",
   "execution_count": 216,
   "metadata": {
    "collapsed": false,
    "deletable": true,
    "editable": true
   },
   "outputs": [],
   "source": [
    "#vXnodes"
   ]
  },
  {
   "cell_type": "code",
   "execution_count": 217,
   "metadata": {
    "collapsed": true,
    "deletable": true,
    "editable": true
   },
   "outputs": [],
   "source": [
    "def build_velBcs(nodes):\n",
    "    \n",
    "    velnodeset = mesh.specialSets[\"Empty\"]\n",
    "    velnodeset += nodes\n",
    "\n",
    "    \n",
    "    velBC  = uw.conditions.DirichletCondition( variable        = velocityField, \n",
    "                                           indexSetsPerDof = (iWalls + velnodeset, jWalls) )\n",
    "    \n",
    "    return velBC"
   ]
  },
  {
   "cell_type": "code",
   "execution_count": 218,
   "metadata": {
    "collapsed": false,
    "deletable": true,
    "editable": true
   },
   "outputs": [],
   "source": [
    "velBC = build_velBcs(vXnodes)"
   ]
  },
  {
   "cell_type": "code",
   "execution_count": 219,
   "metadata": {
    "collapsed": false,
    "deletable": true,
    "editable": true
   },
   "outputs": [],
   "source": [
    "#Ridges enforced\n",
    "dirichTempBC = uw.conditions.DirichletCondition(     variable=temperatureField, \n",
    "                                              indexSetsPerDof=(tWalls + rWalls,) )\n",
    "\n",
    "\n",
    "###If we want thermal ridges fixed\n",
    "temperatureField.data[rWalls.data] = npd.potentialTemp_"
   ]
  },
  {
   "cell_type": "code",
   "execution_count": 220,
   "metadata": {
    "collapsed": true,
    "deletable": true,
    "editable": true
   },
   "outputs": [],
   "source": [
    "## Reassert the tempBCS\n",
    "\n",
    "temperatureField.data[tWalls.data] = npd.surfaceTemp_\n",
    "temperatureField.data[bWalls.data] = npd.potentialTemp_"
   ]
  },
  {
   "cell_type": "markdown",
   "metadata": {
    "deletable": true,
    "editable": true
   },
   "source": [
    "## Buoyancy"
   ]
  },
  {
   "cell_type": "code",
   "execution_count": 221,
   "metadata": {
    "collapsed": false,
    "deletable": true,
    "editable": true
   },
   "outputs": [],
   "source": [
    "temperatureFn = temperatureField\n",
    "\n",
    "\n",
    "# Now create a buoyancy force vector using the density and the vertical unit vector. \n",
    "thermalDensityFn = nmd.buoyancyFac*rayleighNumber*(1. - temperatureFn)\n",
    "\n",
    "gravity = ( 0.0, -1.0 )\n",
    "\n",
    "buoyancyMapFn = thermalDensityFn*gravity"
   ]
  },
  {
   "cell_type": "markdown",
   "metadata": {
    "deletable": true,
    "editable": true
   },
   "source": [
    "## Rheology"
   ]
  },
  {
   "cell_type": "code",
   "execution_count": 222,
   "metadata": {
    "collapsed": false,
    "deletable": true,
    "editable": true
   },
   "outputs": [],
   "source": [
    "symStrainrate = fn.tensor.symmetric( \n",
    "                            velocityField.fn_gradient )\n",
    "\n",
    "#Set up any functions required by the rheology\n",
    "strainRate_2ndInvariant = fn.tensor.second_invariant( \n",
    "                            fn.tensor.symmetric( \n",
    "                            velocityField.fn_gradient ))\n",
    "\n",
    "\n",
    "\n",
    "def safe_visc(func, viscmin=nmd.viscosityMin, viscmax=nmd.viscosityMax):\n",
    "    return fn.misc.max(viscmin, fn.misc.min(viscmax, func))"
   ]
  },
  {
   "cell_type": "code",
   "execution_count": 223,
   "metadata": {
    "collapsed": false,
    "deletable": true,
    "editable": true
   },
   "outputs": [],
   "source": [
    "#tm.subZoneAbsDistFn()"
   ]
  },
  {
   "cell_type": "code",
   "execution_count": 224,
   "metadata": {
    "collapsed": false,
    "deletable": true,
    "editable": true
   },
   "outputs": [],
   "source": [
    "#Interface rheology extent\n",
    "\n",
    "subZoneDistfn = tm.subZoneAbsDistFn(nonSpVal = 0.0, upper=False)\n",
    "#subZoneDistfn = tm.subZoneAbsDistFn(upper=True)\n",
    "\n",
    "\n",
    "faultHorizTaperFn  = usub.cosine_taper(subZoneDistfn, \n",
    "                                  nmd.faultViscHorizTaperStart, nmd.faultViscHorizTaperWidth)\n",
    "faultDepthTaperFn = usub.cosine_taper(depthFn, \n",
    "                                 nmd.faultViscDepthTaperStart, nmd.faultViscDepthTaperWidth)"
   ]
  },
  {
   "cell_type": "code",
   "execution_count": 225,
   "metadata": {
    "collapsed": false,
    "deletable": true,
    "editable": true
   },
   "outputs": [],
   "source": [
    "#fig = glucifer.Figure(figsize=(960,300))\n",
    "\n",
    "#fig.append( glucifer.objects.Points(swarm, faultRheologyFn,  logScale=True))\n",
    "#fig.append( glucifer.objects.Surface(mesh,  faultHorizTaperFn))\n",
    "\n",
    "#fig.show()\n",
    "#fig.save_database('test.gldb')"
   ]
  },
  {
   "cell_type": "code",
   "execution_count": 226,
   "metadata": {
    "collapsed": false,
    "deletable": true,
    "editable": true
   },
   "outputs": [],
   "source": [
    "#temperatureField, \n",
    "\n",
    "#npd.diffusionPreExp, npd.diffusionVolumeDepth, npd.diffusionEnergyDepth, npd.surfaceTemp\n",
    "#(1./npd.diffusionPreExp)\n",
    "#nmd.faultViscHorizTaperWidth*2900.\n",
    "\n",
    "#5/4."
   ]
  },
  {
   "cell_type": "code",
   "execution_count": 227,
   "metadata": {
    "collapsed": false,
    "deletable": true,
    "editable": true
   },
   "outputs": [],
   "source": [
    "\n",
    "\n",
    "adiabaticCorrectFn = depthFn*npd.adiabaticTempGrad\n",
    "dynamicPressureProxyDepthFn = pressureField/pressureDepthGrad\n",
    "druckerDepthFn = fn.misc.max(0.0, depthFn + nmd.druckerAlpha*(dynamicPressureProxyDepthFn))\n",
    "\n",
    "#Diffusion Creep\n",
    "diffusionUM = (1./npd.diffusionPreExp)*\\\n",
    "    fn.math.exp( ((npd.diffusionEnergyDepth + \\\n",
    "                   (depthFn*npd.diffusionVolumeDepth))/((temperatureFn+ adiabaticCorrectFn + npd.surfaceTemp))))\n",
    "\n",
    "diffusionUM =     safe_visc(diffusionUM)\n",
    "    \n",
    "diffusionLM = npd.lowerMantleViscFac*(1./npd.diffusionPreExp)*\\\n",
    "    fn.math.exp( ((npd.diffusionEnergyDepth + \\\n",
    "                   (depthFn*npd.diffusionVolumeDepth))/((temperatureFn+ adiabaticCorrectFn + npd.surfaceTemp))))\n",
    "\n",
    "#diffusionLM =     safe_visc(diffusionLM)\n",
    "\n",
    "\n",
    "transitionZoneTaperFn = usub.cosine_taper(depthFn, nmd.lowerMantleDepth - 0.5*nmd.lowerMantleTransWidth , \n",
    "                                          nmd.lowerMantleTransWidth )\n",
    "\n",
    "\n",
    "mantleCreep = diffusionUM*(1. - transitionZoneTaperFn) + transitionZoneTaperFn*diffusionLM\n",
    "\n",
    "#Define the mantle Plasticity\n",
    "ys =  npd.cohesionMantle + (druckerDepthFn*npd.frictionMantleDepth)\n",
    "ysf = fn.misc.min(ys, npd.yieldStressMax)\n",
    "yielding = ysf/(2.*(strainRate_2ndInvariant) + 1e-15) \n",
    "\n",
    "mantleRheologyFn =  safe_visc(mantleCreep*yielding/(mantleCreep + yielding), \n",
    "                              viscmin=nmd.viscosityMin, viscmax=nmd.viscosityMax)\n",
    "\n",
    "#mantleRheologyFn =  safe_visc(fn.misc.min(mantleCreep*yielding), \n",
    "#                              viscmin=nmd.viscosityMin, viscmax=nmd.viscosityMax)\n",
    "\n",
    "faultViscosityFn = npd.viscosityFault\n",
    "\n",
    "faultRheologyFn =  faultViscosityFn*(1. - faultDepthTaperFn) +  \\\n",
    "                       faultDepthTaperFn*mantleRheologyFn + faultHorizTaperFn*mantleRheologyFn\n"
   ]
  },
  {
   "cell_type": "code",
   "execution_count": null,
   "metadata": {
    "collapsed": false,
    "deletable": true,
    "editable": true
   },
   "outputs": [],
   "source": []
  },
  {
   "cell_type": "code",
   "execution_count": 228,
   "metadata": {
    "collapsed": false,
    "deletable": true,
    "editable": true
   },
   "outputs": [],
   "source": [
    "#Here's how we include the wedge \n",
    "mantleRheologyFn_ = fn.branching.map( fn_key = wedgeVariable,\n",
    "                                 mapping = {0:mantleRheologyFn,\n",
    "                                            1:mantleRheologyFn} )"
   ]
  },
  {
   "cell_type": "code",
   "execution_count": 229,
   "metadata": {
    "collapsed": false,
    "deletable": true,
    "editable": true
   },
   "outputs": [],
   "source": [
    "#viscconds = ((proximityVariable == 0, mantleRheologyFn),\n",
    "#             (True, interfaceViscosityFn ))\n",
    "\n",
    "#viscosityMapFn = fn.branching.conditional(viscconds)\n",
    "#viscosityMapFn = mantleRheologyFn\n",
    "\n",
    "\n",
    "viscosityMapFn = fn.branching.map( fn_key = proximityVariable,\n",
    "                             mapping = {0:mantleRheologyFn_,\n",
    "                                        2:faultRheologyFn} )"
   ]
  },
  {
   "cell_type": "code",
   "execution_count": null,
   "metadata": {
    "collapsed": true
   },
   "outputs": [],
   "source": [
    "###\n",
    "yieldingCheckFn = fn.branching.conditional( ((2.*mantleRheologyFn*strainRate_2ndInvariant > 0.95*ysf, 1.0), \n",
    "                                           (True,                      0.)  ))"
   ]
  },
  {
   "cell_type": "markdown",
   "metadata": {
    "deletable": true,
    "editable": true
   },
   "source": [
    "## Stokes"
   ]
  },
  {
   "cell_type": "code",
   "execution_count": 230,
   "metadata": {
    "collapsed": false,
    "deletable": true,
    "editable": true
   },
   "outputs": [],
   "source": [
    "surfaceArea = uw.utils.Integral(fn=1.0,mesh=mesh, integrationType='surface', surfaceIndexSet=tWalls)\n",
    "surfacePressureIntegral = uw.utils.Integral(fn=pressureField, mesh=mesh, integrationType='surface', surfaceIndexSet=tWalls)\n",
    "\n",
    "NodePressure = uw.mesh.MeshVariable(mesh, nodeDofCount=1)\n",
    "Cell2Nodes = uw.utils.MeshVariable_Projection(NodePressure, pressureField, type=0)\n",
    "Nodes2Cell = uw.utils.MeshVariable_Projection(pressureField, NodePressure, type=0)\n",
    "\n",
    "def smooth_pressure(mesh):\n",
    "    # Smooths the pressure field.\n",
    "    # Assuming that pressure lies on the submesh, do a cell -> nodes -> cell\n",
    "    # projection.\n",
    "\n",
    "    Cell2Nodes.solve()\n",
    "    Nodes2Cell.solve()\n",
    "\n",
    "# a callback function to calibrate the pressure - will pass to solver later\n",
    "def pressure_calibrate():\n",
    "    (area,) = surfaceArea.evaluate()\n",
    "    (p0,) = surfacePressureIntegral.evaluate()\n",
    "    offset = p0/area\n",
    "    pressureField.data[:] -= offset\n",
    "    smooth_pressure(mesh)"
   ]
  },
  {
   "cell_type": "code",
   "execution_count": 231,
   "metadata": {
    "collapsed": false,
    "deletable": true,
    "editable": true
   },
   "outputs": [],
   "source": [
    "stokes = uw.systems.Stokes( velocityField  = velocityField, \n",
    "                                   pressureField  = pressureField,\n",
    "                                   conditions     = [velBC,],\n",
    "                                   fn_viscosity   = viscosityMapFn, \n",
    "                                   fn_bodyforce   = buoyancyMapFn )\n"
   ]
  },
  {
   "cell_type": "code",
   "execution_count": 232,
   "metadata": {
    "collapsed": false,
    "deletable": true,
    "editable": true
   },
   "outputs": [],
   "source": [
    "solver = uw.systems.Solver(stokes)\n",
    "\n",
    "solver.set_inner_method(\"mumps\")\n",
    "solver.options.scr.ksp_type=\"cg\"\n",
    "solver.set_penalty(1.0e7)\n",
    "solver.options.scr.ksp_rtol = 1.0e-4\n"
   ]
  },
  {
   "cell_type": "code",
   "execution_count": 233,
   "metadata": {
    "collapsed": false,
    "deletable": true,
    "editable": true
   },
   "outputs": [],
   "source": [
    "if not cp.restart:\n",
    "    solver.solve(nonLinearIterate=True, nonLinearTolerance=nmd.nltol, callback_post_solve = pressure_calibrate)\n",
    "    solver.print_stats()"
   ]
  },
  {
   "cell_type": "code",
   "execution_count": 234,
   "metadata": {
    "collapsed": false,
    "deletable": true,
    "editable": true
   },
   "outputs": [],
   "source": [
    "#velocityField.data.max()"
   ]
  },
  {
   "cell_type": "markdown",
   "metadata": {
    "collapsed": true,
    "deletable": true,
    "editable": true
   },
   "source": [
    "## Advection - Diffusion"
   ]
  },
  {
   "cell_type": "code",
   "execution_count": 235,
   "metadata": {
    "collapsed": true,
    "deletable": true,
    "editable": true
   },
   "outputs": [],
   "source": [
    "advDiff = uw.systems.AdvectionDiffusion( phiField       = temperatureFn, \n",
    "                                         phiDotField    = temperatureDotField, \n",
    "                                         velocityField  = velocityField,\n",
    "                                         fn_sourceTerm    = 0.0,\n",
    "                                         fn_diffusivity = npd.refDiffusivity, \n",
    "                                         #conditions     = [neumannTempBC, dirichTempBC] )\n",
    "                                         conditions     = [ dirichTempBC] )"
   ]
  },
  {
   "cell_type": "markdown",
   "metadata": {
    "deletable": true,
    "editable": true
   },
   "source": [
    "## Swarm Advector"
   ]
  },
  {
   "cell_type": "code",
   "execution_count": 236,
   "metadata": {
    "collapsed": true,
    "deletable": true,
    "editable": true
   },
   "outputs": [],
   "source": [
    "advector = uw.systems.SwarmAdvector( swarm=swarm, velocityField=velocityField, order=2 )\n"
   ]
  },
  {
   "cell_type": "code",
   "execution_count": 237,
   "metadata": {
    "collapsed": true,
    "deletable": true,
    "editable": true
   },
   "outputs": [],
   "source": [
    "population_control = uw.swarm.PopulationControl(swarm, deleteThreshold=0.006, \n",
    "                                                splitThreshold=0.25,maxDeletions=1, maxSplits=3, aggressive=True,\n",
    "                                                aggressiveThreshold=0.9, particlesPerCell=int(nmd.ppc))"
   ]
  },
  {
   "cell_type": "markdown",
   "metadata": {
    "deletable": true,
    "editable": true
   },
   "source": [
    "## Set up a midplane swarm"
   ]
  },
  {
   "cell_type": "code",
   "execution_count": 238,
   "metadata": {
    "collapsed": false,
    "deletable": true,
    "editable": true
   },
   "outputs": [],
   "source": [
    "#midplane.swarm.particleCoordinates.data\n",
    "#midPlaneDepth"
   ]
  },
  {
   "cell_type": "code",
   "execution_count": 239,
   "metadata": {
    "collapsed": false,
    "deletable": true,
    "editable": true
   },
   "outputs": [],
   "source": [
    "spId = 2\n",
    "midPlaneDepth = ndimlz(20.*ur.kilometer + 0.5*(md.faultThickness))\n",
    "\n",
    "#*************CHECKPOINT-BLOCK**************#\n",
    "if not cp.restart:\n",
    "    midPlaneXs = np.arange(tm.get_boundaries(spId)[0] + 2.*ds, tm.get_boundaries(spId)[1] - 2.*ds, ds)\n",
    "    midPlaneYs = np.ones(len(midPlaneXs)) * (1. - midPlaneDepth)\n",
    "    midplane = usub.interface2D(mesh, velocityField, midPlaneXs, midPlaneYs,1.0, spId)\n",
    "    \n",
    "\n",
    "else:\n",
    "    midplane = usub.interface2D(mesh, velocityField, [], [], 1.0, spId)\n",
    "    midplane.swarm.load(cp.loadpath + '/midplane.h5')\n",
    "#*************CHECKPOINT-BLOCK**************#\n",
    "\n",
    "cp.addObject(midplane.swarm, 'midplane')\n",
    "\n",
    "mCollection = usub.interface_collection([])\n",
    "mCollection.append(midplane)\n",
    "\n",
    "\n",
    "#no need for checkpoint\n",
    "allxs = np.arange(mesh.minCoord[0], mesh.maxCoord[0], ds )[:-1]\n",
    "allys = (1. - midPlaneDepth)*np.ones(allxs.shape)\n",
    "midPlaneMasterSwarm = uw.swarm.Swarm( mesh=mesh )\n",
    "dummy =  midPlaneMasterSwarm.add_particles_with_coordinates(np.column_stack((allxs, allys)))\n",
    "del allxs\n",
    "del allys\n",
    "\n"
   ]
  },
  {
   "cell_type": "code",
   "execution_count": 240,
   "metadata": {
    "collapsed": false,
    "deletable": true,
    "editable": true
   },
   "outputs": [],
   "source": [
    "#setup a swarm for evaluation surface data on (same points as mesh nodes)\n",
    "\n",
    "surfacexs = mesh.data[tWalls.data][:,0]\n",
    "surfaceys = mesh.data[tWalls.data][:,1]\n",
    "surfLine = usub.interface2D(mesh, velocityField,surfacexs, surfaceys , 0,  2) #\n",
    "surfVx = uw.swarm.SwarmVariable(surfLine.swarm, 'double', 1)\n",
    "surfGravStress = uw.swarm.SwarmVariable(surfLine.swarm, 'double', 1)\n",
    "surfGravTemp = uw.swarm.SwarmVariable(surfLine.swarm, 'double', 1)\n",
    "\n",
    "surfVx.data[:] = 0\n",
    "surfGravStress.data[:] = 0\n",
    "surfGravTemp.data[:] = 0"
   ]
  },
  {
   "cell_type": "code",
   "execution_count": null,
   "metadata": {
    "collapsed": false,
    "deletable": true,
    "editable": true
   },
   "outputs": [],
   "source": []
  },
  {
   "cell_type": "markdown",
   "metadata": {
    "deletable": true,
    "editable": true
   },
   "source": [
    "## Gravity"
   ]
  },
  {
   "cell_type": "code",
   "execution_count": 241,
   "metadata": {
    "collapsed": false,
    "deletable": true,
    "editable": true
   },
   "outputs": [],
   "source": [
    "## Gravity function\n",
    "\n",
    "#```\n",
    "#dimensionalisation as follows\n",
    "G = 6.67e-11         #grav. constant\n",
    "gravFac = 2.*np.pi*G*1e5 \n",
    "tempFac = (pd.refDensity*pd.refExpansivity*pd.refLength*(pd.potentialTemp - pd.surfaceTemp)).to_base_units()\n",
    "stressFac = ((pd.refDiffusivity*pd.refViscosity)/(pd.refGravity*pd.refLength**2)).to_base_units()\n",
    "#```\n",
    "#gravFac, tempFac, stressFac "
   ]
  },
  {
   "cell_type": "code",
   "execution_count": 242,
   "metadata": {
    "collapsed": true,
    "deletable": true,
    "editable": true
   },
   "outputs": [],
   "source": [
    "## Surface stress\n",
    "devStressFn =  2.*stokes.fn_viscosity*fn.tensor.symmetric( velocityField.fn_gradient ) #- pressureField\n",
    "devStressField = uw.mesh.MeshVariable( mesh=mesh, nodeDofCount=3 )\n",
    "projectorDevStress = uw.utils.MeshVariable_Projection( devStressField, devStressFn , type=0 )\n",
    "projectorDevStress.solve()\n",
    "\n",
    "\n",
    "meshPressure = uw.mesh.MeshVariable( mesh, 1 )\n",
    "projectorPressure = uw.utils.MeshVariable_Projection( meshPressure, pressureField, type=0 )\n",
    "projectorPressure.solve()\n",
    "\n",
    "#total stress\n",
    "totalStressFn = -1.*(devStressField[1] - meshPressure)"
   ]
  },
  {
   "cell_type": "code",
   "execution_count": 243,
   "metadata": {
    "collapsed": true,
    "deletable": true,
    "editable": true
   },
   "outputs": [],
   "source": [
    "from spectral_tools import *\n",
    "\n",
    "nk = 12\n",
    "ks = integral_wavenumbers(mesh, nk, axisIndex=1)\n",
    "upContKernelFn = fn.math.exp(-1.*(1. - fn.coord()[1])*ks)\n",
    "\n",
    "def update_gravity():\n",
    "    \n",
    "    #surface dynamic topography component\n",
    "    projectorDevStress.solve()\n",
    "    projectorPressure.solve()\n",
    "    totalStressFn = -1.*(devStressField[1] - meshPressure)\n",
    "    surfGravStress.data[:] = totalStressFn.evaluate(surfLine.swarm)\n",
    "    \n",
    "    \n",
    "    synthFn = spectral_integral(mesh, temperatureField, N=nk, axisIndex=1, kernelFn=upContKernelFn, \n",
    "                                    average = True, integrationType=\"volume\",surfaceIndexSet=None )\n",
    "    \n",
    "    surfGravTemp.data[:] = synthFn.evaluate(surfLine.swarm)\n"
   ]
  },
  {
   "cell_type": "code",
   "execution_count": 244,
   "metadata": {
    "collapsed": false,
    "deletable": true,
    "editable": true
   },
   "outputs": [],
   "source": [
    "#update_gravity()"
   ]
  },
  {
   "cell_type": "markdown",
   "metadata": {
    "deletable": true,
    "editable": true
   },
   "source": [
    "## Update functions"
   ]
  },
  {
   "cell_type": "code",
   "execution_count": 245,
   "metadata": {
    "collapsed": false,
    "deletable": true,
    "editable": true
   },
   "outputs": [
    {
     "data": {
      "text/plain": [
       "{'(1, 1)': [],\n",
       " '(1, 2)': [],\n",
       " '(2, 3)': [],\n",
       " '(3, 3)': [],\n",
       " 'stepAtSave': [],\n",
       " 'timeAtSave': []}"
      ]
     },
     "execution_count": 245,
     "metadata": {},
     "output_type": "execute_result"
    }
   ],
   "source": [
    "valuesDict = edict({})\n",
    "valuesDict.timeAtSave = []\n",
    "valuesDict.stepAtSave = []\n",
    "for e in tm.undirected.edges():\n",
    "    valuesDict[str(e)] = []\n",
    "valuesDict  "
   ]
  },
  {
   "cell_type": "code",
   "execution_count": null,
   "metadata": {
    "collapsed": true,
    "deletable": true,
    "editable": true
   },
   "outputs": [],
   "source": []
  },
  {
   "cell_type": "code",
   "execution_count": 246,
   "metadata": {
    "collapsed": true,
    "deletable": true,
    "editable": true
   },
   "outputs": [],
   "source": [
    "# Here we'll handle everything that should be advected - i.e. every timestep\n",
    "def advect_update(dt):\n",
    "    # Retrieve the maximum possible timestep for the advection system.\n",
    "    #dt = advector.get_max_dt()\n",
    "    # Advect swarm\n",
    "    advector.integrate(dt)\n",
    "    \n",
    "    #Advect faults\n",
    "    for f in fCollection:\n",
    "        f.advection(dt)\n",
    "        \n",
    "    #Advect markers\n",
    "    for m in mCollection:\n",
    "        m.advection(dt)\n",
    "    \n",
    "    \n",
    "    return time+dt, step+1"
   ]
  },
  {
   "cell_type": "code",
   "execution_count": 247,
   "metadata": {
    "collapsed": true,
    "deletable": true,
    "editable": true
   },
   "outputs": [],
   "source": [
    "def update_stokes(time, viscosityMapFn ):\n",
    "    \n",
    "\n",
    "\n",
    "    \n",
    "    #set velocity / pressure back to zero\n",
    "    #velocityField.data[:] = 0.\n",
    "    #pressureField.data[:] = 0.\n",
    "    \n",
    "    #set the new surface vel, get the velXNodes\n",
    "    vXnodes = set_vel_return_nodes(time, velMaskFn)\n",
    "    \n",
    "    #creat a BC object\n",
    "    velBC = build_velBcs(vXnodes)\n",
    "    \n",
    "    \n",
    "    \n",
    "    #rebuild stokes\n",
    "    stokes = uw.systems.Stokes( velocityField  = velocityField, \n",
    "                                   pressureField  = pressureField,\n",
    "                                   conditions     = [velBC,],\n",
    "                                   fn_viscosity   = viscosityMapFn, \n",
    "                                   fn_bodyforce   = buoyancyMapFn )\n",
    "    return stokes"
   ]
  },
  {
   "cell_type": "code",
   "execution_count": 248,
   "metadata": {
    "collapsed": true,
    "deletable": true,
    "editable": true
   },
   "outputs": [],
   "source": [
    "def rebuild_solver(stokes):\n",
    "    \n",
    "    solver = uw.systems.Solver(stokes)\n",
    "    solver.set_inner_method(\"mumps\")\n",
    "    solver.options.scr.ksp_type=\"cg\"\n",
    "    solver.set_penalty(1.0e7)\n",
    "    solver.options.scr.ksp_rtol = 1.0e-4\n",
    "    \n",
    "    return solver\n"
   ]
  },
  {
   "cell_type": "code",
   "execution_count": 249,
   "metadata": {
    "collapsed": false,
    "deletable": true,
    "editable": true
   },
   "outputs": [],
   "source": [
    "#faultloc"
   ]
  },
  {
   "cell_type": "code",
   "execution_count": 250,
   "metadata": {
    "collapsed": true,
    "deletable": true,
    "editable": true
   },
   "outputs": [],
   "source": [
    "def update_faults():\n",
    "    \n",
    "    \n",
    "    #order is very important here\n",
    "    dummy = usub.remove_fault_drift(fCollection, faultloc)\n",
    "    dummy = usub.pop_or_perish(tm, fCollection, faultMasterSwarm, faultAddFn , ds)\n",
    "    dummy = usub.remove_faults_from_boundaries(tm, fCollection, faultRmfn )\n",
    "    \n",
    "    \n",
    "    for f in fCollection:\n",
    "        \n",
    "        #Remove particles below a specified depth\n",
    "        #depthMask = f.swarm.particleCoordinates.data[:,1] <         (1. - nmd.faultDestroyDepth)\n",
    "        depthMask = f.swarm.particleCoordinates.data[:,1] <         (1. - nmd.wedgeDeep)\n",
    "        with f.swarm.deform_swarm():\n",
    "            f.swarm.particleCoordinates.data[depthMask] = (9999999., 9999999.)\n",
    "        \n",
    "        #The repair_interface2D routine is supposed to maintain particle density and smooth\n",
    "        usub.interfaces.repair_interface2D(f, ds, k=8)"
   ]
  },
  {
   "cell_type": "code",
   "execution_count": 251,
   "metadata": {
    "collapsed": false,
    "deletable": true,
    "editable": true
   },
   "outputs": [],
   "source": [
    "#markerDestroyDepth = ndimlz(500*ur.kilometer)\n",
    "#markerDestroyDepth"
   ]
  },
  {
   "cell_type": "code",
   "execution_count": 252,
   "metadata": {
    "collapsed": false,
    "deletable": true,
    "editable": true
   },
   "outputs": [],
   "source": [
    "markerDestroyDepth = ndimlz(350*ur.kilometer)\n",
    "def update_markers():\n",
    "        \n",
    "    #order is very important here\n",
    "    #dummy = usub.remove_fault_drift(mCollection, 1. - midPlaneDepth)\n",
    "    dummy = usub.pop_or_perish(tm, mCollection, midPlaneMasterSwarm, faultAddFn , ds)\n",
    "    dummy = usub.remove_faults_from_boundaries(tm, mCollection, faultRmfn )\n",
    "    \n",
    "    \n",
    "    for f in mCollection:\n",
    "        \n",
    "        #Remove particles below a specified depth\n",
    "        depthMask = f.swarm.particleCoordinates.data[:,1] <         (1. - markerDestroyDepth)\n",
    "        with f.swarm.deform_swarm():\n",
    "            f.swarm.particleCoordinates.data[depthMask] = (9999999., 9999999.)\n",
    "        \n",
    "        #The repair_interface2D routine is supposed to maintain particle density and smooth\n",
    "        usub.interfaces.repair_interface2D(f, ds, k=8)\n",
    "    "
   ]
  },
  {
   "cell_type": "code",
   "execution_count": 253,
   "metadata": {
    "collapsed": false,
    "deletable": true,
    "editable": true
   },
   "outputs": [],
   "source": [
    "#update_markers()\n",
    "#usub.interfaces.repair_interface2D\n",
    "#usub.remove_fault_drift"
   ]
  },
  {
   "cell_type": "code",
   "execution_count": 254,
   "metadata": {
    "collapsed": false,
    "deletable": true,
    "editable": true
   },
   "outputs": [],
   "source": [
    "def update_swarm():\n",
    "    \n",
    "    population_control.repopulate()\n",
    "    \n",
    "    for f in fCollection:\n",
    "        f.rebuild()\n",
    "        f.set_proximity_director(swarm, proximityVariable, searchFac = 2., locFac=1.0,\n",
    "                                maxDistanceFn=fn.misc.constant(2.))\n",
    "        \n",
    "    #A simple depth cutoff for proximity\n",
    "    depthMask = swarm.particleCoordinates.data[:,1] < (1. - nmd.faultDestroyDepth)\n",
    "    proximityVariable.data[depthMask] = 0\n",
    "    "
   ]
  },
  {
   "cell_type": "code",
   "execution_count": 255,
   "metadata": {
    "collapsed": false,
    "deletable": true,
    "editable": true
   },
   "outputs": [],
   "source": [
    "#usub.get_boundary_vel_update"
   ]
  },
  {
   "cell_type": "code",
   "execution_count": 256,
   "metadata": {
    "collapsed": false,
    "deletable": true,
    "editable": true
   },
   "outputs": [],
   "source": [
    "def update_tect_model(tectModel, tmUwMap, time, dt = 0.0 ):\n",
    "    \n",
    "    \"\"\"\n",
    "    An example of how we can update the tect_model\n",
    "    \"\"\"\n",
    "    for e in tectModel.undirected.edges():\n",
    "        \n",
    "        #This is generally the first condition to check\" a specified boundary velocity\n",
    "        if tectModel.bound_has_vel(e, time):\n",
    "            newX = usub.get_boundary_vel_update(tectModel, e, time, dt)\n",
    "            tectModel.set_bound_loc(e, newX)\n",
    "            \n",
    "        #in this model the ficticious boundaries remain fixed at the edge\n",
    "        elif e[0] == e[1]:\n",
    "            pass       \n",
    "        #now we'll apply a strain rate query to update the subduction zone loc\n",
    "        elif tectModel.is_subduction_boundary(e):\n",
    "            e = tectModel.subduction_edge_order(e)\n",
    "            newx = usub.strain_rate_field_update(tectModel, e, tmUwMap, dist = ndimlz(100*ur.kilometer))\n",
    "            tectModel.set_bound_loc(e, newx)\n",
    "        else:\n",
    "            pass\n"
   ]
  },
  {
   "cell_type": "code",
   "execution_count": 257,
   "metadata": {
    "collapsed": false,
    "deletable": true,
    "editable": true
   },
   "outputs": [],
   "source": [
    "#update_tect_model(tm, tmUwMap, 0., dt = 0.1 )\n",
    "#usub.strain_rate_field_update"
   ]
  },
  {
   "cell_type": "code",
   "execution_count": 258,
   "metadata": {
    "collapsed": true,
    "deletable": true,
    "editable": true
   },
   "outputs": [],
   "source": [
    "def update_mask_fns():\n",
    "\n",
    "    faultRmfn = tm.variable_boundary_mask_fn(distMax = ndimlz(100*ur.km),\n",
    "                                               distMin = ndimlz(20*ur.km), \n",
    "                                               relativeWidth = 0.1,\n",
    "                                               boundtypes='ridge')\n",
    "\n",
    "\n",
    "\n",
    "    faultAddFn =  fn.misc.constant(True)\n",
    "\n",
    "    velMask1 = tm.t2f(tm.ridge_mask_fn(dist=ndimlz(25*ur.km)))\n",
    "    velMask2= tm.t2f(tm.subduction_mask_fn(dist=nmd.faultViscHorizTaperStart))\n",
    "    velMaskFn = operator.and_( velMask1,  velMask2)\n",
    "\n",
    "\n",
    "    #the following dictates where the fault rheology will be activated\n",
    "    #subZoneDistfn = tm.subZoneAbsDistFn(upper=True)\n",
    "    subZoneDistfn = tm.subZoneAbsDistFn(nonSpVal=0.0, upper=False)\n",
    "    \n",
    "    faultHorizTaperFn  = usub.cosine_taper(subZoneDistfn, \n",
    "                                  nmd.faultViscHorizTaperStart, nmd.faultViscHorizTaperWidth)\n",
    "    \n",
    "    return faultRmfn, faultAddFn, velMaskFn, faultHorizTaperFn"
   ]
  },
  {
   "cell_type": "code",
   "execution_count": 259,
   "metadata": {
    "collapsed": false,
    "deletable": true,
    "editable": true
   },
   "outputs": [],
   "source": [
    "#ridgeMaskFn, boundMaskFn, velMaskFn = update_mask_fns()\n",
    "#usub.cosine_taper\n",
    "#tm.subZoneAbsDistFn?"
   ]
  },
  {
   "cell_type": "markdown",
   "metadata": {
    "deletable": true,
    "editable": true
   },
   "source": [
    "## Track the values of the plate bounaries"
   ]
  },
  {
   "cell_type": "code",
   "execution_count": 260,
   "metadata": {
    "collapsed": false,
    "deletable": true,
    "editable": true
   },
   "outputs": [],
   "source": [
    "def update_values():\n",
    "    \n",
    "    \"\"\" \n",
    "    Assumes global variables:\n",
    "    * time\n",
    "    * step \n",
    "    ...\n",
    "    + many functions\n",
    "    \"\"\"\n",
    "    \n",
    "    \n",
    "    #save the time and step\n",
    "    valuesDict.timeAtSave.append(time) \n",
    "    valuesDict.stepAtSave.append(step)\n",
    "    \n",
    "    for e in tm.undirected.edges():\n",
    "        if tm.is_subduction_boundary(e):\n",
    "            ee = tm.subduction_edge_order(e) #hacky workaround for the directed/ undireted. need get_bound_loc\n",
    "        else:\n",
    "            ee = e\n",
    "\n",
    "        valuesDict[str(e)].append(tm.get_bound_loc(ee))\n",
    "        \n",
    "        \n",
    "    #save\n",
    "    if uw.rank()==0:\n",
    "        fullpath = os.path.join(valuesPath + \"tect_model_data\")\n",
    "        #the '**' is important\n",
    "        np.savez(fullpath, **valuesDict)\n",
    "    "
   ]
  },
  {
   "cell_type": "code",
   "execution_count": 261,
   "metadata": {
    "collapsed": false,
    "deletable": true,
    "editable": true
   },
   "outputs": [],
   "source": [
    "#sigXXswarm =  2.*symStrainrate[0]*viscosityMapFn\n",
    "viscMesh = uw.mesh.MeshVariable( mesh=mesh,         nodeDofCount=1 )\n",
    "sigXXMesh =  uw.mesh.MeshVariable( mesh=mesh,         nodeDofCount=1 )\n",
    "sigIIMesh =  uw.mesh.MeshVariable( mesh=mesh,         nodeDofCount=1 )\n",
    "eig1       = uw.mesh.MeshVariable( mesh=mesh,         nodeDofCount=2 )\n",
    "eIIMesh = uw.mesh.MeshVariable( mesh=mesh,         nodeDofCount=1 )\n",
    "yieldingMesh = uw.mesh.MeshVariable( mesh=mesh,         nodeDofCount=1 )\n",
    "\n",
    "viscMesh.data[:] = 0.\n",
    "sigXXMesh.data[:] = 0.\n",
    "sigIIMesh.data[:] = 0.\n",
    "eig1.data[:] = (0., 0.)\n",
    "yieldingMesh.data[:] = 0.\n",
    "\n",
    "##############this one used projection\n",
    "sigIIMesh2       = uw.mesh.MeshVariable( mesh=mesh,         nodeDofCount=1) \n",
    "sigIISwarm = 2.*strainRate_2ndInvariant*viscosityMapFn\n",
    "projector = uw.utils.MeshVariable_Projection(sigIIMesh2 , sigIISwarm , type=0 )\n",
    "##############\n",
    "parallelMeshVariable = uw.mesh.MeshVariable( mesh=mesh,         nodeDofCount=2 )\n",
    "parallelMeshMag = fn.math.dot(parallelMeshVariable, parallelMeshVariable)\n",
    "\n",
    "\n",
    "#sigXXFn = 2.*symStrainrate[0]*sigXXMesh\n",
    "#projectorDevStress = uw.utils.MeshVariable_Projection(sigXXMesh, sigXXswarm  , type=0 )\n",
    "\n",
    "def swarm_to_mesh_update():    \n",
    "#    projectorDevStress.solve()\n",
    "    ix1, weights1, d1 = nn_evaluation(swarm.particleCoordinates.data, mesh.data, n=5, weighted=True)\n",
    "    viscMesh.data[:,0] =  np.average(viscosityMapFn.evaluate(swarm)[:,0][ix1], weights=weights1, axis=len((weights1.shape)) - 1)\n",
    "    #sigXXFn may need updating?\n",
    "    ssr = symStrainrate.evaluate(mesh) #this does need to be here, \n",
    "    \n",
    "    sigXXFn = 2.*symStrainrate[0]*viscMesh\n",
    "    sigXXMesh.data[:] = sigXXFn.evaluate(mesh)\n",
    "    sigIIFn = 2.*strainRate_2ndInvariant*viscMesh\n",
    "    sigIIMesh.data[:] = sigIIFn.evaluate(mesh)\n",
    "    \n",
    "    #eigenvector\n",
    "    principalAngles  = np.apply_along_axis(eig2d, 1, ssr[:, :])[:,2]\n",
    "    eig1.data[:,0] = np.cos(np.radians(principalAngles - 90.)) #most compressive \n",
    "    eig1.data[:,1] = np.sin(np.radians(principalAngles - 90.))\n",
    "    \n",
    "    \n",
    "    #projected swarm\n",
    "    sigIISwarm = 2.*strainRate_2ndInvariant*viscosityMapFn\n",
    "    projector = uw.utils.MeshVariable_Projection(sigIIMesh2 , sigIISwarm , type=0 )\n",
    "    projector.solve()\n",
    "    \n",
    "    #limit to within slab\n",
    "    #parallelMeshMagMask = parallelMeshMag.evaluate(mesh) == 0.\n",
    "    #sigIIMesh2.data[parallelMeshMagMask] = 0.0\n",
    "    \n",
    "    #also this guy\n",
    "    eIIMesh.data[:] = strainRate_2ndInvariant.evaluate(mesh)\n",
    "    \n",
    "    #also this guy\n",
    "    yieldingMesh.data[:] = yieldingCheckFn.evaluate(mesh)"
   ]
  },
  {
   "cell_type": "code",
   "execution_count": 262,
   "metadata": {
    "collapsed": true,
    "deletable": true,
    "editable": true
   },
   "outputs": [],
   "source": [
    "#sigXXFn = 2.*symStrainrate[0]*viscMesh\n",
    "#sigXXMesh.data[:] = sigXXFn.evaluate(mesh)\n"
   ]
  },
  {
   "cell_type": "code",
   "execution_count": 138,
   "metadata": {
    "collapsed": false,
    "deletable": true,
    "editable": true
   },
   "outputs": [],
   "source": [
    "#step = 0\n",
    "#files_update()\n",
    "swarm_to_mesh_update()"
   ]
  },
  {
   "cell_type": "code",
   "execution_count": 239,
   "metadata": {
    "collapsed": false,
    "deletable": true,
    "editable": true
   },
   "outputs": [],
   "source": [
    "#fig = glucifer.Figure(figsize=(960,300) )\n",
    "#fig.append( glucifer.objects.Surface(mesh, sigXXMesh, onMesh=True))\n",
    "#fig.show()"
   ]
  },
  {
   "cell_type": "code",
   "execution_count": 154,
   "metadata": {
    "collapsed": true,
    "deletable": true,
    "editable": true
   },
   "outputs": [],
   "source": [
    "sigSSMesh = uw.mesh.MeshVariable( mesh=mesh,         nodeDofCount=1 )\n",
    "eSSMesh = uw.mesh.MeshVariable( mesh=mesh,         nodeDofCount=1 )\n",
    "\n",
    "lithHalfThick = ndimlz(25.*ur.kilometer)\n",
    "\n",
    "fullStrainRate = np.zeros((mesh.data.shape[0], 2,2))\n",
    "\n",
    "def update_slab_parallel_sr():\n",
    "    \n",
    "    #update the orientation mesh var\n",
    "    parallelMeshVariable.data[:] = 0.\n",
    "    director, fpts = mCollection[0].compute_normals(mesh.data, thickness=lithHalfThick)\n",
    "    parDir = np.column_stack((-1.*director[:,1], director[:,0]))\n",
    "    parallelMeshVariable.data[fpts] = parDir[fpts]\n",
    "    \n",
    "    #compute the 2X2 strain rate structure\n",
    "    strainRateData =  symStrainrate.evaluate(mesh)\n",
    "    fullStrainRate[:,0,0] = strainRateData[:,0]\n",
    "    fullStrainRate[:,1,1] = strainRateData[:,1]\n",
    "    fullStrainRate[:,0,1] = strainRateData[:,2]\n",
    "    fullStrainRate[:,1,0] = strainRateData[:,2]\n",
    "    \n",
    "    #resolve the strain rate\n",
    "    traction =  np.matmul(fullStrainRate,parallelMeshVariable.data[..., np.newaxis])[:,:,0]\n",
    "    resolvedSR = np.einsum('ij,ij->i', traction , parallelMeshVariable.data)\n",
    "    #print(resolvedSR.shape)\n",
    "    \n",
    "    sigSSMesh.data[:,0] = 2.*resolvedSR*viscMesh.data[:,0]\n",
    "    eSSMesh.data[:,0] = resolvedSR\n",
    "    #mask values above the maxYieldStress\n",
    "    #ymask = np.abs(sigSSMesh.data[:,0] ) > npd.yieldStressMax\n",
    "    #sigSSMesh.data[:,0][mask] = npd.yieldStressMax\n",
    "    \n",
    "    mask1 = sigSSMesh.data[:,0]  > npd.yieldStressMax\n",
    "    sigSSMesh.data[:,0][mask1] = npd.yieldStressMax\n",
    "    mask2 = sigSSMesh.data[:,0]  < -1.*npd.yieldStressMax\n",
    "    sigSSMesh.data[:,0][mask2] = -1.*npd.yieldStressMax"
   ]
  },
  {
   "cell_type": "code",
   "execution_count": 175,
   "metadata": {
    "collapsed": false,
    "deletable": true,
    "editable": true
   },
   "outputs": [],
   "source": [
    "#update_slab_parallel_sr()\n",
    "#mask = np.abs(sigSSMesh.data[:,0] ) > npd.yieldStressMax\n",
    "#sigSSMesh.data[:,0][mask] = npd.yieldStressMax\n",
    "#stressScale"
   ]
  },
  {
   "cell_type": "code",
   "execution_count": 240,
   "metadata": {
    "collapsed": true,
    "deletable": true,
    "editable": true
   },
   "outputs": [],
   "source": [
    "def files_update():\n",
    "    fCollection[0].swarm.save( filePath + \"interface\" + str(step).zfill(5))\n",
    "    mCollection[0].swarm.save( filePath + \"midplane\" + str(step).zfill(5))\n",
    "    \n",
    "    surfVx.data[:] = velocityField[0].evaluate(surfLine.swarm)\n",
    "    surfVx.save(filePath + \"surfVx_\" + str(step).zfill(3) + \"_.h5\")\n",
    "    \n",
    "    surfGravStress.save(filePath + \"gravStress_\" + str(step).zfill(3) + \"_.h5\")\n",
    "    surfGravTemp.save(filePath + \"gravTemp_\" + str(step).zfill(3) + \"_.h5\")"
   ]
  },
  {
   "cell_type": "code",
   "execution_count": 241,
   "metadata": {
    "collapsed": false,
    "deletable": true,
    "editable": true
   },
   "outputs": [],
   "source": [
    "def xdmfs_update():\n",
    " \n",
    "    try:\n",
    "        _mH\n",
    "    except:\n",
    "        _mH = mesh.save(xdmfPath+\"mesh.h5\")\n",
    "    \n",
    "    #part1\n",
    "    mh = _mH\n",
    "    tH = temperatureFn.save(xdmfPath + \"temp_\" + str(step) + \".h5\")\n",
    "    pH = pressureField.save(xdmfPath + \"press_\" + str(step) + \".h5\")\n",
    "    eH = eig1.save(xdmfPath + \"eig_\" + str(step) + \".h5\")\n",
    "    visc = viscMesh.save(xdmfPath + \"visc_\" + str(step) + \".h5\")\n",
    "    sigXX = sigXXMesh.save(xdmfPath + \"sigXX_\" + str(step) + \".h5\")\n",
    "    sigSS = sigSSMesh.save(xdmfPath + \"sigSS_\" + str(step) + \".h5\")\n",
    "    sigII = sigIIMesh.save(xdmfPath + \"sigII_\" + str(step) + \".h5\")\n",
    "    eSS = eSSMesh.save(xdmfPath + \"eSS_\" + str(step) + \".h5\")\n",
    "    eII = eIIMesh.save(xdmfPath + \"eII_\" + str(step) + \".h5\")\n",
    "    sigII2 = sigIIMesh2.save(xdmfPath + \"sigII2_\" + str(step) + \".h5\")\n",
    "    yieldH = yieldingMesh.save(xdmfPath + \"yield_\" + str(step) + \".h5\")\n",
    "\n",
    "    \n",
    "    \n",
    "    #part 2\n",
    "    temperatureFn.xdmf(xdmfPath + \"temp_\" + str(step), tH, 'temperature', mh, 'mesh', modeltime=time)\n",
    "    pressureField.xdmf(xdmfPath + \"press_\" + str(step), pH, 'pressure', mh, 'mesh', modeltime=time)\n",
    "    eig1.xdmf(xdmfPath + \"eig_\" + str(step), eH, 'eig', mh, 'mesh', modeltime=time)\n",
    "    sigXXMesh.xdmf(xdmfPath+ \"sigXX_\" + str(step), sigXX, 'sigXX', mh, 'mesh', modeltime=time)\n",
    "    sigSSMesh.xdmf(xdmfPath+ \"sigSS_\" + str(step), sigSS, 'sigSS', mh, 'mesh', modeltime=time)\n",
    "    viscMesh.xdmf(xdmfPath+ \"visc_\" + str(step), visc , 'visc', mh, 'mesh', modeltime=time)\n",
    "    sigIIMesh.xdmf(xdmfPath+ \"sigII_\" + str(step), sigII, 'sigII', mh, 'mesh', modeltime=time)\n",
    "    eSSMesh.xdmf(xdmfPath+ \"eSS_\" + str(step), eSS, 'eSS', mh, 'mesh', modeltime=time)\n",
    "    eIIMesh.xdmf(xdmfPath+ \"eII_\" + str(step), eII, 'eII', mh, 'mesh', modeltime=time)\n",
    "    sigIIMesh2.xdmf(xdmfPath+ \"sigII2_\" + str(step), sigII2, 'sigII2', mh, 'mesh', modeltime=time)\n",
    "    yieldingMesh.xdmf(xdmfPath+ \"yield_\" + str(step), yieldH, 'yield', mh, 'mesh', modeltime=time)\n"
   ]
  },
  {
   "cell_type": "code",
   "execution_count": 83,
   "metadata": {
    "collapsed": true,
    "deletable": true,
    "editable": true
   },
   "outputs": [],
   "source": [
    "def write_checkpoint(step_, time_):\n",
    "    cp.saveObjs(step_, time_)\n",
    "    cp.saveDicts(step_, time_)"
   ]
  },
  {
   "cell_type": "code",
   "execution_count": 242,
   "metadata": {
    "collapsed": false,
    "deletable": true,
    "editable": true
   },
   "outputs": [],
   "source": [
    "#step = 99\n",
    "#time = 0\n",
    "#xdmfs_update()\n",
    "#viscMesh.evaluate(mesh).min()"
   ]
  },
  {
   "cell_type": "markdown",
   "metadata": {
    "deletable": true,
    "editable": true
   },
   "source": [
    "## Viz"
   ]
  },
  {
   "cell_type": "code",
   "execution_count": 243,
   "metadata": {
    "collapsed": false,
    "deletable": true,
    "editable": true
   },
   "outputs": [],
   "source": [
    "viscSwarmVar =  swarm.add_variable( dataType=\"double\", count=1 )\n",
    "viscSwarmVar.data[:] = viscosityMapFn.evaluate(swarm)\n",
    "\n",
    "\n",
    "maskFnVar1 = uw.mesh.MeshVariable( mesh=mesh, nodeDofCount=1 )\n",
    "maskFnVar1.data[:] = velMaskFn.evaluate(mesh)\n",
    "\n",
    "\n",
    "maskFnVar2 = uw.mesh.MeshVariable( mesh=mesh, nodeDofCount=1 )\n",
    "maskFnVar2.data[:] = faultRmfn.evaluate(mesh)\n",
    "\n",
    "plate_id_fn = tm.plate_id_fn()\n",
    "maskFnVar3 = uw.mesh.MeshVariable( mesh=mesh, nodeDofCount=1 )\n",
    "maskFnVar3.data[:] = plate_id_fn.evaluate(mesh)"
   ]
  },
  {
   "cell_type": "code",
   "execution_count": 244,
   "metadata": {
    "collapsed": false,
    "deletable": true,
    "editable": true
   },
   "outputs": [],
   "source": [
    "store1 = glucifer.Store(dbPath+ 'subduction1.gldb')\n",
    "store2 = glucifer.Store(dbPath + 'subduction2.gldb')\n",
    "store3 = glucifer.Store(dbPath+ 'subduction3.gldb')\n",
    "\n",
    "\n",
    "\n",
    "figTemp = glucifer.Figure(store1, figsize=(960,300) )\n",
    "figTemp.append( glucifer.objects.Surface(mesh, temperatureField, onMesh=True))\n",
    "figTemp.append( glucifer.objects.Contours(mesh, temperatureField, resolution=300, quality =4, interval=0.2,  colours='Black', colourBar=False)) \n",
    "for f in fCollection:\n",
    "    figTemp.append( glucifer.objects.Points(f.swarm, pointSize=5))\n",
    "for m in mCollection:\n",
    "    figTemp.append( glucifer.objects.Points(m.swarm, pointSize=5))\n",
    "    \n",
    "#figProx = glucifer.Figure(store1, figsize=(960,300) )\n",
    "#figProx.append( glucifer.objects.Points(swarm , proximityVariable))\n",
    "#for f in fCollection:\n",
    "#    figProx.append( glucifer.objects.Points(f.swarm, pointSize=5))\n",
    "#figProx.show()\n",
    "\n",
    "figVisc = glucifer.Figure( store2, figsize=(960,300) )\n",
    "#figVisc.append( glucifer.objects.Points(swarm, viscosityMapFn, pointSize=2, logScale=True) )\n",
    "figVisc.append( glucifer.objects.Points(swarm,  viscSwarmVar, logScale=True) )\n",
    "#figVisc.append( glucifer.objects.Points(swarm,  wedgeVariable) )\n",
    "\n",
    "\n",
    "\n",
    "#figVel = glucifer.Figure( store3, figsize=(960,300) )\n",
    "#figVel.append(glucifer.objects.Surface(mesh, fn.math.dot(velocityField, velocityField), onMesh=True))\n",
    "#figVel.append( glucifer.objects.VectorArrows(mesh, velocityField, arrowHead=0.2, scaling=1./refVel) )\n",
    "\n",
    "figMask = glucifer.Figure( store3, figsize=(960,300) )\n",
    "figMask.append( glucifer.objects.Surface(mesh,  maskFnVar1) )\n",
    "figMask.append( glucifer.objects.Surface(mesh,  maskFnVar2) )\n",
    "figMask.append( glucifer.objects.Surface(mesh, maskFnVar3 , valueRange=[0,3]) )\n",
    "for f in fCollection:\n",
    "    figMask.append( glucifer.objects.Points(f.swarm, pointSize=5))\n",
    "\n",
    "\n",
    "#figMask.append( glucifer.objects.Surface(mesh,  maskFnVar3) )\n",
    "#for f in fCollection:\n",
    "#    figVel.append( glucifer.objects.Points(f.swarm, pointSize=5))\n",
    "\n"
   ]
  },
  {
   "cell_type": "markdown",
   "metadata": {
    "deletable": true,
    "editable": true
   },
   "source": [
    "## Main Loop"
   ]
  },
  {
   "cell_type": "code",
   "execution_count": null,
   "metadata": {
    "collapsed": false,
    "deletable": true,
    "editable": true
   },
   "outputs": [],
   "source": [
    "time = cp.time()  # Initial time\n",
    "step = cp.step()   # Initial timestep\n",
    "maxSteps = 10000      # Maximum timesteps \n",
    "steps_output = 25   # output every N timesteps\n",
    "swarm_update = 10   # output every N timesteps\n",
    "faults_update = 10\n",
    "dt_model = 0.\n",
    "steps_update_model = 5\n",
    "\n",
    "wedgeOn = False\n",
    "update_values()"
   ]
  },
  {
   "cell_type": "code",
   "execution_count": null,
   "metadata": {
    "collapsed": true,
    "deletable": true,
    "editable": true
   },
   "outputs": [],
   "source": [
    "#checkpoint at time zero\n",
    "if not cp.restart:\n",
    "    write_checkpoint(step, time)"
   ]
  },
  {
   "cell_type": "code",
   "execution_count": null,
   "metadata": {
    "collapsed": false,
    "deletable": true,
    "editable": true
   },
   "outputs": [
    {
     "name": "stdout",
     "output_type": "stream",
     "text": [
      "wedge on is: False\n",
      "step =      1; time = 1.952e-07\n",
      "wedge on is: False\n",
      "step =      2; time = 3.920e-07\n"
     ]
    }
   ],
   "source": [
    "while time < tm.times[-1] and step < maxSteps:\n",
    "    \n",
    "    # Solve non linear Stokes system\n",
    "    solver.solve(nonLinearIterate=True, nonLinearTolerance=nmd.nltol, callback_post_solve = pressure_calibrate)\n",
    "    \n",
    "    dt = advDiff.get_max_dt()\n",
    "    advDiff.integrate(dt)\n",
    "    \n",
    "    #advect swarm and faults\n",
    "    time, step =  advect_update(dt)\n",
    "    dt_model += dt\n",
    "    \n",
    "        \n",
    "    #update tectonic model\n",
    "    if step % steps_update_model == 0:\n",
    "        update_tect_model(tm, tmUwMap, time, dt = dt_model)\n",
    "        dt_model = 0.\n",
    "        plate_id_fn = tm.plate_id_fn()\n",
    "        faultRmfn, faultAddFn, velMaskFn, faultHorizTaperFn = update_mask_fns()\n",
    "        \n",
    "        #these need to be explicity updated\n",
    "        faultRheologyFn =  faultViscosityFn*(1. - faultDepthTaperFn) +\\\n",
    "        faultDepthTaperFn*mantleRheologyFn + faultHorizTaperFn*mantleRheologyFn\n",
    "        \n",
    "        viscosityMapFn = fn.branching.map( fn_key = proximityVariable,\n",
    "                             mapping = {0:mantleRheologyFn_,\n",
    "                                        2:faultRheologyFn} )\n",
    "        \n",
    "        \n",
    "        \n",
    "    #running fault healing/addition, map back to swarm\n",
    "    if step % faults_update == 0:\n",
    "        update_faults()\n",
    "        update_markers()\n",
    "    if step % swarm_update == 0:\n",
    "        update_swarm()\n",
    "        \n",
    "    #rebuild stokes\n",
    "    if step % steps_update_model == 0:\n",
    "        del solver\n",
    "        del stokes\n",
    "        stokes = update_stokes(time, viscosityMapFn )\n",
    "        solver = rebuild_solver(stokes)\n",
    "        \n",
    "    \n",
    "    # output figure to file at intervals = steps_output\n",
    "    if step % steps_output == 0 or step == maxSteps-1:\n",
    "        \n",
    "        update_values()\n",
    "        \n",
    "        #Important to set the timestep for the store object here or will overwrite previous step\n",
    "        \n",
    "        #also update this guy for viz\n",
    "        #viscSwarmVar.data[:] = viscosityMapFn.evaluate(swarm)\n",
    "        #maskFnVar1.data[:] = velMaskFn.evaluate(mesh)\n",
    "        #maskFnVar2.data[:] = faultRmfn.evaluate(mesh)\n",
    "        #maskFnVar3.data[:] = plate_id_fn.evaluate(mesh)\n",
    "        \n",
    "        #store1.step = step\n",
    "        #store2.step = step\n",
    "        #store3.step = step\n",
    "        #figTemp.save(    outputPath + \"temp\"    + str(step).zfill(4))\n",
    "        #figProx.save(    outputPath + \"prox\"    + str(step).zfill(4))\n",
    "        #figVisc.save(    outputPath + \"visc\"    + str(step).zfill(4))\n",
    "        #figMask.save(    outputPath + \"mask\"    + str(step).zfill(4))\n",
    "        #figVel.save(    outputPath + \"vel\"    + str(step).zfill(4))\n",
    "        \n",
    "        #save out the files\n",
    "        \n",
    "        #update_gravity()\n",
    "        files_update()\n",
    "        \n",
    "        #XDMFS\n",
    "        swarm_to_mesh_update()\n",
    "        update_slab_parallel_sr()\n",
    "        xdmfs_update()\n",
    "        \n",
    "    ##Wedge stuff \n",
    "    \n",
    "    \n",
    "    if time > nmd.turnOnWedge:\n",
    "        \n",
    "        faultDepthTaperFn = usub.cosine_taper(depthFn,\n",
    "                                 0.75*nmd.faultViscDepthTaperStart, nmd.faultViscDepthTaperWidth)\n",
    "\n",
    "        \n",
    "        #toggle the rheology. \n",
    "        #this should only happen once, hence the wedgeOn var. \n",
    "        if wedgeOn == False:\n",
    "            mantleRheologyFn_ = fn.branching.map( fn_key = wedgeVariable,\n",
    "                                         mapping = {0:mantleRheologyFn,\n",
    "                                                    1:nmd.wedgeViscosity} )\n",
    "       \n",
    "            viscosityMapFn = fn.branching.map( fn_key = proximityVariable,\n",
    "                             mapping = {0:mantleRheologyFn_,\n",
    "                                        2:faultRheologyFn} )\n",
    "           \n",
    "            stokes.fn_viscosity = viscosityMapFn \n",
    "            \n",
    "            wedgeOn = True\n",
    "        \n",
    "        #Now update the wedge region\n",
    "        build_wedge_region()\n",
    "\n",
    "\n",
    "    print 'wedge on is: {}'.format(wedgeOn)\n",
    "    \n",
    "    \n",
    "    #checkpoint\n",
    "    if step % nmd.checkpointEvery == 0:\n",
    "        write_checkpoint(step, time)\n",
    "    \n",
    "    \n",
    "    if uw.rank()==0:\n",
    "        print 'step = {0:6d}; time = {1:.3e}'.format(step,time)\n"
   ]
  },
  {
   "cell_type": "code",
   "execution_count": 199,
   "metadata": {
    "collapsed": true,
    "deletable": true,
    "editable": true
   },
   "outputs": [],
   "source": [
    "#stokes.fn_viscosity = viscosityMapFn"
   ]
  },
  {
   "cell_type": "code",
   "execution_count": 163,
   "metadata": {
    "collapsed": false,
    "deletable": true,
    "editable": true
   },
   "outputs": [
    {
     "data": {
      "text/plain": [
       "16820000.0"
      ]
     },
     "execution_count": 163,
     "metadata": {},
     "output_type": "execute_result"
    }
   ],
   "source": []
  },
  {
   "cell_type": "code",
   "execution_count": 88,
   "metadata": {
    "collapsed": false,
    "deletable": true,
    "editable": true
   },
   "outputs": [
    {
     "data": {
      "text/plain": [
       "True"
      ]
     },
     "execution_count": 88,
     "metadata": {},
     "output_type": "execute_result"
    }
   ],
   "source": [
    "#tm.is_ridge((3,3))"
   ]
  },
  {
   "cell_type": "code",
   "execution_count": null,
   "metadata": {
    "collapsed": true,
    "deletable": true,
    "editable": true
   },
   "outputs": [],
   "source": []
  }
 ],
 "metadata": {
  "kernelspec": {
   "display_name": "Python 2",
   "language": "python",
   "name": "python2"
  },
  "language_info": {
   "codemirror_mode": {
    "name": "ipython",
    "version": 2
   },
   "file_extension": ".py",
   "mimetype": "text/x-python",
   "name": "python",
   "nbconvert_exporter": "python",
   "pygments_lexer": "ipython2",
   "version": "2.7.9"
  }
 },
 "nbformat": 4,
 "nbformat_minor": 2
}
