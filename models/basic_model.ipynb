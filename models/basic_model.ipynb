{
 "cells": [
  {
   "cell_type": "markdown",
   "metadata": {
    "collapsed": true,
    "deletable": true,
    "editable": true
   },
   "source": [
    "# Mexican Flat Slab model\n",
    "\n",
    "* Mor-Sz dist at 40 Ma, ~2000 km\n",
    "* Mor-Sz dist at 0 Ma, ~600 km\n",
    "* Mor average Vel ~ 2 cm/y\n",
    "* UP vel ~ 2 cm/y\n",
    "* Sp vel (35 - 10 Ma) ~ 8 cm/y\n",
    "* Sp vel (10 - 0 Ma) ~ 3 cm/y"
   ]
  },
  {
   "cell_type": "code",
   "execution_count": 1,
   "metadata": {
    "collapsed": false,
    "deletable": true,
    "editable": true
   },
   "outputs": [],
   "source": [
    "#!apt-cache policy petsc-dev"
   ]
  },
  {
   "cell_type": "code",
   "execution_count": 2,
   "metadata": {
    "collapsed": true,
    "deletable": true,
    "editable": true
   },
   "outputs": [],
   "source": [
    "import numpy as np\n",
    "import underworld as uw\n",
    "from underworld import function as fn\n",
    "import glucifer\n",
    "from easydict import EasyDict as edict\n",
    "import networkx as nx\n",
    "import operator\n",
    "\n",
    "import warnings; warnings.simplefilter('ignore')"
   ]
  },
  {
   "cell_type": "code",
   "execution_count": 3,
   "metadata": {
    "collapsed": false,
    "deletable": true,
    "editable": true
   },
   "outputs": [],
   "source": [
    "#If run through Docker we'll point at the local 'unsupported dir.'\n",
    "#On hpc, the path should also include a directory holding the unsupported_dan.\n",
    "import os\n",
    "import sys\n",
    "\n",
    "#this does't actually need to be protected. More a reminder it's an interim measure\n",
    "try:\n",
    "    sys.path.append('../../unsupported')\n",
    "    sys.path.append('../../UWsubduction/Examples')\n",
    "except:\n",
    "    pass"
   ]
  },
  {
   "cell_type": "code",
   "execution_count": 4,
   "metadata": {
    "collapsed": false,
    "deletable": true,
    "editable": true
   },
   "outputs": [],
   "source": [
    "#load in parent stuff\n",
    "#%load_ext autoreload\n",
    "#import nb_load_stuff\n",
    "#from tectModelClass import *\n",
    "\n",
    "from unsupported_dan.UWsubduction.model import *"
   ]
  },
  {
   "cell_type": "code",
   "execution_count": 5,
   "metadata": {
    "collapsed": false,
    "deletable": true,
    "editable": true
   },
   "outputs": [],
   "source": [
    "from unsupported_dan.UWsubduction.subduction_utils import *\n",
    "from unsupported_dan.interfaces.smoothing2D import *\n",
    "from unsupported_dan.utilities.misc import cosine_taper\n",
    "from unsupported_dan.interfaces.interface2D import interface2D , interface_collection\n",
    "from unsupported_dan.utilities.interpolation import nn_evaluation"
   ]
  },
  {
   "cell_type": "markdown",
   "metadata": {
    "deletable": true,
    "editable": true
   },
   "source": [
    "## Create output dir structure"
   ]
  },
  {
   "cell_type": "code",
   "execution_count": 6,
   "metadata": {
    "collapsed": false,
    "deletable": true,
    "editable": true
   },
   "outputs": [],
   "source": [
    "############\n",
    "#Model letter and number\n",
    "############\n",
    "\n",
    "\n",
    "#Model letter identifier demarker\n",
    "Model = \"T\"\n",
    "\n",
    "#Model number identifier demarker:\n",
    "ModNum = 0\n",
    "\n",
    "#Any isolated letter / integer command line args are interpreted as Model/ModelNum\n",
    "\n",
    "if len(sys.argv) == 1:\n",
    "    ModNum = ModNum \n",
    "elif sys.argv[1] == '-f': #\n",
    "    ModNum = ModNum \n",
    "else:\n",
    "    for farg in sys.argv[1:]:\n",
    "        if not '=' in farg: #then Assume it's a not a paramter argument\n",
    "            try:\n",
    "                ModNum = int(farg) #try to convert everingthing to a float, else remains string\n",
    "            except ValueError:\n",
    "                Model  = farg\n",
    "                \n",
    "                \n",
    "###########\n",
    "#Standard output directory setup\n",
    "###########\n",
    "\n",
    "outputPath = \"results\" + \"/\" +  str(Model) + \"/\" + str(ModNum) + \"/\" \n",
    "valuesPath = outputPath + 'values/'\n",
    "filePath = outputPath + 'files/'\n",
    "#checkpointPath = outputPath + 'checkpoint/'\n",
    "dbPath = outputPath + 'gldbs/'\n",
    "xdmfPath = outputPath + 'xdmf/'\n",
    "outputFile = 'results_model' + Model + '_' + str(ModNum) + '.dat'\n",
    "\n",
    "if uw.rank()==0:\n",
    "    # make directories if they don't exist\n",
    "    if not os.path.isdir(outputPath):\n",
    "        os.makedirs(outputPath)\n",
    "    if not os.path.isdir(valuesPath):\n",
    "        os.makedirs(valuesPath)\n",
    "    if not os.path.isdir(dbPath):\n",
    "        os.makedirs(dbPath)\n",
    "    if not os.path.isdir(filePath):\n",
    "        os.makedirs(filePath)\n",
    "    if not os.path.isdir(xdmfPath):\n",
    "        os.makedirs(xdmfPath)\n",
    "        \n",
    "uw.barrier() #Barrier here so no procs run the check in the next cell too early"
   ]
  },
  {
   "cell_type": "markdown",
   "metadata": {
    "collapsed": false,
    "deletable": true,
    "editable": true
   },
   "source": [
    "## Parameters / Scaling\n",
    "\n",
    "* For more information see, `UWsubduction/Background/scaling`\n"
   ]
  },
  {
   "cell_type": "code",
   "execution_count": 7,
   "metadata": {
    "collapsed": true,
    "deletable": true,
    "editable": true
   },
   "outputs": [],
   "source": [
    "from unsupported_dan.UWsubduction.minimal_example import UnitRegistry\n",
    "u = UnitRegistry"
   ]
  },
  {
   "cell_type": "code",
   "execution_count": 8,
   "metadata": {
    "collapsed": false,
    "deletable": true,
    "editable": true
   },
   "outputs": [],
   "source": [
    "#pd refers to dimensional paramters\n",
    "pd = edict({})\n",
    "\n",
    "#Main physical paramters (thermal convection parameters)\n",
    "pd.refDensity = 3300.* u.kilogram / u.meter**3                    #reference density\n",
    "pd.refGravity = 9.8* u.metre / u.second**2                        #surface gravity\n",
    "pd.refDiffusivity = 1e-6 *u.metre**2 / u.second                   #thermal diffusivity\n",
    "pd.refExpansivity = 3e-5/u.kelvin                                 #surface thermal expansivity\n",
    "pd.refViscosity = 1e20* u.pascal* u.second\n",
    "pd.refLength = 2900*u.km\n",
    "pd.gasConstant = 8.314*u.joule/(u.mol*u.kelvin)                   #gas constant\n",
    "pd.specificHeat = 1250.4*u.joule/(u.kilogram* u.kelvin)           #Specific heat (Jkg-1K-1)\n",
    "pd.potentialTemp = 1573.*u.kelvin                                 #mantle potential temp (K)\n",
    "pd.surfaceTemp = 273.*u.kelvin                                    #surface temp (K)\n",
    "#these are the shifted temps, which will range from 0 - 1 in the dimensionless system\n",
    "pd.potentialTemp_ = pd.potentialTemp - pd.surfaceTemp\n",
    "pd.surfaceTemp_ = pd.surfaceTemp - pd.surfaceTemp\n",
    "#main rheology parameters\n",
    "pd.cohesionMantle = 20.*u.megapascal                              #mantle cohesion in Byerlee law\n",
    "pd.frictionMantle = u.Quantity(0.2)                                           #mantle friction coefficient in Byerlee law (tan(phi))\n",
    "pd.frictionMantleDepth = pd.frictionMantle*pd.refDensity*pd.refGravity\n",
    "pd.diffusionPreExp = 5.34e-10/u.pascal/u.second                   #pre-exp factor for diffusion creep\n",
    "pd.diffusionEnergy = 3e5*u.joule/(u.mol)\n",
    "pd.diffusionEnergyDepth = 3e5*u.joule/(u.mol*pd.gasConstant)\n",
    "pd.diffusionVolume=5e-6*u.meter**3/(u.mol)\n",
    "pd.diffusionVolumeDepth=5e-6*pd.refDensity.magnitude*pd.refGravity.magnitude*u.joule/(u.mol*pd.gasConstant*u.meter)\n",
    "pd.viscosityFault = 2e19*u.pascal  * u.second\n",
    "pd.adiabaticTempGrad = (pd.refExpansivity*pd.refGravity*pd.potentialTemp)/pd.specificHeat\n",
    "pd.yieldStressMax=200*u.megapascal\n",
    "pd.lowerMantleViscFac = u.Quantity(20.0)\n",
    "\n",
    "paramDict_dim = pd"
   ]
  },
  {
   "cell_type": "code",
   "execution_count": 9,
   "metadata": {
    "collapsed": true,
    "deletable": true,
    "editable": true
   },
   "outputs": [],
   "source": [
    "md = edict({})\n",
    "#Model geometry, and misc Lengths used to control behaviour\n",
    "md.depth=1000*u.km                                                #Model Depth\n",
    "md.aspectRatio=5.\n",
    "#lengths, factors relating to subduction fault behaviour\n",
    "md.faultViscDepthTaperStart = 100*u.km\n",
    "md.faultViscDepthTaperWidth = 20*u.km\n",
    "md.faultViscHorizTaperStart = 150*u.km\n",
    "md.faultViscHorizTaperWidth = 150*u.km\n",
    "md.faultThickness = 10.*u.km\n",
    "md.faultLocFac = 1.                                                #this is the relative location of the fault in terms of the fault thickess from the top of slab\n",
    "md.faultDestroyDepth = 300*u.km\n",
    "md.lowerMantleDepth=660.*u.km\n",
    "md.lowerMantleTransWidth=100.*u.km\n",
    "#Slab and plate init. parameters\n",
    "md.subZoneLoc=-100*u.km                                           #X position of subduction zone...km\n",
    "md.slabInitMaxDepth=150*u.km\n",
    "md.radiusOfCurv = 200.*u.km                                        #radius of curvature\n",
    "md.slabAge=20.*u.megayears                                      #age of subduction plate at trench\n",
    "md.opAgeAtTrench=10.*u.megayears                                        #age of op\n",
    "#numerical and computation params\n",
    "md.res=48\n",
    "md.ppc=25                                                         #particles per cell\n",
    "md.elementType=\"Q1/dQ0\"\n",
    "md.refineHoriz = True\n",
    "md.refineVert = True\n",
    "md.meshRefineFactor = 0.7\n",
    "md.nltol = 0.01\n",
    "md.druckerAlpha = 1.\n",
    "md.penaltyMethod = True\n",
    "md.buoyancyFac = 1.5\n",
    "md.viscosityMin = 1e18* u.pascal * u.second\n",
    "md.viscosityMax = 1e24* u.pascal * u.second\n",
    "#wedge stuff\n",
    "md.wedgeViscosity = 5e19* u.pascal * u.second\n",
    "md.wedgeShallow=40*u.km\n",
    "md.wedgeDeep=150*u.km\n",
    "md.wedgeThickness = 200*u.km\n",
    "md.turnOnWedge = 20*u.megayears \n",
    "modelDict_dim = md"
   ]
  },
  {
   "cell_type": "code",
   "execution_count": 10,
   "metadata": {
    "collapsed": false,
    "deletable": true,
    "editable": true
   },
   "outputs": [],
   "source": [
    "#import parameters, model settings, unit registry, scaling system, etc\n",
    "\n",
    "from unsupported_dan.UWsubduction.default_scaling import sub_scaling, build_nondim_dict\n",
    "from unsupported_dan.UWsubduction.minimal_example import rayleighNumber, stressScale, pressureDepthGrad\n",
    "\n",
    "\n",
    "#define some more concise names\n",
    "sca = sub_scaling\n",
    "ndimlz = sca.nonDimensionalize\n",
    "#build the dimensionless paramter / model dictionaries\n",
    "ndp = build_nondim_dict(paramDict_dim  , sca)   \n",
    "md = build_nondim_dict(modelDict_dim  , sca)\n",
    "ur = u\n",
    "\n",
    "assert ndimlz(paramDict_dim.refLength) == 1.0\n",
    "\n",
    "# changes to base params: (These will keep changing if the notebook is run again without restarting!)\n",
    "#md.faultThickness *= 1.5 #15 km\n",
    "#md.res = 48"
   ]
  },
  {
   "cell_type": "code",
   "execution_count": 11,
   "metadata": {
    "collapsed": false,
    "deletable": true,
    "editable": true
   },
   "outputs": [
    {
     "data": {
      "text/plain": [
       "266502.51062928356"
      ]
     },
     "execution_count": 11,
     "metadata": {},
     "output_type": "execute_result"
    }
   ],
   "source": [
    "#1./ndimlz(1.*ur.megapascal)\n",
    "1./ndimlz(1.*ur.megayear)"
   ]
  },
  {
   "cell_type": "code",
   "execution_count": 12,
   "metadata": {
    "collapsed": false,
    "deletable": true,
    "editable": true
   },
   "outputs": [],
   "source": [
    "#delt = 2000*ur.kilometer/(7*ur.centimeter/ur.year)\n",
    "#delt.to(ur.megayear)"
   ]
  },
  {
   "cell_type": "markdown",
   "metadata": {
    "collapsed": true,
    "deletable": true,
    "editable": true
   },
   "source": [
    "## Build / refine mesh, Stokes Variables"
   ]
  },
  {
   "cell_type": "code",
   "execution_count": 13,
   "metadata": {
    "collapsed": false,
    "deletable": true,
    "editable": true
   },
   "outputs": [],
   "source": [
    "#(ndp.rightLim - ndp.leftLim)/ndp.depth\n",
    "#md.res = 64"
   ]
  },
  {
   "cell_type": "code",
   "execution_count": 14,
   "metadata": {
    "collapsed": false,
    "deletable": true,
    "editable": true
   },
   "outputs": [],
   "source": [
    "yres = int(md.res)\n",
    "xres = int(md.res*6) \n",
    "\n",
    "halfWidth = 0.5*md.depth*md.aspectRatio \n",
    "\n",
    "minCoord_    = (-1.*halfWidth, 1. - md.depth) \n",
    "maxCoord_    = (halfWidth, 1.)\n",
    "\n",
    "mesh = uw.mesh.FeMesh_Cartesian( elementType = (md.elementType),\n",
    "                                 elementRes  = (xres, yres), \n",
    "                                 minCoord    = minCoord_, \n",
    "                                 maxCoord    = maxCoord_) \n",
    "\n",
    "velocityField = uw.mesh.MeshVariable( mesh=mesh,         nodeDofCount=2)\n",
    "pressureField   = uw.mesh.MeshVariable( mesh=mesh.subMesh, nodeDofCount=1 )\n",
    "temperatureField    = uw.mesh.MeshVariable( mesh=mesh,         nodeDofCount=1 )\n",
    "temperatureDotField = uw.mesh.MeshVariable( mesh=mesh,         nodeDofCount=1 ) \n",
    "    \n",
    "\n",
    "velocityField.data[:] = 0.\n",
    "pressureField.data[:] = 0.\n",
    "temperatureField.data[:] = 0.\n",
    "temperatureDotField.data[:] = 0."
   ]
  },
  {
   "cell_type": "code",
   "execution_count": 15,
   "metadata": {
    "collapsed": true,
    "deletable": true,
    "editable": true
   },
   "outputs": [],
   "source": [
    "#mesh.reset() #call to reset mesh nodes to original locations\n",
    "\n",
    "if md.refineHoriz:\n",
    "    \n",
    "    with mesh.deform_mesh():\n",
    "        \n",
    "        normXs = 2.*mesh.data[:,0]/(mesh.maxCoord[0] - mesh.minCoord[0])\n",
    "        mesh.data[:,0] = mesh.data[:,0] * np.exp(md.meshRefineFactor*normXs**2) / np.exp(md.meshRefineFactor*1.0**2)    \n",
    "    \n",
    "if md.refineVert:\n",
    "\n",
    "    with mesh.deform_mesh():\n",
    "        \n",
    "        mesh.data[:,1] = mesh.data[:,1] - 1.0\n",
    "\n",
    "        normYs = -1.*mesh.data[:,1]/(mesh.maxCoord[1] - mesh.minCoord[1])\n",
    "        mesh.data[:,1] = mesh.data[:,1] * np.exp(md.meshRefineFactor*normYs**2)/np.exp(md.meshRefineFactor*1.0**2)\n",
    "\n",
    "        mesh.data[:,1] = mesh.data[:,1] + 1.0\n"
   ]
  },
  {
   "cell_type": "markdown",
   "metadata": {
    "deletable": true,
    "editable": true
   },
   "source": [
    "## Build plate model"
   ]
  },
  {
   "cell_type": "code",
   "execution_count": 16,
   "metadata": {
    "collapsed": true,
    "deletable": true,
    "editable": true
   },
   "outputs": [],
   "source": [
    "endTime = ndimlz(40*ur.megayear) \n",
    "refVel = ndimlz(2*ur.cm/ur.year)\n",
    "plateModelDt = ndimlz(0.1*ur.megayear)"
   ]
  },
  {
   "cell_type": "code",
   "execution_count": 17,
   "metadata": {
    "collapsed": true,
    "deletable": true,
    "editable": true
   },
   "outputs": [],
   "source": [
    "#velocities of the plates (1 - 3) ams well as the plate boundary (1,2)\n",
    "vp1= ndimlz(0.*ur.centimeter/ur.year )\n",
    "vp3= ndimlz(-2.*ur.centimeter/ur.year )\n",
    "\n",
    "vb12= ndimlz(2.0*ur.centimeter/ur.year )\n",
    "\n",
    "\n",
    "vp2start= ndimlz(6.*ur.centimeter/ur.year )\n",
    "vp2end= ndimlz(0.*ur.centimeter/ur.year )"
   ]
  },
  {
   "cell_type": "code",
   "execution_count": 18,
   "metadata": {
    "collapsed": false,
    "deletable": true,
    "editable": true
   },
   "outputs": [],
   "source": [
    "#len(tm.times), len(velsP2)"
   ]
  },
  {
   "cell_type": "code",
   "execution_count": 19,
   "metadata": {
    "collapsed": false,
    "deletable": true,
    "editable": true
   },
   "outputs": [],
   "source": [
    "tm = TectModel(mesh, 0, endTime, plateModelDt)\n",
    "\n",
    "velsP2 = np.linspace(vp2start, vp2end, len(tm.times))\n",
    "\n",
    "\n",
    "tm.add_plate(1, velocities=vp1)\n",
    "#tm.add_plate(2, velocities=vp2start)\n",
    "tm.add_plate(2, velocities=velsP2)\n",
    "tm.add_plate(3, velocities=vp3)"
   ]
  },
  {
   "cell_type": "code",
   "execution_count": 20,
   "metadata": {
    "collapsed": false,
    "deletable": true,
    "editable": true
   },
   "outputs": [
    {
     "name": "stdout",
     "output_type": "stream",
     "text": [
      "(-0.7, -0.010344827586206806)\n"
     ]
    }
   ],
   "source": [
    "ridgeLoc = -0.7\n",
    "subLoc = ridgeLoc  + ndimlz(2000.*ur.kilometer)\n",
    "print(ridgeLoc, subLoc)"
   ]
  },
  {
   "cell_type": "code",
   "execution_count": 21,
   "metadata": {
    "collapsed": false,
    "deletable": true,
    "editable": true
   },
   "outputs": [],
   "source": [
    "tm.add_left_boundary(1, plateInitAge=md.slabAge/3., velocities=False)\n",
    "#tm.add_left_boundary(2, plateInitAge=0., velocities=False)\n",
    "\n",
    "tm.add_ridge(1,2, ridgeLoc, velocities=vb12)\n",
    "tm.add_subzone(2, 3, subLoc, subInitAge=md.slabAge, upperInitAge=md.opAgeAtTrench)\n",
    "\n",
    "tm.add_right_boundary(3, plateInitAge=0.0, velocities=False)"
   ]
  },
  {
   "cell_type": "code",
   "execution_count": 22,
   "metadata": {
    "collapsed": false,
    "deletable": true,
    "editable": true
   },
   "outputs": [],
   "source": [
    "#((1400*ur.kilometer)/(35*ur.megayear)).to(ur.cm/ ur.year )\n"
   ]
  },
  {
   "cell_type": "markdown",
   "metadata": {
    "deletable": true,
    "editable": true
   },
   "source": [
    "## Build plate age / temperature Fns"
   ]
  },
  {
   "cell_type": "code",
   "execution_count": 23,
   "metadata": {
    "collapsed": false,
    "deletable": true,
    "editable": true
   },
   "outputs": [],
   "source": [
    "pIdFn = tm.plate_id_fn()\n",
    "pAgeDict = tm.plate_age_fn() \n",
    "\n",
    "fnAge_map = fn.branching.map(fn_key = pIdFn , \n",
    "                          mapping = pAgeDict )\n",
    "\n",
    "#fig = glucifer.Figure(figsize=(600, 300))\n",
    "#fig.append( glucifer.objects.Surface(tm.mesh, fnAge_map ))\n",
    "#fig.show()"
   ]
  },
  {
   "cell_type": "code",
   "execution_count": 24,
   "metadata": {
    "collapsed": false,
    "deletable": true,
    "editable": true
   },
   "outputs": [],
   "source": [
    "#ndp.potentialTemp"
   ]
  },
  {
   "cell_type": "code",
   "execution_count": 25,
   "metadata": {
    "collapsed": false,
    "deletable": true,
    "editable": true
   },
   "outputs": [],
   "source": [
    "coordinate = fn.input()\n",
    "depthFn = mesh.maxCoord[1] - coordinate[1]\n",
    "\n",
    "platethickness = 2.32*fn.math.sqrt(1.*fnAge_map )  \n",
    "\n",
    "halfSpaceTemp = ndp.potentialTemp_*fn.math.erf((depthFn)/(2.*fn.math.sqrt(1.*fnAge_map)))\n",
    "\n",
    "plateTempProxFn = fn.branching.conditional( ((depthFn > platethickness, ndp.potentialTemp_ ), \n",
    "                                           (True,                      halfSpaceTemp)  ))\n",
    "\n"
   ]
  },
  {
   "cell_type": "code",
   "execution_count": 26,
   "metadata": {
    "collapsed": false,
    "deletable": true,
    "editable": true
   },
   "outputs": [],
   "source": [
    "#fig = glucifer.Figure(figsize=(600, 300))\n",
    "#fig.append( glucifer.objects.Surface(tm.mesh, plateTempProxFn, onMesh = True))\n",
    "#fig.show()"
   ]
  },
  {
   "cell_type": "markdown",
   "metadata": {
    "deletable": true,
    "editable": true
   },
   "source": [
    "## Make swarm and Swarm Vars"
   ]
  },
  {
   "cell_type": "code",
   "execution_count": 27,
   "metadata": {
    "collapsed": false,
    "deletable": true,
    "editable": true
   },
   "outputs": [],
   "source": [
    "swarm = uw.swarm.Swarm(mesh=mesh, particleEscape=True)\n",
    "layout = uw.swarm.layouts.PerCellRandomLayout(swarm=swarm, particlesPerCell=int(md.ppc))\n",
    "swarm.populate_using_layout( layout=layout ) # Now use it to populate.\n",
    "proxyTempVariable = swarm.add_variable( dataType=\"double\", count=1 )\n",
    "proximityVariable      = swarm.add_variable( dataType=\"int\", count=1 )\n",
    "signedDistanceVariable = swarm.add_variable( dataType=\"double\", count=1 )\n",
    "wedgeVariable = swarm.add_variable( dataType=\"int\", count=1 )\n",
    "\n",
    "#\n",
    "proxyTempVariable.data[:] = 1.0\n",
    "proximityVariable.data[:] = 0\n",
    "signedDistanceVariable.data[:] = 0.0\n",
    "wedgeVariable.data[:] = 0\n"
   ]
  },
  {
   "cell_type": "markdown",
   "metadata": {
    "deletable": true,
    "editable": true
   },
   "source": [
    "## Create tmUwMap"
   ]
  },
  {
   "cell_type": "code",
   "execution_count": 28,
   "metadata": {
    "collapsed": false,
    "deletable": true,
    "editable": true
   },
   "outputs": [],
   "source": [
    "#Now we have built are primary FEM / Swarm objects, we collect some of these in a dictionary,\n",
    "#to provide a consistent form to pass to methods of TectModel\n",
    "\n",
    "tmUwMap = tm_uw_map([], velocityField, swarm, \n",
    "                    signedDistanceVariable, proxyTempVariable, proximityVariable)"
   ]
  },
  {
   "cell_type": "markdown",
   "metadata": {
    "deletable": true,
    "editable": true
   },
   "source": [
    "## Make slab perturbation and subduction interface\n",
    "\n",
    "* For more information see, `UWsubduction/Background/interface2D`"
   ]
  },
  {
   "cell_type": "code",
   "execution_count": 29,
   "metadata": {
    "collapsed": true,
    "deletable": true,
    "editable": true
   },
   "outputs": [],
   "source": [
    "def circGradientFn(S):\n",
    "    if S == 0.:\n",
    "        return 0.\n",
    "    elif S < md.radiusOfCurv:\n",
    "        return max(-S/np.sqrt((md.radiusOfCurv**2 - S**2)), -1e3)\n",
    "    else:\n",
    "        return -1e5\n",
    "    \n",
    "    \n",
    "def circGradientFn2(S):\n",
    "    if S == 0.:\n",
    "        return 0.\n",
    "    elif S < 1.*md.radiusOfCurv:\n",
    "        return max(-S/np.sqrt((md.radiusOfCurv**2 - S**2)), -3.)\n",
    "    else:\n",
    "        return -3.\n",
    "\n",
    "def circGradientFn3(S):\n",
    "    if S < 1.*md.radiusOfCurv:\n",
    "        return circGradientFn2(S)\n",
    "    else:\n",
    "        return min(circGradientFn2(2.6*md.radiusOfCurv - S), -0.1)\n",
    "    "
   ]
  },
  {
   "cell_type": "code",
   "execution_count": 30,
   "metadata": {
    "collapsed": true,
    "deletable": true,
    "editable": true
   },
   "outputs": [],
   "source": [
    "#proxyTempVariable.data[:] =0."
   ]
  },
  {
   "cell_type": "code",
   "execution_count": 31,
   "metadata": {
    "collapsed": false,
    "deletable": true,
    "editable": true
   },
   "outputs": [],
   "source": [
    "#All of these wil be needed by the slab / fault setup functions\n",
    "#We have two main options, bind them to the TectModel class. \n",
    "#or provide them to the functions\n",
    "#collection them in a dictionary may be a useful way too proviede them to the function \n",
    "#without blowing out the function arguments\n",
    "\n",
    "tmUwMap = tm_uw_map([], velocityField, swarm, \n",
    "                    signedDistanceVariable, proxyTempVariable, proximityVariable)\n"
   ]
  },
  {
   "cell_type": "code",
   "execution_count": 32,
   "metadata": {
    "collapsed": false,
    "deletable": true,
    "editable": true
   },
   "outputs": [],
   "source": [
    "#define fault particle spacing\n",
    "ds = (tm.maxX - tm.minX)/(8.*tm.mesh.elementRes[0])\n",
    "\n",
    "fCollection = interface_collection([])\n",
    "\n",
    "deepDepth = ndimlz(300.*ur.kilometer)\n",
    "\n",
    "for e in tm.undirected.edges():\n",
    "    if tm.is_subduction_boundary(e):\n",
    "        build_slab_distance(tm, e, circGradientFn3, deepDepth, tmUwMap)\n",
    "        #build_slab_distance(tm, e, circGradientFn, md.slabInitMaxDepth, tmUwMap)        \n",
    "        fb = build_fault(tm, e, circGradientFn3, md.faultThickness , deepDepth, ds, md.faultThickness, tmUwMap)\n",
    "        #fb = build_fault(tm, e, circGradientFn, md.faultThickness , md.slabInitMaxDepth, ds, md.faultThickness, tmUwMap)\n",
    "\n",
    "        fCollection.append(fb)\n",
    "\n",
    "#\n",
    "build_slab_temp(tmUwMap, ndp.potentialTemp_, md.slabAge)\n",
    "fnJointTemp = fn.misc.min(proxyTempVariable,plateTempProxFn)\n",
    "\n",
    "#And now reevaluate this guy on the swarm\n",
    "proxyTempVariable.data[:] = fnJointTemp.evaluate(swarm)"
   ]
  },
  {
   "cell_type": "code",
   "execution_count": 33,
   "metadata": {
    "collapsed": false,
    "deletable": true,
    "editable": true
   },
   "outputs": [],
   "source": [
    "#fig = glucifer.Figure(figsize=(600, 300))\n",
    "#fig.append( glucifer.objects.Points(swarm, proxyTempVariable))\n",
    "#fig.append( glucifer.objects.Points(fb.swarm))\n",
    "#fig.show()\n",
    "#fig.save_database('test.gldb')"
   ]
  },
  {
   "cell_type": "markdown",
   "metadata": {
    "deletable": true,
    "editable": true
   },
   "source": [
    "##  Define subduction fault evolution (rebuild/destroy)\n",
    "\n",
    "\n",
    "In this section we setup some functions to help manage the spatial distribution of faults"
   ]
  },
  {
   "cell_type": "code",
   "execution_count": null,
   "metadata": {
    "collapsed": true,
    "deletable": true,
    "editable": true
   },
   "outputs": [],
   "source": []
  },
  {
   "cell_type": "code",
   "execution_count": 34,
   "metadata": {
    "collapsed": false,
    "deletable": true,
    "editable": true
   },
   "outputs": [],
   "source": [
    "# Setup a swarm to define the replacment positions\n",
    "\n",
    "fThick= fCollection[0].thickness\n",
    "\n",
    "faultloc = 1. - md.faultThickness*md.faultLocFac\n",
    "\n",
    "allxs = np.arange(mesh.minCoord[0], mesh.maxCoord[0], ds )[:-1]\n",
    "allys = (mesh.maxCoord[1] - fThick)*np.ones(allxs.shape)\n",
    "\n",
    "faultMasterSwarm = uw.swarm.Swarm( mesh=mesh )\n",
    "dummy =  faultMasterSwarm.add_particles_with_coordinates(np.column_stack((allxs, allys)))\n",
    "del allxs\n",
    "del allys\n",
    "\n",
    "\n",
    "\n",
    "##What are we doing here??\n",
    "\n",
    "#this will be used to actively remove any fault particles around the ridge\n",
    "faultRmfn = tm.variable_boundary_mask_fn(distMax = ndimlz(100*ur.km),\n",
    "                                           distMin = ndimlz(20*ur.km), \n",
    "                                           relativeWidth = 0.1,\n",
    "                                           boundtypes='ridge')\n",
    "\n",
    "\n",
    "\n",
    "#this don;t need to mask the fault addition at all, let the removal do the work\n",
    "#faultAddFn =  faultRmfn \n",
    "faultAddFn =  fn.misc.constant(True)\n",
    "\n",
    "###The following mask function provide a way of building velocity conditions within the plates,\n",
    "#This removes the regions around the ridges from the velocity nodes\n",
    "velMask1 = tm.t2f(tm.ridge_mask_fn(dist=ndimlz(25*ur.km)))\n",
    "#This removes the regions around the subduction from the velocity nodes\n",
    "velMask2= tm.t2f(tm.subduction_mask_fn(dist=md.faultViscHorizTaperStart))\n",
    "#combine\n",
    "velMaskFn = operator.and_( velMask1,  velMask2)\n",
    "\n",
    "\n",
    "#order is very important here\n",
    "#dummy = remove_fault_drift(fCollection, faultloc)\n",
    "#dummy = pop_or_perish(tm, fCollection, faultMasterSwarm, faultAddFn , ds)\n",
    "#dummy = remove_faults_from_boundaries(tm, fCollection, faultRmfn )\n"
   ]
  },
  {
   "cell_type": "code",
   "execution_count": 35,
   "metadata": {
    "collapsed": true,
    "deletable": true,
    "editable": true
   },
   "outputs": [],
   "source": [
    "dummy = remove_fault_drift(fCollection, faultloc)\n",
    "dummy = pop_or_perish(tm, fCollection, faultMasterSwarm, faultAddFn , ds)\n",
    "dummy = remove_faults_from_boundaries(tm, fCollection, faultRmfn )"
   ]
  },
  {
   "cell_type": "code",
   "execution_count": 36,
   "metadata": {
    "collapsed": true,
    "deletable": true,
    "editable": true
   },
   "outputs": [],
   "source": [
    "#maskFn_ = tm.t2f(faultRmfn)\n",
    "#pIdFn = tm.plate_id_fn(maskFn=maskFn_)"
   ]
  },
  {
   "cell_type": "code",
   "execution_count": 37,
   "metadata": {
    "collapsed": true,
    "deletable": true,
    "editable": true
   },
   "outputs": [],
   "source": [
    "#def buildPlateBoundMarkerSwarms(tectModel):\n",
    "#    boundSwarmList = []\n",
    "#    for e in tectModel.undirected.edges():\n",
    "#        loc = tectModel.get_bound_loc(e)\n",
    "#        #print(loc)\n",
    "#        points = np.array([loc, tectModel.mesh.maxCoord[1] - 1e-6])\n",
    "#        _swarm = uw.swarm.Swarm(tectModel.mesh)\n",
    "#        _swarm.add_particles_with_coordinates(np.expand_dims(points, 0))\n",
    "#        boundSwarmList.append(_swarm)\n",
    "#    return boundSwarmList"
   ]
  },
  {
   "cell_type": "code",
   "execution_count": 38,
   "metadata": {
    "collapsed": false,
    "deletable": true,
    "editable": true
   },
   "outputs": [],
   "source": [
    "#boundSwarmList = buildPlateBoundMarkerSwarms(tm)"
   ]
  },
  {
   "cell_type": "code",
   "execution_count": 39,
   "metadata": {
    "collapsed": false,
    "deletable": true,
    "editable": true
   },
   "outputs": [],
   "source": [
    "#fig = glucifer.Figure(figsize=(600, 300))\n",
    "#fig.append( glucifer.objects.Surface(tm.mesh, velMaskFn, onMesh=True))\n",
    "#for s in boundSwarmList:\n",
    "##    fig.append( glucifer.objects.Points(s, pointSize=5))\n",
    "#fig.show()\n",
    "#fig.save_database('test.gldb')"
   ]
  },
  {
   "cell_type": "code",
   "execution_count": null,
   "metadata": {
    "collapsed": false,
    "deletable": true,
    "editable": true
   },
   "outputs": [],
   "source": []
  },
  {
   "cell_type": "markdown",
   "metadata": {
    "collapsed": false,
    "deletable": true,
    "editable": true
   },
   "source": [
    "## Proximity\n",
    "\n"
   ]
  },
  {
   "cell_type": "code",
   "execution_count": 40,
   "metadata": {
    "collapsed": false,
    "deletable": true,
    "editable": true
   },
   "outputs": [],
   "source": [
    "proximityVariable.data[:] = 0"
   ]
  },
  {
   "cell_type": "code",
   "execution_count": 41,
   "metadata": {
    "collapsed": false,
    "deletable": true,
    "editable": true
   },
   "outputs": [],
   "source": [
    "for f in fCollection:\n",
    "    f.rebuild()\n",
    "    f.set_proximity_director(swarm, proximityVariable, searchFac = 2., locFac=1.0)"
   ]
  },
  {
   "cell_type": "code",
   "execution_count": 42,
   "metadata": {
    "collapsed": true,
    "deletable": true,
    "editable": true
   },
   "outputs": [],
   "source": [
    "#update_faults()"
   ]
  },
  {
   "cell_type": "code",
   "execution_count": 43,
   "metadata": {
    "collapsed": false,
    "deletable": true,
    "editable": true
   },
   "outputs": [],
   "source": [
    "#figProx = glucifer.Figure(figsize=(960,300) )\n",
    "#figProx.append( glucifer.objects.Points(swarm , proximityVariable))\n",
    "#figProx.append( glucifer.objects.Surface(mesh, velMaskFn))\n",
    "\n",
    "#for f in fCollection:\n",
    "#    figProx.append( glucifer.objects.Points(f.swarm, pointSize=5))\n",
    "#figProx.show()\n",
    "\n",
    "\n",
    "#figProx.save_database('test.gldb')"
   ]
  },
  {
   "cell_type": "code",
   "execution_count": 44,
   "metadata": {
    "collapsed": false,
    "deletable": true,
    "editable": true
   },
   "outputs": [],
   "source": [
    "#testMM = fn.view.min_max(uw.function.input(f.swarm.particleCoordinates))\n",
    "#dummyFn = testMM.evaluate(tWalls)"
   ]
  },
  {
   "cell_type": "markdown",
   "metadata": {
    "deletable": true,
    "editable": true
   },
   "source": [
    "## Define Wedge region"
   ]
  },
  {
   "cell_type": "code",
   "execution_count": null,
   "metadata": {
    "collapsed": true,
    "deletable": true,
    "editable": true
   },
   "outputs": [],
   "source": []
  },
  {
   "cell_type": "code",
   "execution_count": null,
   "metadata": {
    "collapsed": false,
    "deletable": true,
    "editable": true
   },
   "outputs": [],
   "source": []
  },
  {
   "cell_type": "code",
   "execution_count": 45,
   "metadata": {
    "collapsed": false,
    "deletable": true,
    "editable": true
   },
   "outputs": [],
   "source": [
    "wedgeVariable.data[:] = 0\n",
    "def build_wedge_region():\n",
    "    \n",
    "    wedgeVariable.data[:] = 0\n",
    "\n",
    "    sd, pts0 = fCollection[0].compute_signed_distance(swarm.particleCoordinates.data, 10.)\n",
    "\n",
    "    #1./ndimlz(1*ur.megayear)\n",
    "    wedgeVariable.data[np.logical_and(sd<(-1.*md.faultThickness),sd>-1.*md.wedgeThickness)] = 1\n",
    "    mask = np.where(np.logical_or((1. - swarm.particleCoordinates.data[:,1]) < md.wedgeShallow, \n",
    "                                    (1. - swarm.particleCoordinates.data[:,1]) > md.wedgeDeep)) [0] \n",
    "    wedgeVariable.data[mask] = 0\n",
    "\n",
    "    #And outside of the x lim\n",
    "    #mask2 = fCollection[0].swarm.particleCoordinates.data[:,1] > (1. - md.wedgeDeep)\n",
    "    #if mask2.sum():\n",
    "    #    maxXWedge = np.max(fCollection[0].swarm.particleCoordinates.data[:,0][mask2]) + 2*ds\n",
    "    #else:\n",
    "    #    maxXWedge = mesh.maxCoord[0]\n",
    "    \n",
    "    #md.faultThickness, md.wedgeThickness\n",
    "    \n",
    "    #this relies on using the max fault depth as the max wedge depth.\n",
    "    minmax_coordx = fn.view.min_max(fn.coord()[0])\n",
    "    ignore = minmax_coordx.evaluate(fCollection[0].swarm)\n",
    "    leftExt = minmax_coordx.min_global()\n",
    "    rightExt = minmax_coordx.max_global()\n",
    "  \n",
    "    mask3 = swarm.particleCoordinates.data[:,0] > rightExt\n",
    "\n",
    "    if mask3.sum():\n",
    "        wedgeVariable.data[mask3 ] = 0"
   ]
  },
  {
   "cell_type": "code",
   "execution_count": 46,
   "metadata": {
    "collapsed": true,
    "deletable": true,
    "editable": true
   },
   "outputs": [],
   "source": [
    "#build this guy here so it has contains both 0s and 1s - \n",
    "#otherwise the mappign dictionary may fail\n",
    "\n",
    "build_wedge_region()"
   ]
  },
  {
   "cell_type": "code",
   "execution_count": 47,
   "metadata": {
    "collapsed": false,
    "deletable": true,
    "editable": true
   },
   "outputs": [],
   "source": [
    "#figProx = glucifer.Figure(figsize=(960,300) )\n",
    "#figProx.append( glucifer.objects.Points(swarm ,wedgeVariable))\n",
    "#for f in fCollection:\n",
    "#    figProx.append( glucifer.objects.Points(f.swarm))\n",
    "\n",
    "#figProx.show()"
   ]
  },
  {
   "cell_type": "code",
   "execution_count": 48,
   "metadata": {
    "collapsed": false,
    "deletable": true,
    "editable": true
   },
   "outputs": [],
   "source": [
    "#figProx.save_database(\"test.gldb\")"
   ]
  },
  {
   "cell_type": "markdown",
   "metadata": {
    "deletable": true,
    "editable": true
   },
   "source": [
    "## Prescribed velocity"
   ]
  },
  {
   "cell_type": "code",
   "execution_count": 49,
   "metadata": {
    "collapsed": true,
    "deletable": true,
    "editable": true
   },
   "outputs": [],
   "source": [
    "def set_vel_return_nodes(time, maskFn):\n",
    "    \n",
    "    \"\"\"\n",
    "    globals:\n",
    "    velocityField\n",
    "    \n",
    "    \"\"\"\n",
    "    \n",
    "    nodes = tm.plate_vel_node_fn(time, maskFn = maskFn)\n",
    "    \n",
    "    #4 parallel safety\n",
    "    if not nodes.shape[0]:\n",
    "        return np.array([])\n",
    "        \n",
    "    pIdFn = tm.plate_id_fn()\n",
    "    #velMapFn = tm.plateVelFn(testTime, pIdFn)\n",
    "    velMapFn = tm.plateVelFn(time, pIdFn)\n",
    "    locs = tm.mesh.data[nodes]\n",
    "\n",
    "    #Now set the veolcity on the nodes\n",
    "    velocityField.data[nodes, 0] = velMapFn.evaluate(locs)[:,0]\n",
    "    return nodes\n",
    "    "
   ]
  },
  {
   "cell_type": "code",
   "execution_count": 50,
   "metadata": {
    "collapsed": false,
    "deletable": true,
    "editable": true
   },
   "outputs": [],
   "source": [
    "vXnodes = set_vel_return_nodes(0., velMaskFn)"
   ]
  },
  {
   "cell_type": "code",
   "execution_count": 51,
   "metadata": {
    "collapsed": false,
    "deletable": true,
    "editable": true
   },
   "outputs": [],
   "source": [
    "#np.empty(0), \n",
    "#test = tm.mesh.specialSets['MaxJ_VertexSet']data.shape"
   ]
  },
  {
   "cell_type": "code",
   "execution_count": 52,
   "metadata": {
    "collapsed": false,
    "deletable": true,
    "editable": true
   },
   "outputs": [],
   "source": [
    "#check\n",
    "#%pylab inline\n",
    "#tWalls = tm.mesh.specialSets['MaxJ_VertexSet']\n",
    "\n",
    "\n",
    "#fig, ax = plt.subplots(figsize=(10, 2))\n",
    "#plt.plot(mesh.data[tWalls.data][:,0], velocityField.data[tWalls.data][:,0])#\n",
    "#plt.scatter(mesh.data[vXnodes ][:,0], np.zeros(len(mesh.data[vXnodes ][:,0])), s = 0.5, c = 'k')\n",
    "#ax.hlines(500, tm.minX, tm.maxX, linestyles='--')"
   ]
  },
  {
   "cell_type": "markdown",
   "metadata": {
    "deletable": true,
    "editable": true
   },
   "source": [
    "## Project the swarm 'proxy temp' to mesh"
   ]
  },
  {
   "cell_type": "code",
   "execution_count": 53,
   "metadata": {
    "collapsed": true,
    "deletable": true,
    "editable": true
   },
   "outputs": [],
   "source": [
    "projectorMeshTemp= uw.utils.MeshVariable_Projection( temperatureField, proxyTempVariable , type=0 )\n",
    "projectorMeshTemp.solve()"
   ]
  },
  {
   "cell_type": "markdown",
   "metadata": {
    "collapsed": true,
    "deletable": true,
    "editable": true
   },
   "source": [
    "## Boundary conditions"
   ]
  },
  {
   "cell_type": "code",
   "execution_count": 54,
   "metadata": {
    "collapsed": false,
    "deletable": true,
    "editable": true
   },
   "outputs": [],
   "source": [
    "iWalls = mesh.specialSets[\"MinI_VertexSet\"] + mesh.specialSets[\"MaxI_VertexSet\"]\n",
    "jWalls = mesh.specialSets[\"MinJ_VertexSet\"] + mesh.specialSets[\"MaxJ_VertexSet\"]\n",
    "\n",
    "tWalls = mesh.specialSets[\"MaxJ_VertexSet\"]\n",
    "bWalls = mesh.specialSets[\"MinJ_VertexSet\"]\n",
    "\n",
    "\n",
    "#velBC  = uw.conditions.DirichletCondition( variable        = velocityField, \n",
    "#                                           indexSetsPerDof = (iWalls, jWalls) )\n"
   ]
  },
  {
   "cell_type": "code",
   "execution_count": 55,
   "metadata": {
    "collapsed": false,
    "deletable": true,
    "editable": true
   },
   "outputs": [],
   "source": [
    "#vXnodes"
   ]
  },
  {
   "cell_type": "code",
   "execution_count": 56,
   "metadata": {
    "collapsed": true,
    "deletable": true,
    "editable": true
   },
   "outputs": [],
   "source": [
    "def build_velBcs(nodes):\n",
    "    \n",
    "    velnodeset = mesh.specialSets[\"Empty\"]\n",
    "    velnodeset += nodes\n",
    "\n",
    "    \n",
    "    velBC  = uw.conditions.DirichletCondition( variable        = velocityField, \n",
    "                                           indexSetsPerDof = (iWalls + velnodeset, jWalls) )\n",
    "    \n",
    "    return velBC"
   ]
  },
  {
   "cell_type": "code",
   "execution_count": 57,
   "metadata": {
    "collapsed": false,
    "deletable": true,
    "editable": true
   },
   "outputs": [],
   "source": [
    "velBC = build_velBcs(vXnodes)"
   ]
  },
  {
   "cell_type": "code",
   "execution_count": 58,
   "metadata": {
    "collapsed": false,
    "deletable": true,
    "editable": true
   },
   "outputs": [],
   "source": [
    "#Ridges enforced\n",
    "dirichTempBC = uw.conditions.DirichletCondition(     variable=temperatureField, \n",
    "                                              indexSetsPerDof=(tWalls + iWalls,) )\n",
    "\n",
    "\n",
    "###If we want thermal ridges fixed\n",
    "temperatureField.data[iWalls.data] = ndp.potentialTemp_"
   ]
  },
  {
   "cell_type": "markdown",
   "metadata": {
    "deletable": true,
    "editable": true
   },
   "source": [
    "## Bouyancy"
   ]
  },
  {
   "cell_type": "code",
   "execution_count": 59,
   "metadata": {
    "collapsed": false,
    "deletable": true,
    "editable": true
   },
   "outputs": [],
   "source": [
    "temperatureFn = temperatureField\n",
    "\n",
    "\n",
    "# Now create a buoyancy force vector using the density and the vertical unit vector. \n",
    "thermalDensityFn = md.buoyancyFac*rayleighNumber*(1. - temperatureFn)\n",
    "\n",
    "gravity = ( 0.0, -1.0 )\n",
    "\n",
    "buoyancyMapFn = thermalDensityFn*gravity"
   ]
  },
  {
   "cell_type": "markdown",
   "metadata": {
    "deletable": true,
    "editable": true
   },
   "source": [
    "## Rheology"
   ]
  },
  {
   "cell_type": "code",
   "execution_count": 60,
   "metadata": {
    "collapsed": false,
    "deletable": true,
    "editable": true
   },
   "outputs": [],
   "source": [
    "symStrainrate = fn.tensor.symmetric( \n",
    "                            velocityField.fn_gradient )\n",
    "\n",
    "#Set up any functions required by the rheology\n",
    "strainRate_2ndInvariant = fn.tensor.second_invariant( \n",
    "                            fn.tensor.symmetric( \n",
    "                            velocityField.fn_gradient ))\n",
    "\n",
    "\n",
    "\n",
    "def safe_visc(func, viscmin=md.viscosityMin, viscmax=md.viscosityMax):\n",
    "    return fn.misc.max(viscmin, fn.misc.min(viscmax, func))"
   ]
  },
  {
   "cell_type": "code",
   "execution_count": 75,
   "metadata": {
    "collapsed": false,
    "deletable": true,
    "editable": true
   },
   "outputs": [],
   "source": [
    "#Interface rheology extent\n",
    "\n",
    "subZoneDistfn = tm.subZoneAbsDistFn(upper=False, bigNum = 0.0)\n",
    "#subZoneDistfn = tm.subZoneAbsDistFn(upper=True)\n",
    "\n",
    "\n",
    "faultHorizTaperFn  = cosine_taper(subZoneDistfn, \n",
    "                                  md.faultViscHorizTaperStart, md.faultViscHorizTaperWidth)\n",
    "faultDepthTaperFn = cosine_taper(depthFn, \n",
    "                                 md.faultViscDepthTaperStart, md.faultViscDepthTaperWidth)"
   ]
  },
  {
   "cell_type": "code",
   "execution_count": 77,
   "metadata": {
    "collapsed": false,
    "deletable": true,
    "editable": true
   },
   "outputs": [],
   "source": [
    "#fig = glucifer.Figure(figsize=(960,300))\n",
    "\n",
    "#fig.append( glucifer.objects.Points(swarm, faultRheologyFn,  logScale=True))\n",
    "#fig.append( glucifer.objects.Surface(mesh,  faultHorizTaperFn))\n",
    "\n",
    "#fig.show()\n",
    "#fig.save_database('test.gldb')"
   ]
  },
  {
   "cell_type": "code",
   "execution_count": 64,
   "metadata": {
    "collapsed": false,
    "deletable": true,
    "editable": true
   },
   "outputs": [],
   "source": [
    "#temperatureField, \n",
    "\n",
    "#ndp.diffusionPreExp, ndp.diffusionVolumeDepth, ndp.diffusionEnergyDepth, ndp.surfaceTemp\n",
    "#(1./ndp.diffusionPreExp)\n",
    "#md.faultViscHorizTaperWidth*2900.\n",
    "\n",
    "#5/4."
   ]
  },
  {
   "cell_type": "code",
   "execution_count": 66,
   "metadata": {
    "collapsed": false,
    "deletable": true,
    "editable": true
   },
   "outputs": [],
   "source": [
    "\n",
    "\n",
    "adiabaticCorrectFn = depthFn*ndp.adiabaticTempGrad\n",
    "dynamicPressureProxyDepthFn = pressureField/pressureDepthGrad\n",
    "druckerDepthFn = fn.misc.max(0.0, depthFn + md.druckerAlpha*(dynamicPressureProxyDepthFn))\n",
    "\n",
    "#Diffusion Creep\n",
    "diffusionUM = (1./ndp.diffusionPreExp)*\\\n",
    "    fn.math.exp( ((ndp.diffusionEnergyDepth + \\\n",
    "                   (depthFn*ndp.diffusionVolumeDepth))/((temperatureFn+ adiabaticCorrectFn + ndp.surfaceTemp))))\n",
    "\n",
    "diffusionUM =     safe_visc(diffusionUM)\n",
    "    \n",
    "diffusionLM = ndp.lowerMantleViscFac*(1./ndp.diffusionPreExp)*\\\n",
    "    fn.math.exp( ((ndp.diffusionEnergyDepth + \\\n",
    "                   (depthFn*ndp.diffusionVolumeDepth))/((temperatureFn+ adiabaticCorrectFn + ndp.surfaceTemp))))\n",
    "\n",
    "#diffusionLM =     safe_visc(diffusionLM)\n",
    "\n",
    "\n",
    "transitionZoneTaperFn = cosine_taper(depthFn, md.lowerMantleDepth - 0.5*md.lowerMantleTransWidth , md.lowerMantleTransWidth )\n",
    "\n",
    "\n",
    "mantleCreep = diffusionUM*(1. - transitionZoneTaperFn) + transitionZoneTaperFn*diffusionLM\n",
    "\n",
    "#Define the mantle Plasticity\n",
    "ys =  ndp.cohesionMantle + (druckerDepthFn*ndp.frictionMantleDepth)\n",
    "ysf = fn.misc.min(ys, ndp.yieldStressMax)\n",
    "yielding = ysf/(2.*(strainRate_2ndInvariant) + 1e-15) \n",
    "\n",
    "mantleRheologyFn =  safe_visc(mantleCreep*yielding/(mantleCreep + yielding), \n",
    "                              viscmin=md.viscosityMin, viscmax=md.viscosityMax)\n",
    "\n",
    "\n",
    "faultViscosityFn = ndp.viscosityFault\n",
    "\n",
    "faultRheologyFn =  faultViscosityFn*(1. - faultDepthTaperFn) +  \\\n",
    "                       faultDepthTaperFn*mantleRheologyFn + faultHorizTaperFn*mantleRheologyFn\n"
   ]
  },
  {
   "cell_type": "code",
   "execution_count": 67,
   "metadata": {
    "collapsed": false,
    "deletable": true,
    "editable": true
   },
   "outputs": [],
   "source": [
    "#(md.lowerMantleDepth - 0.5*md.lowerMantleTransWidth )*2900.0"
   ]
  },
  {
   "cell_type": "code",
   "execution_count": 83,
   "metadata": {
    "collapsed": false,
    "deletable": true,
    "editable": true
   },
   "outputs": [],
   "source": [
    "#Here's how we include the wedge \n",
    "mantleRheologyFn_ = fn.branching.map( fn_key = wedgeVariable,\n",
    "                                 mapping = {0:mantleRheologyFn,\n",
    "                                            1:mantleRheologyFn} )"
   ]
  },
  {
   "cell_type": "code",
   "execution_count": 84,
   "metadata": {
    "collapsed": false,
    "deletable": true,
    "editable": true
   },
   "outputs": [],
   "source": [
    "#viscconds = ((proximityVariable == 0, mantleRheologyFn),\n",
    "#             (True, interfaceViscosityFn ))\n",
    "\n",
    "#viscosityMapFn = fn.branching.conditional(viscconds)\n",
    "#viscosityMapFn = mantleRheologyFn\n",
    "\n",
    "\n",
    "viscosityMapFn = fn.branching.map( fn_key = proximityVariable,\n",
    "                             mapping = {0:mantleRheologyFn_,\n",
    "                                        2:faultRheologyFn} )"
   ]
  },
  {
   "cell_type": "code",
   "execution_count": 85,
   "metadata": {
    "collapsed": false,
    "deletable": true,
    "editable": true
   },
   "outputs": [],
   "source": [
    "#md.wedgeViscosity"
   ]
  },
  {
   "cell_type": "code",
   "execution_count": null,
   "metadata": {
    "collapsed": false,
    "deletable": true,
    "editable": true
   },
   "outputs": [],
   "source": []
  },
  {
   "cell_type": "code",
   "execution_count": 71,
   "metadata": {
    "collapsed": false,
    "deletable": true,
    "editable": true
   },
   "outputs": [],
   "source": [
    "#fig.save_database('test.gldb')"
   ]
  },
  {
   "cell_type": "code",
   "execution_count": 72,
   "metadata": {
    "collapsed": false,
    "deletable": true,
    "editable": true
   },
   "outputs": [],
   "source": [
    "#ndimlz(1.0*ur.megayear)"
   ]
  },
  {
   "cell_type": "markdown",
   "metadata": {
    "deletable": true,
    "editable": true
   },
   "source": [
    "## Stokes"
   ]
  },
  {
   "cell_type": "code",
   "execution_count": 125,
   "metadata": {
    "collapsed": false,
    "deletable": true,
    "editable": true
   },
   "outputs": [],
   "source": [
    "surfaceArea = uw.utils.Integral(fn=1.0,mesh=mesh, integrationType='surface', surfaceIndexSet=tWalls)\n",
    "surfacePressureIntegral = uw.utils.Integral(fn=pressureField, mesh=mesh, integrationType='surface', surfaceIndexSet=tWalls)\n",
    "\n",
    "NodePressure = uw.mesh.MeshVariable(mesh, nodeDofCount=1)\n",
    "Cell2Nodes = uw.utils.MeshVariable_Projection(NodePressure, pressureField, type=0)\n",
    "Nodes2Cell = uw.utils.MeshVariable_Projection(pressureField, NodePressure, type=0)\n",
    "\n",
    "def smooth_pressure(mesh):\n",
    "    # Smooths the pressure field.\n",
    "    # Assuming that pressure lies on the submesh, do a cell -> nodes -> cell\n",
    "    # projection.\n",
    "\n",
    "    Cell2Nodes.solve()\n",
    "    Nodes2Cell.solve()\n",
    "\n",
    "# a callback function to calibrate the pressure - will pass to solver later\n",
    "def pressure_calibrate():\n",
    "    (area,) = surfaceArea.evaluate()\n",
    "    (p0,) = surfacePressureIntegral.evaluate()\n",
    "    offset = p0/area\n",
    "    pressureField.data[:] -= offset\n",
    "    smooth_pressure(mesh)"
   ]
  },
  {
   "cell_type": "code",
   "execution_count": 126,
   "metadata": {
    "collapsed": false,
    "deletable": true,
    "editable": true
   },
   "outputs": [],
   "source": [
    "stokes = uw.systems.Stokes( velocityField  = velocityField, \n",
    "                                   pressureField  = pressureField,\n",
    "                                   conditions     = [velBC,],\n",
    "                                   fn_viscosity   = viscosityMapFn, \n",
    "                                   fn_bodyforce   = buoyancyMapFn )\n"
   ]
  },
  {
   "cell_type": "code",
   "execution_count": 127,
   "metadata": {
    "collapsed": false,
    "deletable": true,
    "editable": true
   },
   "outputs": [],
   "source": [
    "solver = uw.systems.Solver(stokes)\n",
    "\n",
    "solver.set_inner_method(\"mumps\")\n",
    "solver.options.scr.ksp_type=\"cg\"\n",
    "solver.set_penalty(1.0e7)\n",
    "solver.options.scr.ksp_rtol = 1.0e-4\n"
   ]
  },
  {
   "cell_type": "code",
   "execution_count": 128,
   "metadata": {
    "collapsed": false,
    "deletable": true,
    "editable": true
   },
   "outputs": [
    {
     "name": "stdout",
     "output_type": "stream",
     "text": [
      "\u001b[1;35m\n",
      " \n",
      "Pressure iterations:   4\n",
      "Velocity iterations:   1 (presolve)      \n",
      "Velocity iterations:  -1 (pressure solve)\n",
      "Velocity iterations:   1 (backsolve)     \n",
      "Velocity iterations:   1 (total solve)   \n",
      " \n",
      "SCR RHS  solve time: 3.1466e-01\n",
      "Pressure solve time: 3.7184e-02\n",
      "Velocity solve time: 3.0897e-01 (backsolve)\n",
      "Total solve time   : 7.1743e-01\n",
      " \n",
      "Velocity solution min/max: 0.0000e+00/0.0000e+00\n",
      "Pressure solution min/max: 0.0000e+00/0.0000e+00\n",
      " \n",
      "\u001b[00m\n"
     ]
    }
   ],
   "source": [
    "solver.solve(nonLinearIterate=True, nonLinearTolerance=md.nltol, callback_post_solve = pressure_calibrate)\n",
    "solver.print_stats()"
   ]
  },
  {
   "cell_type": "code",
   "execution_count": 64,
   "metadata": {
    "collapsed": false,
    "deletable": true,
    "editable": true
   },
   "outputs": [],
   "source": [
    "#velocityField.data.max()"
   ]
  },
  {
   "cell_type": "markdown",
   "metadata": {
    "collapsed": true,
    "deletable": true,
    "editable": true
   },
   "source": [
    "## Advection - Diffusion"
   ]
  },
  {
   "cell_type": "code",
   "execution_count": 65,
   "metadata": {
    "collapsed": true,
    "deletable": true,
    "editable": true
   },
   "outputs": [],
   "source": [
    "advDiff = uw.systems.AdvectionDiffusion( phiField       = temperatureFn, \n",
    "                                         phiDotField    = temperatureDotField, \n",
    "                                         velocityField  = velocityField,\n",
    "                                         fn_sourceTerm    = 0.0,\n",
    "                                         fn_diffusivity = ndp.refDiffusivity, \n",
    "                                         #conditions     = [neumannTempBC, dirichTempBC] )\n",
    "                                         conditions     = [ dirichTempBC] )"
   ]
  },
  {
   "cell_type": "markdown",
   "metadata": {
    "deletable": true,
    "editable": true
   },
   "source": [
    "## Swarm Advector"
   ]
  },
  {
   "cell_type": "code",
   "execution_count": 66,
   "metadata": {
    "collapsed": true,
    "deletable": true,
    "editable": true
   },
   "outputs": [],
   "source": [
    "advector = uw.systems.SwarmAdvector( swarm=swarm, velocityField=velocityField, order=2 )\n"
   ]
  },
  {
   "cell_type": "code",
   "execution_count": 67,
   "metadata": {
    "collapsed": true,
    "deletable": true,
    "editable": true
   },
   "outputs": [],
   "source": [
    "population_control = uw.swarm.PopulationControl(swarm, deleteThreshold=0.006, \n",
    "                                                splitThreshold=0.25,maxDeletions=1, maxSplits=3, aggressive=True,\n",
    "                                                aggressiveThreshold=0.9, particlesPerCell=int(md.ppc))"
   ]
  },
  {
   "cell_type": "markdown",
   "metadata": {
    "deletable": true,
    "editable": true
   },
   "source": [
    "## Set up a midplane swarm"
   ]
  },
  {
   "cell_type": "code",
   "execution_count": 61,
   "metadata": {
    "collapsed": false,
    "deletable": true,
    "editable": true
   },
   "outputs": [],
   "source": [
    "#midplane.swarm.particleCoordinates.data"
   ]
  },
  {
   "cell_type": "code",
   "execution_count": 101,
   "metadata": {
    "collapsed": false,
    "deletable": true,
    "editable": true
   },
   "outputs": [],
   "source": [
    "spId = 2\n",
    "midPlaneDepth = ndimlz(25.*ur.kilometer)\n",
    "\n",
    "midPlaneXs = np.arange(tm.get_boundaries(2)[0] + 2.*ds, tm.get_boundaries(2)[1] - 2.*ds, ds)\n",
    "midPlaneYs = np.ones(len(midPlaneXs)) * (1. - midPlaneDepth)\n",
    "midplane = interface2D(mesh, velocityField, midPlaneXs, midPlaneYs,1.0, 2)\n",
    "\n",
    "mCollection = interface_collection([])\n",
    "mCollection.append(midplane)\n",
    "\n",
    "\n",
    "allxs = np.arange(mesh.minCoord[0], mesh.maxCoord[0], ds )[:-1]\n",
    "allys = (1. - midPlaneDepth)*np.ones(allxs.shape)\n",
    "\n",
    "midPlaneMasterSwarm = uw.swarm.Swarm( mesh=mesh )\n",
    "dummy =  midPlaneMasterSwarm.add_particles_with_coordinates(np.column_stack((allxs, allys)))\n",
    "del allxs\n",
    "del allys\n",
    "\n"
   ]
  },
  {
   "cell_type": "code",
   "execution_count": 94,
   "metadata": {
    "collapsed": false,
    "deletable": true,
    "editable": true
   },
   "outputs": [],
   "source": [
    "#testFn = tm.xFn > -10.\n",
    "#dummy = pop_or_perish(tm, mCollection, midPlaneMasterSwarm, faultAddFn , ds)\n",
    "#dummy = remove_faults_from_boundaries(tm, mCollection, testFn )\n"
   ]
  },
  {
   "cell_type": "code",
   "execution_count": 188,
   "metadata": {
    "collapsed": false,
    "deletable": true,
    "editable": true
   },
   "outputs": [],
   "source": [
    "#parallelMeshVariable = uw.mesh.MeshVariable( mesh=mesh,         nodeDofCount=2 )\n",
    "#parallelStressVariable = uw.mesh.MeshVariable( mesh=mesh,         nodeDofCount=1 )\n",
    "\n",
    "#lithHalfThick = ndimlz(60.*ur.kilometer)\n",
    "#director, fpts = mCollection[0].compute_normals(mesh.data, thickness=lithHalfThick)\n",
    "#parDir = np.column_stack((-1.*director[:,1], director[:,0]))\n",
    "#parallelVariable.data[fpts] = parDir[fpts]"
   ]
  },
  {
   "cell_type": "markdown",
   "metadata": {
    "deletable": true,
    "editable": true
   },
   "source": [
    "## Update functions"
   ]
  },
  {
   "cell_type": "code",
   "execution_count": 62,
   "metadata": {
    "collapsed": false,
    "deletable": true,
    "editable": true
   },
   "outputs": [
    {
     "data": {
      "text/plain": [
       "{'(1, 1)': [],\n",
       " '(1, 2)': [],\n",
       " '(2, 3)': [],\n",
       " '(3, 3)': [],\n",
       " 'stepAtSave': [],\n",
       " 'timeAtSave': []}"
      ]
     },
     "execution_count": 62,
     "metadata": {},
     "output_type": "execute_result"
    }
   ],
   "source": [
    "valuesDict = edict({})\n",
    "valuesDict.timeAtSave = []\n",
    "valuesDict.stepAtSave = []\n",
    "for e in tm.undirected.edges():\n",
    "    valuesDict[str(e)] = []\n",
    "valuesDict  "
   ]
  },
  {
   "cell_type": "code",
   "execution_count": 63,
   "metadata": {
    "collapsed": true,
    "deletable": true,
    "editable": true
   },
   "outputs": [],
   "source": [
    "# Here we'll handle everything that should be advected - i.e. every timestep\n",
    "def advect_update(dt):\n",
    "    # Retrieve the maximum possible timestep for the advection system.\n",
    "    #dt = advector.get_max_dt()\n",
    "    # Advect swarm\n",
    "    advector.integrate(dt)\n",
    "    \n",
    "    #Advect faults\n",
    "    for f in fCollection:\n",
    "        f.advection(dt)\n",
    "        \n",
    "    #Advect markers\n",
    "    for m in mCollection:\n",
    "        m.advection(dt)\n",
    "    \n",
    "    \n",
    "    return time+dt, step+1"
   ]
  },
  {
   "cell_type": "code",
   "execution_count": 64,
   "metadata": {
    "collapsed": true,
    "deletable": true,
    "editable": true
   },
   "outputs": [],
   "source": [
    "def update_stokes(time, viscosityMapFn ):\n",
    "    \n",
    "\n",
    "\n",
    "    \n",
    "    #set velocity / pressure back to zero\n",
    "    #velocityField.data[:] = 0.\n",
    "    #pressureField.data[:] = 0.\n",
    "    \n",
    "    #set the new surface vel, get the velXNodes\n",
    "    vXnodes = set_vel_return_nodes(time, velMaskFn)\n",
    "    \n",
    "    #creat a BC object\n",
    "    velBC = build_velBcs(vXnodes)\n",
    "    \n",
    "    \n",
    "    \n",
    "    #rebuild stokes\n",
    "    stokes = uw.systems.Stokes( velocityField  = velocityField, \n",
    "                                   pressureField  = pressureField,\n",
    "                                   conditions     = [velBC,],\n",
    "                                   fn_viscosity   = viscosityMapFn, \n",
    "                                   fn_bodyforce   = buoyancyMapFn )\n",
    "    return stokes"
   ]
  },
  {
   "cell_type": "code",
   "execution_count": 65,
   "metadata": {
    "collapsed": true,
    "deletable": true,
    "editable": true
   },
   "outputs": [],
   "source": [
    "def rebuild_solver(stokes):\n",
    "    \n",
    "    solver = uw.systems.Solver(stokes)\n",
    "    solver.set_inner_method(\"mumps\")\n",
    "    solver.options.scr.ksp_type=\"cg\"\n",
    "    solver.set_penalty(1.0e7)\n",
    "    solver.options.scr.ksp_rtol = 1.0e-4\n",
    "    \n",
    "    return solver\n"
   ]
  },
  {
   "cell_type": "code",
   "execution_count": 105,
   "metadata": {
    "collapsed": false,
    "deletable": true,
    "editable": true
   },
   "outputs": [],
   "source": [
    "#faultloc"
   ]
  },
  {
   "cell_type": "code",
   "execution_count": null,
   "metadata": {
    "collapsed": true,
    "deletable": true,
    "editable": true
   },
   "outputs": [],
   "source": [
    "def update_faults():\n",
    "    \n",
    "    \n",
    "    #order is very important here\n",
    "    dummy = remove_fault_drift(fCollection, faultloc)\n",
    "    dummy = pop_or_perish(tm, fCollection, faultMasterSwarm, faultAddFn , ds)\n",
    "    dummy = remove_faults_from_boundaries(tm, fCollection, faultRmfn )\n",
    "    \n",
    "    \n",
    "    for f in fCollection:\n",
    "        \n",
    "        #Remove particles below a specified depth\n",
    "        #depthMask = f.swarm.particleCoordinates.data[:,1] <         (1. - md.faultDestroyDepth)\n",
    "        depthMask = f.swarm.particleCoordinates.data[:,1] <         (1. - md.wedgeDeep)\n",
    "        with f.swarm.deform_swarm():\n",
    "            f.swarm.particleCoordinates.data[depthMask] = (9999999., 9999999.)\n",
    "        \n",
    "        #The repair_interface2D routine is supposed to maintain particle density and smooth\n",
    "        repair_interface2D(f, ds, k=8)"
   ]
  },
  {
   "cell_type": "code",
   "execution_count": 79,
   "metadata": {
    "collapsed": false,
    "deletable": true,
    "editable": true
   },
   "outputs": [],
   "source": [
    "#markerDestroyDepth = ndimlz(500*ur.kilometer)\n",
    "#markerDestroyDepth"
   ]
  },
  {
   "cell_type": "code",
   "execution_count": 88,
   "metadata": {
    "collapsed": true,
    "deletable": true,
    "editable": true
   },
   "outputs": [],
   "source": [
    "markerDestroyDepth = ndimlz(500*ur.kilometer)\n",
    "def update_markers():\n",
    "        \n",
    "    #order is very important here\n",
    "    dummy = remove_fault_drift(mCollection, 1. - midPlaneDepth)\n",
    "    dummy = pop_or_perish(tm, mCollection, midPlaneMasterSwarm, faultAddFn , ds)\n",
    "    dummy = remove_faults_from_boundaries(tm, mCollection, faultRmfn )\n",
    "    \n",
    "    \n",
    "    for f in mCollection:\n",
    "        \n",
    "        #Remove particles below a specified depth\n",
    "        depthMask = f.swarm.particleCoordinates.data[:,1] <         (1. - markerDestroyDepth)\n",
    "        with f.swarm.deform_swarm():\n",
    "            f.swarm.particleCoordinates.data[depthMask] = (9999999., 9999999.)\n",
    "        \n",
    "        #The repair_interface2D routine is supposed to maintain particle density and smooth\n",
    "        repair_interface2D(f, ds, k=8)\n",
    "    "
   ]
  },
  {
   "cell_type": "code",
   "execution_count": 89,
   "metadata": {
    "collapsed": true,
    "deletable": true,
    "editable": true
   },
   "outputs": [],
   "source": [
    "#update_markers()"
   ]
  },
  {
   "cell_type": "code",
   "execution_count": 67,
   "metadata": {
    "collapsed": false,
    "deletable": true,
    "editable": true
   },
   "outputs": [],
   "source": [
    "def update_swarm():\n",
    "    \n",
    "    population_control.repopulate()\n",
    "    \n",
    "    for f in fCollection:\n",
    "        f.rebuild()\n",
    "        f.set_proximity_director(swarm, proximityVariable, searchFac = 2., locFac=1.0,\n",
    "                                maxDistanceFn=fn.misc.constant(2.))\n",
    "        \n",
    "    #A simple depth cutoff for proximity\n",
    "    depthMask = swarm.particleCoordinates.data[:,1] < (1. - md.faultDestroyDepth)\n",
    "    proximityVariable.data[depthMask] = 0\n",
    "    "
   ]
  },
  {
   "cell_type": "code",
   "execution_count": 21,
   "metadata": {
    "collapsed": false,
    "deletable": true,
    "editable": true
   },
   "outputs": [
    {
     "ename": "NameError",
     "evalue": "name 'mesh' is not defined",
     "output_type": "error",
     "traceback": [
      "\u001b[1;31m\u001b[0m",
      "\u001b[1;31mNameError\u001b[0mTraceback (most recent call last)",
      "\u001b[1;32m<ipython-input-21-77e668806707>\u001b[0m in \u001b[0;36m<module>\u001b[1;34m()\u001b[0m\n\u001b[0;32m      7\u001b[0m \u001b[1;33m\u001b[0m\u001b[0m\n\u001b[0;32m      8\u001b[0m \u001b[1;33m\u001b[0m\u001b[0m\n\u001b[1;32m----> 9\u001b[1;33m \u001b[0msurfacexs\u001b[0m \u001b[1;33m=\u001b[0m \u001b[0mmesh\u001b[0m\u001b[1;33m.\u001b[0m\u001b[0mdata\u001b[0m\u001b[1;33m[\u001b[0m\u001b[0mtWalls\u001b[0m\u001b[1;33m.\u001b[0m\u001b[0mdata\u001b[0m\u001b[1;33m]\u001b[0m\u001b[1;33m[\u001b[0m\u001b[1;33m:\u001b[0m\u001b[1;33m,\u001b[0m\u001b[1;36m0\u001b[0m\u001b[1;33m]\u001b[0m\u001b[1;33m\u001b[0m\u001b[0m\n\u001b[0m\u001b[0;32m     10\u001b[0m \u001b[0msurfaceys\u001b[0m \u001b[1;33m=\u001b[0m \u001b[0mmesh\u001b[0m\u001b[1;33m.\u001b[0m\u001b[0mdata\u001b[0m\u001b[1;33m[\u001b[0m\u001b[0mtWalls\u001b[0m\u001b[1;33m.\u001b[0m\u001b[0mdata\u001b[0m\u001b[1;33m]\u001b[0m\u001b[1;33m[\u001b[0m\u001b[1;33m:\u001b[0m\u001b[1;33m,\u001b[0m\u001b[1;36m1\u001b[0m\u001b[1;33m]\u001b[0m\u001b[1;33m\u001b[0m\u001b[0m\n\u001b[0;32m     11\u001b[0m \u001b[0msurfLine\u001b[0m \u001b[1;33m=\u001b[0m \u001b[0minterface2D\u001b[0m\u001b[1;33m(\u001b[0m\u001b[0mmesh\u001b[0m\u001b[1;33m,\u001b[0m \u001b[0mvelocityField\u001b[0m\u001b[1;33m,\u001b[0m\u001b[0msurfacexs\u001b[0m\u001b[1;33m,\u001b[0m \u001b[0msurfaceys\u001b[0m \u001b[1;33m,\u001b[0m \u001b[1;36m0\u001b[0m\u001b[1;33m,\u001b[0m  \u001b[1;36m99\u001b[0m\u001b[1;33m)\u001b[0m\u001b[1;33m\u001b[0m\u001b[0m\n",
      "\u001b[1;31mNameError\u001b[0m: name 'mesh' is not defined"
     ]
    }
   ],
   "source": [
    "#outputPath = os.path.join(os.path.abspath(\".\"),\"output/files\")\n",
    "\n",
    "if uw.rank()==0:\n",
    "    if not os.path.exists(outputPath):\n",
    "        os.makedirs(outputPath)\n",
    "uw.barrier()\n",
    "\n",
    "\n",
    "surfacexs = mesh.data[tWalls.data][:,0]\n",
    "surfaceys = mesh.data[tWalls.data][:,1]\n",
    "#note that the plate ID needs to be the same as the SP for remove faults from boundaries to work\n",
    "surfLine = interface2D(mesh, velocityField,surfacexs, surfaceys , 0,  2) #\n",
    "surfVx = uw.swarm.SwarmVariable(surfLine.swarm, 'double', 1)\n",
    "\n",
    "def save_files(step):\n",
    "    surfVx.data[:] = velocityField[0].evaluate(surfLine.swarm)\n",
    "    \n",
    "    surfVx.save(filePath + \"surfVx_\" + str(step).zfill(3) + \"_.h5\")"
   ]
  },
  {
   "cell_type": "code",
   "execution_count": 69,
   "metadata": {
    "collapsed": false,
    "deletable": true,
    "editable": true
   },
   "outputs": [],
   "source": [
    "def update_tect_model(tectModel, tmUwMap, time, dt = 0.0 ):\n",
    "    \n",
    "    \"\"\"\n",
    "    An example of how we can update the tect_model\n",
    "    \"\"\"\n",
    "    for e in tectModel.undirected.edges():\n",
    "        \n",
    "        #This is generally the first condition to check\" a specified boundary velocity\n",
    "        if tectModel.bound_has_vel(e, time):\n",
    "            newX = get_boundary_vel_update(tectModel, e, time, dt)\n",
    "            tectModel.set_bound_loc(e, newX)\n",
    "            \n",
    "        #in this model the ficticious boundaries remain fixed at the edge\n",
    "        elif e[0] == e[1]:\n",
    "            pass       \n",
    "        #now we'll apply a strain rate query to update the subduction zone loc\n",
    "        elif tectModel.is_subduction_boundary(e):\n",
    "            e = tectModel.subduction_edge_order(e)\n",
    "            newx = strain_rate_field_update(tectModel, e, tmUwMap, dist = ndimlz(100*ur.kilometer))\n",
    "            tectModel.set_bound_loc(e, newx)\n",
    "        else:\n",
    "            pass\n"
   ]
  },
  {
   "cell_type": "code",
   "execution_count": 70,
   "metadata": {
    "collapsed": false,
    "deletable": true,
    "editable": true
   },
   "outputs": [],
   "source": [
    "#update_tect_model(tm, tmUwMap, 0., dt = 0.1 )"
   ]
  },
  {
   "cell_type": "code",
   "execution_count": 71,
   "metadata": {
    "collapsed": true,
    "deletable": true,
    "editable": true
   },
   "outputs": [],
   "source": [
    "def update_mask_fns():\n",
    "\n",
    "    faultRmfn = tm.variable_boundary_mask_fn(distMax = ndimlz(100*ur.km),\n",
    "                                               distMin = ndimlz(20*ur.km), \n",
    "                                               relativeWidth = 0.1,\n",
    "                                               boundtypes='ridge')\n",
    "\n",
    "\n",
    "\n",
    "    faultAddFn =  fn.misc.constant(True)\n",
    "\n",
    "    velMask1 = tm.t2f(tm.ridge_mask_fn(dist=ndimlz(25*ur.km)))\n",
    "    velMask2= tm.t2f(tm.subduction_mask_fn(dist=md.faultViscHorizTaperStart))\n",
    "    velMaskFn = operator.and_( velMask1,  velMask2)\n",
    "\n",
    "\n",
    "    #the following dictates where the fault rheology will be activated\n",
    "    #subZoneDistfn = tm.subZoneAbsDistFn(upper=True)\n",
    "    subZoneDistfn = tm.subZoneAbsDistFn(upper=False, bigNum = 0.0)\n",
    "    \n",
    "    faultHorizTaperFn  = cosine_taper(subZoneDistfn, \n",
    "                                  md.faultViscHorizTaperStart, md.faultViscHorizTaperWidth)\n",
    "    \n",
    "    return faultRmfn, faultAddFn, velMaskFn, faultHorizTaperFn"
   ]
  },
  {
   "cell_type": "code",
   "execution_count": 72,
   "metadata": {
    "collapsed": false,
    "deletable": true,
    "editable": true
   },
   "outputs": [],
   "source": [
    "#ridgeMaskFn, boundMaskFn, velMaskFn = update_mask_fns()"
   ]
  },
  {
   "cell_type": "markdown",
   "metadata": {
    "deletable": true,
    "editable": true
   },
   "source": [
    "## Track the values of the plate bounaries"
   ]
  },
  {
   "cell_type": "code",
   "execution_count": 73,
   "metadata": {
    "collapsed": false,
    "deletable": true,
    "editable": true
   },
   "outputs": [],
   "source": [
    "def update_values():\n",
    "    \n",
    "    \"\"\" \n",
    "    Assumes global variables:\n",
    "    * time\n",
    "    * step \n",
    "    ...\n",
    "    + many functions\n",
    "    \"\"\"\n",
    "    \n",
    "    \n",
    "    #save the time and step\n",
    "    valuesDict.timeAtSave.append(time) \n",
    "    valuesDict.stepAtSave.append(step)\n",
    "    \n",
    "    for e in tm.undirected.edges():\n",
    "        if tm.is_subduction_boundary(e):\n",
    "            ee = tm.subduction_edge_order(e) #hacky workaround for the directed/ undireted. need get_bound_loc\n",
    "        else:\n",
    "            ee = e\n",
    "\n",
    "        valuesDict[str(e)].append(tm.get_bound_loc(ee))\n",
    "        \n",
    "        \n",
    "    #save\n",
    "    if uw.rank()==0:\n",
    "        fullpath = os.path.join(valuesPath + \"tect_model_data\")\n",
    "        #the '**' is important\n",
    "        np.savez(fullpath, **valuesDict)\n",
    "    "
   ]
  },
  {
   "cell_type": "code",
   "execution_count": 133,
   "metadata": {
    "collapsed": false,
    "deletable": true,
    "editable": true
   },
   "outputs": [],
   "source": [
    "#sigXXswarm =  2.*symStrainrate[0]*viscosityMapFn\n",
    "viscMesh = uw.mesh.MeshVariable( mesh=mesh,         nodeDofCount=1 )\n",
    "sigXXMesh =  uw.mesh.MeshVariable( mesh=mesh,         nodeDofCount=1 )\n",
    "viscMesh.data[:] = 0.\n",
    "sigXXMesh.data[:] = 0.\n",
    "\n",
    "sigXXFn = 2.*symStrainrate[0]*sigXXMesh\n",
    "#projectorDevStress = uw.utils.MeshVariable_Projection(sigXXMesh, sigXXswarm  , type=0 )\n",
    "\n",
    "def swarm_to_mesh_update():    \n",
    "#    projectorDevStress.solve()\n",
    "    ix1, weights1, d1 = nn_evaluation(swarm.particleCoordinates.data, mesh.data, n=5, weighted=True)\n",
    "    viscMesh.data[:,0] =  np.average(viscosityMapFn.evaluate(swarm)[:,0][ix1], weights=weights1, axis=len((weights1.shape)) - 1)\n",
    "    #sigXXFn may need updating?\n",
    "    sigXXFn = 2.*symStrainrate[0]*viscMesh\n",
    "    sigXXMesh.data[:] = sigXXFn.evaluate(mesh)"
   ]
  },
  {
   "cell_type": "code",
   "execution_count": 139,
   "metadata": {
    "collapsed": true,
    "deletable": true,
    "editable": true
   },
   "outputs": [],
   "source": [
    "#sigXXFn = 2.*symStrainrate[0]*viscMesh\n",
    "#sigXXMesh.data[:] = sigXXFn.evaluate(mesh)"
   ]
  },
  {
   "cell_type": "code",
   "execution_count": 135,
   "metadata": {
    "collapsed": false,
    "deletable": true,
    "editable": true
   },
   "outputs": [],
   "source": [
    "#step = 0\n",
    "#files_update()\n",
    "swarm_to_mesh_update()"
   ]
  },
  {
   "cell_type": "code",
   "execution_count": 141,
   "metadata": {
    "collapsed": false,
    "deletable": true,
    "editable": true
   },
   "outputs": [],
   "source": [
    "#fig = glucifer.Figure(figsize=(960,300) )\n",
    "#fig.append( glucifer.objects.Surface(mesh, sigXXMesh, onMesh=True))\n",
    "#fig.show()"
   ]
  },
  {
   "cell_type": "code",
   "execution_count": 203,
   "metadata": {
    "collapsed": true,
    "deletable": true,
    "editable": true
   },
   "outputs": [],
   "source": [
    "def files_update():\n",
    "    fCollection[0].swarm.save( filePath + \"interface\" + str(step).zfill(5))\n",
    "    mCollection[0].swarm.save( filePath + \"midplane\" + str(step).zfill(5))"
   ]
  },
  {
   "cell_type": "code",
   "execution_count": 90,
   "metadata": {
    "collapsed": false,
    "deletable": true,
    "editable": true
   },
   "outputs": [],
   "source": [
    "def xdmfs_update():\n",
    " \n",
    "    try:\n",
    "        _mH\n",
    "    except:\n",
    "        _mH = mesh.save(xdmfPath+\"mesh.h5\")\n",
    "    \n",
    "    #part1\n",
    "    mh = _mH\n",
    "    tH = temperatureFn.save(xdmfPath + \"temp_\" + str(step) + \".h5\")\n",
    "    visc = viscMesh.save(xdmfPath + \"visc_\" + str(step) + \".h5\")\n",
    "    sigXX = sigXXMesh.save(xdmfPath + \"sigXX_\" + str(step) + \".h5\")\n",
    "    \n",
    "    #part 2\n",
    "    temperatureFn.xdmf(xdmfPath + \"temp_\" + str(step), tH, 'temperature', mh, 'mesh', modeltime=time)\n",
    "    sigXXMesh.xdmf(xdmfPath+ \"sigXX_\" + str(step), sigXX, 'sigXX', mh, 'mesh', modeltime=time)\n",
    "    viscMesh.xdmf(xdmfPath+ \"visc_\" + str(step), visc , 'visc', mh, 'mesh', modeltime=time)\n"
   ]
  },
  {
   "cell_type": "code",
   "execution_count": 91,
   "metadata": {
    "collapsed": false,
    "deletable": true,
    "editable": true
   },
   "outputs": [],
   "source": [
    "#step = 99\n",
    "#time = 0\n",
    "#xdmfs_update()\n",
    "#viscMesh.evaluate(mesh).min()"
   ]
  },
  {
   "cell_type": "markdown",
   "metadata": {
    "deletable": true,
    "editable": true
   },
   "source": [
    "## Viz"
   ]
  },
  {
   "cell_type": "code",
   "execution_count": 76,
   "metadata": {
    "collapsed": false,
    "deletable": true,
    "editable": true
   },
   "outputs": [],
   "source": [
    "viscSwarmVar =  swarm.add_variable( dataType=\"double\", count=1 )\n",
    "viscSwarmVar.data[:] = viscosityMapFn.evaluate(swarm)\n",
    "\n",
    "\n",
    "maskFnVar1 = uw.mesh.MeshVariable( mesh=mesh, nodeDofCount=1 )\n",
    "maskFnVar1.data[:] = velMaskFn.evaluate(mesh)\n",
    "\n",
    "\n",
    "maskFnVar2 = uw.mesh.MeshVariable( mesh=mesh, nodeDofCount=1 )\n",
    "maskFnVar2.data[:] = faultRmfn.evaluate(mesh)\n",
    "\n",
    "plate_id_fn = tm.plate_id_fn()\n",
    "maskFnVar3 = uw.mesh.MeshVariable( mesh=mesh, nodeDofCount=1 )\n",
    "maskFnVar3.data[:] = plate_id_fn.evaluate(mesh)"
   ]
  },
  {
   "cell_type": "code",
   "execution_count": 163,
   "metadata": {
    "collapsed": false,
    "deletable": true,
    "editable": true
   },
   "outputs": [
    {
     "ename": "RuntimeError",
     "evalue": "'ParticleCoordinate' input and `SwarmVariableFn` function appear to be based on different swarms.",
     "output_type": "error",
     "traceback": [
      "\u001b[1;31m\u001b[0m",
      "\u001b[1;31mRuntimeError\u001b[0mTraceback (most recent call last)",
      "\u001b[1;32m<ipython-input-163-b3b1efff69c2>\u001b[0m in \u001b[0;36m<module>\u001b[1;34m()\u001b[0m\n\u001b[0;32m     22\u001b[0m \u001b[0mfigVisc\u001b[0m \u001b[1;33m=\u001b[0m \u001b[0mglucifer\u001b[0m\u001b[1;33m.\u001b[0m\u001b[0mFigure\u001b[0m\u001b[1;33m(\u001b[0m \u001b[0mstore2\u001b[0m\u001b[1;33m,\u001b[0m \u001b[0mfigsize\u001b[0m\u001b[1;33m=\u001b[0m\u001b[1;33m(\u001b[0m\u001b[1;36m960\u001b[0m\u001b[1;33m,\u001b[0m\u001b[1;36m300\u001b[0m\u001b[1;33m)\u001b[0m \u001b[1;33m)\u001b[0m\u001b[1;33m\u001b[0m\u001b[0m\n\u001b[0;32m     23\u001b[0m \u001b[1;31m#figVisc.append( glucifer.objects.Points(swarm, viscosityMapFn, pointSize=2, logScale=True) )\u001b[0m\u001b[1;33m\u001b[0m\u001b[1;33m\u001b[0m\u001b[0m\n\u001b[1;32m---> 24\u001b[1;33m \u001b[0mfigVisc\u001b[0m\u001b[1;33m.\u001b[0m\u001b[0mappend\u001b[0m\u001b[1;33m(\u001b[0m \u001b[0mglucifer\u001b[0m\u001b[1;33m.\u001b[0m\u001b[0mobjects\u001b[0m\u001b[1;33m.\u001b[0m\u001b[0mPoints\u001b[0m\u001b[1;33m(\u001b[0m\u001b[0mswarm\u001b[0m\u001b[1;33m,\u001b[0m  \u001b[0mviscSwarmVar\u001b[0m\u001b[1;33m,\u001b[0m \u001b[0mlogScale\u001b[0m\u001b[1;33m=\u001b[0m\u001b[0mTrue\u001b[0m\u001b[1;33m)\u001b[0m \u001b[1;33m)\u001b[0m\u001b[1;33m\u001b[0m\u001b[0m\n\u001b[0m\u001b[0;32m     25\u001b[0m \u001b[1;33m\u001b[0m\u001b[0m\n\u001b[0;32m     26\u001b[0m \u001b[1;33m\u001b[0m\u001b[0m\n",
      "\u001b[1;32m/root/underworld2/underworld/_stgermain.pyc\u001b[0m in \u001b[0;36m__call__\u001b[1;34m(cls, *args, **kwargs)\u001b[0m\n\u001b[0;32m    108\u001b[0m                 \u001b[0m_setup\u001b[0m \u001b[1;33m=\u001b[0m \u001b[0m_setup\u001b[0m\u001b[1;33m.\u001b[0m\u001b[0m__get__\u001b[0m\u001b[1;33m(\u001b[0m\u001b[0mself\u001b[0m\u001b[1;33m,\u001b[0m \u001b[0mcls\u001b[0m\u001b[1;33m)\u001b[0m\u001b[1;33m\u001b[0m\u001b[0m\n\u001b[0;32m    109\u001b[0m             \u001b[1;32mif\u001b[0m \u001b[0mcallable\u001b[0m\u001b[1;33m(\u001b[0m\u001b[0m_setup\u001b[0m\u001b[1;33m)\u001b[0m\u001b[1;33m:\u001b[0m\u001b[1;33m\u001b[0m\u001b[0m\n\u001b[1;32m--> 110\u001b[1;33m                 \u001b[0m_setup\u001b[0m\u001b[1;33m(\u001b[0m\u001b[1;33m)\u001b[0m\u001b[1;33m\u001b[0m\u001b[0m\n\u001b[0m\u001b[0;32m    111\u001b[0m \u001b[1;33m\u001b[0m\u001b[0m\n\u001b[0;32m    112\u001b[0m         \u001b[1;32mreturn\u001b[0m \u001b[0mself\u001b[0m\u001b[1;33m\u001b[0m\u001b[0m\n",
      "\u001b[1;32m/root/underworld2/glucifer/objects.pyc\u001b[0m in \u001b[0;36m_setup\u001b[1;34m(self)\u001b[0m\n\u001b[0;32m    637\u001b[0m             \u001b[0mfns_ptr\u001b[0m \u001b[1;33m=\u001b[0m \u001b[0mself\u001b[0m\u001b[1;33m.\u001b[0m\u001b[0m_fn_size\u001b[0m\u001b[1;33m.\u001b[0m\u001b[0m_fncself\u001b[0m\u001b[1;33m\u001b[0m\u001b[0m\n\u001b[0;32m    638\u001b[0m \u001b[1;33m\u001b[0m\u001b[0m\n\u001b[1;32m--> 639\u001b[1;33m         \u001b[0m_libUnderworld\u001b[0m\u001b[1;33m.\u001b[0m\u001b[0mgLucifer\u001b[0m\u001b[1;33m.\u001b[0m\u001b[0m_lucSwarmViewer_SetFn\u001b[0m\u001b[1;33m(\u001b[0m \u001b[0mself\u001b[0m\u001b[1;33m.\u001b[0m\u001b[0m_cself\u001b[0m\u001b[1;33m,\u001b[0m \u001b[0mfnc_ptr\u001b[0m\u001b[1;33m,\u001b[0m \u001b[0mfnm_ptr\u001b[0m\u001b[1;33m,\u001b[0m \u001b[0mfns_ptr\u001b[0m\u001b[1;33m,\u001b[0m \u001b[0mNone\u001b[0m \u001b[1;33m)\u001b[0m\u001b[1;33m\u001b[0m\u001b[0m\n\u001b[0m\u001b[0;32m    640\u001b[0m \u001b[1;33m\u001b[0m\u001b[0m\n\u001b[0;32m    641\u001b[0m \u001b[1;33m\u001b[0m\u001b[0m\n",
      "\u001b[1;31mRuntimeError\u001b[0m: 'ParticleCoordinate' input and `SwarmVariableFn` function appear to be based on different swarms."
     ]
    }
   ],
   "source": [
    "store1 = glucifer.Store(dbPath+ 'subduction1.gldb')\n",
    "store2 = glucifer.Store(dbPath + 'subduction2.gldb')\n",
    "store3 = glucifer.Store(dbPath+ 'subduction3.gldb')\n",
    "\n",
    "\n",
    "\n",
    "figTemp = glucifer.Figure(store1, figsize=(960,300) )\n",
    "figTemp.append( glucifer.objects.Surface(mesh, temperatureField, onMesh=True))\n",
    "figTemp.append( glucifer.objects.Contours(mesh, temperatureField, resolution=300, quality =4, interval=0.2,  colours='Black', colourBar=False)) \n",
    "for f in fCollection:\n",
    "    figTemp.append( glucifer.objects.Points(f.swarm, pointSize=5))\n",
    "for m in mCollection:\n",
    "    figTemp.append( glucifer.objects.Points(m.swarm, pointSize=5))\n",
    "    \n",
    "#figProx = glucifer.Figure(store1, figsize=(960,300) )\n",
    "#figProx.append( glucifer.objects.Points(swarm , proximityVariable))\n",
    "#for f in fCollection:\n",
    "#    figProx.append( glucifer.objects.Points(f.swarm, pointSize=5))\n",
    "#figProx.show()\n",
    "\n",
    "figVisc = glucifer.Figure( store2, figsize=(960,300) )\n",
    "#figVisc.append( glucifer.objects.Points(swarm, viscosityMapFn, pointSize=2, logScale=True) )\n",
    "figVisc.append( glucifer.objects.Points(swarm,  viscSwarmVar, logScale=True) )\n",
    "#figVisc.append( glucifer.objects.Points(swarm,  wedgeVariable) )\n",
    "\n",
    "\n",
    "\n",
    "#figVel = glucifer.Figure( store3, figsize=(960,300) )\n",
    "#figVel.append(glucifer.objects.Surface(mesh, fn.math.dot(velocityField, velocityField), onMesh=True))\n",
    "#figVel.append( glucifer.objects.VectorArrows(mesh, velocityField, arrowHead=0.2, scaling=1./refVel) )\n",
    "\n",
    "figMask = glucifer.Figure( store3, figsize=(960,300) )\n",
    "figMask.append( glucifer.objects.Surface(mesh,  maskFnVar1) )\n",
    "figMask.append( glucifer.objects.Surface(mesh,  maskFnVar2) )\n",
    "figMask.append( glucifer.objects.Surface(mesh, maskFnVar3 , valueRange=[0,3]) )\n",
    "\n",
    "\n",
    "#figMask.append( glucifer.objects.Surface(mesh,  maskFnVar3) )\n",
    "#for f in fCollection:\n",
    "#    figVel.append( glucifer.objects.Points(f.swarm, pointSize=5))\n",
    "\n"
   ]
  },
  {
   "cell_type": "code",
   "execution_count": null,
   "metadata": {
    "collapsed": true,
    "deletable": true,
    "editable": true
   },
   "outputs": [],
   "source": []
  },
  {
   "cell_type": "code",
   "execution_count": 80,
   "metadata": {
    "collapsed": false,
    "deletable": true,
    "editable": true,
    "scrolled": true
   },
   "outputs": [
    {
     "data": {
      "text/plain": [
       "'test.gldb'"
      ]
     },
     "execution_count": 80,
     "metadata": {},
     "output_type": "execute_result"
    }
   ],
   "source": [
    "#figVisc.show()\n",
    "#figVisc.save_database('test.gldb')"
   ]
  },
  {
   "cell_type": "code",
   "execution_count": null,
   "metadata": {
    "collapsed": false,
    "deletable": true,
    "editable": true
   },
   "outputs": [],
   "source": [
    "#1e-2*2900."
   ]
  },
  {
   "cell_type": "markdown",
   "metadata": {
    "deletable": true,
    "editable": true
   },
   "source": [
    "## Main Loop"
   ]
  },
  {
   "cell_type": "code",
   "execution_count": 132,
   "metadata": {
    "collapsed": false,
    "deletable": true,
    "editable": true
   },
   "outputs": [],
   "source": [
    "time = 0.  # Initial time\n",
    "step = 0 \n",
    "maxSteps = 2000      # Maximum timesteps \n",
    "steps_output = 20   # output every N timesteps\n",
    "swarm_update = 10   # output every N timesteps\n",
    "faults_update = 10\n",
    "dt_model = 0.\n",
    "steps_update_model = 5\n",
    "\n",
    "wedgeOn = False\n",
    "update_values()"
   ]
  },
  {
   "cell_type": "code",
   "execution_count": 46,
   "metadata": {
    "collapsed": false,
    "deletable": true,
    "editable": true
   },
   "outputs": [],
   "source": []
  },
  {
   "cell_type": "code",
   "execution_count": 197,
   "metadata": {
    "collapsed": false,
    "deletable": true,
    "editable": true
   },
   "outputs": [
    {
     "ename": "NameError",
     "evalue": "name 'time' is not defined",
     "output_type": "error",
     "traceback": [
      "\u001b[1;31m\u001b[0m",
      "\u001b[1;31mNameError\u001b[0mTraceback (most recent call last)",
      "\u001b[1;32m<ipython-input-197-05cf86e34a9f>\u001b[0m in \u001b[0;36m<module>\u001b[1;34m()\u001b[0m\n\u001b[1;32m----> 1\u001b[1;33m \u001b[1;32mwhile\u001b[0m \u001b[0mtime\u001b[0m \u001b[1;33m<\u001b[0m \u001b[0mtm\u001b[0m\u001b[1;33m.\u001b[0m\u001b[0mtimes\u001b[0m\u001b[1;33m[\u001b[0m\u001b[1;33m-\u001b[0m\u001b[1;36m1\u001b[0m\u001b[1;33m]\u001b[0m \u001b[1;32mand\u001b[0m \u001b[0mstep\u001b[0m \u001b[1;33m<\u001b[0m \u001b[0mmaxSteps\u001b[0m\u001b[1;33m:\u001b[0m\u001b[1;33m\u001b[0m\u001b[0m\n\u001b[0m\u001b[0;32m      2\u001b[0m \u001b[1;33m\u001b[0m\u001b[0m\n\u001b[0;32m      3\u001b[0m     \u001b[1;31m# Solve non linear Stokes system\u001b[0m\u001b[1;33m\u001b[0m\u001b[1;33m\u001b[0m\u001b[0m\n\u001b[0;32m      4\u001b[0m     \u001b[0msolver\u001b[0m\u001b[1;33m.\u001b[0m\u001b[0msolve\u001b[0m\u001b[1;33m(\u001b[0m\u001b[0mnonLinearIterate\u001b[0m\u001b[1;33m=\u001b[0m\u001b[0mTrue\u001b[0m\u001b[1;33m,\u001b[0m \u001b[0mnonLinearTolerance\u001b[0m\u001b[1;33m=\u001b[0m\u001b[0mmd\u001b[0m\u001b[1;33m.\u001b[0m\u001b[0mnltol\u001b[0m\u001b[1;33m,\u001b[0m \u001b[0mcallback_post_solve\u001b[0m \u001b[1;33m=\u001b[0m \u001b[0mpressure_calibrate\u001b[0m\u001b[1;33m)\u001b[0m\u001b[1;33m\u001b[0m\u001b[0m\n\u001b[0;32m      5\u001b[0m \u001b[1;33m\u001b[0m\u001b[0m\n",
      "\u001b[1;31mNameError\u001b[0m: name 'time' is not defined"
     ]
    }
   ],
   "source": [
    "while time < tm.times[-1] and step < maxSteps:\n",
    "    \n",
    "    # Solve non linear Stokes system\n",
    "    solver.solve(nonLinearIterate=True, nonLinearTolerance=md.nltol, callback_post_solve = pressure_calibrate)\n",
    "    \n",
    "    dt = advDiff.get_max_dt()\n",
    "    advDiff.integrate(dt)\n",
    "    \n",
    "    #advect swarm and faults\n",
    "    time, step =  advect_update(dt)\n",
    "    dt_model += dt\n",
    "    \n",
    "        \n",
    "    #update tectonic model\n",
    "    if step % steps_update_model == 0:\n",
    "        update_tect_model(tm, tmUwMap, time, dt = dt_model)\n",
    "        dt_model = 0.\n",
    "        plate_id_fn = tm.plate_id_fn()\n",
    "        faultRmfn, faultAddFn, velMaskFn, faultHorizTaperFn = update_mask_fns()\n",
    "        \n",
    "        #these need to be explicity updated\n",
    "        faultRheologyFn =  faultViscosityFn*(1. - faultDepthTaperFn) +\\\n",
    "        faultDepthTaperFn*mantleRheologyFn + faultHorizTaperFn*mantleRheologyFn\n",
    "        \n",
    "        viscosityMapFn = fn.branching.map( fn_key = proximityVariable,\n",
    "                             mapping = {0:mantleRheologyFn_,\n",
    "                                        2:faultRheologyFn} )\n",
    "        \n",
    "        \n",
    "        \n",
    "    #running fault healing/addition, map back to swarm\n",
    "    if step % faults_update == 0:\n",
    "        update_faults()\n",
    "        update_markers()\n",
    "    if step % swarm_update == 0:\n",
    "        update_swarm()\n",
    "        \n",
    "    #rebuild stokes\n",
    "    if step % steps_update_model == 0:\n",
    "        del solver\n",
    "        del stokes\n",
    "        stokes = update_stokes(time, viscosityMapFn )\n",
    "        solver = rebuild_solver(stokes)\n",
    "        \n",
    "    \n",
    "    # output figure to file at intervals = steps_output\n",
    "    if step % steps_output == 0 or step == maxSteps-1:\n",
    "        \n",
    "        update_values()\n",
    "        \n",
    "        #Important to set the timestep for the store object here or will overwrite previous step\n",
    "        \n",
    "        #also update this guy for viz\n",
    "        viscSwarmVar.data[:] = viscosityMapFn.evaluate(swarm)\n",
    "        maskFnVar1.data[:] = velMaskFn.evaluate(mesh)\n",
    "        maskFnVar2.data[:] = faultRmfn.evaluate(mesh)\n",
    "        maskFnVar3.data[:] = plate_id_fn.evaluate(mesh)\n",
    "        \n",
    "        store1.step = step\n",
    "        store2.step = step\n",
    "        store3.step = step\n",
    "        figTemp.save(    outputPath + \"temp\"    + str(step).zfill(4))\n",
    "        #figProx.save(    outputPath + \"prox\"    + str(step).zfill(4))\n",
    "        figVisc.save(    outputPath + \"visc\"    + str(step).zfill(4))\n",
    "        figMask.save(    outputPath + \"mask\"    + str(step).zfill(4))\n",
    "        #figVel.save(    outputPath + \"vel\"    + str(step).zfill(4))\n",
    "        \n",
    "        #save out the surface velocity\n",
    "        #save_files(step)\n",
    "        \n",
    "        files_update()\n",
    "        \n",
    "        #XDMFS\n",
    "        swarm_to_mesh_update()\n",
    "        xdmfs_update()\n",
    "        \n",
    "    ##Wedge stuff \n",
    "    \n",
    "    \n",
    "    if time > md.turnOnWedge:\n",
    "        #first we toggle the rheology. \n",
    "        #this should only happen once, hence the wedgeOn var. \n",
    "        if wedgeOn == False:\n",
    "            mantleRheologyFn_ = fn.branching.map( fn_key = wedgeVariable,\n",
    "                                         mapping = {0:mantleRheologyFn,\n",
    "                                                    1:md.wedgeViscosity} )\n",
    "       \n",
    "            viscosityMapFn = fn.branching.map( fn_key = proximityVariable,\n",
    "                             mapping = {0:mantleRheologyFn_,\n",
    "                                        2:faultRheologyFn} )\n",
    "           \n",
    "            stokes.fn_viscosity = viscosityMapFn \n",
    "            \n",
    "            wedgeOn = True\n",
    "        \n",
    "        #Now update the wedge region\n",
    "        build_wedge_region()\n",
    "\n",
    "\n",
    "    print 'wedge on is: {}'.format(wedgeOn)    \n",
    "    \n",
    "    \n",
    "    if uw.rank()==0:\n",
    "        print 'step = {0:6d}; time = {1:.3e}'.format(step,time)\n"
   ]
  },
  {
   "cell_type": "code",
   "execution_count": 199,
   "metadata": {
    "collapsed": true,
    "deletable": true,
    "editable": true
   },
   "outputs": [],
   "source": [
    "#stokes.fn_viscosity = viscosityMapFn"
   ]
  },
  {
   "cell_type": "code",
   "execution_count": null,
   "metadata": {
    "collapsed": true,
    "deletable": true,
    "editable": true
   },
   "outputs": [],
   "source": []
  },
  {
   "cell_type": "code",
   "execution_count": 88,
   "metadata": {
    "collapsed": false,
    "deletable": true,
    "editable": true
   },
   "outputs": [
    {
     "data": {
      "text/plain": [
       "True"
      ]
     },
     "execution_count": 88,
     "metadata": {},
     "output_type": "execute_result"
    }
   ],
   "source": [
    "#tm.is_ridge((3,3))"
   ]
  },
  {
   "cell_type": "code",
   "execution_count": null,
   "metadata": {
    "collapsed": true,
    "deletable": true,
    "editable": true
   },
   "outputs": [],
   "source": []
  }
 ],
 "metadata": {
  "kernelspec": {
   "display_name": "Python 2",
   "language": "python",
   "name": "python2"
  },
  "language_info": {
   "codemirror_mode": {
    "name": "ipython",
    "version": 2
   },
   "file_extension": ".py",
   "mimetype": "text/x-python",
   "name": "python",
   "nbconvert_exporter": "python",
   "pygments_lexer": "ipython2",
   "version": "2.7.9"
  }
 },
 "nbformat": 4,
 "nbformat_minor": 2
}
