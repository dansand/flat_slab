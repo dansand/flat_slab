{
 "cells": [
  {
   "cell_type": "markdown",
   "metadata": {
    "collapsed": true,
    "deletable": true,
    "editable": true
   },
   "source": [
    "# Velocity Bcs\n",
    "\n"
   ]
  },
  {
   "cell_type": "code",
   "execution_count": 136,
   "metadata": {
    "collapsed": false,
    "deletable": true,
    "editable": true
   },
   "outputs": [],
   "source": [
    "#!apt-cache policy petsc-dev"
   ]
  },
  {
   "cell_type": "code",
   "execution_count": 137,
   "metadata": {
    "collapsed": true,
    "deletable": true,
    "editable": true
   },
   "outputs": [],
   "source": [
    "import numpy as np\n",
    "import underworld as uw\n",
    "from underworld import function as fn\n",
    "import glucifer\n",
    "from easydict import EasyDict as edict\n",
    "import networkx as nx\n",
    "import operator\n",
    "\n",
    "import warnings; warnings.simplefilter('ignore')"
   ]
  },
  {
   "cell_type": "code",
   "execution_count": 138,
   "metadata": {
    "collapsed": false,
    "deletable": true,
    "editable": true
   },
   "outputs": [],
   "source": [
    "#If run through Docker we'll point at the local 'unsupported dir.'\n",
    "#On hpc, the path should also include a directory holding the unsupported_dan.\n",
    "import os\n",
    "import sys\n",
    "\n",
    "#this does't actually need to be protected. More a reminder it's an interim measure\n",
    "try:\n",
    "    sys.path.append('../../unsupported')\n",
    "    sys.path.append('../../UWsubduction/Examples')\n",
    "except:\n",
    "    pass"
   ]
  },
  {
   "cell_type": "code",
   "execution_count": 139,
   "metadata": {
    "collapsed": false,
    "deletable": true,
    "editable": true
   },
   "outputs": [],
   "source": [
    "#load in parent stuff\n",
    "#%load_ext autoreload\n",
    "import nb_load_stuff\n",
    "from tectModelClass import *"
   ]
  },
  {
   "cell_type": "code",
   "execution_count": 140,
   "metadata": {
    "collapsed": false,
    "deletable": true,
    "editable": true
   },
   "outputs": [],
   "source": [
    "from unsupported_dan.UWsubduction.subduction_utils import *\n",
    "from unsupported_dan.interfaces.smoothing2D import *\n",
    "from unsupported_dan.utilities.misc import cosine_taper\n",
    "from unsupported_dan.interfaces.interface2D import interface2D , interface_collection"
   ]
  },
  {
   "cell_type": "markdown",
   "metadata": {
    "deletable": true,
    "editable": true
   },
   "source": [
    "## Create output dir structure"
   ]
  },
  {
   "cell_type": "code",
   "execution_count": 141,
   "metadata": {
    "collapsed": false,
    "deletable": true,
    "editable": true
   },
   "outputs": [],
   "source": [
    "#outputPath = os.path.join(os.path.abspath(\".\"),\"output/\")\n",
    "outputPath = os.path.join(os.path.abspath(\".\"),\"output/files\")\n",
    "\n",
    "if uw.rank()==0:\n",
    "    if not os.path.exists(outputPath):\n",
    "        os.makedirs(outputPath)\n",
    "uw.barrier()"
   ]
  },
  {
   "cell_type": "markdown",
   "metadata": {
    "collapsed": false,
    "deletable": true,
    "editable": true
   },
   "source": [
    "## Parameters / Scaling\n",
    "\n",
    "* For more information see, `UWsubduction/Background/scaling`\n"
   ]
  },
  {
   "cell_type": "code",
   "execution_count": 142,
   "metadata": {
    "collapsed": false,
    "deletable": true,
    "editable": true
   },
   "outputs": [],
   "source": [
    "#import parameters, model settings, unit registry, scaling system, etc\n",
    "\n",
    "from unsupported_dan.UWsubduction.minimal_example import paramDict_dim, modelDict_dim, UnitRegistry\n",
    "from unsupported_dan.UWsubduction.default_scaling import sub_scaling, build_nondim_dict\n",
    "from unsupported_dan.UWsubduction.minimal_example import rayleighNumber, stressScale, pressureDepthGrad\n",
    "\n",
    "\n",
    "#define some more concise names\n",
    "ur = UnitRegistry\n",
    "sca = sub_scaling\n",
    "ndimlz = sca.nonDimensionalize\n",
    "#build the dimensionless paramter / model dictionaries\n",
    "ndp = build_nondim_dict(paramDict_dim  , sca)   \n",
    "md = build_nondim_dict(modelDict_dim  , sca)\n",
    "\n",
    "assert ndimlz(paramDict_dim.refLength) == 1.0\n",
    "\n",
    "# changes to base params: (These will keep changing if the notebook is run again without restarting!)\n",
    "md.faultThickness *= 1.5 #15 km\n",
    "md.res = 48"
   ]
  },
  {
   "cell_type": "code",
   "execution_count": null,
   "metadata": {
    "collapsed": true,
    "deletable": true,
    "editable": true
   },
   "outputs": [],
   "source": []
  },
  {
   "cell_type": "markdown",
   "metadata": {
    "collapsed": true,
    "deletable": true,
    "editable": true
   },
   "source": [
    "## Build / refine mesh, Stokes Variables"
   ]
  },
  {
   "cell_type": "code",
   "execution_count": 143,
   "metadata": {
    "collapsed": false,
    "deletable": true,
    "editable": true
   },
   "outputs": [],
   "source": [
    "#(ndp.rightLim - ndp.leftLim)/ndp.depth\n",
    "#md.res = 64"
   ]
  },
  {
   "cell_type": "code",
   "execution_count": 144,
   "metadata": {
    "collapsed": false,
    "deletable": true,
    "editable": true
   },
   "outputs": [],
   "source": [
    "yres = int(md.res)\n",
    "xres = int(md.res*6) \n",
    "\n",
    "halfWidth = 0.5*md.depth*md.aspectRatio \n",
    "\n",
    "minCoord_    = (-1.*halfWidth, 1. - md.depth) \n",
    "maxCoord_    = (halfWidth, 1.)\n",
    "\n",
    "mesh = uw.mesh.FeMesh_Cartesian( elementType = (md.elementType),\n",
    "                                 elementRes  = (xres, yres), \n",
    "                                 minCoord    = minCoord_, \n",
    "                                 maxCoord    = maxCoord_) \n",
    "\n",
    "velocityField = uw.mesh.MeshVariable( mesh=mesh,         nodeDofCount=2)\n",
    "pressureField   = uw.mesh.MeshVariable( mesh=mesh.subMesh, nodeDofCount=1 )\n",
    "temperatureField    = uw.mesh.MeshVariable( mesh=mesh,         nodeDofCount=1 )\n",
    "temperatureDotField = uw.mesh.MeshVariable( mesh=mesh,         nodeDofCount=1 ) \n",
    "    \n",
    "\n",
    "velocityField.data[:] = 0.\n",
    "pressureField.data[:] = 0.\n",
    "temperatureField.data[:] = 0.\n",
    "temperatureDotField.data[:] = 0."
   ]
  },
  {
   "cell_type": "code",
   "execution_count": 145,
   "metadata": {
    "collapsed": true,
    "deletable": true,
    "editable": true
   },
   "outputs": [],
   "source": [
    "#mesh.reset() #call to reset mesh nodes to original locations\n",
    "\n",
    "if md.refineHoriz:\n",
    "    \n",
    "    with mesh.deform_mesh():\n",
    "        \n",
    "        normXs = 2.*mesh.data[:,0]/(mesh.maxCoord[0] - mesh.minCoord[0])\n",
    "        mesh.data[:,0] = mesh.data[:,0] * np.exp(md.meshRefineFactor*normXs**2) / np.exp(md.meshRefineFactor*1.0**2)    \n",
    "    \n",
    "if md.refineVert:\n",
    "\n",
    "    with mesh.deform_mesh():\n",
    "        \n",
    "        mesh.data[:,1] = mesh.data[:,1] - 1.0\n",
    "\n",
    "        normYs = -1.*mesh.data[:,1]/(mesh.maxCoord[1] - mesh.minCoord[1])\n",
    "        mesh.data[:,1] = mesh.data[:,1] * np.exp(md.meshRefineFactor*normYs**2)/np.exp(md.meshRefineFactor*1.0**2)\n",
    "\n",
    "        mesh.data[:,1] = mesh.data[:,1] + 1.0\n"
   ]
  },
  {
   "cell_type": "markdown",
   "metadata": {
    "deletable": true,
    "editable": true
   },
   "source": [
    "## Build plate model"
   ]
  },
  {
   "cell_type": "code",
   "execution_count": 146,
   "metadata": {
    "collapsed": true,
    "deletable": true,
    "editable": true
   },
   "outputs": [],
   "source": [
    "\n",
    "endTime = ndimlz(30*ur.megayear) \n",
    "refVel = ndimlz(2*ur.cm/ur.year)\n",
    "plateModelDt = ndimlz(0.1*ur.megayear)"
   ]
  },
  {
   "cell_type": "code",
   "execution_count": 147,
   "metadata": {
    "collapsed": true,
    "deletable": true,
    "editable": true
   },
   "outputs": [],
   "source": [
    "#velocities of the plates (1 - 3) ams well as the plate boundary (1,2)\n",
    "vp1= ndimlz(0.*ur.centimeter/ur.year )\n",
    "vp2= ndimlz(3.*ur.centimeter/ur.year )\n",
    "vp3= ndimlz(-2.*ur.centimeter/ur.year )\n",
    "\n",
    "vb12= ndimlz(0.5*ur.centimeter/ur.year )\n"
   ]
  },
  {
   "cell_type": "code",
   "execution_count": 148,
   "metadata": {
    "collapsed": false,
    "deletable": true,
    "editable": true
   },
   "outputs": [
    {
     "name": "stdout",
     "output_type": "stream",
     "text": [
      "(0.0, 2756.9225237512087, -1837.9483491674725, 459.48708729186814)\n"
     ]
    }
   ],
   "source": [
    "print(vp1, vp2, vp3, vb12)"
   ]
  },
  {
   "cell_type": "code",
   "execution_count": 149,
   "metadata": {
    "collapsed": false,
    "deletable": true,
    "editable": true
   },
   "outputs": [],
   "source": [
    "tm = TectModel(mesh, 0, endTime, plateModelDt)\n",
    "\n",
    "tm.add_plate(1, velocities=vp1)\n",
    "tm.add_plate(2, velocities=vp2)\n",
    "tm.add_plate(3, velocities=vp3)"
   ]
  },
  {
   "cell_type": "code",
   "execution_count": 150,
   "metadata": {
    "collapsed": false,
    "deletable": true,
    "editable": true
   },
   "outputs": [],
   "source": [
    "tm.add_left_boundary(1, plateInitAge=md.slabAge/3., velocities=False)\n",
    "#tm.add_left_boundary(2, plateInitAge=0., velocities=False)\n",
    "\n",
    "tm.add_ridge(1,2, -0.6, velocities=vb12)\n",
    "tm.add_subzone(2, 3, 0.2, subInitAge=md.slabAge, upperInitAge=md.opAgeAtTrench)\n",
    "\n",
    "tm.add_right_boundary(3, plateInitAge=0.0, velocities=False)"
   ]
  },
  {
   "cell_type": "code",
   "execution_count": 151,
   "metadata": {
    "collapsed": false,
    "deletable": true,
    "editable": true
   },
   "outputs": [],
   "source": [
    "#md.slabAge"
   ]
  },
  {
   "cell_type": "markdown",
   "metadata": {
    "deletable": true,
    "editable": true
   },
   "source": [
    "## Build plate age / temperature Fns"
   ]
  },
  {
   "cell_type": "code",
   "execution_count": 152,
   "metadata": {
    "collapsed": false,
    "deletable": true,
    "editable": true
   },
   "outputs": [],
   "source": [
    "pIdFn = tm.plate_id_fn()\n",
    "pAgeDict = tm.plate_age_fn() \n",
    "\n",
    "fnAge_map = fn.branching.map(fn_key = pIdFn , \n",
    "                          mapping = pAgeDict )\n",
    "\n",
    "#fig = glucifer.Figure(figsize=(600, 300))\n",
    "#fig.append( glucifer.objects.Surface(tm.mesh, fnAge_map ))\n",
    "#fig.show()"
   ]
  },
  {
   "cell_type": "code",
   "execution_count": 153,
   "metadata": {
    "collapsed": false,
    "deletable": true,
    "editable": true
   },
   "outputs": [],
   "source": [
    "#ndp.potentialTemp"
   ]
  },
  {
   "cell_type": "code",
   "execution_count": 154,
   "metadata": {
    "collapsed": false,
    "deletable": true,
    "editable": true
   },
   "outputs": [],
   "source": [
    "coordinate = fn.input()\n",
    "depthFn = mesh.maxCoord[1] - coordinate[1]\n",
    "\n",
    "platethickness = 2.32*fn.math.sqrt(1.*fnAge_map )  \n",
    "\n",
    "halfSpaceTemp = ndp.potentialTemp_*fn.math.erf((depthFn)/(2.*fn.math.sqrt(1.*fnAge_map)))\n",
    "\n",
    "plateTempProxFn = fn.branching.conditional( ((depthFn > platethickness, ndp.potentialTemp_ ), \n",
    "                                           (True,                      halfSpaceTemp)  ))\n",
    "\n"
   ]
  },
  {
   "cell_type": "code",
   "execution_count": 155,
   "metadata": {
    "collapsed": false,
    "deletable": true,
    "editable": true
   },
   "outputs": [
    {
     "data": {
      "text/html": [
       "<img src='data:image/png;base64,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'>"
      ],
      "text/plain": [
       "<IPython.core.display.HTML object>"
      ]
     },
     "metadata": {},
     "output_type": "display_data"
    }
   ],
   "source": [
    "fig = glucifer.Figure(figsize=(600, 300))\n",
    "fig.append( glucifer.objects.Surface(tm.mesh, plateTempProxFn, onMesh = True))\n",
    "fig.show()"
   ]
  },
  {
   "cell_type": "markdown",
   "metadata": {
    "deletable": true,
    "editable": true
   },
   "source": [
    "## Make swarm and Swarm Vars"
   ]
  },
  {
   "cell_type": "code",
   "execution_count": 156,
   "metadata": {
    "collapsed": false,
    "deletable": true,
    "editable": true
   },
   "outputs": [],
   "source": [
    "swarm = uw.swarm.Swarm(mesh=mesh, particleEscape=True)\n",
    "layout = uw.swarm.layouts.PerCellRandomLayout(swarm=swarm, particlesPerCell=int(md.ppc))\n",
    "swarm.populate_using_layout( layout=layout ) # Now use it to populate.\n",
    "proxyTempVariable = swarm.add_variable( dataType=\"double\", count=1 )\n",
    "proximityVariable      = swarm.add_variable( dataType=\"int\", count=1 )\n",
    "signedDistanceVariable = swarm.add_variable( dataType=\"double\", count=1 )\n",
    "\n",
    "#\n",
    "proxyTempVariable.data[:] = 1.0\n",
    "proximityVariable.data[:] = 0.0\n",
    "signedDistanceVariable.data[:] = 0.0\n"
   ]
  },
  {
   "cell_type": "markdown",
   "metadata": {
    "deletable": true,
    "editable": true
   },
   "source": [
    "## Create tmUwMap"
   ]
  },
  {
   "cell_type": "code",
   "execution_count": 157,
   "metadata": {
    "collapsed": false,
    "deletable": true,
    "editable": true
   },
   "outputs": [],
   "source": [
    "#Now we have built are primary FEM / Swarm objects, we collect some of these in a dictionary,\n",
    "#to provide a consistent form to pass to methods of TectModel\n",
    "\n",
    "tmUwMap = tm_uw_map([], velocityField, swarm, \n",
    "                    signedDistanceVariable, proxyTempVariable, proximityVariable)"
   ]
  },
  {
   "cell_type": "markdown",
   "metadata": {
    "deletable": true,
    "editable": true
   },
   "source": [
    "## Make slab perturbation and subduction interface\n",
    "\n",
    "* For more information see, `UWsubduction/Background/interface2D`"
   ]
  },
  {
   "cell_type": "code",
   "execution_count": 158,
   "metadata": {
    "collapsed": true,
    "deletable": true,
    "editable": true
   },
   "outputs": [],
   "source": [
    "def circGradientFn(S):\n",
    "    if S == 0.:\n",
    "        return 0.\n",
    "    elif S < md.radiusOfCurv:\n",
    "        return max(-S/np.sqrt((md.radiusOfCurv**2 - S**2)), -1e3)\n",
    "    else:\n",
    "        return -1e5\n",
    "    \n",
    "    \n",
    "def circGradientFn2(S):\n",
    "    if S == 0.:\n",
    "        return 0.\n",
    "    elif S < 1.*md.radiusOfCurv:\n",
    "        return max(-S/np.sqrt((md.radiusOfCurv**2 - S**2)), -1.)\n",
    "    else:\n",
    "        return -1.\n",
    "\n",
    "def circGradientFn3(S):\n",
    "    if S < 1.*md.radiusOfCurv:\n",
    "        return circGradientFn2(S)\n",
    "    else:\n",
    "        return min(circGradientFn2(2.6*md.radiusOfCurv - S), -0.1)\n",
    "    "
   ]
  },
  {
   "cell_type": "code",
   "execution_count": 159,
   "metadata": {
    "collapsed": true
   },
   "outputs": [],
   "source": [
    "#proxyTempVariable.data[:] =0."
   ]
  },
  {
   "cell_type": "code",
   "execution_count": 160,
   "metadata": {
    "collapsed": false,
    "deletable": true,
    "editable": true
   },
   "outputs": [],
   "source": [
    "#All of these wil be needed by the slab / fault setup functions\n",
    "#We have two main options, bind them to the TectModel class. \n",
    "#or provide them to the functions\n",
    "#collection them in a dictionary may be a useful way too proviede them to the function \n",
    "#without blowing out the function arguments\n",
    "\n",
    "tmUwMap = tm_uw_map([], velocityField, swarm, \n",
    "                    signedDistanceVariable, proxyTempVariable, proximityVariable)\n"
   ]
  },
  {
   "cell_type": "code",
   "execution_count": 161,
   "metadata": {
    "collapsed": false,
    "deletable": true,
    "editable": true
   },
   "outputs": [],
   "source": [
    "#define fault particle spacing, here ~5 paricles per element\n",
    "ds = (tm.maxX - tm.minX)/(2.*tm.mesh.elementRes[0])\n",
    "\n",
    "fCollection = interface_collection([])\n",
    "\n",
    "deepDepth = ndimlz(660.*ur.kilometer)\n",
    "\n",
    "for e in tm.undirected.edges():\n",
    "    if tm.is_subduction_boundary(e):\n",
    "        build_slab_distance(tm, e, circGradientFn3, deepDepth, tmUwMap)\n",
    "        #build_slab_distance(tm, e, circGradientFn, md.slabInitMaxDepth, tmUwMap)        \n",
    "        fb = build_fault(tm, e, circGradientFn3, md.faultThickness , deepDepth, ds, md.faultThickness, tmUwMap)\n",
    "        #fb = build_fault(tm, e, circGradientFn, md.faultThickness , md.slabInitMaxDepth, ds, md.faultThickness, tmUwMap)\n",
    "\n",
    "        fCollection.append(fb)\n",
    "\n",
    "#\n",
    "build_slab_temp(tmUwMap, ndp.potentialTemp_, md.slabAge)\n",
    "fnJointTemp = fn.misc.min(proxyTempVariable,plateTempProxFn)\n",
    "\n",
    "#And now reevaluate this guy on the swarm\n",
    "proxyTempVariable.data[:] = fnJointTemp.evaluate(swarm)"
   ]
  },
  {
   "cell_type": "code",
   "execution_count": 162,
   "metadata": {
    "collapsed": false,
    "deletable": true,
    "editable": true
   },
   "outputs": [
    {
     "data": {
      "text/html": [
       "<img src='data:image/png;base64,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'>"
      ],
      "text/plain": [
       "<IPython.core.display.HTML object>"
      ]
     },
     "metadata": {},
     "output_type": "display_data"
    }
   ],
   "source": [
    "fig = glucifer.Figure(figsize=(600, 300))\n",
    "fig.append( glucifer.objects.Points(swarm, proxyTempVariable))\n",
    "#fig.append( glucifer.objects.Points(fb.swarm))\n",
    "fig.show()\n",
    "#fig.save_database('test.gldb')"
   ]
  },
  {
   "cell_type": "markdown",
   "metadata": {
    "deletable": true,
    "editable": true
   },
   "source": [
    "##  Define subduction fault evolution (rebuild/destroy)\n",
    "\n",
    "\n",
    "In this section we setup some functions to help manage the spatial distribution of faults"
   ]
  },
  {
   "cell_type": "code",
   "execution_count": null,
   "metadata": {
    "collapsed": true,
    "deletable": true,
    "editable": true
   },
   "outputs": [],
   "source": []
  },
  {
   "cell_type": "code",
   "execution_count": 34,
   "metadata": {
    "collapsed": false,
    "deletable": true,
    "editable": true
   },
   "outputs": [],
   "source": [
    "# Setup a swarm to define the replacment positions\n",
    "\n",
    "fThick= fCollection[0].thickness\n",
    "\n",
    "faultloc = 1. - md.faultThickness*md.faultLocFac\n",
    "\n",
    "allxs = np.arange(mesh.minCoord[0], mesh.maxCoord[0], ds )[:-1]\n",
    "allys = (mesh.maxCoord[1] - fThick)*np.ones(allxs.shape)\n",
    "\n",
    "faultMasterSwarm = uw.swarm.Swarm( mesh=mesh )\n",
    "dummy =  faultMasterSwarm.add_particles_with_coordinates(np.column_stack((allxs, allys)))\n",
    "del allxs\n",
    "del allys\n",
    "\n",
    "\n",
    "\n",
    "##What are we doing here??\n",
    "\n",
    "#*faultRmfn descibs an area around the trench in which fault particles are allowed. Outside of this region they\n",
    "#are destroyed using (remove_faults_from_boundaries). Note that the\n",
    "\n",
    "#* faultAddFn desribes a region internal to the subduction plate wherwe we rebuild the fault. \n",
    "#this function deliberately'over-builds' the fault, while remove_faults_from_boundaries then trims it to size\n",
    "\n",
    "#* velMaskFn defines the nodes where we will apply the plate velocties. \n",
    "#While leaving nodes near the plate boundaries free to adjust\n",
    "\n",
    "\n",
    "faultRmfn = tm.t2f(tm.variable_boundary_mask_fn(distMax=1e5, distMin=ndimlz(10*ur.km), relativeWidth = 0.9, \n",
    "                                  minPlateLength =ndimlz(60*ur.km),  \n",
    "                                           out = 'bool', boundtypes='sub' ))\n",
    "\n",
    "\n",
    "#this one will put particles back into the fault\n",
    "faultAddFn1 = tm.variable_boundary_mask_fn(distMax=1e6, distMin=ndimlz(10*ur.km), \n",
    "                                       relativeWidth = 0.95, minPlateLength =ndimlz(60*ur.km),  \n",
    "                                           out = 'bool', boundtypes='sub' )\n",
    "\n",
    "#thsi will keep the fault addition away from the subdcution zone\n",
    "faultAddFn2 =  tm.t2f(tm.variable_boundary_mask_fn(distMax = ndimlz(150*ur.km), relativeWidth = 0.9 ))\n",
    "\n",
    "faultAddFn = operator.and_( faultAddFn1 ,  faultAddFn2)\n",
    "\n",
    "\n",
    "\n",
    "\n",
    "###The following mask function provide a way of building velocity conditions within the plates,\n",
    "\n",
    "velMask1 = tm.variable_boundary_mask_fn(distMax=1e6, distMin=0.0, relativeWidth = 0.85, \n",
    "                        minPlateLength =ndimlz(50*ur.km),  out = 'bool', boundtypes='ridge')\n",
    "\n",
    "velMask2= tm.plate_interior_mask_fn(relativeWidth=0.95, \n",
    "                                        minPlateLength=ndimlz(10*ur.km), invert=False)\n",
    "\n",
    "velMaskFn = operator.and_( velMask1,  velMask2)\n",
    "\n",
    "\n",
    "#order is very important here\n",
    "#dummy = remove_fault_drift(fCollection, faultloc)\n",
    "#dummy = pop_or_perish(tm, fCollection, faultMasterSwarm, faultAddFn , ds)\n",
    "#dummy = remove_faults_from_boundaries(tm, fCollection, faultRmfn )\n"
   ]
  },
  {
   "cell_type": "code",
   "execution_count": 35,
   "metadata": {
    "collapsed": true,
    "deletable": true,
    "editable": true
   },
   "outputs": [],
   "source": [
    "#maskFn_ = tm.t2f(faultRmfn)\n",
    "#pIdFn = tm.plate_id_fn(maskFn=maskFn_)"
   ]
  },
  {
   "cell_type": "code",
   "execution_count": 36,
   "metadata": {
    "collapsed": false,
    "deletable": true,
    "editable": true
   },
   "outputs": [],
   "source": [
    "#fig = glucifer.Figure(figsize=(600, 300))\n",
    "#fig.append( glucifer.objects.Surface(tm.mesh, pIdFn, onMesh=True, valueRange = [0,3]))\n",
    "#fig.show()"
   ]
  },
  {
   "cell_type": "markdown",
   "metadata": {
    "collapsed": false,
    "deletable": true,
    "editable": true
   },
   "source": [
    "## Proximity\n",
    "\n"
   ]
  },
  {
   "cell_type": "code",
   "execution_count": 37,
   "metadata": {
    "collapsed": false,
    "deletable": true,
    "editable": true
   },
   "outputs": [],
   "source": [
    "proximityVariable.data[:] = 0"
   ]
  },
  {
   "cell_type": "code",
   "execution_count": 38,
   "metadata": {
    "collapsed": false,
    "deletable": true,
    "editable": true
   },
   "outputs": [],
   "source": [
    "for f in fCollection:\n",
    "    f.rebuild()\n",
    "    f.set_proximity_director(swarm, proximityVariable, searchFac = 2., locFac=1.0)"
   ]
  },
  {
   "cell_type": "code",
   "execution_count": 39,
   "metadata": {
    "collapsed": true,
    "deletable": true,
    "editable": true
   },
   "outputs": [],
   "source": [
    "#update_faults()"
   ]
  },
  {
   "cell_type": "code",
   "execution_count": 40,
   "metadata": {
    "collapsed": false,
    "deletable": true,
    "editable": true
   },
   "outputs": [],
   "source": [
    "#figProx = glucifer.Figure(figsize=(960,300) )\n",
    "#figProx.append( glucifer.objects.Points(swarm , proximityVariable))\n",
    "#figProx.append( glucifer.objects.Surface(mesh, velMaskFn))\n",
    "\n",
    "#for f in fCollection:\n",
    "#    figProx.append( glucifer.objects.Points(f.swarm, pointSize=5))\n",
    "#figProx.show()\n",
    "\n",
    "\n",
    "#figProx.save_database('test.gldb')"
   ]
  },
  {
   "cell_type": "code",
   "execution_count": 41,
   "metadata": {
    "collapsed": false,
    "deletable": true,
    "editable": true
   },
   "outputs": [],
   "source": [
    "#testMM = fn.view.min_max(uw.function.input(f.swarm.particleCoordinates))\n",
    "#dummyFn = testMM.evaluate(tWalls)"
   ]
  },
  {
   "cell_type": "markdown",
   "metadata": {
    "deletable": true,
    "editable": true
   },
   "source": [
    "## Prescribed velocity"
   ]
  },
  {
   "cell_type": "code",
   "execution_count": 42,
   "metadata": {
    "collapsed": true,
    "deletable": true,
    "editable": true
   },
   "outputs": [],
   "source": [
    "def set_vel_return_nodes(time, maskFn):\n",
    "    \"\"\"\n",
    "    globals:\n",
    "    velocityField\n",
    "    \"\"\"\n",
    "    \n",
    "    nodes = tm.plate_vel_node_fn(time, maskFn = maskFn)\n",
    "    \n",
    "    #4 parallel safety\n",
    "    if not nodes.shape[0]:\n",
    "        return np.array([])\n",
    "        \n",
    "    pIdFn = tm.plate_id_fn()\n",
    "    #velMapFn = tm.plateVelFn(testTime, pIdFn)\n",
    "    velMapFn = tm.plateVelFn(time, pIdFn)\n",
    "    locs = tm.mesh.data[nodes]\n",
    "\n",
    "    #Now set the veolcity on the nodes\n",
    "    velocityField.data[nodes, 0] = velMapFn.evaluate(locs)[:,0]\n",
    "    return nodes\n",
    "    "
   ]
  },
  {
   "cell_type": "code",
   "execution_count": 43,
   "metadata": {
    "collapsed": false,
    "deletable": true,
    "editable": true
   },
   "outputs": [],
   "source": [
    "vXnodes = set_vel_return_nodes(0., velMaskFn)"
   ]
  },
  {
   "cell_type": "code",
   "execution_count": 44,
   "metadata": {
    "collapsed": false,
    "deletable": true,
    "editable": true
   },
   "outputs": [],
   "source": [
    "#np.empty(0), \n",
    "#test = tm.mesh.specialSets['MaxJ_VertexSet']data.shape"
   ]
  },
  {
   "cell_type": "code",
   "execution_count": 45,
   "metadata": {
    "collapsed": false,
    "deletable": true,
    "editable": true
   },
   "outputs": [],
   "source": [
    "#check\n",
    "#%pylab inline\n",
    "#tWalls = tm.mesh.specialSets['MaxJ_VertexSet']\n",
    "\n",
    "\n",
    "#fig, ax = plt.subplots(figsize=(10, 2))\n",
    "#plt.plot(mesh.data[tWalls.data][:,0], velocityField.data[tWalls.data][:,0])#\n",
    "#plt.scatter(mesh.data[vXnodes ][:,0], np.zeros(len(mesh.data[vXnodes ][:,0])), s = 0.5, c = 'k')\n",
    "#ax.hlines(500, tm.minX, tm.maxX, linestyles='--')"
   ]
  },
  {
   "cell_type": "markdown",
   "metadata": {},
   "source": [
    "## Project the swarm 'proxy temp' to mesh"
   ]
  },
  {
   "cell_type": "code",
   "execution_count": 46,
   "metadata": {
    "collapsed": true
   },
   "outputs": [],
   "source": [
    "projectorMeshTemp= uw.utils.MeshVariable_Projection( temperatureField, proxyTempVariable , type=0 )\n",
    "projectorMeshTemp.solve()"
   ]
  },
  {
   "cell_type": "markdown",
   "metadata": {
    "collapsed": true,
    "deletable": true,
    "editable": true
   },
   "source": [
    "## Boundary conditions"
   ]
  },
  {
   "cell_type": "code",
   "execution_count": 47,
   "metadata": {
    "collapsed": false,
    "deletable": true,
    "editable": true
   },
   "outputs": [],
   "source": [
    "iWalls = mesh.specialSets[\"MinI_VertexSet\"] + mesh.specialSets[\"MaxI_VertexSet\"]\n",
    "jWalls = mesh.specialSets[\"MinJ_VertexSet\"] + mesh.specialSets[\"MaxJ_VertexSet\"]\n",
    "\n",
    "tWalls = mesh.specialSets[\"MaxJ_VertexSet\"]\n",
    "bWalls = mesh.specialSets[\"MinJ_VertexSet\"]\n",
    "\n",
    "\n",
    "#velBC  = uw.conditions.DirichletCondition( variable        = velocityField, \n",
    "#                                           indexSetsPerDof = (iWalls, jWalls) )\n"
   ]
  },
  {
   "cell_type": "code",
   "execution_count": 48,
   "metadata": {
    "collapsed": false,
    "deletable": true,
    "editable": true
   },
   "outputs": [],
   "source": [
    "#vXnodes"
   ]
  },
  {
   "cell_type": "code",
   "execution_count": 49,
   "metadata": {
    "collapsed": true,
    "deletable": true,
    "editable": true
   },
   "outputs": [],
   "source": [
    "def build_velBcs(nodes):\n",
    "    \n",
    "    velnodeset = mesh.specialSets[\"Empty\"]\n",
    "    velnodeset += nodes\n",
    "    \n",
    "    \n",
    "    \n",
    "    velBC  = uw.conditions.DirichletCondition( variable        = velocityField, \n",
    "                                           indexSetsPerDof = (iWalls + velnodeset, jWalls) )\n",
    "    \n",
    "    return velBC"
   ]
  },
  {
   "cell_type": "code",
   "execution_count": 50,
   "metadata": {
    "collapsed": false,
    "deletable": true,
    "editable": true
   },
   "outputs": [],
   "source": [
    "velBC = build_velBcs(vXnodes)"
   ]
  },
  {
   "cell_type": "code",
   "execution_count": 52,
   "metadata": {
    "collapsed": false,
    "deletable": true,
    "editable": true
   },
   "outputs": [],
   "source": [
    "#Ridges enforced\n",
    "dirichTempBC = uw.conditions.DirichletCondition(     variable=temperatureField, \n",
    "                                              indexSetsPerDof=(tWalls + iWalls,) )\n",
    "\n",
    "\n",
    "###If we want thermal ridges fixed\n",
    "temperatureField.data[iWalls.data] = ndp.potentialTemp_"
   ]
  },
  {
   "cell_type": "markdown",
   "metadata": {
    "deletable": true,
    "editable": true
   },
   "source": [
    "## Bouyancy"
   ]
  },
  {
   "cell_type": "code",
   "execution_count": 53,
   "metadata": {
    "collapsed": false,
    "deletable": true,
    "editable": true
   },
   "outputs": [],
   "source": [
    "temperatureFn = temperatureField\n",
    "\n",
    "\n",
    "# Now create a buoyancy force vector using the density and the vertical unit vector. \n",
    "thermalDensityFn = md.buoyancyFac*rayleighNumber*(1. - temperatureFn)\n",
    "\n",
    "gravity = ( 0.0, -1.0 )\n",
    "\n",
    "buoyancyMapFn = thermalDensityFn*gravity"
   ]
  },
  {
   "cell_type": "markdown",
   "metadata": {
    "deletable": true,
    "editable": true
   },
   "source": [
    "## Rheology"
   ]
  },
  {
   "cell_type": "code",
   "execution_count": 54,
   "metadata": {
    "collapsed": false,
    "deletable": true,
    "editable": true
   },
   "outputs": [],
   "source": [
    "symStrainrate = fn.tensor.symmetric( \n",
    "                            velocityField.fn_gradient )\n",
    "\n",
    "#Set up any functions required by the rheology\n",
    "strainRate_2ndInvariant = fn.tensor.second_invariant( \n",
    "                            fn.tensor.symmetric( \n",
    "                            velocityField.fn_gradient ))\n",
    "\n",
    "\n",
    "\n",
    "def safe_visc(func, viscmin=md.viscosityMin, viscmax=md.viscosityMax):\n",
    "    return fn.misc.max(viscmin, fn.misc.min(viscmax, func))"
   ]
  },
  {
   "cell_type": "code",
   "execution_count": 55,
   "metadata": {
    "collapsed": true,
    "deletable": true,
    "editable": true
   },
   "outputs": [],
   "source": [
    "#Interface rheology extent\n",
    "\n",
    "subZoneDistfn = tm.subZoneAbsDistFn(upper=True)\n",
    "\n",
    "\n",
    "faultHorizTaperFn  = cosine_taper(subZoneDistfn, \n",
    "                                  md.faultViscHorizTaperStart, md.faultViscHorizTaperWidth)\n",
    "faultDepthTaperFn = cosine_taper(depthFn, \n",
    "                                 md.faultViscDepthTaperStart, md.faultViscDepthTaperWidth)"
   ]
  },
  {
   "cell_type": "code",
   "execution_count": 56,
   "metadata": {
    "collapsed": false,
    "deletable": true,
    "editable": true
   },
   "outputs": [
    {
     "data": {
      "text/plain": [
       "(53400000000.0, 43.386502840435966, 27.75670324383339, 0.21)"
      ]
     },
     "execution_count": 56,
     "metadata": {},
     "output_type": "execute_result"
    }
   ],
   "source": [
    "#temperatureField, \n",
    "\n",
    "ndp.diffusionPreExp, ndp.diffusionVolumeDepth, ndp.diffusionEnergyDepth, ndp.surfaceTemp\n",
    "#(1./ndp.diffusionPreExp)\n"
   ]
  },
  {
   "cell_type": "code",
   "execution_count": 57,
   "metadata": {
    "collapsed": false,
    "deletable": true,
    "editable": true
   },
   "outputs": [],
   "source": [
    "\n",
    "\n",
    "adiabaticCorrectFn = depthFn*ndp.adiabaticTempGrad\n",
    "dynamicPressureProxyDepthFn = pressureField/pressureDepthGrad\n",
    "druckerDepthFn = fn.misc.max(0.0, depthFn + md.druckerAlpha*(dynamicPressureProxyDepthFn))\n",
    "\n",
    "#Diffusion Creep\n",
    "diffusionUM = (1./ndp.diffusionPreExp)*\\\n",
    "    fn.math.exp( ((ndp.diffusionEnergyDepth + \\\n",
    "                   (depthFn*ndp.diffusionVolumeDepth))/((temperatureFn+ adiabaticCorrectFn + ndp.surfaceTemp))))\n",
    "\n",
    "diffusionUM =     safe_visc(diffusionUM)\n",
    "    \n",
    "diffusionLM = ndp.lowerMantleViscFac*(1./ndp.diffusionPreExp)*\\\n",
    "    fn.math.exp( ((ndp.diffusionEnergyDepth + \\\n",
    "                   (depthFn*ndp.diffusionVolumeDepth))/((temperatureFn+ adiabaticCorrectFn + ndp.surfaceTemp))))\n",
    "\n",
    "#diffusionLM =     safe_visc(diffusionLM)\n",
    "\n",
    "\n",
    "transitionZoneTaperFn = cosine_taper(depthFn, md.lowerMantleDepth - 0.5*md.lowerMantleTransWidth , md.lowerMantleTransWidth )\n",
    "\n",
    "\n",
    "mantleCreep = diffusionUM*(1. - transitionZoneTaperFn) + transitionZoneTaperFn*diffusionLM\n",
    "\n",
    "#Define the mantle Plasticity\n",
    "ys =  ndp.cohesionMantle + (druckerDepthFn*ndp.frictionMantleDepth)\n",
    "ysf = fn.misc.min(ys, ndp.yieldStressMax)\n",
    "yielding = ysf/(2.*(strainRate_2ndInvariant) + 1e-15) \n",
    "\n",
    "mantleRheologyFn =  safe_visc(mantleCreep*yielding/(mantleCreep + yielding), \n",
    "                              viscmin=md.viscosityMin, viscmax=md.viscosityMax)\n",
    "\n",
    "\n",
    "faultViscosityFn = ndp.viscosityFault\n",
    "\n",
    "faultRheologyFn =  faultViscosityFn*(1. - faultDepthTaperFn) +  \\\n",
    "                       faultDepthTaperFn*mantleRheologyFn + faultHorizTaperFn*mantleRheologyFn\n"
   ]
  },
  {
   "cell_type": "code",
   "execution_count": 58,
   "metadata": {
    "collapsed": false,
    "deletable": true,
    "editable": true
   },
   "outputs": [],
   "source": [
    "#viscconds = ((proximityVariable == 0, mantleRheologyFn),\n",
    "#             (True, interfaceViscosityFn ))\n",
    "\n",
    "#viscosityMapFn = fn.branching.conditional(viscconds)\n",
    "#viscosityMapFn = mantleRheologyFn\n",
    "\n",
    "\n",
    "viscosityMapFn = fn.branching.map( fn_key = proximityVariable,\n",
    "                             mapping = {0:mantleRheologyFn,\n",
    "                                        2:faultRheologyFn} )"
   ]
  },
  {
   "cell_type": "code",
   "execution_count": 59,
   "metadata": {
    "collapsed": false,
    "deletable": true,
    "editable": true
   },
   "outputs": [],
   "source": [
    "#fig2 = glucifer.Figure(figsize=(960,300) )\n",
    "#fig2.append( glucifer.objects.Points(swarm, mantleRheologyFn,  logScale=True))\n",
    "#fig.append( glucifer.objects.Surface(mesh, dynamicPressureProxyDepthFn))\n",
    "\n",
    "#fig2.show()"
   ]
  },
  {
   "cell_type": "markdown",
   "metadata": {
    "deletable": true,
    "editable": true
   },
   "source": [
    "## Stokes"
   ]
  },
  {
   "cell_type": "code",
   "execution_count": 60,
   "metadata": {
    "collapsed": false,
    "deletable": true,
    "editable": true
   },
   "outputs": [],
   "source": [
    "surfaceArea = uw.utils.Integral(fn=1.0,mesh=mesh, integrationType='surface', surfaceIndexSet=tWalls)\n",
    "surfacePressureIntegral = uw.utils.Integral(fn=pressureField, mesh=mesh, integrationType='surface', surfaceIndexSet=tWalls)\n",
    "\n",
    "NodePressure = uw.mesh.MeshVariable(mesh, nodeDofCount=1)\n",
    "Cell2Nodes = uw.utils.MeshVariable_Projection(NodePressure, pressureField, type=0)\n",
    "Nodes2Cell = uw.utils.MeshVariable_Projection(pressureField, NodePressure, type=0)\n",
    "\n",
    "def smooth_pressure(mesh):\n",
    "    # Smooths the pressure field.\n",
    "    # Assuming that pressure lies on the submesh, do a cell -> nodes -> cell\n",
    "    # projection.\n",
    "\n",
    "    Cell2Nodes.solve()\n",
    "    Nodes2Cell.solve()\n",
    "\n",
    "# a callback function to calibrate the pressure - will pass to solver later\n",
    "def pressure_calibrate():\n",
    "    (area,) = surfaceArea.evaluate()\n",
    "    (p0,) = surfacePressureIntegral.evaluate()\n",
    "    offset = p0/area\n",
    "    pressureField.data[:] -= offset\n",
    "    smooth_pressure(mesh)"
   ]
  },
  {
   "cell_type": "code",
   "execution_count": 65,
   "metadata": {
    "collapsed": false,
    "deletable": true,
    "editable": true
   },
   "outputs": [],
   "source": [
    "stokes = uw.systems.Stokes( velocityField  = velocityField, \n",
    "                                   pressureField  = pressureField,\n",
    "                                   conditions     = [velBC,],\n",
    "                                   fn_viscosity   = viscosityMapFn, \n",
    "                                   fn_bodyforce   = buoyancyMapFn )\n"
   ]
  },
  {
   "cell_type": "code",
   "execution_count": 66,
   "metadata": {
    "collapsed": false,
    "deletable": true,
    "editable": true
   },
   "outputs": [],
   "source": [
    "solver = uw.systems.Solver(stokes)\n",
    "\n",
    "solver.set_inner_method(\"mumps\")\n",
    "solver.options.scr.ksp_type=\"cg\"\n",
    "solver.set_penalty(1.0e7)\n",
    "solver.options.scr.ksp_rtol = 1.0e-4\n"
   ]
  },
  {
   "cell_type": "code",
   "execution_count": 67,
   "metadata": {
    "collapsed": false,
    "deletable": true,
    "editable": true
   },
   "outputs": [
    {
     "name": "stdout",
     "output_type": "stream",
     "text": [
      "\u001b[1;35m\n",
      " \n",
      "Pressure iterations:   6\n",
      "Velocity iterations:   1 (presolve)      \n",
      "Velocity iterations:  -1 (pressure solve)\n",
      "Velocity iterations:   1 (backsolve)     \n",
      "Velocity iterations:   1 (total solve)   \n",
      " \n",
      "SCR RHS  solve time: 2.7212e-01\n",
      "Pressure solve time: 5.1414e-02\n",
      "Velocity solve time: 2.8294e-01 (backsolve)\n",
      "Total solve time   : 6.6662e-01\n",
      " \n",
      "Velocity solution min/max: 0.0000e+00/0.0000e+00\n",
      "Pressure solution min/max: 0.0000e+00/0.0000e+00\n",
      " \n",
      "\u001b[00m\n"
     ]
    }
   ],
   "source": [
    "solver.solve(nonLinearIterate=True, nonLinearTolerance=md.nltol, callback_post_solve = pressure_calibrate)\n",
    "solver.print_stats()"
   ]
  },
  {
   "cell_type": "code",
   "execution_count": 68,
   "metadata": {
    "collapsed": true
   },
   "outputs": [],
   "source": [
    "## Advection - Diffusion"
   ]
  },
  {
   "cell_type": "code",
   "execution_count": 69,
   "metadata": {
    "collapsed": true
   },
   "outputs": [],
   "source": [
    "advDiff = uw.systems.AdvectionDiffusion( phiField       = temperatureFn, \n",
    "                                         phiDotField    = temperatureDotField, \n",
    "                                         velocityField  = velocityField,\n",
    "                                         fn_sourceTerm    = 0.0,\n",
    "                                         fn_diffusivity = ndp.refDiffusivity, \n",
    "                                         #conditions     = [neumannTempBC, dirichTempBC] )\n",
    "                                         conditions     = [ dirichTempBC] )"
   ]
  },
  {
   "cell_type": "markdown",
   "metadata": {
    "deletable": true,
    "editable": true
   },
   "source": [
    "## Swarm Advector"
   ]
  },
  {
   "cell_type": "code",
   "execution_count": 70,
   "metadata": {
    "collapsed": true,
    "deletable": true,
    "editable": true
   },
   "outputs": [],
   "source": [
    "advector = uw.systems.SwarmAdvector( swarm=swarm, velocityField=velocityField, order=2 )\n"
   ]
  },
  {
   "cell_type": "code",
   "execution_count": 71,
   "metadata": {
    "collapsed": true,
    "deletable": true,
    "editable": true
   },
   "outputs": [],
   "source": [
    "population_control = uw.swarm.PopulationControl(swarm, deleteThreshold=0.006, \n",
    "                                                splitThreshold=0.25,maxDeletions=1, maxSplits=3, aggressive=True,\n",
    "                                                aggressiveThreshold=0.9, particlesPerCell=int(md.ppc))"
   ]
  },
  {
   "cell_type": "markdown",
   "metadata": {
    "deletable": true,
    "editable": true
   },
   "source": [
    "## Update functions"
   ]
  },
  {
   "cell_type": "code",
   "execution_count": 72,
   "metadata": {
    "collapsed": false,
    "deletable": true,
    "editable": true
   },
   "outputs": [
    {
     "data": {
      "text/plain": [
       "{'(1, 1)': [],\n",
       " '(1, 2)': [],\n",
       " '(2, 3)': [],\n",
       " '(3, 3)': [],\n",
       " 'stepAtSave': [],\n",
       " 'timeAtSave': []}"
      ]
     },
     "execution_count": 72,
     "metadata": {},
     "output_type": "execute_result"
    }
   ],
   "source": [
    "valuesDict = edict({})\n",
    "valuesDict.timeAtSave = []\n",
    "valuesDict.stepAtSave = []\n",
    "for e in tm.undirected.edges():\n",
    "    valuesDict[str(e)] = []\n",
    "valuesDict  "
   ]
  },
  {
   "cell_type": "code",
   "execution_count": 73,
   "metadata": {
    "collapsed": true,
    "deletable": true,
    "editable": true
   },
   "outputs": [],
   "source": [
    "# Here we'll handle everything that should be advected - i.e. every timestep\n",
    "def advect_update(dt):\n",
    "    # Retrieve the maximum possible timestep for the advection system.\n",
    "    #dt = advector.get_max_dt()\n",
    "    # Advect swarm\n",
    "    advector.integrate(dt)\n",
    "    \n",
    "    #Advect faults\n",
    "    for f in fCollection:\n",
    "        f.advection(dt)\n",
    "    \n",
    "    \n",
    "    return time+dt, step+1"
   ]
  },
  {
   "cell_type": "code",
   "execution_count": 74,
   "metadata": {
    "collapsed": true,
    "deletable": true,
    "editable": true
   },
   "outputs": [],
   "source": [
    "def update_stokes(time, viscosityMapFn ):\n",
    "    \n",
    "\n",
    "\n",
    "    \n",
    "    #set velocity / pressure back to zero\n",
    "    #velocityField.data[:] = 0.\n",
    "    #pressureField.data[:] = 0.\n",
    "    \n",
    "    #set the new surface vel, get the velXNodes\n",
    "    vXnodes = set_vel_return_nodes(time, velMaskFn)\n",
    "    \n",
    "    #creat a BC object\n",
    "    velBC = build_velBcs(vXnodes)\n",
    "    \n",
    "    \n",
    "    \n",
    "    #rebuild stokes\n",
    "    stokes = uw.systems.Stokes( velocityField  = velocityField, \n",
    "                                   pressureField  = pressureField,\n",
    "                                   conditions     = [velBC,],\n",
    "                                   fn_viscosity   = viscosityMapFn, \n",
    "                                   fn_bodyforce   = buoyancyMapFn )\n",
    "    return stokes"
   ]
  },
  {
   "cell_type": "code",
   "execution_count": 75,
   "metadata": {
    "collapsed": true,
    "deletable": true,
    "editable": true
   },
   "outputs": [],
   "source": [
    "def rebuild_solver(stokes):\n",
    "    \n",
    "    solver = uw.systems.Solver(stokes)\n",
    "    solver.set_inner_method(\"mumps\")\n",
    "    solver.options.scr.ksp_type=\"cg\"\n",
    "    solver.set_penalty(1.0e7)\n",
    "    solver.options.scr.ksp_rtol = 1.0e-4\n",
    "    \n",
    "    return solver\n"
   ]
  },
  {
   "cell_type": "code",
   "execution_count": 76,
   "metadata": {
    "collapsed": false,
    "deletable": true,
    "editable": true
   },
   "outputs": [],
   "source": [
    "def update_faults():\n",
    "    \n",
    "    \n",
    "    #order is very important here\n",
    "    dummy = remove_fault_drift(fCollection, faultloc)\n",
    "    dummy = pop_or_perish(tm, fCollection, faultMasterSwarm, faultAddFn , ds)\n",
    "    dummy = remove_faults_from_boundaries(tm, fCollection, faultRmfn )\n",
    "    \n",
    "    \n",
    "    for f in fCollection:\n",
    "        \n",
    "        #Remove particles below a specified depth\n",
    "        depthMask = f.swarm.particleCoordinates.data[:,1] <         (1. - md.faultDestroyDepth)\n",
    "        with f.swarm.deform_swarm():\n",
    "            f.swarm.particleCoordinates.data[depthMask] = (9999999., 9999999.)\n",
    "        \n",
    "        #The repair_interface2D routine is supposed to maintain particle density and smooth\n",
    "        repair_interface2D(f, ds, k=8)\n",
    "    \n"
   ]
  },
  {
   "cell_type": "code",
   "execution_count": 77,
   "metadata": {
    "collapsed": false,
    "deletable": true,
    "editable": true
   },
   "outputs": [],
   "source": [
    "def update_swarm():\n",
    "    \n",
    "    population_control.repopulate()\n",
    "    \n",
    "    for f in fCollection:\n",
    "        f.rebuild()\n",
    "        f.set_proximity_director(swarm, proximityVariable, searchFac = 2., locFac=1.0,\n",
    "                                maxDistanceFn=fn.misc.constant(2.))\n",
    "        \n",
    "    #A simple depth cutoff for proximity\n",
    "    depthMask = swarm.particleCoordinates.data[:,1] < (1. - md.faultDestroyDepth)\n",
    "    proximityVariable.data[depthMask] = 0\n",
    "    "
   ]
  },
  {
   "cell_type": "code",
   "execution_count": 78,
   "metadata": {
    "collapsed": false,
    "deletable": true,
    "editable": true
   },
   "outputs": [],
   "source": [
    "outputPath = os.path.join(os.path.abspath(\".\"),\"output/files\")\n",
    "\n",
    "if uw.rank()==0:\n",
    "    if not os.path.exists(outputPath):\n",
    "        os.makedirs(outputPath)\n",
    "uw.barrier()\n",
    "\n",
    "\n",
    "surfacexs = mesh.data[tWalls.data][:,0]\n",
    "surfaceys = mesh.data[tWalls.data][:,1]\n",
    "surfLine = interface2D(mesh, velocityField,surfacexs, surfaceys , 0,  99)\n",
    "surfVx = uw.swarm.SwarmVariable(surfLine.swarm, 'double', 1)\n",
    "\n",
    "def save_files(step):\n",
    "    surfVx.data[:] = velocityField[0].evaluate(surfLine.swarm)\n",
    "    \n",
    "    surfVx.save( \"output/files/surfVx_\" + str(step).zfill(3) + \"_.h5\")"
   ]
  },
  {
   "cell_type": "code",
   "execution_count": 79,
   "metadata": {
    "collapsed": false,
    "deletable": true,
    "editable": true
   },
   "outputs": [],
   "source": [
    "def update_tect_model(tectModel, tmUwMap, time, dt = 0.0 ):\n",
    "    \n",
    "    \"\"\"\n",
    "    An example of how we can update the tect_model\n",
    "    \"\"\"\n",
    "    for e in tectModel.undirected.edges():\n",
    "        \n",
    "        #This is generally the first condition to check\" a specified boundary velocity\n",
    "        if tectModel.bound_has_vel(e, time):\n",
    "            newX = get_boundary_vel_update(tectModel, e, time, dt)\n",
    "            tectModel.set_bound_loc(e, newX)\n",
    "            \n",
    "        #in this model the ficticious boundaries remain fixed at the edge\n",
    "        elif e[0] == e[1]:\n",
    "            pass       \n",
    "        #now we'll apply a strain rate query to update the subduction zone loc\n",
    "        elif tectModel.is_subduction_boundary(e):\n",
    "            e = tectModel.subduction_edge_order(e)\n",
    "            newx = strain_rate_field_update(tectModel, e, tmUwMap, dist = ndimlz(100*ur.kilometer))\n",
    "            tectModel.set_bound_loc(e, newx)\n",
    "        else:\n",
    "            pass\n"
   ]
  },
  {
   "cell_type": "code",
   "execution_count": 80,
   "metadata": {
    "collapsed": false,
    "deletable": true,
    "editable": true
   },
   "outputs": [],
   "source": [
    "#update_tect_model(tm, tmUwMap, 0., dt = 0.1 )"
   ]
  },
  {
   "cell_type": "code",
   "execution_count": 81,
   "metadata": {
    "collapsed": true,
    "deletable": true,
    "editable": true
   },
   "outputs": [],
   "source": [
    "def update_mask_fns():\n",
    "\n",
    "    faultRmfn = tm.t2f(tm.variable_boundary_mask_fn(distMax=1e5, distMin=ndimlz(10*ur.km), relativeWidth = 0.9, \n",
    "                                      minPlateLength =ndimlz(60*ur.km),  \n",
    "                                               out = 'bool', boundtypes='sub' ))\n",
    "\n",
    "    #this one will put particles back into the fault\n",
    "    faultAddFn1 = tm.variable_boundary_mask_fn(distMax=1e6, distMin=ndimlz(10*ur.km), \n",
    "                                           relativeWidth = 0.95, minPlateLength =ndimlz(60*ur.km),  \n",
    "                                               out = 'bool', boundtypes='sub' )\n",
    "\n",
    "    #thsi will keep the fault addition away from the subdcution zone\n",
    "    faultAddFn2 =  tm.t2f(tm.variable_boundary_mask_fn(distMax = ndimlz(150*ur.km), relativeWidth = 0.9 ))\n",
    "\n",
    "    faultAddFn = operator.and_( faultAddFn1 ,  faultAddFn2)\n",
    "\n",
    "\n",
    "\n",
    "\n",
    "    ###The following mask function provide a way of building velocity conditions within the plates,\n",
    "\n",
    "    velMask1 = tm.variable_boundary_mask_fn(distMax=1e6, distMin=0.0, relativeWidth = 0.85, \n",
    "                            minPlateLength =ndimlz(50*ur.km),  out = 'bool', boundtypes='ridge')\n",
    "\n",
    "    velMask2= tm.plate_interior_mask_fn(relativeWidth=0.95, \n",
    "                                            minPlateLength=ndimlz(10*ur.km), invert=False)\n",
    "\n",
    "    velMaskFn = operator.and_( velMask1,  velMask2)\n",
    "\n",
    "    \n",
    "    \n",
    "    #the following dictates where the fault rheology will be activated\n",
    "    subZoneDistfn = tm.subZoneAbsDistFn(upper=True)\n",
    "    \n",
    "    faultHorizTaperFn  = cosine_taper(subZoneDistfn, \n",
    "                                  md.faultViscHorizTaperStart, md.faultViscHorizTaperWidth)\n",
    "    \n",
    "    return faultRmfn, faultAddFn, velMaskFn, faultHorizTaperFn"
   ]
  },
  {
   "cell_type": "code",
   "execution_count": 82,
   "metadata": {
    "collapsed": false,
    "deletable": true,
    "editable": true
   },
   "outputs": [],
   "source": [
    "#ridgeMaskFn, boundMaskFn, velMaskFn = update_mask_fns()"
   ]
  },
  {
   "cell_type": "markdown",
   "metadata": {
    "deletable": true,
    "editable": true
   },
   "source": [
    "## Track the values of the plate bounaries"
   ]
  },
  {
   "cell_type": "code",
   "execution_count": 83,
   "metadata": {
    "collapsed": false,
    "deletable": true,
    "editable": true
   },
   "outputs": [],
   "source": [
    "def update_values():\n",
    "    \n",
    "    \"\"\" \n",
    "    Assumes global variables:\n",
    "    * time\n",
    "    * step \n",
    "    ...\n",
    "    + many functions\n",
    "    \"\"\"\n",
    "    \n",
    "    \n",
    "    #save the time and step\n",
    "    valuesDict.timeAtSave.append(time) \n",
    "    valuesDict.stepAtSave.append(step)\n",
    "    \n",
    "    for e in tm.undirected.edges():\n",
    "        if tm.is_subduction_boundary(e):\n",
    "            ee = tm.subduction_edge_order(e) #hacky workaround for the directed/ undireted. need get_bound_loc\n",
    "        else:\n",
    "            ee = e\n",
    "\n",
    "        valuesDict[str(e)].append(tm.get_bound_loc(ee))\n",
    "        \n",
    "        \n",
    "    #save\n",
    "    if uw.rank()==0:\n",
    "        fullpath = os.path.join(outputPath + \"tect_model_data\")\n",
    "        #the '**' is important\n",
    "        np.savez(fullpath, **valuesDict)\n",
    "    "
   ]
  },
  {
   "cell_type": "code",
   "execution_count": 84,
   "metadata": {
    "collapsed": false,
    "deletable": true,
    "editable": true
   },
   "outputs": [],
   "source": [
    "#valuesDict  \n",
    "#!ls output"
   ]
  },
  {
   "cell_type": "markdown",
   "metadata": {
    "deletable": true,
    "editable": true
   },
   "source": [
    "## Viz"
   ]
  },
  {
   "cell_type": "code",
   "execution_count": 85,
   "metadata": {
    "collapsed": false,
    "deletable": true,
    "editable": true
   },
   "outputs": [],
   "source": [
    "outputPath = os.path.join(os.path.abspath(\".\"),\"output/\")\n",
    "\n",
    "\n",
    "if uw.rank()==0:\n",
    "    if not os.path.exists(outputPath):\n",
    "        os.makedirs(outputPath)\n",
    "uw.barrier()"
   ]
  },
  {
   "cell_type": "code",
   "execution_count": 78,
   "metadata": {
    "collapsed": false,
    "deletable": true,
    "editable": true
   },
   "outputs": [],
   "source": [
    "viscSwarmVar =  swarm.add_variable( dataType=\"double\", count=1 )\n",
    "viscSwarmVar.data[:] = viscosityMapFn.evaluate(swarm)"
   ]
  },
  {
   "cell_type": "code",
   "execution_count": 79,
   "metadata": {
    "collapsed": false,
    "deletable": true,
    "editable": true
   },
   "outputs": [],
   "source": [
    "store1 = glucifer.Store('output/subduction1')\n",
    "store2 = glucifer.Store('output/subduction2')\n",
    "store3 = glucifer.Store('output/subduction3')\n",
    "\n",
    "\n",
    "figTemp = glucifer.Figure(store1, figsize=(960,300) )\n",
    "figTemp.append( glucifer.objects.Surface(mesh, temperatureField, onMesh=True))\n",
    "figTemp.append( glucifer.objects.Contours(mesh, temperatureField, interval=0.2,  colours='Black', colourBar=False))          \n",
    "\n",
    "figVisc = glucifer.Figure( store2, figsize=(960,300) )\n",
    "#figVisc.append( glucifer.objects.Points(swarm, viscosityMapFn, pointSize=2, logScale=True) )\n",
    "figVisc.append( glucifer.objects.Points(swarm,  viscSwarmVar, logScale=True) )\n",
    "\n",
    "\n",
    "\n",
    "figVel = glucifer.Figure( store3, figsize=(960,300) )\n",
    "figVel.append(glucifer.objects.Surface(mesh, fn.math.dot(velocityField, velocityField), onMesh=True))\n",
    "figVel.append( glucifer.objects.VectorArrows(mesh, velocityField, arrowHead=0.2, scaling=1./refVel) )\n",
    "\n",
    "\n",
    "\n",
    "\n",
    "#figMask.append( glucifer.objects.Surface(mesh,  maskFnVar3) )\n",
    "for f in fCollection:\n",
    "    figVel.append( glucifer.objects.Points(f.swarm, pointSize=5))\n",
    "\n"
   ]
  },
  {
   "cell_type": "code",
   "execution_count": 81,
   "metadata": {
    "collapsed": false,
    "deletable": true,
    "editable": true,
    "scrolled": true
   },
   "outputs": [],
   "source": [
    "#figVisc.show()\n",
    "#figVisc.save_database('test.gldb')"
   ]
  },
  {
   "cell_type": "code",
   "execution_count": 44,
   "metadata": {
    "collapsed": false,
    "deletable": true,
    "editable": true
   },
   "outputs": [],
   "source": [
    "#1e-2*2900."
   ]
  },
  {
   "cell_type": "markdown",
   "metadata": {
    "deletable": true,
    "editable": true
   },
   "source": [
    "## Main Loop"
   ]
  },
  {
   "cell_type": "code",
   "execution_count": 132,
   "metadata": {
    "collapsed": false,
    "deletable": true,
    "editable": true
   },
   "outputs": [],
   "source": [
    "time = 0.  # Initial time\n",
    "step = 0 \n",
    "maxSteps = 2000      # Maximum timesteps \n",
    "steps_output = 10   # output every N timesteps\n",
    "swarm_update = 10   # output every N timesteps\n",
    "faults_update = 10\n",
    "dt_model = 0.\n",
    "steps_update_model = 5\n",
    "\n",
    "update_values()"
   ]
  },
  {
   "cell_type": "code",
   "execution_count": 46,
   "metadata": {
    "collapsed": false,
    "deletable": true,
    "editable": true
   },
   "outputs": [],
   "source": []
  },
  {
   "cell_type": "code",
   "execution_count": 47,
   "metadata": {
    "collapsed": false,
    "deletable": true,
    "editable": true
   },
   "outputs": [
    {
     "name": "stdout",
     "output_type": "stream",
     "text": [
      "step =      1; time = 8.138e-06\n",
      "step =      2; time = 1.593e-05\n",
      "step =      3; time = 2.334e-05\n",
      "step =      4; time = 3.055e-05\n",
      "step =      5; time = 3.749e-05\n",
      "step =      6; time = 4.409e-05\n",
      "step =      7; time = 5.039e-05\n",
      "step =      8; time = 5.649e-05\n",
      "step =      9; time = 6.228e-05\n",
      "step =     10; time = 6.781e-05\n",
      "step =     11; time = 7.324e-05\n",
      "step =     12; time = 7.850e-05\n",
      "step =     13; time = 8.339e-05\n",
      "step =     14; time = 8.796e-05\n",
      "step =     15; time = 9.223e-05\n",
      "step =     16; time = 9.622e-05\n",
      "step =     17; time = 1.000e-04\n",
      "step =     18; time = 1.036e-04\n",
      "step =     19; time = 1.070e-04\n",
      "step =     20; time = 1.103e-04\n"
     ]
    }
   ],
   "source": [
    "while time < tm.times[-1] and step < maxSteps:\n",
    "    \n",
    "    # Solve non linear Stokes system\n",
    "    solver.solve(nonLinearIterate=True, nonLinearTolerance=md.nltol, callback_post_solve = pressure_calibrate)\n",
    "    \n",
    "    dt = advDiff.get_max_dt()\n",
    "    advDiff.integrate(dt)\n",
    "    \n",
    "    #advect swarm and faults\n",
    "    time, step =  advect_update(dt)\n",
    "    dt_model += dt\n",
    "    \n",
    "        \n",
    "    #update tectonic model\n",
    "    if step % steps_update_model == 0:\n",
    "        update_tect_model(tm, tmUwMap, time, dt = dt_model)\n",
    "        dt_model = 0.\n",
    "        plate_id_fn = tm.plate_id_fn()\n",
    "        faultRmfn, faultAddFn, velMaskFn, faultHorizTaperFn = update_mask_fns()\n",
    "        \n",
    "        #these need to be explicity updated\n",
    "        faultRheologyFn =  faultViscosityFn*(1. - faultDepthTaperFn) +\\\n",
    "        faultDepthTaperFn*mantleRheologyFn + faultHorizTaperFn*mantleRheologyFn\n",
    "        \n",
    "        viscosityMapFn = fn.branching.map( fn_key = proximityVariable,\n",
    "                             mapping = {0:mantleRheologyFn,\n",
    "                                        2:faultRheologyFn} )\n",
    "        \n",
    "        \n",
    "        \n",
    "    #running fault healing/addition, map back to swarm\n",
    "    if step % faults_update == 0:\n",
    "        update_faults()\n",
    "    if step % swarm_update == 0:\n",
    "        update_swarm()\n",
    "        \n",
    "    #rebuild stokes\n",
    "    if step % steps_update_model == 0:\n",
    "        del solver\n",
    "        del stokes\n",
    "        stokes = update_stokes(time, viscosityMapFn )\n",
    "        solver = rebuild_solver(stokes)\n",
    "        \n",
    "    \n",
    "    # output figure to file at intervals = steps_output\n",
    "    if step % steps_output == 0 or step == maxSteps-1:\n",
    "        \n",
    "        update_values()\n",
    "        \n",
    "        #Important to set the timestep for the store object here or will overwrite previous step\n",
    "        \n",
    "        #also update this guy for viz\n",
    "        viscSwarmVar.data[:] = viscosityMapFn.evaluate(swarm)\n",
    "        \n",
    "        store1.step = step\n",
    "        store2.step = step\n",
    "        store3.step = step\n",
    "        figTemp.save(    outputPath + \"temp\"    + str(step).zfill(4))\n",
    "        figVisc.save(    outputPath + \"visc\"    + str(step).zfill(4))\n",
    "        figVel.save(    outputPath + \"vel\"    + str(step).zfill(4))\n",
    "        \n",
    "        #save out the surface velocity\n",
    "        save_files(step)\n",
    "    \n",
    "    if uw.rank()==0:\n",
    "        print 'step = {0:6d}; time = {1:.3e}'.format(step,time)\n"
   ]
  },
  {
   "cell_type": "code",
   "execution_count": null,
   "metadata": {
    "collapsed": true,
    "deletable": true,
    "editable": true
   },
   "outputs": [],
   "source": []
  },
  {
   "cell_type": "code",
   "execution_count": null,
   "metadata": {
    "collapsed": true,
    "deletable": true,
    "editable": true
   },
   "outputs": [],
   "source": []
  },
  {
   "cell_type": "code",
   "execution_count": 88,
   "metadata": {
    "collapsed": false,
    "deletable": true,
    "editable": true
   },
   "outputs": [
    {
     "data": {
      "text/plain": [
       "True"
      ]
     },
     "execution_count": 88,
     "metadata": {},
     "output_type": "execute_result"
    }
   ],
   "source": [
    "#tm.is_ridge((3,3))"
   ]
  },
  {
   "cell_type": "code",
   "execution_count": null,
   "metadata": {
    "collapsed": true,
    "deletable": true,
    "editable": true
   },
   "outputs": [],
   "source": []
  }
 ],
 "metadata": {
  "kernelspec": {
   "display_name": "Python 2",
   "language": "python",
   "name": "python2"
  },
  "language_info": {
   "codemirror_mode": {
    "name": "ipython",
    "version": 2
   },
   "file_extension": ".py",
   "mimetype": "text/x-python",
   "name": "python",
   "nbconvert_exporter": "python",
   "pygments_lexer": "ipython2",
   "version": "2.7.9"
  }
 },
 "nbformat": 4,
 "nbformat_minor": 2
}
