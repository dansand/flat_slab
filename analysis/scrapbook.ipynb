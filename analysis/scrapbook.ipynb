{
 "cells": [
  {
   "cell_type": "markdown",
   "metadata": {},
   "source": [
    "# Figures / analysis for flat slab paper"
   ]
  },
  {
   "cell_type": "code",
   "execution_count": 1,
   "metadata": {},
   "outputs": [
    {
     "name": "stdout",
     "output_type": "stream",
     "text": [
      "Populating the interactive namespace from numpy and matplotlib\n"
     ]
    },
    {
     "name": "stderr",
     "output_type": "stream",
     "text": [
      "/usr/local/lib/python2.7/dist-packages/h5py/__init__.py:36: FutureWarning: Conversion of the second argument of issubdtype from `float` to `np.floating` is deprecated. In future, it will be treated as `np.float64 == np.dtype(float).type`.\n",
      "  from ._conv import register_converters as _register_converters\n"
     ]
    }
   ],
   "source": [
    "%pylab inline\n",
    "import numpy as np\n",
    "\n",
    "import seaborn as sns\n",
    "import glob2\n",
    "import pandas as pd\n",
    "import h5py\n",
    "from scipy.ndimage.filters import gaussian_filter\n",
    "from scipy.signal import savgol_filter\n",
    "import natsort\n",
    "from scipy.interpolate import UnivariateSpline\n",
    "from scipy.interpolate import CubicSpline\n",
    "import numpy as np\n",
    "import pint\n",
    "\n",
    "u = pint.UnitRegistry()"
   ]
  },
  {
   "cell_type": "code",
   "execution_count": 2,
   "metadata": {},
   "outputs": [
    {
     "data": {
      "text/plain": [
       "1.1890605999999999e-05"
      ]
     },
     "execution_count": 2,
     "metadata": {},
     "output_type": "execute_result"
    }
   ],
   "source": [
    "#dimensionalisation factors\n",
    "\n",
    "velScale = 3.4482758620689656e-13*(3600*24*365)*100.  #cm/y\n",
    "timeScale = 8.41e+18/(1e6*3600*24*365)\n",
    "lengthScale = 2900. #km\n",
    "stressScale =  11.890606*1e-6   #to MPa\n",
    "\n",
    "stressScale"
   ]
  },
  {
   "cell_type": "markdown",
   "metadata": {},
   "source": [
    "## Functions Required"
   ]
  },
  {
   "cell_type": "code",
   "execution_count": 3,
   "metadata": {},
   "outputs": [],
   "source": [
    "def listify_data(unique_string, path):\n",
    "    glob_str = path + '*' + unique_string + '*'\n",
    "    files = natsort.natsort(glob2.glob(glob_str))\n",
    "    #print(glob_str)\n",
    "    #return files\n",
    "    \n",
    "    dataList = []\n",
    "    for f in files:\n",
    "        with h5py.File(f,'r') as hf:\n",
    "            data = hf.get('data')\n",
    "            dataList.append(np.array(data))\n",
    "    return dataList\n",
    "\n",
    "\n",
    "def get_along_strike(pts):\n",
    "    dxs = np.diff(pts[:,0])\n",
    "    dys = np.diff(pts[:,1])\n",
    "    ds = np.sqrt(dxs**2 + dys**2)\n",
    "    \n",
    "    #pad the first point\n",
    "    return np.append(ds[0], ds) , np.cumsum(np.append([0.], ds)) #front and back pad these arrays\n",
    "\n",
    "\n",
    "def curvature_splines(x, y):\n",
    "    \"\"\"Calculate the signed curvature of a 2D curve at each point\n",
    "    using interpolating splines.\n",
    "    Parameters\n",
    "    ----------\n",
    "    x,y: numpy.array(dtype=float) shape (n_points, )\n",
    "    \"\"\"\n",
    "\n",
    "    fx = CubicSpline(x, x)\n",
    "    fy = CubicSpline(x, y)\n",
    "    #print(np.sqrt(std))\n",
    "\n",
    "    #x1 = fx.derivative(1)(x)\n",
    "    #x2 = fx.derivative(2)(x)\n",
    "    y1 = fy.derivative(1)(x)\n",
    "    y2 = fy.derivative(2)(x)\n",
    "    #curvature = (x1* y2 - y1* x2) / np.power(x1** 2 + y1** 2, 1.5)\n",
    "    curvature = (y2) / np.power(1 + y1** 2, 1.5)\n",
    "\n",
    "    return curvature, fx, fy, y1"
   ]
  },
  {
   "cell_type": "markdown",
   "metadata": {},
   "source": [
    "## Setup filter"
   ]
  },
  {
   "cell_type": "code",
   "execution_count": 4,
   "metadata": {},
   "outputs": [],
   "source": [
    "import scipy.signal as signal\n",
    "N  = 2    # Filter order\n",
    "# Cutoff frequency `Wn` is normalized from 0 to 1, \n",
    "#where 1 is the Nyquist frequency, pi radians/sample.\n",
    "\n",
    "#Wn = 0.19 #\n",
    "#Wn1 = 0.025 #\n",
    "\n",
    "Wn = 0.26 #\n",
    "Wn1 = 0.101 #\n",
    "\n",
    "B, A = signal.butter(N, Wn, output='ba')\n",
    "B1, A1 = signal.butter(N, Wn1, output='ba')\n",
    "\n"
   ]
  },
  {
   "cell_type": "code",
   "execution_count": null,
   "metadata": {
    "collapsed": true
   },
   "outputs": [],
   "source": [
    "i = 87               #timestep to analyse\n"
   ]
  },
  {
   "cell_type": "markdown",
   "metadata": {},
   "source": [
    "## Dataframe with plate boundary location"
   ]
  },
  {
   "cell_type": "code",
   "execution_count": null,
   "metadata": {
    "collapsed": true
   },
   "outputs": [],
   "source": [
    "def get_dataframe():\n",
    "    #file_ = '../models/results/A/20/values/tect_model_data.npz'\n",
    "    file_ = '../models/results/B/16/values/tect_model_data.npz'\n",
    "    out = np.load(file_)\n",
    "    d = dict(out)\n",
    "    df = pd.DataFrame.from_dict(d)\n",
    "    return df \n",
    "\n",
    "df = get_dataframe()"
   ]
  },
  {
   "cell_type": "code",
   "execution_count": null,
   "metadata": {},
   "outputs": [],
   "source": [
    "trenchLoc = (df['(2, 3)'].iloc[i] - 30./lengthScale)*lengthScale\n",
    "print(trenchLoc)"
   ]
  },
  {
   "cell_type": "markdown",
   "metadata": {},
   "source": [
    "## Load data"
   ]
  },
  {
   "cell_type": "code",
   "execution_count": null,
   "metadata": {},
   "outputs": [],
   "source": [
    "#loads slab midplane points, all timesteps\n",
    "\n",
    "mppoints = listify_data('midplane**', '../models/results/{}/{}/**/'.format('B', 16))"
   ]
  },
  {
   "cell_type": "code",
   "execution_count": null,
   "metadata": {
    "collapsed": true
   },
   "outputs": [],
   "source": [
    "depthlimit = 1. - (250/2900.)   #depth cutoff (avoids dealing with overturned slab)"
   ]
  },
  {
   "cell_type": "code",
   "execution_count": null,
   "metadata": {},
   "outputs": [],
   "source": [
    "#order the data \n",
    "\n",
    "indexes = np.argsort(mppoints[i][:,0])\n",
    "NP = 4    #only us every Nth point\n",
    "sortedData = mppoints[i].copy()[indexes]\n",
    "sortedData = sortedData[sortedData[:,1] > depthlimit] #remove deeper points\n",
    "sortedData = sortedData[sortedData[:,0] > -0.5] #remove points away from the trench\n",
    "sortedData = sortedData[::NP,:]\n",
    "ds, ds_cum = get_along_strike(sortedData)\n",
    "dsMean = ds.mean()\n"
   ]
  },
  {
   "cell_type": "code",
   "execution_count": null,
   "metadata": {},
   "outputs": [],
   "source": [
    "# Second, apply the filter\n",
    "print(dsMean*lengthScale)\n",
    "print((1./Wn)*(dsMean*lengthScale))  #wavelength of filter 1\n",
    "print((1./Wn1)*(dsMean*lengthScale)) #wavelength of filter 2"
   ]
  },
  {
   "cell_type": "markdown",
   "metadata": {},
   "source": [
    "# Estimate the curvature, curvature gradient"
   ]
  },
  {
   "cell_type": "code",
   "execution_count": null,
   "metadata": {},
   "outputs": [],
   "source": [
    "fy = CubicSpline(sortedData[:,0], sortedData[:,1])\n",
    "\n",
    "y1_ = fy.derivative(1)(sortedData[:,0])\n",
    "y2_ = fy.derivative(2)(sortedData[:,0])\n",
    "c_ = (y2_) / np.power(1 + y1_** 2, 1.5)\n",
    "\n",
    "c_F = signal.filtfilt(B,A, c_)\n",
    "\n",
    "dxMean = ds.min()*1\n",
    "\n",
    "cx_0 = np.gradient(c_, dxMean)\n",
    "cx_F= signal.filtfilt(B,A, cx_0)\n",
    "cx_F1= signal.filtfilt(B1,A1, cx_0)"
   ]
  },
  {
   "cell_type": "markdown",
   "metadata": {},
   "source": [
    "## Plot the curvatire gradient, check filters"
   ]
  },
  {
   "cell_type": "code",
   "execution_count": null,
   "metadata": {},
   "outputs": [],
   "source": [
    "f, ax = plt.subplots(figsize=(10, 5))\n",
    "ax.plot(sortedData[::1,0]*2900 - trenchLoc, cx_0*(1./2900e3**2),c = 'r', label='unfiltered', lw = 0.3)\n",
    "ax.plot(sortedData[::1,0]*2900 - trenchLoc, cx_F*(1./2900e3**2), \n",
    "        c = 'g', lw = 0.6, label=r'Butterworth $\\lambda >$ 10 km')\n",
    "ax.plot(sortedData[::1,0]*2900 - trenchLoc, cx_F1*(1./2900e3**2), \n",
    "        c = 'k', lw = 1, label=r'Butterworth $\\lambda >$ 25 km')\n",
    "\n",
    "\n",
    "ax.set_xlabel('distance from trench (km)', size = 12)\n",
    "ax.set_ylabel(r'$\\frac{\\partial{K}}{\\partial{S}}$ ', size = 20)\n",
    "\n",
    "\n",
    "ax.hlines(0, -200, 600, lw=1)\n",
    "#ax.plot(sortedData[::n,0], cxF)\n",
    "ax.set_ylim(-2e-10, 2e-10)\n",
    "ax.set_xlim(-200, 560)\n",
    "ax.legend(loc = 2)\n",
    "\n",
    "ax.text(-270, 0.5e-10, r'($m^{-2}$)', size = 12, rotation=90)"
   ]
  },
  {
   "cell_type": "code",
   "execution_count": null,
   "metadata": {},
   "outputs": [],
   "source": [
    "#f.savefig('filtering.png', dpi=400, bbox_inches='tight')"
   ]
  },
  {
   "cell_type": "markdown",
   "metadata": {},
   "source": [
    "## Save midplane gradient data"
   ]
  },
  {
   "cell_type": "code",
   "execution_count": null,
   "metadata": {},
   "outputs": [],
   "source": [
    "midPlaneCurv = np.column_stack( ( 2900.*sortedData[:,0], c_F *(1./2900)  ))\n",
    "midPlaneCurvGrad = np.column_stack( ( 2900.*sortedData[:,0], cx_F1*(1./2900**2) ))\n",
    "dimData = np.column_stack(( sortedData[:,0]*2900.0, (1. - sortedData[:,1])*2900.0 ))\n",
    "\n",
    "#np.savetxt('midPlane.csv', dimData, delimiter=',')\n",
    "#np.savetxt('curv.csv', midPlaneCurv , delimiter=',')\n",
    "#np.savetxt('curvGrad.csv', midPlaneCurvGrad, delimiter=',')\n"
   ]
  },
  {
   "cell_type": "markdown",
   "metadata": {},
   "source": [
    "## Load the subduction interface data\n"
   ]
  },
  {
   "cell_type": "code",
   "execution_count": null,
   "metadata": {},
   "outputs": [],
   "source": [
    "## Get / save interface \n",
    "\n",
    "interfaceOffsetKm = 7.\n",
    "ifpoints = listify_data('interface**', '../models/results/{}/{}/**/'.format('B', 16))\n",
    "\n",
    "indexes = np.argsort(ifpoints[i][:,0])\n",
    "intData = ifpoints[i].copy()[indexes]\n",
    "\n",
    "\n",
    "#dimIntData0 = np.column_stack((2900.*intData[:,0], \n",
    "#                            2900.*(1. - intData[:,1]) - 0. ))\n",
    "#dimIntData = np.column_stack((2900.*intData[:,0], \n",
    "#                           2900.*(1. - intData[:,1]) - interfaceOffsetKm))\n",
    "\n",
    "\n",
    "\n",
    "\n",
    "\n",
    "#save dimensional interface data\n",
    "#np.savetxt('slabTop.csv', dimIntData, delimiter=',')\n"
   ]
  },
  {
   "cell_type": "markdown",
   "metadata": {},
   "source": [
    "## Set UW mesh, and load fields"
   ]
  },
  {
   "cell_type": "code",
   "execution_count": null,
   "metadata": {
    "collapsed": true
   },
   "outputs": [],
   "source": [
    "import os\n",
    "\n",
    "import numpy as np\n",
    "import underworld as uw\n",
    "from underworld import function as fn\n",
    "import glucifer\n"
   ]
  },
  {
   "cell_type": "code",
   "execution_count": null,
   "metadata": {
    "collapsed": true
   },
   "outputs": [],
   "source": []
  },
  {
   "cell_type": "code",
   "execution_count": null,
   "metadata": {},
   "outputs": [],
   "source": [
    "yres = 192\n",
    "xres = int(yres  * 6)\n",
    "elementType = 'Q1/dQ0'\n",
    "\n",
    "\n",
    "\n",
    "mesh = uw.mesh.FeMesh_Cartesian(elementType = (elementType),\n",
    "                                 elementRes  = (xres, yres)) \n",
    "\n",
    "meshFile = natsort.natsort(glob2.glob('/workspace2/flat_slab/B/16/mesh**.h5'))\n",
    "\n",
    "mesh.load(meshFile[0])\n",
    "#Note that when you read in a deformed mesh file, the extents are not correct\n",
    "\n",
    "\n",
    "scalarField   = uw.mesh.MeshVariable( mesh=mesh, nodeDofCount=1 )\n",
    "tempField   = uw.mesh.MeshVariable( mesh=mesh, nodeDofCount=1 )\n",
    "strainField   = uw.mesh.MeshVariable( mesh=mesh, nodeDofCount=1 )\n"
   ]
  },
  {
   "cell_type": "code",
   "execution_count": null,
   "metadata": {},
   "outputs": [],
   "source": [
    "#sigFiles = natsort.natsort(glob2.glob('/workspace2/flat_slab/A/6/sigSS**.h5'))\n",
    "sigFiles = natsort.natsort(glob2.glob('/workspace2/flat_slab/B/16/sigSS**.h5'))\n",
    "sfile = sigFiles[i]\n",
    "\n",
    "#tempFiles = natsort.natsort(glob2.glob('/workspace2/flat_slab/A/6/temp**.h5'))\n",
    "tempFiles = natsort.natsort(glob2.glob('/workspace2/flat_slab/B/16/temp**.h5'))\n",
    "tfile = tempFiles[i]\n",
    "\n",
    "#strain rate \n",
    "#eFiles = natsort.natsort(glob2.glob('/workspace2/flat_slab/B/16/eSS**.h5'))\n",
    "#efile = eFiles[i]\n",
    "#efile"
   ]
  },
  {
   "cell_type": "code",
   "execution_count": null,
   "metadata": {},
   "outputs": [],
   "source": [
    "scalarField.load(sfile)\n",
    "tempField.load(tfile)\n",
    "#strainField.load(efile)"
   ]
  },
  {
   "cell_type": "code",
   "execution_count": null,
   "metadata": {},
   "outputs": [],
   "source": [
    "#fig = glucifer.Figure(figsize=(960,300) )\n",
    "#fig.append( glucifer.objects.Surface(mesh, tempField,  onMesh=True))\n",
    "#fig.append( glucifer.objects.Mesh(mesh))\n",
    "\n",
    "#fig.show()"
   ]
  },
  {
   "cell_type": "markdown",
   "metadata": {},
   "source": [
    "## Do slab top properly"
   ]
  },
  {
   "cell_type": "code",
   "execution_count": null,
   "metadata": {},
   "outputs": [],
   "source": [
    "\n",
    "import sys\n",
    "\n",
    "#this does't actually need to be protected. More a reminder it's an interim measure\n",
    "sys.path.append('../../UWsubduction/')\n",
    "import UWsubduction as usub\n",
    "\n",
    "#mesh=None\n",
    "velocityField = uw.mesh.MeshVariable( mesh=mesh, nodeDofCount=2)\n",
    "slabTopI2d = usub.interface2D(mesh, velocityField, intData[:,0], intData[:,1], 1.0, 1.0)"
   ]
  },
  {
   "cell_type": "code",
   "execution_count": null,
   "metadata": {
    "collapsed": true
   },
   "outputs": [],
   "source": [
    "\n"
   ]
  },
  {
   "cell_type": "code",
   "execution_count": null,
   "metadata": {},
   "outputs": [],
   "source": [
    "dslength = 7./2900\n",
    "slabTopRef = slabTopI2d.swarm.particleCoordinates.data[:]\n",
    "slabTopCorrect = slabTopI2d.swarm.particleCoordinates.data[:] - slabTopI2d.director.data[:]*dslength\n",
    "\n",
    "\n",
    "dimIntData0 = np.column_stack((2900.*slabTopRef[:,0], \n",
    "                            2900.*(1. - slabTopRef[:,1]) - 0. ))\n",
    "dimIntData = np.column_stack((2900.*slabTopCorrect[:,0], \n",
    "                           2900.*(1. - slabTopCorrect[:,1])))\n",
    "\n",
    "\n",
    "\n",
    "\n",
    "\n",
    "#save dimensional interface data\n",
    "#np.savetxt('slabTop.csv', dimIntData, delimiter=',')\n",
    "#np.savetxt('slabTop2.csv', _dimIntData, delimiter=',')\n",
    "#np.savetxt('slabTop2.csv', _dimIntData, delimiter=',')"
   ]
  },
  {
   "cell_type": "code",
   "execution_count": null,
   "metadata": {
    "collapsed": true
   },
   "outputs": [],
   "source": [
    "\n",
    "\n",
    "dimIntData0 = np.column_stack((2900.*slabTopRef[:,0], \n",
    "                            2900.*(1. - slabTopRef[:,1]) - 0. ))\n",
    "dimIntData = np.column_stack((2900.*slabTopCorrect[:,0], \n",
    "                           2900.*(1. - slabTopCorrect[:,1])))\n",
    "\n",
    "\n",
    "#np.savetxt('slabTop.csv', slabTopCorrect, delimiter=',')"
   ]
  },
  {
   "cell_type": "code",
   "execution_count": null,
   "metadata": {},
   "outputs": [],
   "source": [
    "fig, ax = plt.subplots()\n",
    "\n",
    "ax.plot(dimIntData0[:,0], dimIntData0[:,1])\n",
    "ax.plot(dimIntData[:,0], dimIntData[:,1])\n",
    "\n",
    "ax.set_ylim(150, -5)\n",
    "ax.set_xlim(-500, -50)\n",
    "ax.set_aspect('equal')"
   ]
  },
  {
   "cell_type": "markdown",
   "metadata": {},
   "source": [
    "## Load earthquake data"
   ]
  },
  {
   "cell_type": "code",
   "execution_count": null,
   "metadata": {
    "collapsed": true
   },
   "outputs": [],
   "source": [
    "dfEQ = pd.read_csv('./analysis_data/pps.csv')\n",
    "dfEQW = dfEQ[dfEQ.sector == 'western'].copy()\n",
    "dfEQW['mNorm'] = (dfEQW.m - dfEQW.m.min())/(dfEQW.m.max()- dfEQW.m.min())\n",
    "dfEQE = dfEQ[dfEQ.sector == 'eastern']\n",
    "\n",
    "dfEQ.head(3)"
   ]
  },
  {
   "cell_type": "markdown",
   "metadata": {},
   "source": [
    "## Plate age at trench "
   ]
  },
  {
   "cell_type": "code",
   "execution_count": null,
   "metadata": {},
   "outputs": [],
   "source": []
  },
  {
   "cell_type": "code",
   "execution_count": null,
   "metadata": {
    "collapsed": true
   },
   "outputs": [],
   "source": [
    "times = np.linspace(0,35., 100)\n",
    "vp =  np.linspace(9, 3., 100)\n",
    "vr = 2.\n",
    "plateLength = abs(df['(1, 2)'][i]*2900 - trenchLoc) - 30. #correction for MOR loc\n",
    "ageAtFlat = df.timeAtSave.iloc[i]*timeScale\n",
    "\n",
    "vp_r =  vp - vr #sp velocity on moving trench ref frame\n",
    "\n",
    "vp *= 10 #factor of 10 converts from cm/y to km/myr\n",
    "vp_r *= 10 \n",
    "\n",
    "vgrad = (vp[-1] - vp[0])/times[-1]\n",
    "int_1 = 0.5*vgrad* times**2 + vp[0]*times\n",
    "int_2 = 0.5*vgrad* times**2 + vp_r[0]*times\n",
    "\n",
    "distatT = int_2[np.argmin(np.abs(times - ageAtFlat))]\n",
    "refDist = distatT - plateLength\n",
    "ageSlab = ageAtFlat - times[np.argmin(np.abs(int_2 - refDist ))]"
   ]
  },
  {
   "cell_type": "code",
   "execution_count": null,
   "metadata": {},
   "outputs": [],
   "source": [
    "fig, ax = plt.subplots()\n",
    "ax.plot(times, int_1)\n",
    "ax.plot(times, int_2)\n",
    "ax.hlines(refDist ,0, 35 )\n",
    "ax.hlines(distatT ,0, 35 )\n",
    "\n",
    "ax.vlines(ageAtFlat, 0, 2000)\n",
    "ax.vlines(times[np.argmin(np.abs(int_2 - refDist ))], 0, 2000)"
   ]
  },
  {
   "cell_type": "code",
   "execution_count": null,
   "metadata": {},
   "outputs": [],
   "source": [
    "print(ageSlab)\n",
    "print(ageAtFlat)"
   ]
  },
  {
   "cell_type": "markdown",
   "metadata": {},
   "source": [
    "## Convergence velocity"
   ]
  },
  {
   "cell_type": "code",
   "execution_count": null,
   "metadata": {},
   "outputs": [],
   "source": [
    "vP = (9 - 3)*(1. - ageAtFlat/35.) + 3.\n",
    "print(vP  + 2)"
   ]
  },
  {
   "cell_type": "code",
   "execution_count": null,
   "metadata": {},
   "outputs": [],
   "source": [
    "np.sqrt(2)*25"
   ]
  },
  {
   "cell_type": "markdown",
   "metadata": {},
   "source": [
    "## Lithospheric thickness"
   ]
  },
  {
   "cell_type": "code",
   "execution_count": null,
   "metadata": {},
   "outputs": [],
   "source": [
    "age = 20.*1e6*365*24*3600.\n",
    "diff  = 1e-6\n",
    "potentialTemp = 1400.\n",
    "\n",
    "ageYoung = 10.*1e6*365*24*3600.\n",
    "ageOld = 30.*1e6*365*24*3600."
   ]
  },
  {
   "cell_type": "code",
   "execution_count": null,
   "metadata": {},
   "outputs": [],
   "source": [
    "from scipy.special import erfinv\n",
    "\n",
    "z = (erfinv((650)/potentialTemp))*2.*np.math.sqrt(diff*age)\n",
    "z"
   ]
  },
  {
   "cell_type": "code",
   "execution_count": null,
   "metadata": {},
   "outputs": [],
   "source": [
    "zs = np.linspace(0, 80e3, 1000)\n",
    "TsZRef = [np.math.erf(z/(2.*np.math.sqrt(diff*age)) )*potentialTemp for z in zs]\n",
    "TsZYoung = [np.math.erf(z/(2.*np.math.sqrt(diff*ageYoung)) )*potentialTemp for z in zs]\n",
    "TsZOld = [np.math.erf(z/(2.*np.math.sqrt(diff*ageOld)) )*potentialTemp for z in zs]"
   ]
  },
  {
   "cell_type": "code",
   "execution_count": null,
   "metadata": {},
   "outputs": [],
   "source": [
    "index700 = np.argmin(np.abs(np.array(TsZRef) - 700.))\n",
    "d70 = zs[index700]\n",
    "d70"
   ]
  },
  {
   "cell_type": "code",
   "execution_count": null,
   "metadata": {},
   "outputs": [],
   "source": [
    "fig, ax = plt.subplots()\n",
    "ax.plot(zs,TsZRef )\n",
    "ax.plot(zs,TsZYoung )\n",
    "ax.plot(zs,TsZOld )\n",
    "ax.vlines(d70, 0, 1400.)"
   ]
  },
  {
   "cell_type": "markdown",
   "metadata": {},
   "source": [
    "## Estimates of strain rate, elastic stresses etc"
   ]
  },
  {
   "cell_type": "code",
   "execution_count": null,
   "metadata": {
    "collapsed": true
   },
   "outputs": [],
   "source": [
    "#get typical values for strain rate etc\n",
    "blok = -150\n",
    "#dimCurvature = y3[blok:-blok].min()*(1./2900e3**2)\n",
    "\n",
    "dimCurvature =  cx_F1[:blok].min()*(1./2900e3**2)\n",
    "\n",
    "#dimCurvature = c[blok:-blok].min()*(1./2900e3**2)\n",
    "\n",
    "rocEst = np.sqrt(1./abs(dimCurvature))\n",
    "ypos = 15e3\n",
    "refBendStrainRate = abs(dimCurvature*(5*u.centimeter/u.year).to_base_units()*ypos).magnitude\n",
    "effVisc  = 200e6/(2*refBendStrainRate)\n",
    "slabPullStress = 200e6 \n",
    "stretchRateAtEffVisc = slabPullStress/(2.*effVisc ) \n",
    "\n",
    "dimCurvature, rocEst, refBendStrainRate, effVisc, stretchRateAtEffVisc\n",
    "#kostrov strain rate,\n",
    "#if all strain was released seismogenically by Peubla-sized events, \n",
    "#what is the recurrence interval per eqVolume\n",
    "#http://ds.iris.edu/spud/momenttensor/14300411\n",
    "#eq rupture volume based on: \"Bend Faulting at the Edge of a Flat Slab: The 2017 Mw7.1 Puebla-Morelos, Mexico Earthquake\"\n",
    "\n",
    "rigidity = 3e11 #dyne-cm \n",
    "scalarMom = 6.391e26\n",
    "volumeOfEq = 100*30e3*100*30e3*100*60e3 #in centimetres to match dyne-cm convention\n",
    "eqStrain = scalarMom/(2*rigidity*volumeOfEq)\n",
    "eqRecurrence = ((eqStrain/refBendStrainRate)*u.seconds).to(u.years)\n",
    "\n",
    "rocEst2 = 200e3\n",
    "E =  60e9 #basalt\n",
    "poisson = 0.25\n",
    "Ep = E/(1. - poisson**2)\n",
    "y = np.linspace(0, 30e3, 100)\n",
    "sigElast = Ep*y/rocEst2\n",
    "\n",
    "fig, ax = plt.subplots()\n",
    "ax.plot(y/1000., sigElast/1e9)\n",
    "ax.hlines(200e6/1e9, 0, 30)\n",
    "\n",
    "ax.set_ylabel('Stess GPa')\n",
    "ax.set_xlabel('distance from slab middle line, kms')\n",
    "\n",
    "fig, ax = plt.subplots()\n",
    "ax.plot(y/1000., 100*y/rocEst2)\n",
    "\n",
    "ax.set_ylabel('finite strain, perecent')\n",
    "ax.set_xlabel('distance from slab middle line, kms')\n",
    "\n",
    "\n",
    "KsEst = 1./100e3**2 #characteristic curvature gradient\n",
    "yEst= 15e3          #distance from midplae\n",
    "yieldStess = 200e6\n",
    "ds = yieldStess/(Ep*yEst*KsEst) #distance over which plastic limit is reached\n",
    "ds"
   ]
  },
  {
   "cell_type": "markdown",
   "metadata": {},
   "source": [
    "## Simulating flat slab rollback "
   ]
  },
  {
   "cell_type": "code",
   "execution_count": null,
   "metadata": {},
   "outputs": [],
   "source": [
    "#Interface\n",
    "dimIntDataScaled = dimIntData.copy()\n",
    "mask = (dimIntDataScaled[:,0] -  trenchLoc) > 300.\n",
    "dimIntDataScaled[mask,0] = dimIntDataScaled[mask,0].min() +  (dimIntDataScaled[mask,0] - dimIntDataScaled[mask,0].min()) * 0.45\n",
    "\n",
    "#midplane\n",
    "dimDataScaled = dimData.copy()\n",
    "mask = (dimDataScaled[:,0] -  trenchLoc) > 290.\n",
    "\n",
    "dimDataScaled[mask,0] = dimDataScaled[mask,0].min() +  (dimDataScaled[mask,0] - dimDataScaled[mask,0].min()) * 0.4"
   ]
  },
  {
   "cell_type": "code",
   "execution_count": null,
   "metadata": {},
   "outputs": [],
   "source": [
    "#dimDataScaled"
   ]
  },
  {
   "cell_type": "code",
   "execution_count": null,
   "metadata": {},
   "outputs": [],
   "source": [
    "#np.sqrt(31.819**2 + 31.819**2)"
   ]
  },
  {
   "cell_type": "code",
   "execution_count": null,
   "metadata": {},
   "outputs": [],
   "source": [
    "fy = CubicSpline(dimDataScaled[:,0]/2900., 2900. - dimDataScaled[:,1]/2900.)\n",
    "y1_ = fy.derivative(1)(dimDataScaled[:,0]/2900.)\n",
    "y2_ = fy.derivative(2)(dimDataScaled[:,0]/2900.)\n",
    "c_ = (y2_) / np.power(1 + y1_** 2, 1.5)\n",
    "\n",
    "#c_F = gaussian_filter(c_, 5)\n",
    "_c_F = signal.filtfilt(B1,A1, c_)\n",
    "\n",
    "dxMean = ds.min()*1\n",
    "\n",
    "_cx_0 = np.gradient(c_, dxMean)\n",
    "_cx_F1= signal.filtfilt(B1,A1, _cx_0)"
   ]
  },
  {
   "cell_type": "code",
   "execution_count": null,
   "metadata": {},
   "outputs": [],
   "source": [
    "#np.sqrt((308 - 290)**2  + (103- 62)**2)"
   ]
  },
  {
   "cell_type": "code",
   "execution_count": null,
   "metadata": {},
   "outputs": [],
   "source": [
    "import matplotlib.patches as patches\n",
    "\n",
    "#fig, ax = plt.subplots(figsize=(20,5))\n",
    "fig, (ax1, ax2) = plt.subplots(2, 1, sharex=True, figsize=(20,15))\n",
    "ax1.plot(dimIntData[:,0] - trenchLoc, dimIntData[:,1], \n",
    "         c = 'k', label = 'model slab top', ls = '-.')\n",
    "ax1.plot(dimIntDataScaled[:,0] - trenchLoc, dimIntDataScaled[:,1],\n",
    "         c = 'r', label = 'slab top w/ rollback', ls = '-.')\n",
    "ax1.plot(dimData[:,0] - trenchLoc, dimData[:,1], c = 'k', label = 'model mid plane')\n",
    "ax1.plot(dimDataScaled[:,0] - trenchLoc, dimDataScaled[:,1], c = 'r', label = 'model mid plane w/ rollback')\n",
    "\n",
    "\n",
    "#ax.vlines(-0.1890954*2900., 0., 140)\n",
    "ax1.set_ylim(160, 30)\n",
    "ax1.set_xlim(150, 450)\n",
    "ax1.set_aspect('equal')\n",
    "#-0.1890954\n",
    "\n",
    "ax1.add_patch(\n",
    "    patches.Arrow(\n",
    "        400,            # x\n",
    "        100,            # y\n",
    "        -50,            # dx\n",
    "        0,            # dy\n",
    "        width=15,      # optional - defaults to 1.0\n",
    "        color = 'r'\n",
    "    )\n",
    ")\n",
    "\n",
    "\n",
    "ax1.add_patch(\n",
    "    patches.Arrow(\n",
    "        448,            # x\n",
    "        100,            # y\n",
    "        -40,            # dx\n",
    "        0,            # dy\n",
    "        width=10,      # optional - defaults to 1.0\n",
    "        color = 'k'\n",
    "    )\n",
    ")\n",
    "\n",
    "\n",
    "ax1.plot([290,305], [56,71], lw = 2, c='g', ls = '--', label = 'approx Puebla rupture')\n",
    "\n",
    "\n",
    "ax1.add_patch(patches.Circle((293,103), radius=45, fill=False))\n",
    "\n",
    "#ax1.plot([290,308], [103, 62], lw = 3, c = 'k')\n",
    "ax1.text(250, 103, 'min radius of curvature 45 km',  fontsize=12)\n",
    "\n",
    "ax1.legend(fontsize = 'x-large', loc = 3)\n",
    "\n",
    "\n",
    "ax1.set_ylabel('depth (km)', size = 25)\n",
    "trenchLoc = -510.\n",
    "\n",
    "ax2.plot(dimData[::1,0] - trenchLoc, -1.*(cx_F1*(1./2900e3**2))/2e-10, \n",
    "       c = 'k', lw = 2,  label = r'$\\frac{\\partial{K}}{\\partial{S}}$ ')\n",
    "\n",
    "ax2.plot(dimData[::1,0] - trenchLoc, -1.*(c_F*(1./2900e3))/10e-6, c = 'k',\n",
    "        lw = 2,ls = '--', label = r'$K$')\n",
    "\n",
    "ax2.plot(dimDataScaled[::1,0] - trenchLoc, -1.*(_cx_F1*(1./2900e3**2))/2e-10, \n",
    "       c = 'r', lw = 2,  label = r'$\\frac{\\partial{K}}{\\partial{S}}$ ')\n",
    "\n",
    "ax2.plot(dimDataScaled[::1,0] - trenchLoc, -1.*(_c_F*(1./2900e3))/10e-6, c = 'r',\n",
    "        lw = 2,ls = '--', label = r'$K$')\n",
    "\n",
    "ax2.legend(loc = 2, fontsize = 'x-large')\n",
    "ax2.hlines(0, -200, 560, lw=1)\n",
    "ax2.vlines(290, -1.1, 1.1, lw=2, colors='g', linestyles='--')\n",
    "\n",
    "ax2.set_ylim(-2., 2.5)\n",
    "#ax2.set_xlim(-200, 450)\n",
    "\n",
    "ax2.set_xlabel('distance from trench (km)',  size = 25)\n",
    "\n"
   ]
  },
  {
   "cell_type": "code",
   "execution_count": null,
   "metadata": {},
   "outputs": [],
   "source": [
    "#fig.savefig('corrected_profile.png', dpi=300, bbox_inches='tight')"
   ]
  },
  {
   "cell_type": "code",
   "execution_count": 20,
   "metadata": {},
   "outputs": [],
   "source": [
    "#ax1.text?"
   ]
  },
  {
   "cell_type": "code",
   "execution_count": null,
   "metadata": {
    "collapsed": true
   },
   "outputs": [],
   "source": [
    "#np.savetxt('slabTop.csv', dimIntData, delimiter=',')\n",
    "#np.savetxt('slabTopCorrected.csv', dimIntDataScaled, delimiter=',')"
   ]
  },
  {
   "cell_type": "code",
   "execution_count": null,
   "metadata": {},
   "outputs": [],
   "source": [
    "#np.savetxt('midPlane.csv', dimData, delimiter=',')\n",
    "#np.savetxt('midPlaneCorrected.csv', dimDataScaled, delimiter=',')"
   ]
  },
  {
   "cell_type": "code",
   "execution_count": null,
   "metadata": {
    "collapsed": true
   },
   "outputs": [],
   "source": [
    "#midPlaneCurvCorrected = np.column_stack( ( dimDataScaled[:,0], -1.*(_c_F*(1./2900e3)) ))\n",
    "#midPlaneCurvGradCorrected = np.column_stack( ( dimDataScaled[:,0], -1.*(_cx_F1*(1./2900e3**2)) ))\n",
    "\n",
    "#np.savetxt('curvCorrected.csv', midPlaneCurvCorrected , delimiter=',')\n",
    "#np.savetxt('curvGradCorrected.csv', midPlaneCurvGradCorrected , delimiter=',')"
   ]
  },
  {
   "cell_type": "code",
   "execution_count": null,
   "metadata": {},
   "outputs": [],
   "source": [
    "#test = np.loadtxt('curvCorrected.csv', delimiter=',')"
   ]
  },
  {
   "cell_type": "markdown",
   "metadata": {},
   "source": [
    "## Slab top curvature"
   ]
  },
  {
   "cell_type": "code",
   "execution_count": null,
   "metadata": {},
   "outputs": [],
   "source": [
    "Wn2 = 0.03 #\n",
    "\n",
    "B2, A2 = signal.butter(N, Wn2, output='ba')\n",
    "\n",
    "\n",
    "\n",
    "fy = CubicSpline(dimIntData[:,0]/2900., dimIntData[:,1]/2900.)\n",
    "y1_ = fy.derivative(1)(dimIntData[:,0]/2900.)\n",
    "y2_ = fy.derivative(2)(dimIntData[:,0]/2900.)\n",
    "c_ = (y2_) / np.power(1 + y1_** 2, 1.5)\n",
    "\n",
    "#c_F = gaussian_filter(c_, 5)\n",
    "c_F = signal.filtfilt(B2,A2, c_)\n",
    "\n",
    "dxMean = ds.min()*1\n",
    "\n",
    "_cx_0 = np.gradient(c_, dxMean)\n",
    "_cx_F= signal.filtfilt(B2,A2, _cx_0)\n",
    "_cx_F1= signal.filtfilt(B2,A2, _cx_0)\n",
    "\n",
    "fy = CubicSpline(dimIntDataScaled[:,0]/2900., dimIntDataScaled[:,1]/2900.)\n",
    "y1_ = fy.derivative(1)(dimIntDataScaled[:,0]/2900.)\n",
    "y2_ = fy.derivative(2)(dimIntDataScaled[:,0]/2900.)\n",
    "c_ = (y2_) / np.power(1 + y1_** 2, 1.5)\n",
    "\n",
    "#c_F = gaussian_filter(c_, 5)\n",
    "_c_F = signal.filtfilt(B2,A2, c_)\n",
    "\n",
    "dxMean = ds.min()*1\n",
    "\n",
    "\n",
    "__cx_0 = np.gradient(_c_F, dxMean)\n",
    "__cx_F= signal.filtfilt(B2,A2, __cx_0)\n",
    "__cx_F1= signal.filtfilt(B2,A2, __cx_0)"
   ]
  },
  {
   "cell_type": "code",
   "execution_count": null,
   "metadata": {},
   "outputs": [],
   "source": [
    "(1./np.abs((c_F*(1./2900e3)))).min(), (1./np.abs((_c_F*(1./2900e3)))).min()"
   ]
  },
  {
   "cell_type": "code",
   "execution_count": null,
   "metadata": {},
   "outputs": [],
   "source": [
    "fig, ax = plt.subplots()\n",
    "\n",
    "#ax.plot(dimIntDataScaled[::1,0] - trenchLoc, (__cx_F1*(1./2900e3**2))/2e-10, \n",
    "#       c = 'k', lw = 2,  label = r'$\\frac{\\partial{K}}{\\partial{S}}$ ')\n",
    "\n",
    "ax.plot(dimIntDataScaled[::1,0] - trenchLoc, (_c_F*(1./2900e3))/10e-6, c = 'r',\n",
    "        lw = 2,ls = '--', label = r'$K$')\n",
    "\n",
    "ax.plot(dimIntData[::1,0] - trenchLoc, (c_F*(1./2900e3))/10e-6, c = 'k',\n",
    "        lw = 2,ls = '--', label = r'$K$')\n",
    "\n",
    "ax.legend(loc = 2, fontsize = 'x-large')\n",
    "ax.hlines(0, -200, 560, lw=1)\n",
    "ax.vlines(290, -1.1, 1.1, lw=2, colors='g', linestyles='--')\n",
    "\n",
    "ax.set_ylim(-0.5, 2.5)\n",
    "ax.set_xlim(-200, 450)\n",
    "\n",
    "ax.set_xlabel('distance from trench (km)',  size = 25)"
   ]
  },
  {
   "cell_type": "markdown",
   "metadata": {},
   "source": [
    "## Some rheology scalings\n",
    "\n",
    "In the paper, I made the following changes to migrate the potential temp from 1300 to 400 K:\n",
    "\n",
    "```\n",
    "alpha0 = 1400/1300.\n",
    "alpha = (1 + 0.8*(alpha0 - 1.))\n",
    "Bf = Bf0/alpha0 = 1.25/alpha0\n",
    "adibaticGrad = adibaticGrad/alpha\n",
    "```\n",
    "\n",
    "A better set of changes (avoidig a slightly arbitrary adibaticGrad) would be\n",
    "\n",
    "```\n",
    "alpha0 = 1400/1300.\n",
    "alpha = (1 + 0.7*(alpha0 - 1.))\n",
    "Bf = Bf0/alpha0 = 1.25/alpha0\n",
    "adibaticGrad = 1.*adibaticGrad # i.e. use value given by (Expansivity*Gravity*potentialTemp)/specificHeat\n",
    "```\n",
    "\n",
    "The changes in the models are negligible. \n"
   ]
  },
  {
   "cell_type": "code",
   "execution_count": 10,
   "metadata": {},
   "outputs": [],
   "source": [
    "tp = np.linspace(0, 1, 100)\n",
    "ndDepth = 670/2900.\n",
    "TSref = 0.21\n",
    "adTempRef = 0.82505\n",
    "adTempNew = adTempRef*(1673/1573.)\n",
    "\n",
    "alpha0 = 1400/1300.\n",
    "alpha = (1 + 0.7*(alpha0 - 1.))\n",
    "\n",
    "TSnew =  0.21/(alpha0 )\n",
    "\n",
    "prefac = 1./53400000000.0\n",
    "prefacLM = 1./424000.0\n",
    "\n",
    "\n",
    "Eref = 27.756703\n",
    "ELMref = 18.504\n",
    "Enew = 25.774081*alpha\n",
    "ELMNew= ELMref*alpha\n",
    "\n",
    "#43.3865028\n",
    "VRef = 43.386502840435966\n",
    "VLMRef = 13.015 \n",
    "VNew = VRef*alpha\n",
    "VLMNew = VLMRef*alpha"
   ]
  },
  {
   "cell_type": "code",
   "execution_count": 11,
   "metadata": {},
   "outputs": [],
   "source": [
    "alpha0 = 1400/1300.\n",
    "alpha = (1 + 0.7*(alpha0 - 1.))"
   ]
  },
  {
   "cell_type": "code",
   "execution_count": 17,
   "metadata": {},
   "outputs": [
    {
     "data": {
      "text/plain": [
       "(1.0769230769230769, 1.0538461538461539, 1.0615384615384615)"
      ]
     },
     "execution_count": 17,
     "metadata": {},
     "output_type": "execute_result"
    }
   ],
   "source": [
    "alpha0, alpha, (1 + 0.8*(alpha0 - 1.))"
   ]
  },
  {
   "cell_type": "code",
   "execution_count": 21,
   "metadata": {},
   "outputs": [
    {
     "data": {
      "text/plain": [
       "318.459"
      ]
     },
     "execution_count": 21,
     "metadata": {},
     "output_type": "execute_result"
    }
   ],
   "source": [
    "300.*1.06153"
   ]
  },
  {
   "cell_type": "code",
   "execution_count": 19,
   "metadata": {},
   "outputs": [
    {
     "data": {
      "text/plain": [
       "0.8615384615384616"
      ]
     },
     "execution_count": 19,
     "metadata": {},
     "output_type": "execute_result"
    }
   ],
   "source": [
    "0.8*(alpha0)"
   ]
  },
  {
   "cell_type": "code",
   "execution_count": 13,
   "metadata": {},
   "outputs": [],
   "source": [
    "etaRef = ((Eref + ndDepth*VRef) / (tp + (ndDepth*adTempRef) + TSref))\n",
    "etaNew = (( Enew + ndDepth*VNew) / (tp + (ndDepth*adTempNew) + TSnew))\n",
    "\n",
    "\n",
    "etaLMRef = ((ELMref + ndDepth*VLMRef) / (tp + (ndDepth*adTempRef) + TSref))\n",
    "etaLMNew = (( ELMNew + ndDepth*VLMNew) / (tp + (ndDepth*adTempNew) + TSnew))"
   ]
  },
  {
   "cell_type": "code",
   "execution_count": 14,
   "metadata": {},
   "outputs": [
    {
     "data": {
      "image/png": "[encoded data removed]",
      "text/plain": [
       "<Figure size 432x288 with 1 Axes>"
      ]
     },
     "metadata": {},
     "output_type": "display_data"
    }
   ],
   "source": [
    "fig, ax = plt.subplots()\n",
    "ax.plot(tp, prefac*np.exp(etaRef), c = 'k')\n",
    "ax.plot(tp, prefac*np.exp(etaNew), c = 'r')\n",
    "\n",
    "ax.plot(tp, prefacLM*np.exp(etaLMRef), c = 'k', ls = '--')\n",
    "ax.plot(tp, 0.4*prefacLM*np.exp(etaLMNew), c = 'r', ls = '--')\n",
    "\n",
    "ax.set_ylim(1e0, 1e8)\n",
    "ax.set_xlim(0.5, 1.02)\n",
    "ax.set_yscale('log')"
   ]
  },
  {
   "cell_type": "code",
   "execution_count": 97,
   "metadata": {},
   "outputs": [
    {
     "data": {
      "text/plain": [
       "(27.75670261538461, 27.756703)"
      ]
     },
     "execution_count": 97,
     "metadata": {},
     "output_type": "execute_result"
    }
   ],
   "source": [
    "Enew, Eref"
   ]
  },
  {
   "cell_type": "code",
   "execution_count": 34,
   "metadata": {},
   "outputs": [
    {
     "data": {
      "text/plain": [
       "1.0615384615384615"
      ]
     },
     "execution_count": 34,
     "metadata": {},
     "output_type": "execute_result"
    }
   ],
   "source": [
    "alpha"
   ]
  },
  {
   "cell_type": "code",
   "execution_count": null,
   "metadata": {},
   "outputs": [],
   "source": []
  },
  {
   "cell_type": "code",
   "execution_count": null,
   "metadata": {},
   "outputs": [],
   "source": [
    "xs = np.linspace(0, 4*np.pi, 200)\n",
    "test1 = np.cos(xs) + np.sin(2*xs) + np.random.rand(len(xs))  + 2.5\n",
    "test2 = np.sin(xs) + np.cos(2*xs) + np.random.rand(len(xs)) + 2.5"
   ]
  },
  {
   "cell_type": "code",
   "execution_count": null,
   "metadata": {
    "collapsed": true
   },
   "outputs": [],
   "source": [
    "harm = (test1*test2)/(test1 + test2)\n",
    "harm1 = (1./test1 + 1./test2)**-1."
   ]
  },
  {
   "cell_type": "code",
   "execution_count": null,
   "metadata": {},
   "outputs": [],
   "source": [
    "plt.plot(xs, test1)\n",
    "plt.plot(xs, test2)\n",
    "\n",
    "plt.plot(xs, harm)\n",
    "plt.plot(xs, harm1, ls = '--')"
   ]
  },
  {
   "cell_type": "markdown",
   "metadata": {
    "collapsed": true
   },
   "source": [
    "## Interpolate data to regulat grid"
   ]
  },
  {
   "cell_type": "code",
   "execution_count": null,
   "metadata": {
    "collapsed": true
   },
   "outputs": [],
   "source": [
    "#\n",
    "dm = 2/2900.               #grid spacing numoy\n",
    "inset = 0.99999     #build teh grid just inside the undeworld domain to avoid out of bounds errors\n",
    "inset_ = 1/inset\n",
    "\n",
    "minx = -2500./2900.\n",
    "maxx = 2500.0/2900.\n",
    "maxy = 2900./2900.\n",
    "miny = 1. - (1250./2900.)\n",
    "\n",
    "numx = int((inset*maxx - inset*minx)/dm)\n",
    "meshxs  = np.linspace(inset*minx, inset*maxx, num=numx, endpoint=True)\n",
    "\n",
    "numy = int((inset*maxy - inset*miny)/dm)\n",
    "meshys  = np.linspace((1./inset)*miny, inset*maxy, num=numy, endpoint=True)\n",
    "\n",
    "xv, yv = np.meshgrid(meshxs, meshys )\n",
    "#uw just wants an Mx2 array\n",
    "coords = np.array(zip(xv.flatten(), yv.flatten()))\n",
    "\n",
    "\n",
    "#interpolate data into our numpy arrays\n",
    "#these are 1-D\n",
    "\n",
    "stressdata = scalarField.evaluate(coords[:, :])[:,0] \n",
    "tempdata = tempField.evaluate(coords[:, :])[:,0]\n",
    "#straindata = strainField.evaluate(coords[:, :])[:,0]\n",
    "\n",
    "#Now create teh 2D arrays and dimensionalaze\n",
    "stress = np.zeros(xv.shape) \n",
    "stress[:] = np.flipud(stressdata.reshape((xv.shape)))*stressScale\n",
    "\n",
    "temp = np.zeros(xv.shape) \n",
    "temp[:] = np.flipud(tempdata.reshape((xv.shape)))*1400.0\n",
    "stress[temp > 1270] = np.nan\n",
    "\n",
    "\n",
    "#strain = np.zeros(xv.shape) \n",
    "#strain[:] = np.flipud(straindata.reshape((xv.shape)))\n",
    "#strain = np.clip(strain, -5000, 5000)\n",
    "#strain[temp > 1270] = np.nan\n",
    "\n",
    "\n",
    "#save the numpy arrays\n",
    "\n",
    "#np.savetxt('temp.csv', temp, fmt='%.2f', delimiter=',')\n",
    "#np.savetxt('stress.csv', stress, fmt='%.2f', delimiter=',')\n",
    "#np.savetxt('xcoords.csv', xv, fmt='%.2f', delimiter=',')\n",
    "#np.savetxt('ycoords.csv', yv, fmt='%.2f', delimiter=',')\n",
    "\n",
    "\n",
    "#testtemp = np.loadtxt('temp.csv', delimiter=',')\n",
    "#testy = \n",
    "#plt.imshow(testtemp)"
   ]
  },
  {
   "cell_type": "markdown",
   "metadata": {},
   "source": [
    "## check"
   ]
  },
  {
   "cell_type": "code",
   "execution_count": 6,
   "metadata": {
    "collapsed": true
   },
   "outputs": [],
   "source": [
    "import pickle"
   ]
  },
  {
   "cell_type": "code",
   "execution_count": 7,
   "metadata": {
    "collapsed": true
   },
   "outputs": [],
   "source": [
    "# Load data (deserialize)\n",
    "with open('../pd.pkl', 'rb') as handle:\n",
    "    data = pickle.load(handle)"
   ]
  },
  {
   "cell_type": "code",
   "execution_count": 8,
   "metadata": {},
   "outputs": [
    {
     "data": {
      "text/plain": [
       "{'adiabaticTempGrad': <Quantity(0.000369851247601, 'kelvin * kilogram * meter / joule / second ** 2')>,\n",
       " 'cohesionMantle': <Quantity(20.0, 'megapascal')>,\n",
       " 'diffusionEnergy': <Quantity(300000.0, 'joule / mole')>,\n",
       " 'diffusionEnergyDepth': <Quantity(36083.714217, 'kelvin')>,\n",
       " 'diffusionPreExp': <Quantity(5.34e-10, '1 / pascal / second')>,\n",
       " 'diffusionVolume': <Quantity(5e-06, 'meter ** 3 / mole')>,\n",
       " 'diffusionVolumeDepth': <Quantity(0.019449121963, 'kelvin / meter')>,\n",
       " 'frictionMantle': <Quantity(0.1, 'dimensionless')>,\n",
       " 'frictionMantleDepth': <Quantity(3234.0, 'kilogram / meter ** 2 / second ** 2')>,\n",
       " 'gasConstant': <Quantity(8.314, 'joule / kelvin / mole')>,\n",
       " 'lowerMantleViscFac': <Quantity(5.0, 'dimensionless')>,\n",
       " 'potentialTemp': <Quantity(1573.0, 'kelvin')>,\n",
       " 'potentialTemp_': <Quantity(1300.0, 'kelvin')>,\n",
       " 'refDensity': <Quantity(3300.0, 'kilogram / meter ** 3')>,\n",
       " 'refDiffusivity': <Quantity(1e-06, 'meter ** 2 / second')>,\n",
       " 'refExpansivity': <Quantity(3e-05, '1 / kelvin')>,\n",
       " 'refGravity': <Quantity(9.8, 'meter / second ** 2')>,\n",
       " 'refLength': <Quantity(2900, 'kilometer')>,\n",
       " 'refViscosity': <Quantity(1e+20, 'pascal * second')>,\n",
       " 'specificHeat': <Quantity(1250.4, 'joule / kelvin / kilogram')>,\n",
       " 'surfaceTemp': <Quantity(273.0, 'kelvin')>,\n",
       " 'surfaceTemp_': <Quantity(0.0, 'kelvin')>,\n",
       " 'viscosityFault': <Quantity(9e+18, 'pascal * second')>,\n",
       " 'yieldStressMax': <Quantity(100.0, 'megapascal')>}"
      ]
     },
     "execution_count": 8,
     "metadata": {},
     "output_type": "execute_result"
    }
   ],
   "source": [
    "data['']"
   ]
  },
  {
   "cell_type": "code",
   "execution_count": null,
   "metadata": {
    "collapsed": true
   },
   "outputs": [],
   "source": []
  }
 ],
 "metadata": {
  "kernelspec": {
   "display_name": "Python 2",
   "language": "python",
   "name": "python2"
  },
  "language_info": {
   "codemirror_mode": {
    "name": "ipython",
    "version": 2
   },
   "file_extension": ".py",
   "mimetype": "text/x-python",
   "name": "python",
   "nbconvert_exporter": "python",
   "pygments_lexer": "ipython2",
   "version": "2.7.13"
  }
 },
 "nbformat": 4,
 "nbformat_minor": 2
}
