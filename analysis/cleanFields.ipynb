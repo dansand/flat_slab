{
 "cells": [
  {
   "cell_type": "markdown",
   "metadata": {},
   "source": [
    "## Plot temperatures, other fields\n",
    "\n",
    "* After much pain with contour labels, I discovered it is importnant to add the label after the axes configuration - i.e. limits, aspect ratio. etc"
   ]
  },
  {
   "cell_type": "code",
   "execution_count": 1,
   "metadata": {},
   "outputs": [],
   "source": [
    "velScale = 3.4482758620689656e-13*(3600*24*365)*100.  #cm/y\n",
    "timeScale = 8.41e+18/(1e6*3600*24*365)    \n",
    "tempScale = 1400.0\n",
    "stressScale = 11.890606\n",
    "adiabatTempGrad = 0.8253168000"
   ]
  },
  {
   "cell_type": "code",
   "execution_count": 2,
   "metadata": {},
   "outputs": [
    {
     "name": "stderr",
     "output_type": "stream",
     "text": [
      "/usr/local/lib/python2.7/dist-packages/h5py/__init__.py:36: FutureWarning: Conversion of the second argument of issubdtype from `float` to `np.floating` is deprecated. In future, it will be treated as `np.float64 == np.dtype(float).type`.\n",
      "  from ._conv import register_converters as _register_converters\n"
     ]
    }
   ],
   "source": [
    "#%pylab inline\n",
    "\n",
    "import matplotlib.pyplot as plt\n",
    "import numpy as np\n",
    "\n",
    "#import seaborn as sns\n",
    "import glob2\n",
    "import pandas as pd\n",
    "import h5py\n",
    "from scipy.ndimage.filters import gaussian_filter\n",
    "import natsort\n",
    "from scipy.interpolate import interp1d\n",
    "from scipy.interpolate import CubicSpline\n",
    "from matplotlib.colors import LogNorm\n"
   ]
  },
  {
   "cell_type": "code",
   "execution_count": 3,
   "metadata": {},
   "outputs": [],
   "source": [
    "import matplotlib.patches as patches\n",
    "#import matplotlib.gridspec as gridspec\n",
    "#from matplotlib.colors import LogNorm\n",
    "#from matplotlib import  ticker"
   ]
  },
  {
   "cell_type": "code",
   "execution_count": 4,
   "metadata": {},
   "outputs": [
    {
     "name": "stdout",
     "output_type": "stream",
     "text": [
      "Populating the interactive namespace from numpy and matplotlib\n"
     ]
    },
    {
     "name": "stderr",
     "output_type": "stream",
     "text": [
      "WARNING: pylab import has clobbered these variables: ['plotting']\n",
      "`%matplotlib` prevents importing * from pylab and numpy\n"
     ]
    }
   ],
   "source": [
    "plotting = True\n",
    "if plotting is False:\n",
    "    plt.ioff()\n",
    "else:\n",
    "    %pylab inline\n",
    "\n",
    "    "
   ]
  },
  {
   "cell_type": "code",
   "execution_count": 5,
   "metadata": {},
   "outputs": [],
   "source": [
    "def get_dataframe(M, N):\n",
    "    file_ = '../models/results/{}/{}/values/tect_model_data.npz'.format(M, N)\n",
    "    #file_ = '../models/results/A/{}/values/tect_model_data.npz'.format(num)\n",
    "    out = np.load(file_)\n",
    "    d = dict(out)\n",
    "    df = pd.DataFrame.from_dict(d)\n",
    "    return df "
   ]
  },
  {
   "cell_type": "code",
   "execution_count": 6,
   "metadata": {},
   "outputs": [],
   "source": [
    "#ls ../models/results/B/16/values/"
   ]
  },
  {
   "cell_type": "code",
   "execution_count": null,
   "metadata": {},
   "outputs": [],
   "source": []
  },
  {
   "cell_type": "code",
   "execution_count": 7,
   "metadata": {},
   "outputs": [],
   "source": [
    "def get_along_strike(pts):\n",
    "    dxs = np.diff(pts[:,0])\n",
    "    dys = np.diff(pts[:,1])\n",
    "    ds = np.sqrt(dxs**2 + dys**2)\n",
    "    \n",
    "    #pad the first point\n",
    "    return np.append(ds[0], ds) , np.cumsum(np.append([0.], ds)) #front and back pad these arrays"
   ]
  },
  {
   "cell_type": "code",
   "execution_count": 8,
   "metadata": {},
   "outputs": [],
   "source": [
    "def listify_data(unique_string, path):\n",
    "    glob_str = path + '*' + unique_string + '*'\n",
    "    files = natsort.natsort(glob2.glob(glob_str))\n",
    "    #print(glob_str)\n",
    "    #return files\n",
    "    \n",
    "    dataList = []\n",
    "    for f in files:\n",
    "        with h5py.File(f,'r') as hf:\n",
    "            data = hf.get('data')\n",
    "            dataList.append(np.array(data))\n",
    "    return dataList"
   ]
  },
  {
   "cell_type": "code",
   "execution_count": null,
   "metadata": {},
   "outputs": [],
   "source": []
  },
  {
   "cell_type": "code",
   "execution_count": 9,
   "metadata": {},
   "outputs": [],
   "source": [
    "def mddFn(depths, yvels):\n",
    "    for i in range(len(depths)):\n",
    "        mask = depths[i] > 50\n",
    "        ref = (-1.*yvels[i][mask]).max()/2.5\n",
    "        index = np.argmin(np.abs((-1.*yvels[i][mask]) - ref))\n",
    "        mddF = depths[i][mask][index]\n",
    "        yield mddF/2900."
   ]
  },
  {
   "cell_type": "code",
   "execution_count": 10,
   "metadata": {},
   "outputs": [],
   "source": [
    "def prune_recursive(data, n, tol = 0.1, safe = 5):\n",
    "    \"\"\"\n",
    "    We want to avoid points where the slab is inverted.\n",
    "    We recursively eliminate points from the deepest\n",
    "\n",
    "    \"\"\"\n",
    "    \n",
    "    \n",
    "    #assume data is not depth odrered\n",
    "    \n",
    "    ysorted = data[np.argsort(data[:,1])]\n",
    "    xsortedData = ysorted[np.argsort(ysorted[:,0])]\n",
    "    \n",
    "    ds = abs(np.mean(np.diff(xsortedData[:,0][10:110])))\n",
    "    \n",
    "    mask = 0\n",
    "\n",
    "    while np.abs(np.max(np.diff(xsortedData[:,1]))) > ds*tol:\n",
    "        mask += n\n",
    "        ysorted = data[np.argsort(data[:,1])][mask:]\n",
    "        xsortedData = ysorted[np.argsort(ysorted[:,0])]\n",
    "    \n",
    "    ysorted = data[np.argsort(data[:,1])][mask + safe:]\n",
    "    xsortedData = ysorted[np.argsort(ysorted[:,0])]\n",
    "    return xsortedData "
   ]
  },
  {
   "cell_type": "code",
   "execution_count": 11,
   "metadata": {},
   "outputs": [],
   "source": [
    "def wrap_invert_spline(result, trench, maxIntData):\n",
    "    mask = np.logical_and(result > trench, result < maxIntData)\n",
    "    if mask.sum() > 0.:\n",
    "        result = result[mask]\n",
    "    if len(result) == 1:\n",
    "        return result[0]\n",
    "    else:\n",
    "        return result[1]"
   ]
  },
  {
   "cell_type": "code",
   "execution_count": 12,
   "metadata": {},
   "outputs": [],
   "source": [
    "def prune_recursive(data, n, tol = 0.1, safe = 5):\n",
    "    \"\"\"\n",
    "    We want to avoid points where the slab is inverted.\n",
    "    We recursively eliminate points from the deepest\n",
    "\n",
    "    \"\"\"\n",
    "    \n",
    "    \n",
    "    #assume data is not depth odrered\n",
    "    \n",
    "    ysorted = data[np.argsort(data[:,1])]\n",
    "    xsortedData = ysorted[np.argsort(ysorted[:,0])]\n",
    "    \n",
    "    ds = abs(np.mean(np.diff(xsortedData[:,0][10:110])))\n",
    "    \n",
    "    mask = 0\n",
    "\n",
    "    while np.abs(np.max(np.diff(xsortedData[:,1]))) > ds*tol:\n",
    "        mask += n\n",
    "        ysorted = data[np.argsort(data[:,1])][mask:]\n",
    "        xsortedData = ysorted[np.argsort(ysorted[:,0])]\n",
    "    \n",
    "    ysorted = data[np.argsort(data[:,1])][mask + safe:]\n",
    "    xsortedData = ysorted[np.argsort(ysorted[:,0])]\n",
    "    return xsortedData "
   ]
  },
  {
   "cell_type": "markdown",
   "metadata": {},
   "source": [
    "## Get flat slab data"
   ]
  },
  {
   "cell_type": "markdown",
   "metadata": {},
   "source": [
    "#Needed\n",
    "dfC32\n",
    "meshData4\n",
    "visc\n",
    "temp\n",
    "\n",
    "visc[viscindexes]\n",
    "shiftData\n",
    "\n",
    "trench"
   ]
  },
  {
   "cell_type": "code",
   "execution_count": 13,
   "metadata": {},
   "outputs": [],
   "source": [
    "dfB16 = get_dataframe('B', '16')\n"
   ]
  },
  {
   "cell_type": "code",
   "execution_count": 87,
   "metadata": {},
   "outputs": [],
   "source": [
    "timeToPlot = 20.\n",
    "\n",
    "#Shallow\n",
    "ixB16 = np.argmin(np.abs(dfB16.timeAtSave*timeScale - timeToPlot))\n"
   ]
  },
  {
   "cell_type": "code",
   "execution_count": 88,
   "metadata": {},
   "outputs": [],
   "source": [
    "#Mesh\n",
    "hf = h5py.File('/workspace2/flat_slab/B/16/mesh.h5', 'r')\n",
    "meshData = np.array(hf.get(\"vertices\"))\n",
    "\n",
    "\n",
    "tempFiles = natsort.natsort(glob2.glob('/workspace2/flat_slab/{}/{}/**temp**h5'.format('B', '16')))\n",
    "ixB16 = np.argmin(np.abs(dfB16.timeAtSave*timeScale - timeToPlot))\n",
    "hf = h5py.File(tempFiles[ixB16], 'r')\n",
    "temp = np.array(hf.get(\"data\"))[:,0]\n",
    "temp += adiabatTempGrad*( 1. - meshData[:,1])\n",
    "temp *=tempScale\n",
    "\n",
    "\n",
    "viscFiles = natsort.natsort(glob2.glob('/workspace2/flat_slab/{}/{}/**visc**h5'.format('B', '16')))\n",
    "hf = h5py.File(viscFiles[ixB16], 'r')\n",
    "visc = np.array(hf.get(\"data\"))[:,0]\n",
    "visc = visc.copy()*1e20\n"
   ]
  },
  {
   "cell_type": "code",
   "execution_count": 89,
   "metadata": {},
   "outputs": [],
   "source": [
    "hf = h5py.File('./analysis_data/mesh.h5', 'r')\n",
    "meshData = np.array(hf.get(\"vertices\"))\n"
   ]
  },
  {
   "cell_type": "code",
   "execution_count": 90,
   "metadata": {},
   "outputs": [],
   "source": [
    "hf = h5py.File('./analysis_data/temp_2200.h5', 'r')\n",
    "tempData = np.array(hf.get(\"data\"))"
   ]
  },
  {
   "cell_type": "code",
   "execution_count": 91,
   "metadata": {},
   "outputs": [],
   "source": [
    "pointsList = listify_data('interface', '../models/results/{}/{}/**/'.format('B', '16'))\n",
    "points = pointsList[ixB16 + 1]\n",
    "\n",
    "indexes =  np.argsort(points[:,0])\n",
    "sortedData = points[indexes]\n",
    "\n",
    "sortedData  = prune_recursive(sortedData, 5, tol = 0.7,safe=20)\n",
    "xlim = sortedData[:,0][np.argmin(np.abs((1. - sortedData[:,1])*2900 - 25.) )] - (400./2900)\n",
    "startindex = np.argmin(np.abs(sortedData[:,0] - xlim))\n",
    "sortedData = sortedData[startindex:,:]\n",
    "\n",
    "fy = CubicSpline(sortedData[:,0], sortedData[:,1])\n",
    "y1_ = fy.derivative(1)(sortedData[:,0])\n",
    "y2_ = fy.derivative(2)(sortedData[:,0])\n",
    "c_ = (y2_) / np.power(1 + y1_** 2, 1.5)\n",
    "normals_rad = np.arctan(y1_) + np.pi/2\n",
    "\n",
    "scalar0 = 7.5/2900.\n",
    "shiftData = np.column_stack((sortedData[:,0] + np.cos(normals_rad)*scalar0, \n",
    "                             sortedData[:,1] + np.sin(normals_rad)*scalar0 ))\n",
    "\n",
    "scalar2 = 10./2900.\n",
    "shiftData2 = np.column_stack((sortedData[:,0] + np.cos(normals_rad)*scalar2, \n",
    "                             sortedData[:,1] + np.sin(normals_rad)*scalar2 ))\n",
    "\n",
    "indexes2 =  np.argsort(shiftData[:,0])\n",
    "shiftData = shiftData[indexes2]\n",
    "\n",
    "ds, ds_cum = get_along_strike(sortedData)\n",
    "dsMean = ds.mean()"
   ]
  },
  {
   "cell_type": "code",
   "execution_count": 92,
   "metadata": {},
   "outputs": [],
   "source": [
    "#Get data along vertical transect\n",
    "\n",
    "trench = dfB16['(2, 3)'][ixB16]*2900. - 40\n",
    "trench_ = dfB16['(2, 3)'][ixB16]\n",
    "\n",
    "pointForVisc = -1730./2900 #ridge loc\n",
    "#-0.6\n",
    "\n",
    "viscindexes = np.isclose(meshData[:,0], 0.)\n",
    "get2 = meshData[np.argmin( np.abs(meshData[:,0] - pointForVisc) ),0]\n",
    "\n",
    "viscindexes = np.isclose(meshData[:,0], get2 ) "
   ]
  },
  {
   "cell_type": "code",
   "execution_count": 93,
   "metadata": {},
   "outputs": [],
   "source": [
    "#-1740."
   ]
  },
  {
   "cell_type": "code",
   "execution_count": 94,
   "metadata": {},
   "outputs": [],
   "source": [
    "maskThis = 2900.*shiftData2[:,0] > trench + 150.\n",
    "dimIntData = np.column_stack((2900.*shiftData2[maskThis,0], \n",
    "                           2900.*(1. - shiftData2[maskThis,1])))\n",
    "\n",
    "\n",
    "indexWedge = np.argmin(np.abs(shiftData2[maskThis,1] - 45)) #this determines where the LVW intersects the subduction interface\n"
   ]
  },
  {
   "cell_type": "markdown",
   "metadata": {},
   "source": [
    "## Do the fig"
   ]
  },
  {
   "cell_type": "code",
   "execution_count": 95,
   "metadata": {},
   "outputs": [
    {
     "data": {
      "image/png": "[encoded data removed]",
      "text/plain": [
       "<Figure size 1440x302.4 with 3 Axes>"
      ]
     },
     "metadata": {},
     "output_type": "display_data"
    }
   ],
   "source": [
    "fig, axes = plt.subplots(nrows=1, ncols=2, sharex='col', sharey=True,\n",
    "                               gridspec_kw={'width_ratios': [8, 1]},\n",
    "                               figsize=(20, 4.2))\n",
    "\n",
    "fig.set_tight_layout({'rect': [0, 0, 1, 1], 'pad': 0.0, 'h_pad': 0.1})\n",
    "\n",
    "ax = axes[0]\n",
    "\n",
    "\n",
    "\n",
    "\n",
    "viscLevs =  np.array([0.5, 2.0,  1e5])*1e20\n",
    "#viscLevs =  np.array([0.1, 0.4, 10, 50, 200, 1000, 2500, 1e5])*1e20\n",
    "\n",
    "#cb1 = ax.tricontourf((2900*meshData[:,0]), 2900*(1. - meshData[:,1]),  \n",
    "#                visc[:], \n",
    "#                cmap='Greys',\n",
    "#                levels = viscLevs,\n",
    "#                vmin = 1e20*1e1, vmax = 1e20*9e3,\n",
    "#                    norm = LogNorm(), alpha = 0.2)\n",
    "\n",
    "cb1 = ax.tricontourf((2900*meshData[:,0]), 2900*(1. - meshData[:,1]),  \n",
    "                    temp,\n",
    "                    vmax = 1350, vmin = 0,\n",
    "                     cmap='Greys', alpha=0.7,#\n",
    "\n",
    "                     levels =  [0.,  1200.])\n",
    "\n",
    "\n",
    "\n",
    "con1 = ax.tricontour((2900*meshData[:,0] ), 2900*(1. - meshData[:,1]),  \n",
    "\n",
    "                    temp,\n",
    "                    vmin =0, vmax = 1350, alpha=1., \n",
    "                    levels = [650, 1200, 1400], colors= 'k', linewidths = 1.2 )\n",
    "\n",
    "\n",
    "\n",
    "    \n",
    "#for i in [27]:\n",
    "#    ixB16_ = np.argmin(np.abs(dfB16.timeAtSave*timeScale - i))\n",
    "#    hf = h5py.File(tempFiles[ixB16_], 'r')\n",
    "#    tempB16 = np.array(hf.get(\"data\"))[:,0]\n",
    "#    tempB16 += adiabatTempGrad*( 1. - meshData[:,1])\n",
    "#    tempB16 *=tempScale\n",
    "#    \n",
    "#    con = ax.tricontour((2900*meshData[:,0] ), 2900*(1. - meshData[:,1]),  \n",
    "\n",
    "#                    tempB16,\n",
    "#                    vmin =0, vmax = 1350, alpha=0., \n",
    "#                    levels = [1100, 1400], colors= 'k', linewidths = 0.0 )\n",
    "    \n",
    "    \n",
    "#    p = con.collections[0].get_paths()\n",
    "#    pv = [path.vertices for path in p]\n",
    "#    Iso1 = np.concatenate(pv) #already dimensionalized\n",
    "        \n",
    "#    #mask = np.logical_and(Iso1[:,0] < trench, Iso1[:,1] > 100)\n",
    "#    #mask = Iso1[:,1] > 90\n",
    "#    mask =  Iso1[:,0] < trench + 1500.\n",
    "#    ax.plot(Iso1[mask,0], Iso1[mask,1], c= 'k', lw = 0.5, ls = '-' )\n",
    "    \n",
    "\n",
    "\n",
    "ax.set_ylabel('depth (km)', fontsize= 20)\n",
    "ax.yaxis.set_tick_params(labelsize=14)\n",
    "ax.set_xlim(-2500, 2500 )\n",
    "ax.set_ylim(1250, 0)\n",
    "ax.set_aspect(1)\n",
    "\n",
    "#cl = ax.clabel(con2, fontsize=15, inline=1, fmt='%1.0f' + r'$^{\\circ}$C', \n",
    "#           manual=[(trench + 380, 50),(trench + 380, 75)], inline_spacing=6)\n",
    "\n",
    "ax.vlines(pointForVisc*2900., 0, 1250, linestyles='--', colors='k')\n",
    "ax.hlines(660., -2500, 2500,  linestyles='-', colors='k')\n",
    "\n",
    "\n",
    "##########################################\n",
    "#ax2\n",
    "##########################################\n",
    "\n",
    "ax2 = axes[1]\n",
    "\n",
    "ax2.plot( visc[viscindexes], (1. - meshData[viscindexes,1])*2900., c ='k', ls ='--' )\n",
    "ax2.set_xscale('log')\n",
    "ax2.set_xticks([1e20,  1e22, 1e24])\n",
    "\n",
    "ax2.tick_params(axis=\"x\",direction=\"in\", pad=-40)\n",
    "ax2.xaxis.set_tick_params(labelsize=17)\n",
    "ax2.set_xlabel(r'$\\eta$ (Pa.s)', fontsize= 20)\n",
    "#ax2.tick_params(labelbottom='off',labeltop='on')\n",
    "ax2.xaxis.set_label_position('top')\n",
    "\n",
    "ax2.vlines(1e20, 0, 1250, linestyles='-', colors='k', lw = 0.5)\n",
    "ax2.vlines(1e22, 0, 1250, linestyles='-', colors='k', lw = 0.5)\n",
    "ax2.vlines(1e24, 0, 1250, linestyles='-', colors='k', lw = 0.5)\n",
    "\n",
    "\n",
    "for tick in ax2.get_xticklabels():\n",
    "        tick.set_rotation(90)\n",
    "        \n",
    "        \n",
    "##########################################\n",
    "#Inset\n",
    "##########################################\n",
    "\n",
    "in_ax = fig.add_axes([0.6, 0.08, 0.25, 0.6]) \n",
    "\n",
    "if timeToPlot < 20.0:\n",
    "    depthmask = (1.0 - shiftData[::1,1])*2900. < 100.\n",
    "else:\n",
    "    depthmask = (1.0 - shiftData[::1,1])*2900. < 75.\n",
    "\n",
    "ln, = in_ax.plot(2900.*(shiftData[depthmask,0]), \n",
    "           gaussian_filter((1.0 - shiftData[depthmask,1])*2900., 0), lw = 7.5, \n",
    "                 ls = '-', c = 'k', alpha = 0.6, zorder=1e3, label='sub. interface' )\n",
    "\n",
    "ln.set_solid_capstyle('round')\n",
    "\n",
    "\n",
    "in_ax.set_xlim(trench, 500 + trench)\n",
    "in_ax.set_ylim(250, 0)\n",
    "in_ax.set_aspect(1)\n",
    "in_ax.get_xaxis().set_visible(False)\n",
    "in_ax.get_yaxis().set_visible(False)\n",
    "\n",
    "if timeToPlot == 27.0:\n",
    "    \n",
    "    in_ax.annotate('LVW', xy=(0.8, 0.71), xycoords='axes fraction',  fontsize=20)\n",
    "    #t0.set_bbox(dict(facecolor='white', alpha=1, edgecolor='black'))\n",
    "\n",
    "if timeToPlot == 20.0:\n",
    "    in_ax.annotate('LVW', xy=(0.33, 0.71), xycoords='axes fraction',  fontsize=20)    \n",
    "    #t0.set_bbox(dict(facecolor='white', alpha=1, edgecolor='black'))\n",
    "\n",
    "ax.get_xaxis().set_visible(False)\n",
    "\n",
    "\n",
    "#cb1 = in_ax.tricontourf((2900*meshData[:,0]), 2900*(1. - meshData[:,1]),  \n",
    "#               visc[:], \n",
    "#                cmap='Greys',\n",
    "#                levels = viscLevs,\n",
    "#                vmin = 1e20*1e1, vmax = 1e20*9e3,\n",
    "#                    norm = LogNorm(), alpha = 0.3)\n",
    "\n",
    "\n",
    "cb2 = in_ax.tricontourf((2900*meshData[:,0]), 2900*(1. - meshData[:,1]),  \n",
    "                    temp,\n",
    "                    vmax = 1350, vmin = 0,\n",
    "                     cmap='Greys', alpha=0.8,#\n",
    "\n",
    "                     levels =  [0.,  1200.])\n",
    "\n",
    "\n",
    "\n",
    "con2 = in_ax.tricontour((2900*meshData[:,0] ), 2900*(1. - meshData[:,1]),  \n",
    "\n",
    "                    temp,\n",
    "                    vmin =0, vmax = 1350, alpha=1., \n",
    "                    levels = [650, 1200, 1400], colors= 'k', linewidths = 1 )\n",
    "\n",
    "\n",
    "if timeToPlot >= 20.0:\n",
    "    in_ax.fill_between(dimIntData[indexWedge:,0] , \n",
    "                 dimIntData[indexWedge:,1], 52*np.ones(len(dimIntData[indexWedge:,1])), \n",
    "                 facecolor='white', alpha=0.9) \n",
    "\n",
    "if timeToPlot == 0.0:\n",
    "    in_ax.legend(loc = 4, fontsize = 16)\n",
    "\n",
    "# Create a Rectangle patch\n",
    "rect = patches.Rectangle((trench,0),500,250,linewidth=1,edgecolor='k',facecolor='none')\n",
    "\n",
    "# Add the patch to the Axes\n",
    "ax.add_patch(rect)\n",
    "\n",
    "\n",
    "#ax.arrow(0, 0, 500, 500, head_width=0.05, head_length=0.1, fc='k', ec='k')\n",
    "\n",
    "vSP = np.round( (9 - 3)*(1. - timeToPlot/35.) + 3, 1)\n",
    "\n",
    "ax.annotate(r'0 cm $yr^{-1}$', xy=(0.03, 1.02), xycoords='axes fraction',  fontsize=22)\n",
    "\n",
    "\n",
    "ax.annotate(r'$V_x = {}$'.format(vSP) +  r' cm $yr^{-1}$', xy=(0.45, 1.05), xycoords='axes fraction', xytext=(0.25, 1.02), fontsize=22,\n",
    "            arrowprops=dict(arrowstyle=\"->\", color='k'))\n",
    "            \n",
    "ax.annotate(r'2 cm $yr^{-1}$', xy=(0.7, 1.05), xycoords='axes fraction', xytext=(0.725, 1.02), fontsize=22,\n",
    "            arrowprops=dict(arrowstyle=\"->\", color='k'))\n",
    "\n",
    "#Label boundary condiutions\n",
    "if timeToPlot == 0.0:\n",
    "    \n",
    "    ax.annotate('y', xy=(0.17, 0.05), xycoords='axes fraction', xytext=(0.165, 0.3), fontsize=20,\n",
    "            arrowprops=dict(arrowstyle=\"<-\", color='k'))\n",
    "    \n",
    "    ax.annotate('x', xy=(0.168, 0.051), xycoords='axes fraction', xytext=(0.235, 0.035), fontsize=20,\n",
    "            arrowprops=dict(arrowstyle=\"<-\", color='k'))\n",
    "    \n",
    "    ax.text(-1150, 1200, r'$V_y = 0.$' , fontsize=22)\n",
    "    ax.text(-750, 1200, r'$\\frac{\\partial{T}}{\\partial{y}} = 0.$' , fontsize=24)\n",
    "    \n",
    "    ax.text(-1250, 150, r'$V_y = 0.$' , fontsize=24)\n",
    "    ax.text(-850, 150, r'$T = 273$ K' , fontsize=24)\n",
    "    \n",
    "    ax.text(-2490, 350, r'$V_x = 0.$' , fontsize=22, rotation=-90)\n",
    "    ax.text(-2490, 780, r'$\\frac{\\partial{T}}{\\partial{x}} = 0.$' , fontsize=24, rotation=-90)\n",
    "    \n",
    "    ax.text(2400, 350, r'$V_x = 0.$' , fontsize=22, rotation=90)\n",
    "    ax.text(2400, 780, '1673 K' , fontsize=22, rotation=90)\n",
    "    \n",
    "    t = ax.text(pointForVisc*2900. + 150, 680, r'$\\times\\eta_{660}  = 5.0$', fontsize=22)\n",
    "    t.set_bbox(dict(facecolor='white', alpha=1, edgecolor='black'))\n",
    "\n",
    "    \n",
    "\n",
    "\n",
    "#ax.annotate(r' <- + 500 km', xy=(0.05, 0.05), xycoords='axes fraction', fontsize=25, color='k')\n",
    "\n",
    "ax.text(-2450, 1200, '{} Myr'.format(int(timeToPlot)), fontsize=30)\n",
    "\n",
    "\n",
    "\n",
    "\n",
    "fig.tight_layout()\n"
   ]
  },
  {
   "cell_type": "code",
   "execution_count": 96,
   "metadata": {},
   "outputs": [
    {
     "data": {
      "text/plain": [
       "20.0"
      ]
     },
     "execution_count": 96,
     "metadata": {},
     "output_type": "execute_result"
    }
   ],
   "source": [
    "timeToPlot"
   ]
  },
  {
   "cell_type": "code",
   "execution_count": 97,
   "metadata": {},
   "outputs": [],
   "source": [
    "#vSP = np.round( (9 - 3)*(1. - 0/35.) + 3, 1)"
   ]
  },
  {
   "cell_type": "code",
   "execution_count": 99,
   "metadata": {},
   "outputs": [],
   "source": [
    "#fig.savefig('model_setup_{}'.format(int(timeToPlot)), dpi=300, bbox_inches='tight')"
   ]
  },
  {
   "cell_type": "code",
   "execution_count": 71,
   "metadata": {},
   "outputs": [],
   "source": [
    "pointsList = listify_data('interface', '../models/results/{}/{}/**/'.format('B', '16'))\n",
    "points = pointsList[ixB16 + 1]\n",
    "\n",
    "indexes =  np.argsort(points[:,0])\n",
    "sortedData = points[indexes]\n",
    "\n",
    "sortedData  = prune_recursive(sortedData, 5, tol = 0.7,safe=20)\n",
    "xlim = sortedData[:,0][np.argmin(np.abs((1. - sortedData[:,1])*2900 - 25.) )] - (400./2900)\n",
    "startindex = np.argmin(np.abs(sortedData[:,0] - xlim))\n",
    "sortedData = sortedData[startindex:,:]\n",
    "\n",
    "fy = CubicSpline(sortedData[:,0], sortedData[:,1])\n",
    "y1_ = fy.derivative(1)(sortedData[:,0])\n",
    "y2_ = fy.derivative(2)(sortedData[:,0])\n",
    "c_ = (y2_) / np.power(1 + y1_** 2, 1.5)\n",
    "normals_rad = np.arctan(y1_) + np.pi/2\n",
    "\n",
    "scalar = 5./2900.\n",
    "shiftData = np.column_stack((sortedData[:,0] + np.cos(normals_rad)*scalar, \n",
    "                             sortedData[:,1] + np.sin(normals_rad)*scalar ))\n",
    "\n",
    "\n",
    "indexes2 =  np.argsort(shiftData[:,0])\n",
    "shiftData = shiftData[indexes2]\n",
    "\n",
    "ds, ds_cum = get_along_strike(sortedData)\n",
    "dsMean = ds.mean()"
   ]
  },
  {
   "cell_type": "code",
   "execution_count": 72,
   "metadata": {},
   "outputs": [],
   "source": [
    "## Scratch"
   ]
  },
  {
   "cell_type": "code",
   "execution_count": 73,
   "metadata": {},
   "outputs": [
    {
     "data": {
      "image/png": "[encoded data removed]",
      "text/plain": [
       "<Figure size 432x288 with 1 Axes>"
      ]
     },
     "metadata": {},
     "output_type": "display_data"
    }
   ],
   "source": [
    "fig, ax = plt.subplots()\n",
    "\n",
    "\n",
    "##########################################\n",
    "#trench = dfC32['(1, 2)'][ixC32]*2900. - 40\n",
    "\n",
    "\n",
    "viscLevs =  np.array([0.5, 4.0,  1e5])*1e20\n",
    "\n",
    "\n",
    "\n",
    "#cb1 = ax.tricontourf((2900*meshData[:,0]), 2900*(1. - meshData[:,1]),  \n",
    "#                visc[:], \n",
    "#                cmap='Greys',\n",
    "#                levels = viscLevs,\n",
    "#                vmin = 1e20*1e1, vmax = 1e20*9e3,\n",
    "#                    norm = LogNorm(), alpha = 0.3)\n",
    "\n",
    "\n",
    "ax.fill_between(dimIntData[indexWedge:,0] , \n",
    "                 dimIntData[indexWedge:,1], 52*np.ones(len(dimIntData[indexWedge:,1])), \n",
    "                 facecolor='blue', alpha=0.65) \n",
    "\n",
    "#ax.annotate(r'5 cm $yr^{-1}$', xy=(0.4, 1.05), xycoords='axes fraction', xytext=(0.0, 1.02), \n",
    "#            arrowprops=dict(arrowstyle=\"->\", color='k'))\n",
    "\n",
    "ax.annotate(r'5 cm $yr^{-1}$', xy=(0.4, 1.05), xycoords='axes fraction')\n",
    "\n",
    "ax.set_xlim(-600, 500)\n",
    "ax.set_ylim(300, 0)\n",
    "ax.set_aspect('equal')\n",
    "\n",
    "\n",
    "depthmask = (1.0 - shiftData[::1,1])*2900. < 90\n",
    "ln, = ax.plot(2900.*(shiftData[depthmask,0]), \n",
    "           gaussian_filter((1.0 - shiftData[depthmask,1])*2900., 0), lw = 5, ls = '--', c = 'k', alpha = 0.8)\n",
    "\n",
    "ln.set_solid_capstyle('round')\n",
    "\n",
    "#cl = ax.clabel(cb_, fontsize=15, inline=1, fmt='%1.0f' + r'$^{\\circ}$C', \n",
    "#           manual=[(trench + 380, 50),(trench + 380, 75)], inline_spacing=6)"
   ]
  },
  {
   "cell_type": "code",
   "execution_count": 60,
   "metadata": {},
   "outputs": [
    {
     "data": {
      "text/plain": [
       "(-2499.9999999983193, 2499.9999999983193)"
      ]
     },
     "execution_count": 60,
     "metadata": {},
     "output_type": "execute_result"
    }
   ],
   "source": [
    "meshData[:,0].min()*2900., meshData[:,0].max()*2900. "
   ]
  },
  {
   "cell_type": "code",
   "execution_count": 61,
   "metadata": {},
   "outputs": [
    {
     "ename": "NameError",
     "evalue": "name 'B16Files' is not defined",
     "output_type": "error",
     "traceback": [
      "\u001b[1;31m\u001b[0m",
      "\u001b[1;31mNameError\u001b[0mTraceback (most recent call last)",
      "\u001b[1;32m<ipython-input-61-1f05e6a2bce1>\u001b[0m in \u001b[0;36m<module>\u001b[1;34m()\u001b[0m\n\u001b[0;32m      1\u001b[0m \u001b[1;32mfor\u001b[0m \u001b[0mi\u001b[0m \u001b[1;32min\u001b[0m \u001b[1;33m[\u001b[0m\u001b[1;36m27\u001b[0m\u001b[1;33m]\u001b[0m\u001b[1;33m:\u001b[0m\u001b[1;33m\u001b[0m\u001b[0m\n\u001b[0;32m      2\u001b[0m     \u001b[0mixB16\u001b[0m \u001b[1;33m=\u001b[0m \u001b[0mnp\u001b[0m\u001b[1;33m.\u001b[0m\u001b[0margmin\u001b[0m\u001b[1;33m(\u001b[0m\u001b[0mnp\u001b[0m\u001b[1;33m.\u001b[0m\u001b[0mabs\u001b[0m\u001b[1;33m(\u001b[0m\u001b[0mdfB16\u001b[0m\u001b[1;33m.\u001b[0m\u001b[0mtimeAtSave\u001b[0m\u001b[1;33m*\u001b[0m\u001b[0mtimeScale\u001b[0m \u001b[1;33m-\u001b[0m \u001b[0mi\u001b[0m\u001b[1;33m)\u001b[0m\u001b[1;33m)\u001b[0m\u001b[1;33m\u001b[0m\u001b[0m\n\u001b[1;32m----> 3\u001b[1;33m     \u001b[0mhf\u001b[0m \u001b[1;33m=\u001b[0m \u001b[0mh5py\u001b[0m\u001b[1;33m.\u001b[0m\u001b[0mFile\u001b[0m\u001b[1;33m(\u001b[0m\u001b[0mB16Files\u001b[0m\u001b[1;33m[\u001b[0m\u001b[0mixB16\u001b[0m\u001b[1;33m]\u001b[0m\u001b[1;33m,\u001b[0m \u001b[1;34m'r'\u001b[0m\u001b[1;33m)\u001b[0m\u001b[1;33m\u001b[0m\u001b[0m\n\u001b[0m\u001b[0;32m      4\u001b[0m     \u001b[0mtempB16\u001b[0m \u001b[1;33m=\u001b[0m \u001b[0mnp\u001b[0m\u001b[1;33m.\u001b[0m\u001b[0marray\u001b[0m\u001b[1;33m(\u001b[0m\u001b[0mhf\u001b[0m\u001b[1;33m.\u001b[0m\u001b[0mget\u001b[0m\u001b[1;33m(\u001b[0m\u001b[1;34m\"data\"\u001b[0m\u001b[1;33m)\u001b[0m\u001b[1;33m)\u001b[0m\u001b[1;33m[\u001b[0m\u001b[1;33m:\u001b[0m\u001b[1;33m,\u001b[0m\u001b[1;36m0\u001b[0m\u001b[1;33m]\u001b[0m\u001b[1;33m\u001b[0m\u001b[0m\n\u001b[0;32m      5\u001b[0m     \u001b[0mtempB16\u001b[0m \u001b[1;33m+=\u001b[0m \u001b[0madiabatTempGrad\u001b[0m\u001b[1;33m*\u001b[0m\u001b[1;33m(\u001b[0m \u001b[1;36m1.\u001b[0m \u001b[1;33m-\u001b[0m \u001b[0mmeshData\u001b[0m\u001b[1;33m[\u001b[0m\u001b[1;33m:\u001b[0m\u001b[1;33m,\u001b[0m\u001b[1;36m1\u001b[0m\u001b[1;33m]\u001b[0m\u001b[1;33m)\u001b[0m\u001b[1;33m\u001b[0m\u001b[0m\n",
      "\u001b[1;31mNameError\u001b[0m: name 'B16Files' is not defined"
     ]
    }
   ],
   "source": [
    "for i in [27]:\n",
    "    ixB16 = np.argmin(np.abs(dfB16.timeAtSave*timeScale - i))\n",
    "    hf = h5py.File(B16Files[ixB16], 'r')\n",
    "    tempB16 = np.array(hf.get(\"data\"))[:,0]\n",
    "    tempB16 += adiabatTempGrad*( 1. - meshData[:,1])\n",
    "    tempB16 *=tempScale\n",
    "    \n",
    "    con = ax.tricontour((2900*meshData[:,0] ), 2900*(1. - meshData[:,1]),  \n",
    "\n",
    "                    tempB16,\n",
    "                    vmin =0, vmax = 1350, alpha=0., \n",
    "                    levels = [1400], colors= 'k', linewidths = 0.0 )\n",
    "    \n",
    "    \n",
    "    p = con.collections[0].get_paths()\n",
    "    pv = [path.vertices for path in p]\n",
    "    Iso1 = np.concatenate(pv) #already dimensionalized\n",
    "        \n",
    "    #mask = np.logical_and(Iso1[:,0] < trench, Iso1[:,1] > 100)\n",
    "    #mask = Iso1[:,1] > 90\n",
    "    ax.plot(Iso1[:,0], Iso1[:,1], c= 'k', lw = 0.5, ls = '-' )"
   ]
  },
  {
   "cell_type": "code",
   "execution_count": 383,
   "metadata": {},
   "outputs": [],
   "source": [
    "ax.annotate?"
   ]
  },
  {
   "cell_type": "code",
   "execution_count": null,
   "metadata": {},
   "outputs": [],
   "source": []
  }
 ],
 "metadata": {
  "kernelspec": {
   "display_name": "Python 2",
   "language": "python",
   "name": "python2"
  },
  "language_info": {
   "codemirror_mode": {
    "name": "ipython",
    "version": 2
   },
   "file_extension": ".py",
   "mimetype": "text/x-python",
   "name": "python",
   "nbconvert_exporter": "python",
   "pygments_lexer": "ipython2",
   "version": "2.7.13"
  }
 },
 "nbformat": 4,
 "nbformat_minor": 2
}
